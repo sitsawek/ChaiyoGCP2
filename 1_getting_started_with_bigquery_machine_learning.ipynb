{
 "cells": [
  {
   "cell_type": "markdown",
   "metadata": {},
   "source": [
    "***"
   ]
  },
  {
   "cell_type": "markdown",
   "metadata": {},
   "source": [
    "**<center><font size = \"6\">Getting Started With Bigquery Machine Learning<center>**\n",
    "***\n",
    "<center><font size = \"2\">Prepared by: Sitsawek Sukorn<center>"
   ]
  },
  {
   "cell_type": "markdown",
   "metadata": {},
   "source": [
    "### Create Model"
   ]
  },
  {
   "cell_type": "code",
   "execution_count": null,
   "metadata": {
    "vscode": {
     "languageId": "sql"
    }
   },
   "outputs": [],
   "source": [
    "#standardSQL\n",
    "CREATE OR REPLACE MODEL `bqml_lab.sample_model`\n",
    "OPTIONS(model_type='logistic_reg') AS\n",
    "SELECT\n",
    "  IF(totals.transactions IS NULL, 0, 1) AS label,\n",
    "  IFNULL(device.operatingSystem, \"\") AS os,\n",
    "  device.isMobile AS is_mobile,\n",
    "  IFNULL(geoNetwork.country, \"\") AS country,\n",
    "  IFNULL(totals.pageviews, 0) AS pageviews\n",
    "FROM\n",
    "  `bigquery-public-data.google_analytics_sample.ga_sessions_*`\n",
    "WHERE\n",
    "  _TABLE_SUFFIX BETWEEN '20160801' AND '20170631'\n",
    "LIMIT 100000;"
   ]
  },
  {
   "cell_type": "markdown",
   "metadata": {},
   "source": [
    "### Evaluate the model"
   ]
  },
  {
   "cell_type": "code",
   "execution_count": null,
   "metadata": {
    "vscode": {
     "languageId": "sql"
    }
   },
   "outputs": [],
   "source": [
    "#standardSQL\n",
    "SELECT\n",
    "  *\n",
    "FROM\n",
    "  ml.EVALUATE(MODEL `bqml_lab.sample_model`, (\n",
    "SELECT\n",
    "  IF(totals.transactions IS NULL, 0, 1) AS label,\n",
    "  IFNULL(device.operatingSystem, \"\") AS os,\n",
    "  device.isMobile AS is_mobile,\n",
    "  IFNULL(geoNetwork.country, \"\") AS country,\n",
    "  IFNULL(totals.pageviews, 0) AS pageviews\n",
    "FROM\n",
    "  `bigquery-public-data.google_analytics_sample.ga_sessions_*`\n",
    "WHERE\n",
    "  _TABLE_SUFFIX BETWEEN '20170701' AND '20170801'));"
   ]
  },
  {
   "cell_type": "markdown",
   "metadata": {},
   "source": [
    "### Use the Model"
   ]
  },
  {
   "cell_type": "markdown",
   "metadata": {},
   "source": [
    "**Predect purchases per country**"
   ]
  },
  {
   "cell_type": "code",
   "execution_count": null,
   "metadata": {
    "vscode": {
     "languageId": "sql"
    }
   },
   "outputs": [],
   "source": [
    "#standardSQL\n",
    "SELECT\n",
    "  country,\n",
    "  SUM(predicted_label) as total_predicted_purchases\n",
    "FROM\n",
    "  ml.PREDICT(MODEL `bqml_lab.sample_model`, (\n",
    "SELECT\n",
    "  IFNULL(device.operatingSystem, \"\") AS os,\n",
    "  device.isMobile AS is_mobile,\n",
    "  IFNULL(totals.pageviews, 0) AS pageviews,\n",
    "  IFNULL(geoNetwork.country, \"\") AS country\n",
    "FROM\n",
    "  `bigquery-public-data.google_analytics_sample.ga_sessions_*`\n",
    "WHERE\n",
    "  _TABLE_SUFFIX BETWEEN '20170701' AND '20170801'))\n",
    "GROUP BY country\n",
    "ORDER BY total_predicted_purchases DESC\n",
    "LIMIT 10;"
   ]
  },
  {
   "cell_type": "markdown",
   "metadata": {},
   "source": [
    "**Predect purchases per user**"
   ]
  },
  {
   "cell_type": "code",
   "execution_count": null,
   "metadata": {
    "vscode": {
     "languageId": "sql"
    }
   },
   "outputs": [],
   "source": [
    "#standardSQL\n",
    "SELECT\n",
    "  fullVisitorId,\n",
    "  SUM(predicted_label) as total_predicted_purchases\n",
    "FROM\n",
    "  ml.PREDICT(MODEL `bqml_lab.sample_model`, (\n",
    "SELECT\n",
    "  IFNULL(device.operatingSystem, \"\") AS os,\n",
    "  device.isMobile AS is_mobile,\n",
    "  IFNULL(totals.pageviews, 0) AS pageviews,\n",
    "  IFNULL(geoNetwork.country, \"\") AS country,\n",
    "  fullVisitorId\n",
    "FROM\n",
    "  `bigquery-public-data.google_analytics_sample.ga_sessions_*`\n",
    "WHERE\n",
    "  _TABLE_SUFFIX BETWEEN '20170701' AND '20170801'))\n",
    "GROUP BY fullVisitorId\n",
    "ORDER BY total_predicted_purchases DESC\n",
    "LIMIT 10;"
   ]
  },
  {
   "cell_type": "markdown",
   "metadata": {},
   "source": [
    "***"
   ]
  },
  {
   "cell_type": "markdown",
   "metadata": {},
   "source": [
    "**<center><font size = \"6\">Getting Started With Bigquery Machine Learning<center>**\n",
    "***"
   ]
  },
  {
   "cell_type": "markdown",
   "metadata": {},
   "source": []
  }
 ],
 "metadata": {
  "kernelspec": {
   "display_name": "Python 3.9.9 64-bit",
   "language": "python",
   "name": "python3"
  },
  "language_info": {
   "codemirror_mode": {
    "name": "ipython",
    "version": 3
   },
   "file_extension": ".py",
   "mimetype": "text/x-python",
   "name": "python",
   "nbconvert_exporter": "python",
   "pygments_lexer": "ipython3",
   "version": "3.9.9"
  },
  "orig_nbformat": 4,
  "vscode": {
   "interpreter": {
    "hash": "aee8b7b246df8f9039afb4144a1f6fd8d2ca17a180786b69acc140d282b71a49"
   }
  }
 },
 "nbformat": 4,
 "nbformat_minor": 2
}
