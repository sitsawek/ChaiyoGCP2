{
 "cells": [
  {
   "cell_type": "markdown",
   "metadata": {},
   "source": [
    "***"
   ]
  },
  {
   "cell_type": "markdown",
   "metadata": {},
   "source": [
    "## Getting Started With Bigquery Machine Learning"
   ]
  },
  {
   "cell_type": "code",
   "execution_count": 4,
   "metadata": {
    "vscode": {
     "languageId": "sql"
    }
   },
   "outputs": [
    {
     "ename": "SyntaxError",
     "evalue": "invalid syntax (4033168016.py, line 1)",
     "output_type": "error",
     "traceback": [
      "\u001b[0;36m  File \u001b[0;32m\"/var/folders/wz/ck3sz9r95tv0pwv6x5zcfnw00000gn/T/ipykernel_23928/4033168016.py\"\u001b[0;36m, line \u001b[0;32m1\u001b[0m\n\u001b[0;31m    -- #standardSQL\u001b[0m\n\u001b[0m       ^\u001b[0m\n\u001b[0;31mSyntaxError\u001b[0m\u001b[0;31m:\u001b[0m invalid syntax\n"
     ]
    }
   ],
   "source": [
    "-- #standardSQL\n",
    "-- CREATE OR REPLACE MODEL `bqml_lab.sample_model`\n",
    "-- OPTIONS(model_type='logistic_reg') AS\n",
    "-- SELECT\n",
    "--   IF(totals.transactions IS NULL, 0, 1) AS label,\n",
    "--   IFNULL(device.operatingSystem, \"\") AS os,\n",
    "--   device.isMobile AS is_mobile,\n",
    "--   IFNULL(geoNetwork.country, \"\") AS country,\n",
    "--   IFNULL(totals.pageviews, 0) AS pageviews\n",
    "-- FROM\n",
    "--   `bigquery-public-data.google_analytics_sample.ga_sessions_*`\n",
    "-- WHERE\n",
    "--   _TABLE_SUFFIX BETWEEN '20160801' AND '20170631'\n",
    "-- LIMIT 100000;"
   ]
  },
  {
   "cell_type": "code",
   "execution_count": null,
   "metadata": {
    "vscode": {
     "languageId": "sql"
    }
   },
   "outputs": [],
   "source": []
  }
 ],
 "metadata": {
  "kernelspec": {
   "display_name": "Python 3.9.9 64-bit",
   "language": "python",
   "name": "python3"
  },
  "language_info": {
   "codemirror_mode": {
    "name": "ipython",
    "version": 3
   },
   "file_extension": ".py",
   "mimetype": "text/x-python",
   "name": "python",
   "nbconvert_exporter": "python",
   "pygments_lexer": "ipython3",
   "version": "3.9.9"
  },
  "orig_nbformat": 4,
  "vscode": {
   "interpreter": {
    "hash": "aee8b7b246df8f9039afb4144a1f6fd8d2ca17a180786b69acc140d282b71a49"
   }
  }
 },
 "nbformat": 4,
 "nbformat_minor": 2
}
