{
 "cells": [
  {
   "cell_type": "markdown",
   "metadata": {},
   "source": [
    "***"
   ]
  },
  {
   "cell_type": "markdown",
   "metadata": {},
   "source": [
    "**<center><font size = \"6\">Getting Started With Bigquery Machine Learning<center>**\n",
    "***\n",
    "<center><font size = \"2\">Prepared by: Sitsawek Sukorn<center>"
   ]
  },
  {
   "cell_type": "markdown",
   "metadata": {},
   "source": [
    "### Create Model"
   ]
  },
  {
   "cell_type": "code",
   "execution_count": null,
   "metadata": {
    "vscode": {
     "languageId": "sql"
    }
   },
   "outputs": [],
   "source": [
    "#standardSQL\n",
    "CREATE OR REPLACE MODEL `bqml_lab.sample_model`\n",
    "OPTIONS(model_type='logistic_reg') AS\n",
    "SELECT\n",
    "  IF(totals.transactions IS NULL, 0, 1) AS label,\n",
    "  IFNULL(device.operatingSystem, \"\") AS os,\n",
    "  device.isMobile AS is_mobile,\n",
    "  IFNULL(geoNetwork.country, \"\") AS country,\n",
    "  IFNULL(totals.pageviews, 0) AS pageviews\n",
    "FROM\n",
    "  `bigquery-public-data.google_analytics_sample.ga_sessions_*`\n",
    "WHERE\n",
    "  _TABLE_SUFFIX BETWEEN '20160801' AND '20170631'\n",
    "LIMIT 100000;"
   ]
  },
  {
   "cell_type": "markdown",
   "metadata": {},
   "source": [
    "### Evaluate the model"
   ]
  },
  {
   "cell_type": "code",
   "execution_count": null,
   "metadata": {
    "vscode": {
     "languageId": "sql"
    }
   },
   "outputs": [],
   "source": [
    "#standardSQL\n",
    "SELECT\n",
    "  *\n",
    "FROM\n",
    "  ml.EVALUATE(MODEL `bqml_lab.sample_model`, (\n",
    "SELECT\n",
    "  IF(totals.transactions IS NULL, 0, 1) AS label,\n",
    "  IFNULL(device.operatingSystem, \"\") AS os,\n",
    "  device.isMobile AS is_mobile,\n",
    "  IFNULL(geoNetwork.country, \"\") AS country,\n",
    "  IFNULL(totals.pageviews, 0) AS pageviews\n",
    "FROM\n",
    "  `bigquery-public-data.google_analytics_sample.ga_sessions_*`\n",
    "WHERE\n",
    "  _TABLE_SUFFIX BETWEEN '20170701' AND '20170801'));"
   ]
  },
  {
   "cell_type": "markdown",
   "metadata": {},
   "source": [
    "### Use the Model"
   ]
  },
  {
   "cell_type": "markdown",
   "metadata": {},
   "source": [
    "**Predect purchases per country**"
   ]
  },
  {
   "cell_type": "code",
   "execution_count": null,
   "metadata": {
    "vscode": {
     "languageId": "sql"
    }
   },
   "outputs": [],
   "source": [
    "#standardSQL\n",
    "SELECT\n",
    "  country,\n",
    "  SUM(predicted_label) as total_predicted_purchases\n",
    "FROM\n",
    "  ml.PREDICT(MODEL `bqml_lab.sample_model`, (\n",
    "SELECT\n",
    "  IFNULL(device.operatingSystem, \"\") AS os,\n",
    "  device.isMobile AS is_mobile,\n",
    "  IFNULL(totals.pageviews, 0) AS pageviews,\n",
    "  IFNULL(geoNetwork.country, \"\") AS country\n",
    "FROM\n",
    "  `bigquery-public-data.google_analytics_sample.ga_sessions_*`\n",
    "WHERE\n",
    "  _TABLE_SUFFIX BETWEEN '20170701' AND '20170801'))\n",
    "GROUP BY country\n",
    "ORDER BY total_predicted_purchases DESC\n",
    "LIMIT 10;"
   ]
  },
  {
   "cell_type": "markdown",
   "metadata": {},
   "source": [
    "**Predect purchases per user**"
   ]
  },
  {
   "cell_type": "code",
   "execution_count": null,
   "metadata": {
    "vscode": {
     "languageId": "sql"
    }
   },
   "outputs": [],
   "source": [
    "#standardSQL\n",
    "SELECT\n",
    "  fullVisitorId,\n",
    "  SUM(predicted_label) as total_predicted_purchases\n",
    "FROM\n",
    "  ml.PREDICT(MODEL `bqml_lab.sample_model`, (\n",
    "SELECT\n",
    "  IFNULL(device.operatingSystem, \"\") AS os,\n",
    "  device.isMobile AS is_mobile,\n",
    "  IFNULL(totals.pageviews, 0) AS pageviews,\n",
    "  IFNULL(geoNetwork.country, \"\") AS country,\n",
    "  fullVisitorId\n",
    "FROM\n",
    "  `bigquery-public-data.google_analytics_sample.ga_sessions_*`\n",
    "WHERE\n",
    "  _TABLE_SUFFIX BETWEEN '20170701' AND '20170801'))\n",
    "GROUP BY fullVisitorId\n",
    "ORDER BY total_predicted_purchases DESC\n",
    "LIMIT 10;"
   ]
  },
  {
   "cell_type": "markdown",
   "metadata": {},
   "source": [
    "***"
   ]
  },
  {
   "cell_type": "markdown",
   "metadata": {},
   "source": [
    "**<center><font size = \"6\">Predict Visitor Purchases With a Classification Model in BQML<center>**\n",
    "***"
   ]
  },
  {
   "cell_type": "markdown",
   "metadata": {},
   "source": [
    "### Explore ecommerce data"
   ]
  },
  {
   "cell_type": "markdown",
   "metadata": {},
   "source": [
    "+ Scenario: Your data analyst team exported the Google Analytics logs for an ecommerce website into BigQuery and created a new table of all the raw ecommerce visitor session data for you to explore. Using this data, you'll try to answer a few questions.\n",
    "\n",
    "+ Question: Out of the total visitors who visited our website, what % made a purchase?"
   ]
  },
  {
   "cell_type": "code",
   "execution_count": null,
   "metadata": {
    "vscode": {
     "languageId": "sql"
    }
   },
   "outputs": [],
   "source": [
    "#standardSQL\n",
    "WITH visitors AS(\n",
    "SELECT\n",
    "COUNT(DISTINCT fullVisitorId) AS total_visitors\n",
    "FROM `data-to-insights.ecommerce.web_analytics`\n",
    "),\n",
    "purchasers AS(\n",
    "SELECT\n",
    "COUNT(DISTINCT fullVisitorId) AS total_purchasers\n",
    "FROM `data-to-insights.ecommerce.web_analytics`\n",
    "WHERE totals.transactions IS NOT NULL\n",
    ")\n",
    "SELECT\n",
    "  total_visitors,\n",
    "  total_purchasers,\n",
    "  total_purchasers / total_visitors AS conversion_rate\n",
    "FROM visitors, purchasers"
   ]
  },
  {
   "cell_type": "markdown",
   "metadata": {},
   "source": [
    "+ Question: What are the top 5 selling products?"
   ]
  },
  {
   "cell_type": "code",
   "execution_count": null,
   "metadata": {
    "vscode": {
     "languageId": "sql"
    }
   },
   "outputs": [],
   "source": [
    "SELECT\n",
    "  p.v2ProductName,\n",
    "  p.v2ProductCategory,\n",
    "  SUM(p.productQuantity) AS units_sold,\n",
    "  ROUND(SUM(p.localProductRevenue/1000000),2) AS revenue\n",
    "FROM `data-to-insights.ecommerce.web_analytics`,\n",
    "UNNEST(hits) AS h,\n",
    "UNNEST(h.product) AS p\n",
    "GROUP BY 1, 2\n",
    "ORDER BY revenue DESC\n",
    "LIMIT 5;"
   ]
  },
  {
   "cell_type": "markdown",
   "metadata": {},
   "source": [
    "+ Question: How many visitors bought on subsequent visits to the website?"
   ]
  },
  {
   "cell_type": "code",
   "execution_count": null,
   "metadata": {
    "vscode": {
     "languageId": "sql"
    }
   },
   "outputs": [],
   "source": [
    "-- visitors who bought on a return visit (could have bought on first as well\n",
    "WITH all_visitor_stats AS (\n",
    "SELECT\n",
    "  fullvisitorid, # 741,721 unique visitors\n",
    "  IF(COUNTIF(totals.transactions > 0 AND totals.newVisits IS NULL) > 0, 1, 0) AS will_buy_on_return_visit\n",
    "  FROM `data-to-insights.ecommerce.web_analytics`\n",
    "  GROUP BY fullvisitorid\n",
    ")\n",
    "SELECT\n",
    "  COUNT(DISTINCT fullvisitorid) AS total_visitors,\n",
    "  will_buy_on_return_visit\n",
    "FROM all_visitor_stats\n",
    "GROUP BY will_buy_on_return_visit"
   ]
  },
  {
   "cell_type": "markdown",
   "metadata": {},
   "source": [
    "+ Question: What are some of the reasons a typical ecommerce customer will browse but not buy until a later visit?\n",
    "\n",
    "+ Answer: Although there is no one right answer, one popular reason is ***comparison shopping between different ecommerce sites before ultimately making a purchase decision.*** This is very common for luxury goods where significant up-front research and comparison is required by the customer before deciding (think car purchases) but also true to a lesser extent for the merchandise on this site (t-shirts, accessories, etc).\n",
    "\n",
    "+ In the world of online marketing, identifying and marketing to these future customers based on the characteristics of their first visit will increase conversion rates and reduce the outflow to competitor sites."
   ]
  },
  {
   "cell_type": "markdown",
   "metadata": {},
   "source": [
    "### Select features and create your training dataset"
   ]
  },
  {
   "cell_type": "code",
   "execution_count": null,
   "metadata": {
    "vscode": {
     "languageId": "sql"
    }
   },
   "outputs": [],
   "source": [
    "SELECT\n",
    "  * EXCEPT(fullVisitorId)\n",
    "FROM\n",
    "  # features\n",
    "  (SELECT\n",
    "    fullVisitorId,\n",
    "    IFNULL(totals.bounces, 0) AS bounces,\n",
    "    IFNULL(totals.timeOnSite, 0) AS time_on_site\n",
    "  FROM\n",
    "    `data-to-insights.ecommerce.web_analytics`\n",
    "  WHERE\n",
    "    totals.newVisits = 1)\n",
    "  JOIN\n",
    "  (SELECT\n",
    "    fullvisitorid,\n",
    "    IF(COUNTIF(totals.transactions > 0 AND totals.newVisits IS NULL) > 0, 1, 0) AS will_buy_on_return_visit\n",
    "  FROM\n",
    "      `data-to-insights.ecommerce.web_analytics`\n",
    "  GROUP BY fullvisitorid)\n",
    "  USING (fullVisitorId)\n",
    "ORDER BY time_on_site DESC\n",
    "LIMIT 10;"
   ]
  },
  {
   "cell_type": "markdown",
   "metadata": {},
   "source": [
    "### Select a BQML model type and specify options"
   ]
  },
  {
   "cell_type": "code",
   "execution_count": null,
   "metadata": {
    "vscode": {
     "languageId": "sql"
    }
   },
   "outputs": [],
   "source": [
    "CREATE OR REPLACE MODEL `ecommerce.classification_model` -- ecommerce is dataset\n",
    "OPTIONS\n",
    "(\n",
    "model_type='logistic_reg',\n",
    "labels = ['will_buy_on_return_visit']\n",
    ")\n",
    "AS\n",
    "#standardSQL\n",
    "SELECT\n",
    "  * EXCEPT(fullVisitorId)\n",
    "FROM\n",
    "  # features\n",
    "  (SELECT\n",
    "    fullVisitorId,\n",
    "    IFNULL(totals.bounces, 0) AS bounces,\n",
    "    IFNULL(totals.timeOnSite, 0) AS time_on_site\n",
    "  FROM\n",
    "    `data-to-insights.ecommerce.web_analytics`\n",
    "  WHERE\n",
    "    totals.newVisits = 1\n",
    "    AND date BETWEEN '20160801' AND '20170430') # train on first 9 months\n",
    "  JOIN\n",
    "  (SELECT\n",
    "    fullvisitorid,\n",
    "    IF(COUNTIF(totals.transactions > 0 AND totals.newVisits IS NULL) > 0, 1, 0) AS will_buy_on_return_visit\n",
    "  FROM\n",
    "      `data-to-insights.ecommerce.web_analytics`\n",
    "  GROUP BY fullvisitorid)\n",
    "  USING (fullVisitorId)\n",
    ";"
   ]
  },
  {
   "cell_type": "markdown",
   "metadata": {},
   "source": [
    "### Evaluate classification model performance\n"
   ]
  },
  {
   "cell_type": "code",
   "execution_count": null,
   "metadata": {
    "vscode": {
     "languageId": "sql"
    }
   },
   "outputs": [],
   "source": [
    "SELECT\n",
    "  roc_auc,\n",
    "  CASE\n",
    "    WHEN roc_auc > .9 THEN 'good'\n",
    "    WHEN roc_auc > .8 THEN 'fair'\n",
    "    WHEN roc_auc > .7 THEN 'decent'\n",
    "    WHEN roc_auc > .6 THEN 'not great'\n",
    "  ELSE 'poor' END AS model_quality\n",
    "FROM\n",
    "  ML.EVALUATE(MODEL ecommerce.classification_model,  (\n",
    "SELECT\n",
    "  * EXCEPT(fullVisitorId)\n",
    "FROM\n",
    "  # features\n",
    "  (SELECT\n",
    "    fullVisitorId,\n",
    "    IFNULL(totals.bounces, 0) AS bounces,\n",
    "    IFNULL(totals.timeOnSite, 0) AS time_on_site\n",
    "  FROM\n",
    "    `data-to-insights.ecommerce.web_analytics`\n",
    "  WHERE\n",
    "    totals.newVisits = 1\n",
    "    AND date BETWEEN '20170501' AND '20170630') # eval on 2 months\n",
    "  JOIN\n",
    "  (SELECT\n",
    "    fullvisitorid,\n",
    "    IF(COUNTIF(totals.transactions > 0 AND totals.newVisits IS NULL) > 0, 1, 0) AS will_buy_on_return_visit\n",
    "  FROM\n",
    "      `data-to-insights.ecommerce.web_analytics`\n",
    "  GROUP BY fullvisitorid)\n",
    "  USING (fullVisitorId)\n",
    "));"
   ]
  },
  {
   "cell_type": "markdown",
   "metadata": {},
   "source": [
    "### Improve model performance with Feature Engineering"
   ]
  },
  {
   "cell_type": "markdown",
   "metadata": {},
   "source": [
    "+ How far the visitor got in the checkout process on their first visit\n",
    "+ Where the visitor came from (traffic source: organic search, referring site etc..)\n",
    "+ Device category (mobile, tablet, desktop)\n",
    "+ Geographic information (country)"
   ]
  },
  {
   "cell_type": "code",
   "execution_count": null,
   "metadata": {
    "vscode": {
     "languageId": "sql"
    }
   },
   "outputs": [],
   "source": [
    "CREATE OR REPLACE MODEL `ecommerce.classification_model_2`\n",
    "OPTIONS\n",
    "  (model_type='logistic_reg', labels = ['will_buy_on_return_visit']) AS\n",
    "WITH all_visitor_stats AS (\n",
    "SELECT\n",
    "  fullvisitorid,\n",
    "  IF(COUNTIF(totals.transactions > 0 AND totals.newVisits IS NULL) > 0, 1, 0) AS will_buy_on_return_visit\n",
    "  FROM `data-to-insights.ecommerce.web_analytics`\n",
    "  GROUP BY fullvisitorid\n",
    ")\n",
    "# add in new features\n",
    "SELECT * EXCEPT(unique_session_id) FROM (\n",
    "  SELECT\n",
    "      CONCAT(fullvisitorid, CAST(visitId AS STRING)) AS unique_session_id,\n",
    "      # labels\n",
    "      will_buy_on_return_visit,\n",
    "      MAX(CAST(h.eCommerceAction.action_type AS INT64)) AS latest_ecommerce_progress,\n",
    "      # behavior on the site\n",
    "      IFNULL(totals.bounces, 0) AS bounces,\n",
    "      IFNULL(totals.timeOnSite, 0) AS time_on_site,\n",
    "      IFNULL(totals.pageviews, 0) AS pageviews,\n",
    "      # where the visitor came from\n",
    "      trafficSource.source,\n",
    "      trafficSource.medium,\n",
    "      channelGrouping,\n",
    "      # mobile or desktop\n",
    "      device.deviceCategory,\n",
    "      # geographic\n",
    "      IFNULL(geoNetwork.country, \"\") AS country\n",
    "  FROM `data-to-insights.ecommerce.web_analytics`,\n",
    "     UNNEST(hits) AS h\n",
    "    JOIN all_visitor_stats USING(fullvisitorid)\n",
    "  WHERE 1=1\n",
    "    # only predict for new visits\n",
    "    AND totals.newVisits = 1\n",
    "    AND date BETWEEN '20160801' AND '20170430' # train 9 months\n",
    "  GROUP BY\n",
    "  unique_session_id,\n",
    "  will_buy_on_return_visit,\n",
    "  bounces,\n",
    "  time_on_site,\n",
    "  totals.pageviews,\n",
    "  trafficSource.source,\n",
    "  trafficSource.medium,\n",
    "  channelGrouping,\n",
    "  device.deviceCategory,\n",
    "  country\n",
    ");"
   ]
  },
  {
   "cell_type": "markdown",
   "metadata": {},
   "source": [
    "#### Evaluate"
   ]
  },
  {
   "cell_type": "code",
   "execution_count": null,
   "metadata": {
    "vscode": {
     "languageId": "sql"
    }
   },
   "outputs": [],
   "source": [
    "#standardSQL\n",
    "SELECT\n",
    "  roc_auc,\n",
    "  CASE\n",
    "    WHEN roc_auc > .9 THEN 'good'\n",
    "    WHEN roc_auc > .8 THEN 'fair'\n",
    "    WHEN roc_auc > .7 THEN 'decent'\n",
    "    WHEN roc_auc > .6 THEN 'not great'\n",
    "  ELSE 'poor' END AS model_quality\n",
    "FROM\n",
    "  ML.EVALUATE(MODEL ecommerce.classification_model_2,  (\n",
    "WITH all_visitor_stats AS (\n",
    "SELECT\n",
    "  fullvisitorid,\n",
    "  IF(COUNTIF(totals.transactions > 0 AND totals.newVisits IS NULL) > 0, 1, 0) AS will_buy_on_return_visit\n",
    "  FROM `data-to-insights.ecommerce.web_analytics`\n",
    "  GROUP BY fullvisitorid\n",
    ")\n",
    "# add in new features\n",
    "SELECT * EXCEPT(unique_session_id) FROM (\n",
    "  SELECT\n",
    "      CONCAT(fullvisitorid, CAST(visitId AS STRING)) AS unique_session_id,\n",
    "      # labels\n",
    "      will_buy_on_return_visit,\n",
    "      MAX(CAST(h.eCommerceAction.action_type AS INT64)) AS latest_ecommerce_progress,\n",
    "      # behavior on the site\n",
    "      IFNULL(totals.bounces, 0) AS bounces,\n",
    "      IFNULL(totals.timeOnSite, 0) AS time_on_site,\n",
    "      totals.pageviews,\n",
    "      # where the visitor came from\n",
    "      trafficSource.source,\n",
    "      trafficSource.medium,\n",
    "      channelGrouping,\n",
    "      # mobile or desktop\n",
    "      device.deviceCategory,\n",
    "      # geographic\n",
    "      IFNULL(geoNetwork.country, \"\") AS country\n",
    "  FROM `data-to-insights.ecommerce.web_analytics`,\n",
    "     UNNEST(hits) AS h\n",
    "    JOIN all_visitor_stats USING(fullvisitorid)\n",
    "  WHERE 1=1\n",
    "    # only predict for new visits\n",
    "    AND totals.newVisits = 1\n",
    "    AND date BETWEEN '20170501' AND '20170630' # eval 2 months\n",
    "  GROUP BY\n",
    "  unique_session_id,\n",
    "  will_buy_on_return_visit,\n",
    "  bounces,\n",
    "  time_on_site,\n",
    "  totals.pageviews,\n",
    "  trafficSource.source,\n",
    "  trafficSource.medium,\n",
    "  channelGrouping,\n",
    "  device.deviceCategory,\n",
    "  country\n",
    ")\n",
    "));"
   ]
  },
  {
   "cell_type": "markdown",
   "metadata": {},
   "source": [
    "### Predict which new visitors will come back and purchase"
   ]
  },
  {
   "cell_type": "code",
   "execution_count": null,
   "metadata": {
    "vscode": {
     "languageId": "sql"
    }
   },
   "outputs": [],
   "source": [
    "SELECT\n",
    "*\n",
    "FROM\n",
    "  ml.PREDICT(MODEL `ecommerce.classification_model_2`,\n",
    "   (\n",
    "WITH all_visitor_stats AS (\n",
    "SELECT\n",
    "  fullvisitorid,\n",
    "  IF(COUNTIF(totals.transactions > 0 AND totals.newVisits IS NULL) > 0, 1, 0) AS will_buy_on_return_visit\n",
    "  FROM `data-to-insights.ecommerce.web_analytics`\n",
    "  GROUP BY fullvisitorid\n",
    ")\n",
    "  SELECT\n",
    "      CONCAT(fullvisitorid, '-',CAST(visitId AS STRING)) AS unique_session_id,\n",
    "      # labels\n",
    "      will_buy_on_return_visit,\n",
    "      MAX(CAST(h.eCommerceAction.action_type AS INT64)) AS latest_ecommerce_progress,\n",
    "      # behavior on the site\n",
    "      IFNULL(totals.bounces, 0) AS bounces,\n",
    "      IFNULL(totals.timeOnSite, 0) AS time_on_site,\n",
    "      totals.pageviews,\n",
    "      # where the visitor came from\n",
    "      trafficSource.source,\n",
    "      trafficSource.medium,\n",
    "      channelGrouping,\n",
    "      # mobile or desktop\n",
    "      device.deviceCategory,\n",
    "      # geographic\n",
    "      IFNULL(geoNetwork.country, \"\") AS country\n",
    "  FROM `data-to-insights.ecommerce.web_analytics`,\n",
    "     UNNEST(hits) AS h\n",
    "    JOIN all_visitor_stats USING(fullvisitorid)\n",
    "  WHERE\n",
    "    # only predict for new visits\n",
    "    totals.newVisits = 1\n",
    "    AND date BETWEEN '20170701' AND '20170801' # test 1 month\n",
    "  GROUP BY\n",
    "  unique_session_id,\n",
    "  will_buy_on_return_visit,\n",
    "  bounces,\n",
    "  time_on_site,\n",
    "  totals.pageviews,\n",
    "  trafficSource.source,\n",
    "  trafficSource.medium,\n",
    "  channelGrouping,\n",
    "  device.deviceCategory,\n",
    "  country\n",
    ")\n",
    ")\n",
    "ORDER BY\n",
    "  predicted_will_buy_on_return_visit DESC;"
   ]
  },
  {
   "cell_type": "markdown",
   "metadata": {},
   "source": [
    "***"
   ]
  },
  {
   "cell_type": "markdown",
   "metadata": {},
   "source": [
    "**<center><font size = \"6\">Predict Taxi Fare with a BigQuery ML Forecasting Model<center>**\n",
    "***"
   ]
  },
  {
   "cell_type": "markdown",
   "metadata": {},
   "source": [
    "### Explore NYC taxi cab data"
   ]
  },
  {
   "cell_type": "markdown",
   "metadata": {},
   "source": [
    "+ Question: How many trips did Yellow taxis take each month in 2015?"
   ]
  },
  {
   "cell_type": "code",
   "execution_count": null,
   "metadata": {
    "vscode": {
     "languageId": "sql"
    }
   },
   "outputs": [],
   "source": [
    "#standardSQL\n",
    "SELECT\n",
    "  TIMESTAMP_TRUNC(pickup_datetime,\n",
    "    MONTH) month,\n",
    "  COUNT(*) trips\n",
    "FROM\n",
    "  `bigquery-public-data.new_york.tlc_yellow_trips_2015`\n",
    "GROUP BY\n",
    "  1\n",
    "ORDER BY\n",
    "  1"
   ]
  },
  {
   "cell_type": "markdown",
   "metadata": {},
   "source": [
    "+ Question: What was the average speed of Yellow taxi trips in 2015?"
   ]
  },
  {
   "cell_type": "code",
   "execution_count": null,
   "metadata": {
    "vscode": {
     "languageId": "sql"
    }
   },
   "outputs": [],
   "source": [
    "#standardSQL\n",
    "SELECT\n",
    "  EXTRACT(HOUR\n",
    "  FROM\n",
    "    pickup_datetime) hour,\n",
    "  ROUND(AVG(trip_distance / TIMESTAMP_DIFF(dropoff_datetime,\n",
    "        pickup_datetime,\n",
    "        SECOND))*3600, 1) speed\n",
    "FROM\n",
    "  `bigquery-public-data.new_york.tlc_yellow_trips_2015`\n",
    "WHERE\n",
    "  trip_distance > 0\n",
    "  AND fare_amount/trip_distance BETWEEN 2\n",
    "  AND 10\n",
    "  AND dropoff_datetime > pickup_datetime\n",
    "GROUP BY\n",
    "  1\n",
    "ORDER BY\n",
    "  1"
   ]
  },
  {
   "cell_type": "markdown",
   "metadata": {},
   "source": [
    "### Select features and create your training dataset"
   ]
  },
  {
   "cell_type": "code",
   "execution_count": null,
   "metadata": {
    "vscode": {
     "languageId": "sql"
    }
   },
   "outputs": [],
   "source": [
    "#standardSQL\n",
    "WITH params AS (\n",
    "    SELECT\n",
    "    1 AS TRAIN,\n",
    "    2 AS EVAL\n",
    "    ),\n",
    "  daynames AS\n",
    "    (SELECT ['Sun', 'Mon', 'Tues', 'Wed', 'Thurs', 'Fri', 'Sat'] AS daysofweek),\n",
    "  taxitrips AS (\n",
    "  SELECT\n",
    "    (tolls_amount + fare_amount) AS total_fare,\n",
    "    daysofweek[ORDINAL(EXTRACT(DAYOFWEEK FROM pickup_datetime))] AS dayofweek,\n",
    "    EXTRACT(HOUR FROM pickup_datetime) AS hourofday,\n",
    "    pickup_longitude AS pickuplon,\n",
    "    pickup_latitude AS pickuplat,\n",
    "    dropoff_longitude AS dropofflon,\n",
    "    dropoff_latitude AS dropofflat,\n",
    "    passenger_count AS passengers\n",
    "  FROM\n",
    "    `nyc-tlc.yellow.trips`, daynames, params\n",
    "  WHERE\n",
    "    trip_distance > 0 AND fare_amount > 0\n",
    "    AND MOD(ABS(FARM_FINGERPRINT(CAST(pickup_datetime AS STRING))),1000) = params.TRAIN -- pick only 1/1000th of the data\n",
    "  )\n",
    "  SELECT *\n",
    "  FROM taxitrips"
   ]
  },
  {
   "cell_type": "markdown",
   "metadata": {},
   "source": [
    "### Select a BigQuery ML model type and specify options"
   ]
  },
  {
   "cell_type": "code",
   "execution_count": null,
   "metadata": {
    "vscode": {
     "languageId": "sql"
    }
   },
   "outputs": [],
   "source": [
    "CREATE or REPLACE MODEL taxi.taxifare_model\n",
    "OPTIONS\n",
    "  (model_type='linear_reg', labels=['total_fare']) AS\n",
    "WITH params AS (\n",
    "    SELECT\n",
    "    1 AS TRAIN,\n",
    "    2 AS EVAL\n",
    "    ),\n",
    "  daynames AS\n",
    "    (SELECT ['Sun', 'Mon', 'Tues', 'Wed', 'Thurs', 'Fri', 'Sat'] AS daysofweek),\n",
    "  taxitrips AS (\n",
    "  SELECT\n",
    "    (tolls_amount + fare_amount) AS total_fare,\n",
    "    daysofweek[ORDINAL(EXTRACT(DAYOFWEEK FROM pickup_datetime))] AS dayofweek,\n",
    "    EXTRACT(HOUR FROM pickup_datetime) AS hourofday,\n",
    "    pickup_longitude AS pickuplon,\n",
    "    pickup_latitude AS pickuplat,\n",
    "    dropoff_longitude AS dropofflon,\n",
    "    dropoff_latitude AS dropofflat,\n",
    "    passenger_count AS passengers\n",
    "  FROM\n",
    "    `nyc-tlc.yellow.trips`, daynames, params\n",
    "  WHERE\n",
    "    trip_distance > 0 AND fare_amount > 0\n",
    "    AND MOD(ABS(FARM_FINGERPRINT(CAST(pickup_datetime AS STRING))),1000) = params.TRAIN\n",
    "  )\n",
    "  SELECT *\n",
    "  FROM taxitrips"
   ]
  },
  {
   "cell_type": "markdown",
   "metadata": {},
   "source": [
    "### Evaluate classification model performance"
   ]
  },
  {
   "cell_type": "code",
   "execution_count": null,
   "metadata": {
    "vscode": {
     "languageId": "sql"
    }
   },
   "outputs": [],
   "source": [
    "#standardSQL\n",
    "SELECT\n",
    "  SQRT(mean_squared_error) AS rmse\n",
    "FROM\n",
    "  ML.EVALUATE(MODEL taxi.taxifare_model,\n",
    "  (\n",
    "  WITH params AS (\n",
    "    SELECT\n",
    "    1 AS TRAIN,\n",
    "    2 AS EVAL\n",
    "    ),\n",
    "  daynames AS\n",
    "    (SELECT ['Sun', 'Mon', 'Tues', 'Wed', 'Thurs', 'Fri', 'Sat'] AS daysofweek),\n",
    "  taxitrips AS (\n",
    "  SELECT\n",
    "    (tolls_amount + fare_amount) AS total_fare,\n",
    "    daysofweek[ORDINAL(EXTRACT(DAYOFWEEK FROM pickup_datetime))] AS dayofweek,\n",
    "    EXTRACT(HOUR FROM pickup_datetime) AS hourofday,\n",
    "    pickup_longitude AS pickuplon,\n",
    "    pickup_latitude AS pickuplat,\n",
    "    dropoff_longitude AS dropofflon,\n",
    "    dropoff_latitude AS dropofflat,\n",
    "    passenger_count AS passengers\n",
    "  FROM\n",
    "    `nyc-tlc.yellow.trips`, daynames, params\n",
    "  WHERE\n",
    "    trip_distance > 0 AND fare_amount > 0\n",
    "    AND MOD(ABS(FARM_FINGERPRINT(CAST(pickup_datetime AS STRING))),1000) = params.EVAL\n",
    "  )\n",
    "  SELECT *\n",
    "  FROM taxitrips\n",
    "  ))"
   ]
  },
  {
   "cell_type": "markdown",
   "metadata": {},
   "source": [
    "### Predict taxi fare amount"
   ]
  },
  {
   "cell_type": "code",
   "execution_count": null,
   "metadata": {
    "vscode": {
     "languageId": "sql"
    }
   },
   "outputs": [],
   "source": [
    "#standardSQL\n",
    "SELECT\n",
    "*\n",
    "FROM\n",
    "  ml.PREDICT(MODEL `taxi.taxifare_model`,\n",
    "   (\n",
    " WITH params AS (\n",
    "    SELECT\n",
    "    1 AS TRAIN,\n",
    "    2 AS EVAL\n",
    "    ),\n",
    "  daynames AS\n",
    "    (SELECT ['Sun', 'Mon', 'Tues', 'Wed', 'Thurs', 'Fri', 'Sat'] AS daysofweek),\n",
    "  taxitrips AS (\n",
    "  SELECT\n",
    "    (tolls_amount + fare_amount) AS total_fare,\n",
    "    daysofweek[ORDINAL(EXTRACT(DAYOFWEEK FROM pickup_datetime))] AS dayofweek,\n",
    "    EXTRACT(HOUR FROM pickup_datetime) AS hourofday,\n",
    "    pickup_longitude AS pickuplon,\n",
    "    pickup_latitude AS pickuplat,\n",
    "    dropoff_longitude AS dropofflon,\n",
    "    dropoff_latitude AS dropofflat,\n",
    "    passenger_count AS passengers\n",
    "  FROM\n",
    "    `nyc-tlc.yellow.trips`, daynames, params\n",
    "  WHERE\n",
    "    trip_distance > 0 AND fare_amount > 0\n",
    "    AND MOD(ABS(FARM_FINGERPRINT(CAST(pickup_datetime AS STRING))),1000) = params.EVAL\n",
    "  )\n",
    "  SELECT *\n",
    "  FROM taxitrips\n",
    "));"
   ]
  },
  {
   "cell_type": "markdown",
   "metadata": {},
   "source": [
    "### Improving the model with Feature Engineering\n",
    "#### Filtering the training dataset"
   ]
  },
  {
   "cell_type": "code",
   "execution_count": null,
   "metadata": {
    "vscode": {
     "languageId": "sql"
    }
   },
   "outputs": [],
   "source": [
    "SELECT\n",
    "  COUNT(fare_amount) AS num_fares,\n",
    "  MIN(fare_amount) AS low_fare,\n",
    "  MAX(fare_amount) AS high_fare,\n",
    "  AVG(fare_amount) AS avg_fare,\n",
    "  STDDEV(fare_amount) AS stddev\n",
    "FROM\n",
    "`nyc-tlc.yellow.trips`\n",
    "# 1,108,779,463 fares"
   ]
  },
  {
   "cell_type": "markdown",
   "metadata": {},
   "source": [
    "***As you can see, there are some strange outliers in our dataset***"
   ]
  },
  {
   "cell_type": "code",
   "execution_count": null,
   "metadata": {
    "vscode": {
     "languageId": "sql"
    }
   },
   "outputs": [],
   "source": [
    "SELECT\n",
    "  COUNT(fare_amount) AS num_fares,\n",
    "  MIN(fare_amount) AS low_fare,\n",
    "  MAX(fare_amount) AS high_fare,\n",
    "  AVG(fare_amount) AS avg_fare,\n",
    "  STDDEV(fare_amount) AS stddev\n",
    "FROM\n",
    "`nyc-tlc.yellow.trips`\n",
    "WHERE trip_distance > 0 AND fare_amount BETWEEN 6 and 200\n",
    "# 843,834,902 fares"
   ]
  },
  {
   "cell_type": "markdown",
   "metadata": {},
   "source": [
    "***focusing on New York City***"
   ]
  },
  {
   "cell_type": "code",
   "execution_count": null,
   "metadata": {
    "vscode": {
     "languageId": "sql"
    }
   },
   "outputs": [],
   "source": [
    "SELECT\n",
    "  COUNT(fare_amount) AS num_fares,\n",
    "  MIN(fare_amount) AS low_fare,\n",
    "  MAX(fare_amount) AS high_fare,\n",
    "  AVG(fare_amount) AS avg_fare,\n",
    "  STDDEV(fare_amount) AS stddev\n",
    "FROM\n",
    "`nyc-tlc.yellow.trips`\n",
    "WHERE trip_distance > 0 AND fare_amount BETWEEN 6 and 200\n",
    "    AND pickup_longitude > -75 #limiting of the distance the taxis travel out\n",
    "    AND pickup_longitude < -73\n",
    "    AND dropoff_longitude > -75\n",
    "    AND dropoff_longitude < -73\n",
    "    AND pickup_latitude > 40\n",
    "    AND pickup_latitude < 42\n",
    "    AND dropoff_latitude > 40\n",
    "    AND dropoff_latitude < 42\n",
    "    # 827,365,869 fares"
   ]
  },
  {
   "cell_type": "markdown",
   "metadata": {},
   "source": [
    "### Retraining the model"
   ]
  },
  {
   "cell_type": "code",
   "execution_count": null,
   "metadata": {
    "vscode": {
     "languageId": "sql"
    }
   },
   "outputs": [],
   "source": [
    "CREATE OR REPLACE MODEL taxi.taxifare_model_2\n",
    "OPTIONS\n",
    "  (model_type='linear_reg', labels=['total_fare']) AS\n",
    "WITH params AS (\n",
    "    SELECT\n",
    "    1 AS TRAIN,\n",
    "    2 AS EVAL\n",
    "    ),\n",
    "  daynames AS\n",
    "    (SELECT ['Sun', 'Mon', 'Tues', 'Wed', 'Thurs', 'Fri', 'Sat'] AS daysofweek),\n",
    "  taxitrips AS (\n",
    "  SELECT\n",
    "    (tolls_amount + fare_amount) AS total_fare,\n",
    "    daysofweek[ORDINAL(EXTRACT(DAYOFWEEK FROM pickup_datetime))] AS dayofweek,\n",
    "    EXTRACT(HOUR FROM pickup_datetime) AS hourofday,\n",
    "    SQRT(POW((pickup_longitude - dropoff_longitude),2) + POW(( pickup_latitude - dropoff_latitude), 2)) as dist, #Euclidean distance between pickup and drop off\n",
    "    SQRT(POW((pickup_longitude - dropoff_longitude),2)) as longitude, #Euclidean distance between pickup and drop off in longitude\n",
    "    SQRT(POW((pickup_latitude - dropoff_latitude), 2)) as latitude, #Euclidean distance between pickup and drop off in latitude\n",
    "    passenger_count AS passengers\n",
    "  FROM\n",
    "    `nyc-tlc.yellow.trips`, daynames, params\n",
    "WHERE trip_distance > 0 AND fare_amount BETWEEN 6 and 200\n",
    "    AND pickup_longitude > -75 #limiting of the distance the taxis travel out\n",
    "    AND pickup_longitude < -73\n",
    "    AND dropoff_longitude > -75\n",
    "    AND dropoff_longitude < -73\n",
    "    AND pickup_latitude > 40\n",
    "    AND pickup_latitude < 42\n",
    "    AND dropoff_latitude > 40\n",
    "    AND dropoff_latitude < 42\n",
    "    AND MOD(ABS(FARM_FINGERPRINT(CAST(pickup_datetime AS STRING))),1000) = params.TRAIN\n",
    "  )\n",
    "  SELECT *\n",
    "  FROM taxitrips"
   ]
  },
  {
   "cell_type": "markdown",
   "metadata": {},
   "source": [
    "### Evaluate the new model"
   ]
  },
  {
   "cell_type": "code",
   "execution_count": null,
   "metadata": {
    "vscode": {
     "languageId": "sql"
    }
   },
   "outputs": [],
   "source": [
    "SELECT\n",
    "  SQRT(mean_squared_error) AS rmse\n",
    "FROM\n",
    "  ML.EVALUATE(MODEL taxi.taxifare_model_2,\n",
    "  (\n",
    "  WITH params AS (\n",
    "    SELECT\n",
    "    1 AS TRAIN,\n",
    "    2 AS EVAL\n",
    "    ),\n",
    "  daynames AS\n",
    "    (SELECT ['Sun', 'Mon', 'Tues', 'Wed', 'Thurs', 'Fri', 'Sat'] AS daysofweek),\n",
    "  taxitrips AS (\n",
    "  SELECT\n",
    "    (tolls_amount + fare_amount) AS total_fare,\n",
    "    daysofweek[ORDINAL(EXTRACT(DAYOFWEEK FROM pickup_datetime))] AS dayofweek,\n",
    "    EXTRACT(HOUR FROM pickup_datetime) AS hourofday,\n",
    "    SQRT(POW((pickup_longitude - dropoff_longitude),2) + POW(( pickup_latitude - dropoff_latitude), 2)) as dist, #Euclidean distance between pickup and drop off\n",
    "    SQRT(POW((pickup_longitude - dropoff_longitude),2)) as longitude, #Euclidean distance between pickup and drop off in longitude\n",
    "    SQRT(POW((pickup_latitude - dropoff_latitude), 2)) as latitude, #Euclidean distance between pickup and drop off in latitude\n",
    "    passenger_count AS passengers\n",
    "  FROM\n",
    "    `nyc-tlc.yellow.trips`, daynames, params\n",
    "WHERE trip_distance > 0 AND fare_amount BETWEEN 6 and 200\n",
    "    AND pickup_longitude > -75 #limiting of the distance the taxis travel out\n",
    "    AND pickup_longitude < -73\n",
    "    AND dropoff_longitude > -75\n",
    "    AND dropoff_longitude < -73\n",
    "    AND pickup_latitude > 40\n",
    "    AND pickup_latitude < 42\n",
    "    AND dropoff_latitude > 40\n",
    "    AND dropoff_latitude < 42\n",
    "    AND MOD(ABS(FARM_FINGERPRINT(CAST(pickup_datetime AS STRING))),1000) = params.EVAL\n",
    "  )\n",
    "  SELECT *\n",
    "  FROM taxitrips\n",
    "  ))"
   ]
  },
  {
   "cell_type": "markdown",
   "metadata": {},
   "source": [
    "***"
   ]
  },
  {
   "cell_type": "markdown",
   "metadata": {},
   "source": [
    "**<center><font size = \"6\">Bracketology with Google Machine Learning<center>**\n",
    "***"
   ]
  },
  {
   "cell_type": "markdown",
   "metadata": {},
   "source": []
  }
 ],
 "metadata": {
  "kernelspec": {
   "display_name": "Python 3.9.9 64-bit",
   "language": "python",
   "name": "python3"
  },
  "language_info": {
   "codemirror_mode": {
    "name": "ipython",
    "version": 3
   },
   "file_extension": ".py",
   "mimetype": "text/x-python",
   "name": "python",
   "nbconvert_exporter": "python",
   "pygments_lexer": "ipython3",
   "version": "3.9.9"
  },
  "orig_nbformat": 4,
  "vscode": {
   "interpreter": {
    "hash": "aee8b7b246df8f9039afb4144a1f6fd8d2ca17a180786b69acc140d282b71a49"
   }
  }
 },
 "nbformat": 4,
 "nbformat_minor": 2
}
