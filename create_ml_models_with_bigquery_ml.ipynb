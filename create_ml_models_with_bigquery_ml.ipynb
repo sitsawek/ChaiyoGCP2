{
 "cells": [
  {
   "cell_type": "markdown",
   "metadata": {},
   "source": [
    "***"
   ]
  },
  {
   "cell_type": "markdown",
   "metadata": {},
   "source": [
    "**<center><font size = \"6\">Getting Started With Bigquery Machine Learning<center>**\n",
    "***\n",
    "<center><font size = \"2\">Prepared by: Sitsawek Sukorn<center>"
   ]
  },
  {
   "cell_type": "markdown",
   "metadata": {},
   "source": [
    "### Create Model"
   ]
  },
  {
   "cell_type": "code",
   "execution_count": null,
   "metadata": {
    "vscode": {
     "languageId": "sql"
    }
   },
   "outputs": [],
   "source": [
    "#standardSQL\n",
    "CREATE OR REPLACE MODEL `bqml_lab.sample_model`\n",
    "OPTIONS(model_type='logistic_reg') AS\n",
    "SELECT\n",
    "  IF(totals.transactions IS NULL, 0, 1) AS label,\n",
    "  IFNULL(device.operatingSystem, \"\") AS os,\n",
    "  device.isMobile AS is_mobile,\n",
    "  IFNULL(geoNetwork.country, \"\") AS country,\n",
    "  IFNULL(totals.pageviews, 0) AS pageviews\n",
    "FROM\n",
    "  `bigquery-public-data.google_analytics_sample.ga_sessions_*`\n",
    "WHERE\n",
    "  _TABLE_SUFFIX BETWEEN '20160801' AND '20170631'\n",
    "LIMIT 100000;"
   ]
  },
  {
   "cell_type": "markdown",
   "metadata": {},
   "source": [
    "### Evaluate the model"
   ]
  },
  {
   "cell_type": "code",
   "execution_count": null,
   "metadata": {
    "vscode": {
     "languageId": "sql"
    }
   },
   "outputs": [],
   "source": [
    "#standardSQL\n",
    "SELECT\n",
    "  *\n",
    "FROM\n",
    "  ml.EVALUATE(MODEL `bqml_lab.sample_model`, (\n",
    "SELECT\n",
    "  IF(totals.transactions IS NULL, 0, 1) AS label,\n",
    "  IFNULL(device.operatingSystem, \"\") AS os,\n",
    "  device.isMobile AS is_mobile,\n",
    "  IFNULL(geoNetwork.country, \"\") AS country,\n",
    "  IFNULL(totals.pageviews, 0) AS pageviews\n",
    "FROM\n",
    "  `bigquery-public-data.google_analytics_sample.ga_sessions_*`\n",
    "WHERE\n",
    "  _TABLE_SUFFIX BETWEEN '20170701' AND '20170801'));"
   ]
  },
  {
   "cell_type": "markdown",
   "metadata": {},
   "source": [
    "### Use the Model"
   ]
  },
  {
   "cell_type": "markdown",
   "metadata": {},
   "source": [
    "**Predect purchases per country**"
   ]
  },
  {
   "cell_type": "code",
   "execution_count": null,
   "metadata": {
    "vscode": {
     "languageId": "sql"
    }
   },
   "outputs": [],
   "source": [
    "#standardSQL\n",
    "SELECT\n",
    "  country,\n",
    "  SUM(predicted_label) as total_predicted_purchases\n",
    "FROM\n",
    "  ml.PREDICT(MODEL `bqml_lab.sample_model`, (\n",
    "SELECT\n",
    "  IFNULL(device.operatingSystem, \"\") AS os,\n",
    "  device.isMobile AS is_mobile,\n",
    "  IFNULL(totals.pageviews, 0) AS pageviews,\n",
    "  IFNULL(geoNetwork.country, \"\") AS country\n",
    "FROM\n",
    "  `bigquery-public-data.google_analytics_sample.ga_sessions_*`\n",
    "WHERE\n",
    "  _TABLE_SUFFIX BETWEEN '20170701' AND '20170801'))\n",
    "GROUP BY country\n",
    "ORDER BY total_predicted_purchases DESC\n",
    "LIMIT 10;"
   ]
  },
  {
   "cell_type": "markdown",
   "metadata": {},
   "source": [
    "**Predect purchases per user**"
   ]
  },
  {
   "cell_type": "code",
   "execution_count": null,
   "metadata": {
    "vscode": {
     "languageId": "sql"
    }
   },
   "outputs": [],
   "source": [
    "#standardSQL\n",
    "SELECT\n",
    "  fullVisitorId,\n",
    "  SUM(predicted_label) as total_predicted_purchases\n",
    "FROM\n",
    "  ml.PREDICT(MODEL `bqml_lab.sample_model`, (\n",
    "SELECT\n",
    "  IFNULL(device.operatingSystem, \"\") AS os,\n",
    "  device.isMobile AS is_mobile,\n",
    "  IFNULL(totals.pageviews, 0) AS pageviews,\n",
    "  IFNULL(geoNetwork.country, \"\") AS country,\n",
    "  fullVisitorId\n",
    "FROM\n",
    "  `bigquery-public-data.google_analytics_sample.ga_sessions_*`\n",
    "WHERE\n",
    "  _TABLE_SUFFIX BETWEEN '20170701' AND '20170801'))\n",
    "GROUP BY fullVisitorId\n",
    "ORDER BY total_predicted_purchases DESC\n",
    "LIMIT 10;"
   ]
  },
  {
   "cell_type": "markdown",
   "metadata": {},
   "source": [
    "***"
   ]
  },
  {
   "cell_type": "markdown",
   "metadata": {},
   "source": [
    "**<center><font size = \"6\">Predict Visitor Purchases With a Classification Model in BQML<center>**\n",
    "***"
   ]
  },
  {
   "cell_type": "markdown",
   "metadata": {},
   "source": [
    "### Explore ecommerce data"
   ]
  },
  {
   "cell_type": "markdown",
   "metadata": {},
   "source": [
    "+ Scenario: Your data analyst team exported the Google Analytics logs for an ecommerce website into BigQuery and created a new table of all the raw ecommerce visitor session data for you to explore. Using this data, you'll try to answer a few questions.\n",
    "\n",
    "+ Question: Out of the total visitors who visited our website, what % made a purchase?"
   ]
  },
  {
   "cell_type": "code",
   "execution_count": null,
   "metadata": {
    "vscode": {
     "languageId": "sql"
    }
   },
   "outputs": [],
   "source": [
    "#standardSQL\n",
    "WITH visitors AS(\n",
    "SELECT\n",
    "COUNT(DISTINCT fullVisitorId) AS total_visitors\n",
    "FROM `data-to-insights.ecommerce.web_analytics`\n",
    "),\n",
    "purchasers AS(\n",
    "SELECT\n",
    "COUNT(DISTINCT fullVisitorId) AS total_purchasers\n",
    "FROM `data-to-insights.ecommerce.web_analytics`\n",
    "WHERE totals.transactions IS NOT NULL\n",
    ")\n",
    "SELECT\n",
    "  total_visitors,\n",
    "  total_purchasers,\n",
    "  total_purchasers / total_visitors AS conversion_rate\n",
    "FROM visitors, purchasers"
   ]
  },
  {
   "cell_type": "markdown",
   "metadata": {},
   "source": [
    "+ Question: What are the top 5 selling products?"
   ]
  },
  {
   "cell_type": "code",
   "execution_count": null,
   "metadata": {
    "vscode": {
     "languageId": "sql"
    }
   },
   "outputs": [],
   "source": [
    "SELECT\n",
    "  p.v2ProductName,\n",
    "  p.v2ProductCategory,\n",
    "  SUM(p.productQuantity) AS units_sold,\n",
    "  ROUND(SUM(p.localProductRevenue/1000000),2) AS revenue\n",
    "FROM `data-to-insights.ecommerce.web_analytics`,\n",
    "UNNEST(hits) AS h,\n",
    "UNNEST(h.product) AS p\n",
    "GROUP BY 1, 2\n",
    "ORDER BY revenue DESC\n",
    "LIMIT 5;"
   ]
  },
  {
   "cell_type": "markdown",
   "metadata": {},
   "source": [
    "+ Question: How many visitors bought on subsequent visits to the website?"
   ]
  },
  {
   "cell_type": "code",
   "execution_count": null,
   "metadata": {
    "vscode": {
     "languageId": "sql"
    }
   },
   "outputs": [],
   "source": [
    "-- visitors who bought on a return visit (could have bought on first as well\n",
    "WITH all_visitor_stats AS (\n",
    "SELECT\n",
    "  fullvisitorid, # 741,721 unique visitors\n",
    "  IF(COUNTIF(totals.transactions > 0 AND totals.newVisits IS NULL) > 0, 1, 0) AS will_buy_on_return_visit\n",
    "  FROM `data-to-insights.ecommerce.web_analytics`\n",
    "  GROUP BY fullvisitorid\n",
    ")\n",
    "SELECT\n",
    "  COUNT(DISTINCT fullvisitorid) AS total_visitors,\n",
    "  will_buy_on_return_visit\n",
    "FROM all_visitor_stats\n",
    "GROUP BY will_buy_on_return_visit"
   ]
  },
  {
   "cell_type": "markdown",
   "metadata": {},
   "source": [
    "+ Question: What are some of the reasons a typical ecommerce customer will browse but not buy until a later visit?\n",
    "\n",
    "+ Answer: Although there is no one right answer, one popular reason is ***comparison shopping between different ecommerce sites before ultimately making a purchase decision.*** This is very common for luxury goods where significant up-front research and comparison is required by the customer before deciding (think car purchases) but also true to a lesser extent for the merchandise on this site (t-shirts, accessories, etc).\n",
    "\n",
    "+ In the world of online marketing, identifying and marketing to these future customers based on the characteristics of their first visit will increase conversion rates and reduce the outflow to competitor sites."
   ]
  },
  {
   "cell_type": "markdown",
   "metadata": {},
   "source": [
    "### Select features and create your training dataset"
   ]
  },
  {
   "cell_type": "code",
   "execution_count": null,
   "metadata": {
    "vscode": {
     "languageId": "sql"
    }
   },
   "outputs": [],
   "source": [
    "SELECT\n",
    "  * EXCEPT(fullVisitorId)\n",
    "FROM\n",
    "  # features\n",
    "  (SELECT\n",
    "    fullVisitorId,\n",
    "    IFNULL(totals.bounces, 0) AS bounces,\n",
    "    IFNULL(totals.timeOnSite, 0) AS time_on_site\n",
    "  FROM\n",
    "    `data-to-insights.ecommerce.web_analytics`\n",
    "  WHERE\n",
    "    totals.newVisits = 1)\n",
    "  JOIN\n",
    "  (SELECT\n",
    "    fullvisitorid,\n",
    "    IF(COUNTIF(totals.transactions > 0 AND totals.newVisits IS NULL) > 0, 1, 0) AS will_buy_on_return_visit\n",
    "  FROM\n",
    "      `data-to-insights.ecommerce.web_analytics`\n",
    "  GROUP BY fullvisitorid)\n",
    "  USING (fullVisitorId)\n",
    "ORDER BY time_on_site DESC\n",
    "LIMIT 10;"
   ]
  },
  {
   "cell_type": "markdown",
   "metadata": {},
   "source": [
    "### Select a BQML model type and specify options"
   ]
  },
  {
   "cell_type": "code",
   "execution_count": null,
   "metadata": {
    "vscode": {
     "languageId": "sql"
    }
   },
   "outputs": [],
   "source": [
    "CREATE OR REPLACE MODEL `ecommerce.classification_model` -- ecommerce is dataset\n",
    "OPTIONS\n",
    "(\n",
    "model_type='logistic_reg',\n",
    "labels = ['will_buy_on_return_visit']\n",
    ")\n",
    "AS\n",
    "#standardSQL\n",
    "SELECT\n",
    "  * EXCEPT(fullVisitorId)\n",
    "FROM\n",
    "  # features\n",
    "  (SELECT\n",
    "    fullVisitorId,\n",
    "    IFNULL(totals.bounces, 0) AS bounces,\n",
    "    IFNULL(totals.timeOnSite, 0) AS time_on_site\n",
    "  FROM\n",
    "    `data-to-insights.ecommerce.web_analytics`\n",
    "  WHERE\n",
    "    totals.newVisits = 1\n",
    "    AND date BETWEEN '20160801' AND '20170430') # train on first 9 months\n",
    "  JOIN\n",
    "  (SELECT\n",
    "    fullvisitorid,\n",
    "    IF(COUNTIF(totals.transactions > 0 AND totals.newVisits IS NULL) > 0, 1, 0) AS will_buy_on_return_visit\n",
    "  FROM\n",
    "      `data-to-insights.ecommerce.web_analytics`\n",
    "  GROUP BY fullvisitorid)\n",
    "  USING (fullVisitorId)\n",
    ";"
   ]
  },
  {
   "cell_type": "markdown",
   "metadata": {},
   "source": [
    "### Evaluate classification model performance\n"
   ]
  },
  {
   "cell_type": "code",
   "execution_count": null,
   "metadata": {
    "vscode": {
     "languageId": "sql"
    }
   },
   "outputs": [],
   "source": [
    "SELECT\n",
    "  roc_auc,\n",
    "  CASE\n",
    "    WHEN roc_auc > .9 THEN 'good'\n",
    "    WHEN roc_auc > .8 THEN 'fair'\n",
    "    WHEN roc_auc > .7 THEN 'decent'\n",
    "    WHEN roc_auc > .6 THEN 'not great'\n",
    "  ELSE 'poor' END AS model_quality\n",
    "FROM\n",
    "  ML.EVALUATE(MODEL ecommerce.classification_model,  (\n",
    "SELECT\n",
    "  * EXCEPT(fullVisitorId)\n",
    "FROM\n",
    "  # features\n",
    "  (SELECT\n",
    "    fullVisitorId,\n",
    "    IFNULL(totals.bounces, 0) AS bounces,\n",
    "    IFNULL(totals.timeOnSite, 0) AS time_on_site\n",
    "  FROM\n",
    "    `data-to-insights.ecommerce.web_analytics`\n",
    "  WHERE\n",
    "    totals.newVisits = 1\n",
    "    AND date BETWEEN '20170501' AND '20170630') # eval on 2 months\n",
    "  JOIN\n",
    "  (SELECT\n",
    "    fullvisitorid,\n",
    "    IF(COUNTIF(totals.transactions > 0 AND totals.newVisits IS NULL) > 0, 1, 0) AS will_buy_on_return_visit\n",
    "  FROM\n",
    "      `data-to-insights.ecommerce.web_analytics`\n",
    "  GROUP BY fullvisitorid)\n",
    "  USING (fullVisitorId)\n",
    "));"
   ]
  },
  {
   "cell_type": "markdown",
   "metadata": {},
   "source": [
    "### Improve model performance with Feature Engineering"
   ]
  },
  {
   "cell_type": "markdown",
   "metadata": {},
   "source": [
    "+ How far the visitor got in the checkout process on their first visit\n",
    "+ Where the visitor came from (traffic source: organic search, referring site etc..)\n",
    "+ Device category (mobile, tablet, desktop)\n",
    "+ Geographic information (country)"
   ]
  },
  {
   "cell_type": "code",
   "execution_count": null,
   "metadata": {
    "vscode": {
     "languageId": "sql"
    }
   },
   "outputs": [],
   "source": [
    "CREATE OR REPLACE MODEL `ecommerce.classification_model_2`\n",
    "OPTIONS\n",
    "  (model_type='logistic_reg', labels = ['will_buy_on_return_visit']) AS\n",
    "WITH all_visitor_stats AS (\n",
    "SELECT\n",
    "  fullvisitorid,\n",
    "  IF(COUNTIF(totals.transactions > 0 AND totals.newVisits IS NULL) > 0, 1, 0) AS will_buy_on_return_visit\n",
    "  FROM `data-to-insights.ecommerce.web_analytics`\n",
    "  GROUP BY fullvisitorid\n",
    ")\n",
    "# add in new features\n",
    "SELECT * EXCEPT(unique_session_id) FROM (\n",
    "  SELECT\n",
    "      CONCAT(fullvisitorid, CAST(visitId AS STRING)) AS unique_session_id,\n",
    "      # labels\n",
    "      will_buy_on_return_visit,\n",
    "      MAX(CAST(h.eCommerceAction.action_type AS INT64)) AS latest_ecommerce_progress,\n",
    "      # behavior on the site\n",
    "      IFNULL(totals.bounces, 0) AS bounces,\n",
    "      IFNULL(totals.timeOnSite, 0) AS time_on_site,\n",
    "      IFNULL(totals.pageviews, 0) AS pageviews,\n",
    "      # where the visitor came from\n",
    "      trafficSource.source,\n",
    "      trafficSource.medium,\n",
    "      channelGrouping,\n",
    "      # mobile or desktop\n",
    "      device.deviceCategory,\n",
    "      # geographic\n",
    "      IFNULL(geoNetwork.country, \"\") AS country\n",
    "  FROM `data-to-insights.ecommerce.web_analytics`,\n",
    "     UNNEST(hits) AS h\n",
    "    JOIN all_visitor_stats USING(fullvisitorid)\n",
    "  WHERE 1=1\n",
    "    # only predict for new visits\n",
    "    AND totals.newVisits = 1\n",
    "    AND date BETWEEN '20160801' AND '20170430' # train 9 months\n",
    "  GROUP BY\n",
    "  unique_session_id,\n",
    "  will_buy_on_return_visit,\n",
    "  bounces,\n",
    "  time_on_site,\n",
    "  totals.pageviews,\n",
    "  trafficSource.source,\n",
    "  trafficSource.medium,\n",
    "  channelGrouping,\n",
    "  device.deviceCategory,\n",
    "  country\n",
    ");"
   ]
  },
  {
   "cell_type": "markdown",
   "metadata": {},
   "source": [
    "#### Evaluate"
   ]
  },
  {
   "cell_type": "code",
   "execution_count": null,
   "metadata": {
    "vscode": {
     "languageId": "sql"
    }
   },
   "outputs": [],
   "source": [
    "#standardSQL\n",
    "SELECT\n",
    "  roc_auc,\n",
    "  CASE\n",
    "    WHEN roc_auc > .9 THEN 'good'\n",
    "    WHEN roc_auc > .8 THEN 'fair'\n",
    "    WHEN roc_auc > .7 THEN 'decent'\n",
    "    WHEN roc_auc > .6 THEN 'not great'\n",
    "  ELSE 'poor' END AS model_quality\n",
    "FROM\n",
    "  ML.EVALUATE(MODEL ecommerce.classification_model_2,  (\n",
    "WITH all_visitor_stats AS (\n",
    "SELECT\n",
    "  fullvisitorid,\n",
    "  IF(COUNTIF(totals.transactions > 0 AND totals.newVisits IS NULL) > 0, 1, 0) AS will_buy_on_return_visit\n",
    "  FROM `data-to-insights.ecommerce.web_analytics`\n",
    "  GROUP BY fullvisitorid\n",
    ")\n",
    "# add in new features\n",
    "SELECT * EXCEPT(unique_session_id) FROM (\n",
    "  SELECT\n",
    "      CONCAT(fullvisitorid, CAST(visitId AS STRING)) AS unique_session_id,\n",
    "      # labels\n",
    "      will_buy_on_return_visit,\n",
    "      MAX(CAST(h.eCommerceAction.action_type AS INT64)) AS latest_ecommerce_progress,\n",
    "      # behavior on the site\n",
    "      IFNULL(totals.bounces, 0) AS bounces,\n",
    "      IFNULL(totals.timeOnSite, 0) AS time_on_site,\n",
    "      totals.pageviews,\n",
    "      # where the visitor came from\n",
    "      trafficSource.source,\n",
    "      trafficSource.medium,\n",
    "      channelGrouping,\n",
    "      # mobile or desktop\n",
    "      device.deviceCategory,\n",
    "      # geographic\n",
    "      IFNULL(geoNetwork.country, \"\") AS country\n",
    "  FROM `data-to-insights.ecommerce.web_analytics`,\n",
    "     UNNEST(hits) AS h\n",
    "    JOIN all_visitor_stats USING(fullvisitorid)\n",
    "  WHERE 1=1\n",
    "    # only predict for new visits\n",
    "    AND totals.newVisits = 1\n",
    "    AND date BETWEEN '20170501' AND '20170630' # eval 2 months\n",
    "  GROUP BY\n",
    "  unique_session_id,\n",
    "  will_buy_on_return_visit,\n",
    "  bounces,\n",
    "  time_on_site,\n",
    "  totals.pageviews,\n",
    "  trafficSource.source,\n",
    "  trafficSource.medium,\n",
    "  channelGrouping,\n",
    "  device.deviceCategory,\n",
    "  country\n",
    ")\n",
    "));"
   ]
  },
  {
   "cell_type": "markdown",
   "metadata": {},
   "source": [
    "### Predict which new visitors will come back and purchase"
   ]
  },
  {
   "cell_type": "code",
   "execution_count": null,
   "metadata": {
    "vscode": {
     "languageId": "sql"
    }
   },
   "outputs": [],
   "source": [
    "SELECT\n",
    "*\n",
    "FROM\n",
    "  ml.PREDICT(MODEL `ecommerce.classification_model_2`,\n",
    "   (\n",
    "WITH all_visitor_stats AS (\n",
    "SELECT\n",
    "  fullvisitorid,\n",
    "  IF(COUNTIF(totals.transactions > 0 AND totals.newVisits IS NULL) > 0, 1, 0) AS will_buy_on_return_visit\n",
    "  FROM `data-to-insights.ecommerce.web_analytics`\n",
    "  GROUP BY fullvisitorid\n",
    ")\n",
    "  SELECT\n",
    "      CONCAT(fullvisitorid, '-',CAST(visitId AS STRING)) AS unique_session_id,\n",
    "      # labels\n",
    "      will_buy_on_return_visit,\n",
    "      MAX(CAST(h.eCommerceAction.action_type AS INT64)) AS latest_ecommerce_progress,\n",
    "      # behavior on the site\n",
    "      IFNULL(totals.bounces, 0) AS bounces,\n",
    "      IFNULL(totals.timeOnSite, 0) AS time_on_site,\n",
    "      totals.pageviews,\n",
    "      # where the visitor came from\n",
    "      trafficSource.source,\n",
    "      trafficSource.medium,\n",
    "      channelGrouping,\n",
    "      # mobile or desktop\n",
    "      device.deviceCategory,\n",
    "      # geographic\n",
    "      IFNULL(geoNetwork.country, \"\") AS country\n",
    "  FROM `data-to-insights.ecommerce.web_analytics`,\n",
    "     UNNEST(hits) AS h\n",
    "    JOIN all_visitor_stats USING(fullvisitorid)\n",
    "  WHERE\n",
    "    # only predict for new visits\n",
    "    totals.newVisits = 1\n",
    "    AND date BETWEEN '20170701' AND '20170801' # test 1 month\n",
    "  GROUP BY\n",
    "  unique_session_id,\n",
    "  will_buy_on_return_visit,\n",
    "  bounces,\n",
    "  time_on_site,\n",
    "  totals.pageviews,\n",
    "  trafficSource.source,\n",
    "  trafficSource.medium,\n",
    "  channelGrouping,\n",
    "  device.deviceCategory,\n",
    "  country\n",
    ")\n",
    ")\n",
    "ORDER BY\n",
    "  predicted_will_buy_on_return_visit DESC;"
   ]
  },
  {
   "cell_type": "markdown",
   "metadata": {},
   "source": [
    "***"
   ]
  },
  {
   "cell_type": "markdown",
   "metadata": {},
   "source": [
    "**<center><font size = \"6\">Predict Taxi Fare with a BigQuery ML Forecasting Model<center>**\n",
    "***"
   ]
  },
  {
   "cell_type": "markdown",
   "metadata": {},
   "source": [
    "### Explore NYC taxi cab data"
   ]
  },
  {
   "cell_type": "markdown",
   "metadata": {},
   "source": [
    "+ Question: How many trips did Yellow taxis take each month in 2015?"
   ]
  },
  {
   "cell_type": "code",
   "execution_count": null,
   "metadata": {
    "vscode": {
     "languageId": "sql"
    }
   },
   "outputs": [],
   "source": [
    "#standardSQL\n",
    "SELECT\n",
    "  TIMESTAMP_TRUNC(pickup_datetime,\n",
    "    MONTH) month,\n",
    "  COUNT(*) trips\n",
    "FROM\n",
    "  `bigquery-public-data.new_york.tlc_yellow_trips_2015`\n",
    "GROUP BY\n",
    "  1\n",
    "ORDER BY\n",
    "  1"
   ]
  },
  {
   "cell_type": "markdown",
   "metadata": {},
   "source": [
    "+ Question: What was the average speed of Yellow taxi trips in 2015?"
   ]
  },
  {
   "cell_type": "code",
   "execution_count": null,
   "metadata": {
    "vscode": {
     "languageId": "sql"
    }
   },
   "outputs": [],
   "source": [
    "#standardSQL\n",
    "SELECT\n",
    "  EXTRACT(HOUR\n",
    "  FROM\n",
    "    pickup_datetime) hour,\n",
    "  ROUND(AVG(trip_distance / TIMESTAMP_DIFF(dropoff_datetime,\n",
    "        pickup_datetime,\n",
    "        SECOND))*3600, 1) speed\n",
    "FROM\n",
    "  `bigquery-public-data.new_york.tlc_yellow_trips_2015`\n",
    "WHERE\n",
    "  trip_distance > 0\n",
    "  AND fare_amount/trip_distance BETWEEN 2\n",
    "  AND 10\n",
    "  AND dropoff_datetime > pickup_datetime\n",
    "GROUP BY\n",
    "  1\n",
    "ORDER BY\n",
    "  1"
   ]
  },
  {
   "cell_type": "markdown",
   "metadata": {},
   "source": [
    "### Select features and create your training dataset"
   ]
  },
  {
   "cell_type": "code",
   "execution_count": null,
   "metadata": {
    "vscode": {
     "languageId": "sql"
    }
   },
   "outputs": [],
   "source": [
    "#standardSQL\n",
    "WITH params AS (\n",
    "    SELECT\n",
    "    1 AS TRAIN,\n",
    "    2 AS EVAL\n",
    "    ),\n",
    "  daynames AS\n",
    "    (SELECT ['Sun', 'Mon', 'Tues', 'Wed', 'Thurs', 'Fri', 'Sat'] AS daysofweek),\n",
    "  taxitrips AS (\n",
    "  SELECT\n",
    "    (tolls_amount + fare_amount) AS total_fare,\n",
    "    daysofweek[ORDINAL(EXTRACT(DAYOFWEEK FROM pickup_datetime))] AS dayofweek,\n",
    "    EXTRACT(HOUR FROM pickup_datetime) AS hourofday,\n",
    "    pickup_longitude AS pickuplon,\n",
    "    pickup_latitude AS pickuplat,\n",
    "    dropoff_longitude AS dropofflon,\n",
    "    dropoff_latitude AS dropofflat,\n",
    "    passenger_count AS passengers\n",
    "  FROM\n",
    "    `nyc-tlc.yellow.trips`, daynames, params\n",
    "  WHERE\n",
    "    trip_distance > 0 AND fare_amount > 0\n",
    "    AND MOD(ABS(FARM_FINGERPRINT(CAST(pickup_datetime AS STRING))),1000) = params.TRAIN -- pick only 1/1000th of the data\n",
    "  )\n",
    "  SELECT *\n",
    "  FROM taxitrips"
   ]
  },
  {
   "cell_type": "markdown",
   "metadata": {},
   "source": [
    "### Select a BigQuery ML model type and specify options"
   ]
  },
  {
   "cell_type": "code",
   "execution_count": null,
   "metadata": {
    "vscode": {
     "languageId": "sql"
    }
   },
   "outputs": [],
   "source": [
    "CREATE or REPLACE MODEL taxi.taxifare_model\n",
    "OPTIONS\n",
    "  (model_type='linear_reg', labels=['total_fare']) AS\n",
    "WITH params AS (\n",
    "    SELECT\n",
    "    1 AS TRAIN,\n",
    "    2 AS EVAL\n",
    "    ),\n",
    "  daynames AS\n",
    "    (SELECT ['Sun', 'Mon', 'Tues', 'Wed', 'Thurs', 'Fri', 'Sat'] AS daysofweek),\n",
    "  taxitrips AS (\n",
    "  SELECT\n",
    "    (tolls_amount + fare_amount) AS total_fare,\n",
    "    daysofweek[ORDINAL(EXTRACT(DAYOFWEEK FROM pickup_datetime))] AS dayofweek,\n",
    "    EXTRACT(HOUR FROM pickup_datetime) AS hourofday,\n",
    "    pickup_longitude AS pickuplon,\n",
    "    pickup_latitude AS pickuplat,\n",
    "    dropoff_longitude AS dropofflon,\n",
    "    dropoff_latitude AS dropofflat,\n",
    "    passenger_count AS passengers\n",
    "  FROM\n",
    "    `nyc-tlc.yellow.trips`, daynames, params\n",
    "  WHERE\n",
    "    trip_distance > 0 AND fare_amount > 0\n",
    "    AND MOD(ABS(FARM_FINGERPRINT(CAST(pickup_datetime AS STRING))),1000) = params.TRAIN\n",
    "  )\n",
    "  SELECT *\n",
    "  FROM taxitrips"
   ]
  },
  {
   "cell_type": "markdown",
   "metadata": {},
   "source": [
    "### Evaluate classification model performance"
   ]
  },
  {
   "cell_type": "code",
   "execution_count": null,
   "metadata": {
    "vscode": {
     "languageId": "sql"
    }
   },
   "outputs": [],
   "source": [
    "#standardSQL\n",
    "SELECT\n",
    "  SQRT(mean_squared_error) AS rmse\n",
    "FROM\n",
    "  ML.EVALUATE(MODEL taxi.taxifare_model,\n",
    "  (\n",
    "  WITH params AS (\n",
    "    SELECT\n",
    "    1 AS TRAIN,\n",
    "    2 AS EVAL\n",
    "    ),\n",
    "  daynames AS\n",
    "    (SELECT ['Sun', 'Mon', 'Tues', 'Wed', 'Thurs', 'Fri', 'Sat'] AS daysofweek),\n",
    "  taxitrips AS (\n",
    "  SELECT\n",
    "    (tolls_amount + fare_amount) AS total_fare,\n",
    "    daysofweek[ORDINAL(EXTRACT(DAYOFWEEK FROM pickup_datetime))] AS dayofweek,\n",
    "    EXTRACT(HOUR FROM pickup_datetime) AS hourofday,\n",
    "    pickup_longitude AS pickuplon,\n",
    "    pickup_latitude AS pickuplat,\n",
    "    dropoff_longitude AS dropofflon,\n",
    "    dropoff_latitude AS dropofflat,\n",
    "    passenger_count AS passengers\n",
    "  FROM\n",
    "    `nyc-tlc.yellow.trips`, daynames, params\n",
    "  WHERE\n",
    "    trip_distance > 0 AND fare_amount > 0\n",
    "    AND MOD(ABS(FARM_FINGERPRINT(CAST(pickup_datetime AS STRING))),1000) = params.EVAL\n",
    "  )\n",
    "  SELECT *\n",
    "  FROM taxitrips\n",
    "  ))"
   ]
  },
  {
   "cell_type": "markdown",
   "metadata": {},
   "source": [
    "### Predict taxi fare amount"
   ]
  },
  {
   "cell_type": "code",
   "execution_count": null,
   "metadata": {
    "vscode": {
     "languageId": "sql"
    }
   },
   "outputs": [],
   "source": [
    "#standardSQL\n",
    "SELECT\n",
    "*\n",
    "FROM\n",
    "  ml.PREDICT(MODEL `taxi.taxifare_model`,\n",
    "   (\n",
    " WITH params AS (\n",
    "    SELECT\n",
    "    1 AS TRAIN,\n",
    "    2 AS EVAL\n",
    "    ),\n",
    "  daynames AS\n",
    "    (SELECT ['Sun', 'Mon', 'Tues', 'Wed', 'Thurs', 'Fri', 'Sat'] AS daysofweek),\n",
    "  taxitrips AS (\n",
    "  SELECT\n",
    "    (tolls_amount + fare_amount) AS total_fare,\n",
    "    daysofweek[ORDINAL(EXTRACT(DAYOFWEEK FROM pickup_datetime))] AS dayofweek,\n",
    "    EXTRACT(HOUR FROM pickup_datetime) AS hourofday,\n",
    "    pickup_longitude AS pickuplon,\n",
    "    pickup_latitude AS pickuplat,\n",
    "    dropoff_longitude AS dropofflon,\n",
    "    dropoff_latitude AS dropofflat,\n",
    "    passenger_count AS passengers\n",
    "  FROM\n",
    "    `nyc-tlc.yellow.trips`, daynames, params\n",
    "  WHERE\n",
    "    trip_distance > 0 AND fare_amount > 0\n",
    "    AND MOD(ABS(FARM_FINGERPRINT(CAST(pickup_datetime AS STRING))),1000) = params.EVAL\n",
    "  )\n",
    "  SELECT *\n",
    "  FROM taxitrips\n",
    "));"
   ]
  },
  {
   "cell_type": "markdown",
   "metadata": {},
   "source": [
    "### Improving the model with Feature Engineering\n",
    "#### Filtering the training dataset"
   ]
  },
  {
   "cell_type": "code",
   "execution_count": null,
   "metadata": {
    "vscode": {
     "languageId": "sql"
    }
   },
   "outputs": [],
   "source": [
    "SELECT\n",
    "  COUNT(fare_amount) AS num_fares,\n",
    "  MIN(fare_amount) AS low_fare,\n",
    "  MAX(fare_amount) AS high_fare,\n",
    "  AVG(fare_amount) AS avg_fare,\n",
    "  STDDEV(fare_amount) AS stddev\n",
    "FROM\n",
    "`nyc-tlc.yellow.trips`\n",
    "# 1,108,779,463 fares"
   ]
  },
  {
   "cell_type": "markdown",
   "metadata": {},
   "source": [
    "***As you can see, there are some strange outliers in our dataset***"
   ]
  },
  {
   "cell_type": "code",
   "execution_count": null,
   "metadata": {
    "vscode": {
     "languageId": "sql"
    }
   },
   "outputs": [],
   "source": [
    "SELECT\n",
    "  COUNT(fare_amount) AS num_fares,\n",
    "  MIN(fare_amount) AS low_fare,\n",
    "  MAX(fare_amount) AS high_fare,\n",
    "  AVG(fare_amount) AS avg_fare,\n",
    "  STDDEV(fare_amount) AS stddev\n",
    "FROM\n",
    "`nyc-tlc.yellow.trips`\n",
    "WHERE trip_distance > 0 AND fare_amount BETWEEN 6 and 200\n",
    "# 843,834,902 fares"
   ]
  },
  {
   "cell_type": "markdown",
   "metadata": {},
   "source": [
    "***focusing on New York City***"
   ]
  },
  {
   "cell_type": "code",
   "execution_count": null,
   "metadata": {
    "vscode": {
     "languageId": "sql"
    }
   },
   "outputs": [],
   "source": [
    "SELECT\n",
    "  COUNT(fare_amount) AS num_fares,\n",
    "  MIN(fare_amount) AS low_fare,\n",
    "  MAX(fare_amount) AS high_fare,\n",
    "  AVG(fare_amount) AS avg_fare,\n",
    "  STDDEV(fare_amount) AS stddev\n",
    "FROM\n",
    "`nyc-tlc.yellow.trips`\n",
    "WHERE trip_distance > 0 AND fare_amount BETWEEN 6 and 200\n",
    "    AND pickup_longitude > -75 #limiting of the distance the taxis travel out\n",
    "    AND pickup_longitude < -73\n",
    "    AND dropoff_longitude > -75\n",
    "    AND dropoff_longitude < -73\n",
    "    AND pickup_latitude > 40\n",
    "    AND pickup_latitude < 42\n",
    "    AND dropoff_latitude > 40\n",
    "    AND dropoff_latitude < 42\n",
    "    # 827,365,869 fares"
   ]
  },
  {
   "cell_type": "markdown",
   "metadata": {},
   "source": [
    "### Retraining the model"
   ]
  },
  {
   "cell_type": "code",
   "execution_count": null,
   "metadata": {
    "vscode": {
     "languageId": "sql"
    }
   },
   "outputs": [],
   "source": [
    "CREATE OR REPLACE MODEL taxi.taxifare_model_2\n",
    "OPTIONS\n",
    "  (model_type='linear_reg', labels=['total_fare']) AS\n",
    "WITH params AS (\n",
    "    SELECT\n",
    "    1 AS TRAIN,\n",
    "    2 AS EVAL\n",
    "    ),\n",
    "  daynames AS\n",
    "    (SELECT ['Sun', 'Mon', 'Tues', 'Wed', 'Thurs', 'Fri', 'Sat'] AS daysofweek),\n",
    "  taxitrips AS (\n",
    "  SELECT\n",
    "    (tolls_amount + fare_amount) AS total_fare,\n",
    "    daysofweek[ORDINAL(EXTRACT(DAYOFWEEK FROM pickup_datetime))] AS dayofweek,\n",
    "    EXTRACT(HOUR FROM pickup_datetime) AS hourofday,\n",
    "    SQRT(POW((pickup_longitude - dropoff_longitude),2) + POW(( pickup_latitude - dropoff_latitude), 2)) as dist, #Euclidean distance between pickup and drop off\n",
    "    SQRT(POW((pickup_longitude - dropoff_longitude),2)) as longitude, #Euclidean distance between pickup and drop off in longitude\n",
    "    SQRT(POW((pickup_latitude - dropoff_latitude), 2)) as latitude, #Euclidean distance between pickup and drop off in latitude\n",
    "    passenger_count AS passengers\n",
    "  FROM\n",
    "    `nyc-tlc.yellow.trips`, daynames, params\n",
    "WHERE trip_distance > 0 AND fare_amount BETWEEN 6 and 200\n",
    "    AND pickup_longitude > -75 #limiting of the distance the taxis travel out\n",
    "    AND pickup_longitude < -73\n",
    "    AND dropoff_longitude > -75\n",
    "    AND dropoff_longitude < -73\n",
    "    AND pickup_latitude > 40\n",
    "    AND pickup_latitude < 42\n",
    "    AND dropoff_latitude > 40\n",
    "    AND dropoff_latitude < 42\n",
    "    AND MOD(ABS(FARM_FINGERPRINT(CAST(pickup_datetime AS STRING))),1000) = params.TRAIN\n",
    "  )\n",
    "  SELECT *\n",
    "  FROM taxitrips"
   ]
  },
  {
   "cell_type": "markdown",
   "metadata": {},
   "source": [
    "### Evaluate the new model"
   ]
  },
  {
   "cell_type": "code",
   "execution_count": null,
   "metadata": {
    "vscode": {
     "languageId": "sql"
    }
   },
   "outputs": [],
   "source": [
    "SELECT\n",
    "  SQRT(mean_squared_error) AS rmse\n",
    "FROM\n",
    "  ML.EVALUATE(MODEL taxi.taxifare_model_2,\n",
    "  (\n",
    "  WITH params AS (\n",
    "    SELECT\n",
    "    1 AS TRAIN,\n",
    "    2 AS EVAL\n",
    "    ),\n",
    "  daynames AS\n",
    "    (SELECT ['Sun', 'Mon', 'Tues', 'Wed', 'Thurs', 'Fri', 'Sat'] AS daysofweek),\n",
    "  taxitrips AS (\n",
    "  SELECT\n",
    "    (tolls_amount + fare_amount) AS total_fare,\n",
    "    daysofweek[ORDINAL(EXTRACT(DAYOFWEEK FROM pickup_datetime))] AS dayofweek,\n",
    "    EXTRACT(HOUR FROM pickup_datetime) AS hourofday,\n",
    "    SQRT(POW((pickup_longitude - dropoff_longitude),2) + POW(( pickup_latitude - dropoff_latitude), 2)) as dist, #Euclidean distance between pickup and drop off\n",
    "    SQRT(POW((pickup_longitude - dropoff_longitude),2)) as longitude, #Euclidean distance between pickup and drop off in longitude\n",
    "    SQRT(POW((pickup_latitude - dropoff_latitude), 2)) as latitude, #Euclidean distance between pickup and drop off in latitude\n",
    "    passenger_count AS passengers\n",
    "  FROM\n",
    "    `nyc-tlc.yellow.trips`, daynames, params\n",
    "WHERE trip_distance > 0 AND fare_amount BETWEEN 6 and 200\n",
    "    AND pickup_longitude > -75 #limiting of the distance the taxis travel out\n",
    "    AND pickup_longitude < -73\n",
    "    AND dropoff_longitude > -75\n",
    "    AND dropoff_longitude < -73\n",
    "    AND pickup_latitude > 40\n",
    "    AND pickup_latitude < 42\n",
    "    AND dropoff_latitude > 40\n",
    "    AND dropoff_latitude < 42\n",
    "    AND MOD(ABS(FARM_FINGERPRINT(CAST(pickup_datetime AS STRING))),1000) = params.EVAL\n",
    "  )\n",
    "  SELECT *\n",
    "  FROM taxitrips\n",
    "  ))"
   ]
  },
  {
   "cell_type": "markdown",
   "metadata": {},
   "source": [
    "***"
   ]
  },
  {
   "cell_type": "markdown",
   "metadata": {},
   "source": [
    "**<center><font size = \"6\">Bracketology with Google Machine Learning<center>**\n",
    "***"
   ]
  },
  {
   "cell_type": "markdown",
   "metadata": {},
   "source": [
    "### Create a labeled machine learning dataset"
   ]
  },
  {
   "cell_type": "code",
   "execution_count": null,
   "metadata": {
    "vscode": {
     "languageId": "sql"
    }
   },
   "outputs": [],
   "source": [
    "# create a row for the winning team\n",
    "SELECT\n",
    "  # features\n",
    "  season, # ex: 2015 season has March 2016 tournament games\n",
    "  round, # sweet 16\n",
    "  days_from_epoch, # how old is the game\n",
    "  game_date,\n",
    "  day, # Friday\n",
    "  'win' AS label, # our label\n",
    "  win_seed AS seed, # ranking\n",
    "  win_market AS market,\n",
    "  win_name AS name,\n",
    "  win_alias AS alias,\n",
    "  win_school_ncaa AS school_ncaa,\n",
    "  # win_pts AS points,\n",
    "  lose_seed AS opponent_seed, # ranking\n",
    "  lose_market AS opponent_market,\n",
    "  lose_name AS opponent_name,\n",
    "  lose_alias AS opponent_alias,\n",
    "  lose_school_ncaa AS opponent_school_ncaa\n",
    "  # lose_pts AS opponent_points\n",
    "FROM `bigquery-public-data.ncaa_basketball.mbb_historical_tournament_games`\n",
    "UNION ALL\n",
    "# create a separate row for the losing team\n",
    "SELECT\n",
    "# features\n",
    "  season,\n",
    "  round,\n",
    "  days_from_epoch,\n",
    "  game_date,\n",
    "  day,\n",
    "  'loss' AS label, # our label\n",
    "  lose_seed AS seed, # ranking\n",
    "  lose_market AS market,\n",
    "  lose_name AS name,\n",
    "  lose_alias AS alias,\n",
    "  lose_school_ncaa AS school_ncaa,\n",
    "  # lose_pts AS points,\n",
    "  win_seed AS opponent_seed, # ranking\n",
    "  win_market AS opponent_market,\n",
    "  win_name AS opponent_name,\n",
    "  win_alias AS opponent_alias,\n",
    "  win_school_ncaa AS opponent_school_ncaa\n",
    "  # win_pts AS opponent_points\n",
    "FROM\n",
    "`bigquery-public-data.ncaa_basketball.mbb_historical_tournament_games`"
   ]
  },
  {
   "cell_type": "markdown",
   "metadata": {},
   "source": [
    "### Create a machine learning model to predict the winner based on seed and team name"
   ]
  },
  {
   "cell_type": "code",
   "execution_count": null,
   "metadata": {
    "vscode": {
     "languageId": "sql"
    }
   },
   "outputs": [],
   "source": [
    "CREATE OR REPLACE MODEL\n",
    "  `bracketology.ncaa_model`\n",
    "OPTIONS\n",
    "  ( model_type='logistic_reg') AS\n",
    "# create a row for the winning team\n",
    "SELECT\n",
    "  # features\n",
    "  season,\n",
    "  'win' AS label, # our label\n",
    "  win_seed AS seed, # ranking\n",
    "  win_school_ncaa AS school_ncaa,\n",
    "  lose_seed AS opponent_seed, # ranking\n",
    "  lose_school_ncaa AS opponent_school_ncaa\n",
    "FROM `bigquery-public-data.ncaa_basketball.mbb_historical_tournament_games`\n",
    "WHERE season <= 2017\n",
    "UNION ALL\n",
    "# create a separate row for the losing team\n",
    "SELECT\n",
    "# features\n",
    "  season,\n",
    "  'loss' AS label, # our label\n",
    "  lose_seed AS seed, # ranking\n",
    "  lose_school_ncaa AS school_ncaa,\n",
    "  win_seed AS opponent_seed, # ranking\n",
    "  win_school_ncaa AS opponent_school_ncaa\n",
    "FROM\n",
    "`bigquery-public-data.ncaa_basketball.mbb_historical_tournament_games`\n",
    "# now we split our dataset with a WHERE clause so we can train on a subset of data and then evaluate and test the model's performance against a reserved subset so the model doesn't memorize or overfit to the training data.\n",
    "# tournament season information from 1985 - 2017\n",
    "# here we'll train on 1985 - 2017 and predict for 2018\n",
    "WHERE season <= 2017"
   ]
  },
  {
   "cell_type": "markdown",
   "metadata": {},
   "source": [
    "***In our case we already have a field named \"label\" so we avoid having to specify our label column by using the model option: input_label_cols.***"
   ]
  },
  {
   "cell_type": "markdown",
   "metadata": {},
   "source": [
    "#### See what the model learned about our features"
   ]
  },
  {
   "cell_type": "code",
   "execution_count": null,
   "metadata": {
    "vscode": {
     "languageId": "sql"
    }
   },
   "outputs": [],
   "source": [
    "SELECT\n",
    "  category,\n",
    "  weight\n",
    "FROM\n",
    "  UNNEST((\n",
    "    SELECT\n",
    "      category_weights\n",
    "    FROM\n",
    "      ML.WEIGHTS(MODEL `bracketology.ncaa_model`)\n",
    "    WHERE\n",
    "      processed_input = 'seed')) # try other features like 'school_ncaa'\n",
    "      ORDER BY weight DESC"
   ]
  },
  {
   "cell_type": "markdown",
   "metadata": {},
   "source": [
    "### Evaluate model performance"
   ]
  },
  {
   "cell_type": "markdown",
   "metadata": {},
   "source": [
    "SELECT\n",
    "  *\n",
    "FROM\n",
    "  ML.EVALUATE(MODEL   `bracketology.ncaa_model`)"
   ]
  },
  {
   "cell_type": "markdown",
   "metadata": {},
   "source": [
    "+ Precision = true positive / true positive + false positive\n",
    "\n",
    "+ Recall = true positive / true positive + false negative\n",
    "\n",
    "+ Accuracy = TP + TN / TP + FP + TN + FN\n",
    "\n",
    "+ F1 score : A measure of the accuracy of the model. The f1 score is the harmonic average of the precision and recall. An \n",
    "f1 score's best value is 1. The worst value is 0.\n",
    "\n",
    "+ Log loss : This is the measure of how far the model's predictions are from the correct labels.\n",
    "\n",
    "+ ROC AUC : he area under the ROC curve. This is the probability that a classifier is more confident that a randomly \n",
    "chosen positive example is actually positive than that a randomly chosen negative example is positive."
   ]
  },
  {
   "cell_type": "markdown",
   "metadata": {},
   "source": [
    "### Making predictions"
   ]
  },
  {
   "cell_type": "code",
   "execution_count": null,
   "metadata": {
    "vscode": {
     "languageId": "sql"
    }
   },
   "outputs": [],
   "source": [
    "CREATE OR REPLACE TABLE `bracketology.predictions` AS (\n",
    "SELECT * FROM ML.PREDICT(MODEL `bracketology.ncaa_model`,\n",
    "# predicting for 2018 tournament games (2017 season)\n",
    "(SELECT * FROM `data-to-insights.ncaa.2018_tournament_results`)\n",
    ")\n",
    ")"
   ]
  },
  {
   "cell_type": "markdown",
   "metadata": {},
   "source": [
    "### How many did our model get right for the 2018 NCAA tournament?"
   ]
  },
  {
   "cell_type": "code",
   "execution_count": null,
   "metadata": {
    "vscode": {
     "languageId": "sql"
    }
   },
   "outputs": [],
   "source": [
    "SELECT * FROM `bracketology.predictions`\n",
    "WHERE predicted_label <> label"
   ]
  },
  {
   "cell_type": "markdown",
   "metadata": {},
   "source": [
    "### Models can only take you so far..."
   ]
  },
  {
   "cell_type": "code",
   "execution_count": null,
   "metadata": {
    "vscode": {
     "languageId": "sql"
    }
   },
   "outputs": [],
   "source": [
    "SELECT\n",
    "  model.label AS predicted_label,\n",
    "  model.prob AS confidence,\n",
    "  predictions.label AS correct_label,\n",
    "  game_date,\n",
    "  round,\n",
    "  seed,\n",
    "  school_ncaa,\n",
    "  points,\n",
    "  opponent_seed,\n",
    "  opponent_school_ncaa,\n",
    "  opponent_points\n",
    "FROM `bracketology.predictions` AS predictions,\n",
    "UNNEST(predicted_label_probs) AS model\n",
    "WHERE model.prob > .8 AND predicted_label <> predictions.label"
   ]
  },
  {
   "cell_type": "markdown",
   "metadata": {},
   "source": [
    "### Using skillful ML model features"
   ]
  },
  {
   "cell_type": "markdown",
   "metadata": {},
   "source": [
    "+ Scoring efficiency over time based on historical play-by-play analysis.\n",
    "+ Possession of the basketball over time."
   ]
  },
  {
   "cell_type": "code",
   "execution_count": null,
   "metadata": {
    "vscode": {
     "languageId": "sql"
    }
   },
   "outputs": [],
   "source": [
    "# create training dataset:\n",
    "# create a row for the winning team\n",
    "CREATE OR REPLACE TABLE `bracketology.training_new_features` AS\n",
    "WITH outcomes AS (\n",
    "SELECT\n",
    "  # features\n",
    "  season, # 1994\n",
    "  'win' AS label, # our label\n",
    "  win_seed AS seed, # ranking # this time without seed even\n",
    "  win_school_ncaa AS school_ncaa,\n",
    "  lose_seed AS opponent_seed, # ranking\n",
    "  lose_school_ncaa AS opponent_school_ncaa\n",
    "FROM `bigquery-public-data.ncaa_basketball.mbb_historical_tournament_games` t\n",
    "WHERE season >= 2014\n",
    "UNION ALL\n",
    "# create a separate row for the losing team\n",
    "SELECT\n",
    "# features\n",
    "  season, # 1994\n",
    "  'loss' AS label, # our label\n",
    "  lose_seed AS seed, # ranking\n",
    "  lose_school_ncaa AS school_ncaa,\n",
    "  win_seed AS opponent_seed, # ranking\n",
    "  win_school_ncaa AS opponent_school_ncaa\n",
    "FROM\n",
    "`bigquery-public-data.ncaa_basketball.mbb_historical_tournament_games` t\n",
    "WHERE season >= 2014\n",
    "UNION ALL\n",
    "# add in 2018 tournament game results not part of the public dataset:\n",
    "SELECT\n",
    "  season,\n",
    "  label,\n",
    "  seed,\n",
    "  school_ncaa,\n",
    "  opponent_seed,\n",
    "  opponent_school_ncaa\n",
    "FROM\n",
    "  `data-to-insights.ncaa.2018_tournament_results`\n",
    ")\n",
    "SELECT\n",
    "o.season,\n",
    "label,\n",
    "# our team\n",
    "  seed,\n",
    "  school_ncaa,\n",
    "  # new pace metrics (basketball possession)\n",
    "  team.pace_rank,\n",
    "  team.poss_40min,\n",
    "  team.pace_rating,\n",
    "  # new efficiency metrics (scoring over time)\n",
    "  team.efficiency_rank,\n",
    "  team.pts_100poss,\n",
    "  team.efficiency_rating,\n",
    "# opposing team\n",
    "  opponent_seed,\n",
    "  opponent_school_ncaa,\n",
    "  # new pace metrics (basketball possession)\n",
    "  opp.pace_rank AS opp_pace_rank,\n",
    "  opp.poss_40min AS opp_poss_40min,\n",
    "  opp.pace_rating AS opp_pace_rating,\n",
    "  # new efficiency metrics (scoring over time)\n",
    "  opp.efficiency_rank AS opp_efficiency_rank,\n",
    "  opp.pts_100poss AS opp_pts_100poss,\n",
    "  opp.efficiency_rating AS opp_efficiency_rating,\n",
    "# a little feature engineering (take the difference in stats)\n",
    "  # new pace metrics (basketball possession)\n",
    "  opp.pace_rank - team.pace_rank AS pace_rank_diff,\n",
    "  opp.poss_40min - team.poss_40min AS pace_stat_diff,\n",
    "  opp.pace_rating - team.pace_rating AS pace_rating_diff,\n",
    "  # new efficiency metrics (scoring over time)\n",
    "  opp.efficiency_rank - team.efficiency_rank AS eff_rank_diff,\n",
    "  opp.pts_100poss - team.pts_100poss AS eff_stat_diff,\n",
    "  opp.efficiency_rating - team.efficiency_rating AS eff_rating_diff\n",
    "FROM outcomes AS o\n",
    "LEFT JOIN `data-to-insights.ncaa.feature_engineering` AS team\n",
    "ON o.school_ncaa = team.team AND o.season = team.season\n",
    "LEFT JOIN `data-to-insights.ncaa.feature_engineering` AS opp\n",
    "ON o.opponent_school_ncaa = opp.team AND o.season = opp.season"
   ]
  },
  {
   "cell_type": "markdown",
   "metadata": {},
   "source": [
    "### Train the new model"
   ]
  },
  {
   "cell_type": "code",
   "execution_count": null,
   "metadata": {
    "vscode": {
     "languageId": "sql"
    }
   },
   "outputs": [],
   "source": [
    "CREATE OR REPLACE MODEL\n",
    "  `bracketology.ncaa_model_updated`\n",
    "OPTIONS\n",
    "  ( model_type='logistic_reg') AS\n",
    "SELECT\n",
    "  # this time, don't train the model on school name or seed\n",
    "  season,\n",
    "  label,\n",
    "  # our pace\n",
    "  poss_40min,\n",
    "  pace_rank,\n",
    "  pace_rating,\n",
    "  # opponent pace\n",
    "  opp_poss_40min,\n",
    "  opp_pace_rank,\n",
    "  opp_pace_rating,\n",
    "  # difference in pace\n",
    "  pace_rank_diff,\n",
    "  pace_stat_diff,\n",
    "  pace_rating_diff,\n",
    "  # our efficiency\n",
    "  pts_100poss,\n",
    "  efficiency_rank,\n",
    "  efficiency_rating,\n",
    "  # opponent efficiency\n",
    "  opp_pts_100poss,\n",
    "  opp_efficiency_rank,\n",
    "  opp_efficiency_rating,\n",
    "  # difference in efficiency\n",
    "  eff_rank_diff,\n",
    "  eff_stat_diff,\n",
    "  eff_rating_diff\n",
    "FROM `bracketology.training_new_features`\n",
    "# here we'll train on 2014 - 2017 and predict on 2018\n",
    "WHERE season BETWEEN 2014 AND 2017 # between in SQL is inclusive of end points"
   ]
  },
  {
   "cell_type": "markdown",
   "metadata": {},
   "source": [
    "### Evaluate the new model's performance"
   ]
  },
  {
   "cell_type": "code",
   "execution_count": null,
   "metadata": {
    "vscode": {
     "languageId": "sql"
    }
   },
   "outputs": [],
   "source": [
    "SELECT\n",
    "  *\n",
    "FROM\n",
    "  ML.EVALUATE(MODEL     `bracketology.ncaa_model_updated`)"
   ]
  },
  {
   "cell_type": "markdown",
   "metadata": {},
   "source": [
    "### Inspect what the model learned"
   ]
  },
  {
   "cell_type": "code",
   "execution_count": null,
   "metadata": {
    "vscode": {
     "languageId": "sql"
    }
   },
   "outputs": [],
   "source": [
    "SELECT\n",
    "  *\n",
    "FROM\n",
    "  ML.WEIGHTS(MODEL     `bracketology.ncaa_model_updated`)\n",
    "ORDER BY ABS(weight) DESC"
   ]
  },
  {
   "cell_type": "markdown",
   "metadata": {},
   "source": [
    "***We've taken the absolute value of the weights in our ordering so the most impactful (for a win or a loss) are listed first.***"
   ]
  },
  {
   "cell_type": "markdown",
   "metadata": {},
   "source": [
    "### Prediction time!"
   ]
  },
  {
   "cell_type": "code",
   "execution_count": null,
   "metadata": {
    "vscode": {
     "languageId": "sql"
    }
   },
   "outputs": [],
   "source": [
    "CREATE OR REPLACE TABLE `bracketology.ncaa_2018_predictions` AS\n",
    "# let's add back our other data columns for context\n",
    "SELECT\n",
    "  *\n",
    "FROM\n",
    "  ML.PREDICT(MODEL     `bracketology.ncaa_model_updated`, (\n",
    "SELECT\n",
    "* # include all columns now (the model has already been trained)\n",
    "FROM `bracketology.training_new_features`\n",
    "WHERE season = 2018\n",
    "))"
   ]
  },
  {
   "cell_type": "markdown",
   "metadata": {},
   "source": [
    "### Where were the upsets in March 2018?"
   ]
  },
  {
   "cell_type": "code",
   "execution_count": null,
   "metadata": {
    "vscode": {
     "languageId": "sql"
    }
   },
   "outputs": [],
   "source": [
    "SELECT\n",
    "CONCAT(school_ncaa, \" was predicted to \",IF(predicted_label=\"loss\",\"lose\",\"win\"),\" \",CAST(ROUND(p.prob,2)*100 AS STRING), \"% but \", IF(n.label=\"loss\",\"lost\",\"won\")) AS narrative,\n",
    "predicted_label, # what the model thought\n",
    "n.label, # what actually happened\n",
    "ROUND(p.prob,2) AS probability,\n",
    "season,\n",
    "# us\n",
    "seed,\n",
    "school_ncaa,\n",
    "pace_rank,\n",
    "efficiency_rank,\n",
    "# them\n",
    "opponent_seed,\n",
    "opponent_school_ncaa,\n",
    "opp_pace_rank,\n",
    "opp_efficiency_rank\n",
    "FROM `bracketology.ncaa_2018_predictions` AS n,\n",
    "UNNEST(predicted_label_probs) AS p\n",
    "WHERE\n",
    "  predicted_label <> n.label # model got it wrong\n",
    "  AND p.prob > .75  # by more than 75% confidence\n",
    "ORDER BY prob DESC"
   ]
  },
  {
   "cell_type": "markdown",
   "metadata": {},
   "source": [
    "### Comparing model performance\n"
   ]
  },
  {
   "cell_type": "code",
   "execution_count": null,
   "metadata": {
    "vscode": {
     "languageId": "sql"
    }
   },
   "outputs": [],
   "source": [
    "SELECT\n",
    "CONCAT(opponent_school_ncaa, \" (\", opponent_seed, \") was \",CAST(ROUND(ROUND(p.prob,2)*100,2) AS STRING),\"% predicted to upset \", school_ncaa, \" (\", seed, \") and did!\") AS narrative,\n",
    "predicted_label, # what the model thought\n",
    "n.label, # what actually happened\n",
    "ROUND(p.prob,2) AS probability,\n",
    "season,\n",
    "# us\n",
    "seed,\n",
    "school_ncaa,\n",
    "pace_rank,\n",
    "efficiency_rank,\n",
    "# them\n",
    "opponent_seed,\n",
    "opponent_school_ncaa,\n",
    "opp_pace_rank,\n",
    "opp_efficiency_rank,\n",
    "(CAST(opponent_seed AS INT64) - CAST(seed AS INT64)) AS seed_diff\n",
    "FROM `bracketology.ncaa_2018_predictions` AS n,\n",
    "UNNEST(predicted_label_probs) AS p\n",
    "WHERE\n",
    "  predicted_label = 'loss'\n",
    "  AND predicted_label = n.label # model got it right\n",
    "  AND p.prob >= .55  # by 55%+ confidence\n",
    "  AND (CAST(opponent_seed AS INT64) - CAST(seed AS INT64)) > 2 # seed difference magnitude\n",
    "ORDER BY (CAST(opponent_seed AS INT64) - CAST(seed AS INT64)) DESC"
   ]
  },
  {
   "cell_type": "markdown",
   "metadata": {},
   "source": [
    "### Predicting for the 2019 March Madness tournament"
   ]
  },
  {
   "cell_type": "code",
   "execution_count": null,
   "metadata": {
    "vscode": {
     "languageId": "sql"
    }
   },
   "outputs": [],
   "source": [
    "SELECT * FROM `data-to-insights.ncaa.2019_tournament_seeds` WHERE seed = 1"
   ]
  },
  {
   "cell_type": "code",
   "execution_count": null,
   "metadata": {
    "vscode": {
     "languageId": "sql"
    }
   },
   "outputs": [],
   "source": [
    "SELECT\n",
    "  NULL AS label,\n",
    "  team.school_ncaa AS team_school_ncaa,\n",
    "  team.seed AS team_seed,\n",
    "  opp.school_ncaa AS opp_school_ncaa,\n",
    "  opp.seed AS opp_seed\n",
    "FROM `data-to-insights.ncaa.2019_tournament_seeds` AS team\n",
    "CROSS JOIN `data-to-insights.ncaa.2019_tournament_seeds` AS opp\n",
    "# teams cannot play against themselves :)\n",
    "WHERE team.school_ncaa <> opp.school_ncaa"
   ]
  },
  {
   "cell_type": "markdown",
   "metadata": {},
   "source": [
    "### Add in 2018 team stats (pace, efficiency)"
   ]
  },
  {
   "cell_type": "code",
   "execution_count": null,
   "metadata": {
    "vscode": {
     "languageId": "sql"
    }
   },
   "outputs": [],
   "source": [
    "CREATE OR REPLACE TABLE `bracketology.ncaa_2019_tournament` AS\n",
    "WITH team_seeds_all_possible_games AS (\n",
    "  SELECT\n",
    "    NULL AS label,\n",
    "    team.school_ncaa AS school_ncaa,\n",
    "    team.seed AS seed,\n",
    "    opp.school_ncaa AS opponent_school_ncaa,\n",
    "    opp.seed AS opponent_seed\n",
    "  FROM `data-to-insights.ncaa.2019_tournament_seeds` AS team\n",
    "  CROSS JOIN `data-to-insights.ncaa.2019_tournament_seeds` AS opp\n",
    "  # teams cannot play against themselves :)\n",
    "  WHERE team.school_ncaa <> opp.school_ncaa\n",
    ")\n",
    ", add_in_2018_season_stats AS (\n",
    "SELECT\n",
    "  team_seeds_all_possible_games.*,\n",
    "  # bring in features from the 2018 regular season for each team\n",
    "  (SELECT AS STRUCT * FROM `data-to-insights.ncaa.feature_engineering` WHERE school_ncaa = team AND season = 2018) AS team,\n",
    "  (SELECT AS STRUCT * FROM `data-to-insights.ncaa.feature_engineering` WHERE opponent_school_ncaa = team AND season = 2018) AS opp\n",
    "FROM team_seeds_all_possible_games\n",
    ")\n",
    "# Preparing 2019 data for prediction\n",
    "SELECT\n",
    "  label,\n",
    "  2019 AS season, # 2018-2019 tournament season\n",
    "# our team\n",
    "  seed,\n",
    "  school_ncaa,\n",
    "  # new pace metrics (basketball possession)\n",
    "  team.pace_rank,\n",
    "  team.poss_40min,\n",
    "  team.pace_rating,\n",
    "  # new efficiency metrics (scoring over time)\n",
    "  team.efficiency_rank,\n",
    "  team.pts_100poss,\n",
    "  team.efficiency_rating,\n",
    "# opposing team\n",
    "  opponent_seed,\n",
    "  opponent_school_ncaa,\n",
    "  # new pace metrics (basketball possession)\n",
    "  opp.pace_rank AS opp_pace_rank,\n",
    "  opp.poss_40min AS opp_poss_40min,\n",
    "  opp.pace_rating AS opp_pace_rating,\n",
    "  # new efficiency metrics (scoring over time)\n",
    "  opp.efficiency_rank AS opp_efficiency_rank,\n",
    "  opp.pts_100poss AS opp_pts_100poss,\n",
    "  opp.efficiency_rating AS opp_efficiency_rating,\n",
    "# a little feature engineering (take the difference in stats)\n",
    "  # new pace metrics (basketball possession)\n",
    "  opp.pace_rank - team.pace_rank AS pace_rank_diff,\n",
    "  opp.poss_40min - team.poss_40min AS pace_stat_diff,\n",
    "  opp.pace_rating - team.pace_rating AS pace_rating_diff,\n",
    "  # new efficiency metrics (scoring over time)\n",
    "  opp.efficiency_rank - team.efficiency_rank AS eff_rank_diff,\n",
    "  opp.pts_100poss - team.pts_100poss AS eff_stat_diff,\n",
    "  opp.efficiency_rating - team.efficiency_rating AS eff_rating_diff\n",
    "FROM add_in_2018_season_stats"
   ]
  },
  {
   "cell_type": "markdown",
   "metadata": {},
   "source": [
    "### Make predictions"
   ]
  },
  {
   "cell_type": "code",
   "execution_count": null,
   "metadata": {
    "vscode": {
     "languageId": "sql"
    }
   },
   "outputs": [],
   "source": [
    "CREATE OR REPLACE TABLE `bracketology.ncaa_2019_tournament_predictions` AS\n",
    "SELECT\n",
    "  *\n",
    "FROM\n",
    "  -- let's predicted using the newer model\n",
    "  ML.PREDICT(MODEL     `bracketology.ncaa_model_updated`, (\n",
    "-- let's predict on March 2019 tournament games:\n",
    "SELECT * FROM `bracketology.ncaa_2019_tournament`\n",
    "))"
   ]
  },
  {
   "cell_type": "markdown",
   "metadata": {},
   "source": [
    "### Get your predictions"
   ]
  },
  {
   "cell_type": "code",
   "execution_count": null,
   "metadata": {
    "vscode": {
     "languageId": "sql"
    }
   },
   "outputs": [],
   "source": [
    "SELECT\n",
    "  p.label AS prediction,\n",
    "  ROUND(p.prob,3) AS confidence,\n",
    "  school_ncaa,\n",
    "  seed,\n",
    "  opponent_school_ncaa,\n",
    "  opponent_seed\n",
    "FROM `bracketology.ncaa_2019_tournament_predictions`,\n",
    "UNNEST(predicted_label_probs) AS p\n",
    "WHERE p.prob >= .5\n",
    "AND school_ncaa = 'Duke'\n",
    "ORDER BY seed, opponent_seed"
   ]
  },
  {
   "cell_type": "markdown",
   "metadata": {},
   "source": [
    "***"
   ]
  },
  {
   "cell_type": "markdown",
   "metadata": {},
   "source": [
    "**<center><font size = \"6\">Integrating BigQuery ML with Dialogflow ES Chatbot<center>**\n",
    "***"
   ]
  },
  {
   "cell_type": "markdown",
   "metadata": {},
   "source": [
    "### Train a model using BigQuery machine learning"
   ]
  },
  {
   "cell_type": "markdown",
   "metadata": {},
   "source": [
    "### Activate Cloud Shell"
   ]
  },
  {
   "cell_type": "code",
   "execution_count": null,
   "metadata": {
    "vscode": {
     "languageId": "shellscript"
    }
   },
   "outputs": [],
   "source": [
    "gcloud auth list"
   ]
  },
  {
   "cell_type": "code",
   "execution_count": null,
   "metadata": {
    "vscode": {
     "languageId": "shellscript"
    }
   },
   "outputs": [],
   "source": [
    "gcloud config list project"
   ]
  },
  {
   "cell_type": "markdown",
   "metadata": {},
   "source": [
    "### Add data for lab"
   ]
  },
  {
   "cell_type": "code",
   "execution_count": null,
   "metadata": {
    "vscode": {
     "languageId": "shellscript"
    }
   },
   "outputs": [],
   "source": [
    "PROJECT_ID=`gcloud config get-value project`\n",
    "BUCKET=${PROJECT_ID}-bucket\n",
    "gsutil mb gs://$BUCKET\n",
    "gsutil cp -r gs://spls/gsp431/* gs://$BUCKET"
   ]
  },
  {
   "cell_type": "markdown",
   "metadata": {},
   "source": [
    "### Train a model using BigQuery machine learning"
   ]
  },
  {
   "cell_type": "code",
   "execution_count": null,
   "metadata": {
    "vscode": {
     "languageId": "sql"
    }
   },
   "outputs": [],
   "source": [
    "CREATE OR REPLACE MODEL `helpdesk.predict_eta_v0`\n",
    "OPTIONS(model_type='linear_reg') AS\n",
    "SELECT\n",
    " category,\n",
    " resolutiontime as label\n",
    "FROM\n",
    "  `helpdesk.issues`"
   ]
  },
  {
   "cell_type": "code",
   "execution_count": null,
   "metadata": {
    "vscode": {
     "languageId": "sql"
    }
   },
   "outputs": [],
   "source": [
    "WITH eval_table AS (\n",
    "SELECT\n",
    " category,\n",
    " resolutiontime as label\n",
    "FROM\n",
    "  helpdesk.issues\n",
    ")\n",
    "SELECT\n",
    "  *\n",
    "FROM\n",
    "  ML.EVALUATE(MODEL helpdesk.predict_eta_v0,\n",
    "    TABLE eval_table)"
   ]
  },
  {
   "cell_type": "markdown",
   "metadata": {},
   "source": [
    "+ Model not good enough the create new model"
   ]
  },
  {
   "cell_type": "code",
   "execution_count": null,
   "metadata": {
    "vscode": {
     "languageId": "sql"
    }
   },
   "outputs": [],
   "source": [
    "CREATE OR REPLACE MODEL `helpdesk.predict_eta`\n",
    "OPTIONS(model_type='linear_reg') AS\n",
    "SELECT\n",
    " seniority,\n",
    " experience,\n",
    " category,\n",
    " type,\n",
    " resolutiontime as label\n",
    "FROM\n",
    "  `helpdesk.issues`"
   ]
  },
  {
   "cell_type": "code",
   "execution_count": null,
   "metadata": {
    "vscode": {
     "languageId": "sql"
    }
   },
   "outputs": [],
   "source": [
    "WITH eval_table AS (\n",
    "SELECT\n",
    " seniority,\n",
    " experience,\n",
    " category,\n",
    " type,\n",
    " resolutiontime as label\n",
    "FROM\n",
    "  helpdesk.issues\n",
    ")\n",
    "SELECT\n",
    "  *\n",
    "FROM\n",
    "  ML.EVALUATE(MODEL helpdesk.predict_eta,\n",
    "    TABLE eval_table)"
   ]
  },
  {
   "cell_type": "markdown",
   "metadata": {},
   "source": [
    "+ Predict"
   ]
  },
  {
   "cell_type": "code",
   "execution_count": null,
   "metadata": {
    "vscode": {
     "languageId": "sql"
    }
   },
   "outputs": [],
   "source": [
    "WITH pred_table AS (\n",
    "SELECT\n",
    "  5 as seniority,\n",
    "  '3-Advanced' as experience,\n",
    "  'Billing' as category,\n",
    "  'Request' as type\n",
    ")\n",
    "SELECT\n",
    "  *\n",
    "FROM\n",
    "  ML.PREDICT(MODEL `helpdesk.predict_eta`,\n",
    "    TABLE pred_table)"
   ]
  },
  {
   "cell_type": "markdown",
   "metadata": {},
   "source": [
    "### TO part of dialogflow i think it unneccessary for now."
   ]
  },
  {
   "cell_type": "markdown",
   "metadata": {},
   "source": []
  }
 ],
 "metadata": {
  "kernelspec": {
   "display_name": "Python 3.9.9 64-bit",
   "language": "python",
   "name": "python3"
  },
  "language_info": {
   "codemirror_mode": {
    "name": "ipython",
    "version": 3
   },
   "file_extension": ".py",
   "mimetype": "text/x-python",
   "name": "python",
   "nbconvert_exporter": "python",
   "pygments_lexer": "ipython3",
   "version": "3.9.9"
  },
  "orig_nbformat": 4,
  "vscode": {
   "interpreter": {
    "hash": "aee8b7b246df8f9039afb4144a1f6fd8d2ca17a180786b69acc140d282b71a49"
   }
  }
 },
 "nbformat": 4,
 "nbformat_minor": 2
}
