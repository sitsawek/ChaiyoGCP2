{
 "cells": [
  {
   "cell_type": "markdown",
   "metadata": {},
   "source": [
    "***"
   ]
  },
  {
   "cell_type": "markdown",
   "metadata": {},
   "source": [
    "**<center><font size = \"6\">Build LookML Objects in Looker<center>**\n",
    "***\n",
    "<center><font size = \"2\">Prepared by: Sitsawek Sukorn<center>"
   ]
  },
  {
   "cell_type": "markdown",
   "metadata": {},
   "source": [
    "### Looker Developer - Qwik Start"
   ]
  },
  {
   "cell_type": "markdown",
   "metadata": {},
   "source": [
    "In this section, you will create a new view and add some dimensions and measures to it.\n",
    "\n",
    "+ First, on the bottom left of the Looker User Interface, click the toggle button to enter Development mode.\n",
    "Development Mode toggle\n",
    "\n",
    "+ Click the Develop tab and then select the qwiklabs-ecommerce LookML project.\n",
    "\n",
    "+ To create the file at the project’s root level, click the + button at the top of the file browser in the Looker IDE.\n",
    "\n",
    "+ Select Create View. Name the file users_limited. Click Create.\n",
    "\n",
    "+ After you have created your new view, click the arrow next to the views folder to see a list of the existing views for the project.\n",
    "\n",
    "+ To put your view file into the views folder, click and hold the users_limited file and drag it into the expanded folder. Your project should resemble the following:\n",
    "\n"
   ]
  },
  {
   "cell_type": "markdown",
   "metadata": {},
   "source": []
  }
 ],
 "metadata": {
  "kernelspec": {
   "display_name": "Python 3.9.9 64-bit",
   "language": "python",
   "name": "python3"
  },
  "language_info": {
   "codemirror_mode": {
    "name": "ipython",
    "version": 3
   },
   "file_extension": ".py",
   "mimetype": "text/x-python",
   "name": "python",
   "nbconvert_exporter": "python",
   "pygments_lexer": "ipython3",
   "version": "3.9.9"
  },
  "orig_nbformat": 4,
  "vscode": {
   "interpreter": {
    "hash": "aee8b7b246df8f9039afb4144a1f6fd8d2ca17a180786b69acc140d282b71a49"
   }
  }
 },
 "nbformat": 4,
 "nbformat_minor": 2
}
