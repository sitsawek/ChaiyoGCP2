{
 "cells": [
  {
   "cell_type": "markdown",
   "metadata": {},
   "source": [
    "***"
   ]
  },
  {
   "cell_type": "markdown",
   "metadata": {},
   "source": [
    "**<center><font size = \"6\">Build LookML Objects in Looker<center>**\n",
    "***\n",
    "<center><font size = \"2\">Prepared by: Sitsawek Sukorn<center>"
   ]
  },
  {
   "cell_type": "markdown",
   "metadata": {},
   "source": [
    "### Looker Developer - Qwik Start"
   ]
  },
  {
   "cell_type": "markdown",
   "metadata": {},
   "source": [
    "In this section, you will create a new view and add some dimensions and measures to it.\n",
    "\n",
    "+ First, on the bottom left of the Looker User Interface, click the toggle button to enter Development mode.\n",
    "Development Mode toggle\n",
    "\n",
    "+ Click the Develop tab and then select the qwiklabs-ecommerce LookML project.\n",
    "\n",
    "+ To create the file at the project’s root level, click the + button at the top of the file browser in the Looker IDE.\n",
    "\n",
    "+ Select Create View. Name the file users_limited. Click Create.\n",
    "\n",
    "+ After you have created your new view, click the arrow next to the views folder to see a list of the existing views for the project.\n",
    "\n",
    "+ To put your view file into the views folder, click and hold the users_limited file and drag it into the expanded folder. Your project should resemble the following:\n",
    "\n"
   ]
  },
  {
   "cell_type": "markdown",
   "metadata": {},
   "source": [
    "### Add some dimensions and measures"
   ]
  },
  {
   "cell_type": "markdown",
   "metadata": {},
   "source": [
    "+ For this example, you will be connecting to the dataset used for the qwiklabs_ecommerce project. This is the same table for users.view. Add the following code on line 2"
   ]
  },
  {
   "cell_type": "code",
   "execution_count": null,
   "metadata": {
    "vscode": {
     "languageId": "javascript"
    }
   },
   "outputs": [],
   "source": [
    "sql_table_name: `cloud-training-demos.looker_ecomm.users` ;;"
   ]
  },
  {
   "cell_type": "markdown",
   "metadata": {},
   "source": [
    "+ Now add a few dimensions. Here you will be adding the user id, country, email, first_name, and last_name:"
   ]
  },
  {
   "cell_type": "code",
   "execution_count": null,
   "metadata": {
    "vscode": {
     "languageId": "javascript"
    }
   },
   "outputs": [],
   "source": [
    "dimension: id {\n",
    "  primary_key: yes\n",
    "  type: number\n",
    "  sql: ${TABLE}.id ;;\n",
    "}\n",
    "dimension: country {\n",
    "  type: string\n",
    "  map_layer_name: countries\n",
    "  sql: ${TABLE}.country ;;\n",
    "}\n",
    "dimension: email {\n",
    "  type: string\n",
    "  sql: ${TABLE}.email ;;\n",
    "}\n",
    "dimension: first_name {\n",
    "  type: string\n",
    "  sql: ${TABLE}.first_name ;;\n",
    "}\n",
    "dimension: last_name {\n",
    "  type: string\n",
    "  sql: ${TABLE}.last_name ;;\n",
    "}"
   ]
  },
  {
   "cell_type": "markdown",
   "metadata": {},
   "source": [
    "+ Next, add a measure. This will be used for counting specific dimensions:"
   ]
  },
  {
   "cell_type": "code",
   "execution_count": null,
   "metadata": {
    "vscode": {
     "languageId": "javascript"
    }
   },
   "outputs": [],
   "source": [
    "measure: count {\n",
    "    type: count\n",
    "    drill_fields: [id, last_name, first_name]\n",
    "  }"
   ]
  },
  {
   "cell_type": "markdown",
   "metadata": {},
   "source": [
    "+ Click Save Changes."
   ]
  },
  {
   "cell_type": "markdown",
   "metadata": {},
   "source": [
    "### Commit changes and deploy to production"
   ]
  },
  {
   "cell_type": "markdown",
   "metadata": {},
   "source": [
    "+ Click Validate LookML and then click Commit Changes & Push.\n",
    "\n",
    "+ Add a commit message and click Commit.\n",
    "\n",
    "+ Lastly, click Deploy to Production."
   ]
  },
  {
   "cell_type": "markdown",
   "metadata": {},
   "source": [
    "### Join a view to an existing explore"
   ]
  },
  {
   "cell_type": "markdown",
   "metadata": {},
   "source": [
    "+ In the file browser, under the models folder, navigate to the training_ecommerce.model file.\n",
    "\n",
    "+ In the explore: events definition, add a new line after join: users, and paste the following:"
   ]
  },
  {
   "cell_type": "code",
   "execution_count": null,
   "metadata": {
    "vscode": {
     "languageId": "javascript"
    }
   },
   "outputs": [],
   "source": [
    "join: users_limited {\n",
    "    type: left_outer\n",
    "    sql_on: ${events.user_id} = ${users_limited.id};;\n",
    "    relationship: many_to_one\n",
    "  }"
   ]
  },
  {
   "cell_type": "markdown",
   "metadata": {},
   "source": [
    "+ Click Save Changes."
   ]
  },
  {
   "cell_type": "markdown",
   "metadata": {},
   "source": [
    "+ Click the caret next to the file title at the top of the IDE and then select Explore Events."
   ]
  },
  {
   "cell_type": "markdown",
   "metadata": {},
   "source": [
    "+ Next, navigate to your new view in the Explore page by selecting Users Limited."
   ]
  },
  {
   "cell_type": "markdown",
   "metadata": {},
   "source": [
    "+ Under Users Limited, select the First Name dimension and the Count measure."
   ]
  },
  {
   "cell_type": "markdown",
   "metadata": {},
   "source": [
    "+ Click Run. Your visualization should resemble"
   ]
  },
  {
   "cell_type": "markdown",
   "metadata": {},
   "source": [
    "+ Navigate back to the training_ecommerce.model file."
   ]
  },
  {
   "cell_type": "markdown",
   "metadata": {},
   "source": [
    "### Commit changes and deploy to production"
   ]
  },
  {
   "cell_type": "markdown",
   "metadata": {},
   "source": [
    "+ Click Validate LookML and then click Commit Changes & Push.\n",
    "\n",
    "+ Add a commit message and click Commit.\n",
    "\n",
    "+ Lastly, click Deploy to Production."
   ]
  },
  {
   "cell_type": "markdown",
   "metadata": {},
   "source": [
    "***"
   ]
  },
  {
   "cell_type": "markdown",
   "metadata": {},
   "source": [
    "**<center><font size = \"6\">Creating Measures and Dimensions Using LookML<center>**\n",
    "***"
   ]
  },
  {
   "cell_type": "markdown",
   "metadata": {},
   "source": [
    "### Creating dimensions"
   ]
  },
  {
   "cell_type": "markdown",
   "metadata": {},
   "source": [
    "+ First, on the bottom left of the Looker User Interface, click the toggle button to enter Development mode.\n",
    "Development mode toggle\n",
    "\n",
    "+ Click the Develop tab and then select the qwiklabs-ecommerce LookML project.\n",
    "\n",
    "+ Once you are in the qwiklabs-ecommerce project, click the arrow next to views to see a list of view names.\n",
    "\n",
    "+ Click users.view.\n",
    "\n",
    "+ In users.view, locate the dimension for age. Your file should resemble the following:\n",
    "\n",
    "+ On a new line under the dimension for age, start by defining a new dimension for age_tier using the following code:"
   ]
  },
  {
   "cell_type": "code",
   "execution_count": null,
   "metadata": {
    "vscode": {
     "languageId": "javascript"
    }
   },
   "outputs": [],
   "source": [
    "dimension: age_tier {\n",
    "}"
   ]
  },
  {
   "cell_type": "markdown",
   "metadata": {},
   "source": [
    "+ Next, you will add the dimension type. This dimension type is tier, so you'll add that here:"
   ]
  },
  {
   "cell_type": "code",
   "execution_count": null,
   "metadata": {
    "vscode": {
     "languageId": "javascript"
    }
   },
   "outputs": [],
   "source": [
    "dimension: age_tier {\n",
    "  type: tier\n",
    "}"
   ]
  },
  {
   "cell_type": "markdown",
   "metadata": {},
   "source": [
    "+ Next, you will add the specific tiers for the dimension. In this case, you will group the tiers first by 18 and younger, then by increments of 10 years:"
   ]
  },
  {
   "cell_type": "code",
   "execution_count": null,
   "metadata": {
    "vscode": {
     "languageId": "javascript"
    }
   },
   "outputs": [],
   "source": [
    "dimension: age_tier {\n",
    "  type: tier\n",
    "  tiers: [18, 25, 35, 45, 55, 65, 75, 90]\n",
    "}"
   ]
  },
  {
   "cell_type": "markdown",
   "metadata": {},
   "source": [
    "+ Next, define the style parameter. This parameter is specific to the tier type dimension and changes the way tiers appear in the UI. In this case, you want the style to be integer:"
   ]
  },
  {
   "cell_type": "code",
   "execution_count": null,
   "metadata": {
    "vscode": {
     "languageId": "javascript"
    }
   },
   "outputs": [],
   "source": [
    "dimension: age_tier {\n",
    "  type: tier\n",
    "  tiers: [18, 25, 35, 45, 55, 65, 75, 90]\n",
    "  style: integer\n",
    "}"
   ]
  },
  {
   "cell_type": "markdown",
   "metadata": {},
   "source": [
    "+ Lastly, you'll add the SQL parameter. The SQL parameter tells Looker how to write the SQL for queries users run. For this dimension, you're telling the SQL parameter to pull from the pre-existing age field:"
   ]
  },
  {
   "cell_type": "code",
   "execution_count": null,
   "metadata": {
    "vscode": {
     "languageId": "javascript"
    }
   },
   "outputs": [],
   "source": [
    "dimension: age_tier {\n",
    "  type: tier\n",
    "  tiers: [18, 25, 35, 45, 55, 65, 75, 90]\n",
    "  style: integer\n",
    "  sql: ${age} ;;\n",
    "}"
   ]
  },
  {
   "cell_type": "markdown",
   "metadata": {},
   "source": [
    "+ Click Save Changes and then click the Validate button on the top right of the IDE to run a LookML code validation."
   ]
  },
  {
   "cell_type": "markdown",
   "metadata": {},
   "source": [
    "+ You can quickly go to the Explore by clicking the caret next to the file title at the top of the IDE and then selecting Explore Order Items."
   ]
  },
  {
   "cell_type": "markdown",
   "metadata": {},
   "source": [
    "+ Next, navigate to your new dimension under Users > Dimensions > Age Tier."
   ]
  },
  {
   "cell_type": "markdown",
   "metadata": {},
   "source": [
    "+ Add the Age and the Age Tier dimensions and click Run. You can see that each age falls into the correct tier:"
   ]
  },
  {
   "cell_type": "markdown",
   "metadata": {},
   "source": [
    "+ Now remove the Age dimension and add the Count measure and hit Run again. The results are showing what you want. Looker has counted the different ages and grouped them into the appropriate tiers. Success!"
   ]
  },
  {
   "cell_type": "markdown",
   "metadata": {},
   "source": [
    "### Create a new dimension for email source"
   ]
  },
  {
   "cell_type": "markdown",
   "metadata": {},
   "source": [
    "+ Navigate back to the qwiklabs-ecommerce project and open users.view file.\n",
    "\n",
    "+ Locate the dimension for traffic_source. Your file should resemble the following:\n",
    "\n",
    "+ On a new line under the dimension for traffic source, start by defining a new dimension for is_email_source using the following code:"
   ]
  },
  {
   "cell_type": "code",
   "execution_count": null,
   "metadata": {
    "vscode": {
     "languageId": "javascript"
    }
   },
   "outputs": [],
   "source": [
    "dimension: is_email_source {\n",
    "}"
   ]
  },
  {
   "cell_type": "markdown",
   "metadata": {},
   "source": [
    "+ Next, add the type parameter. Since this is a boolean categorization, you will use the yesno type:"
   ]
  },
  {
   "cell_type": "code",
   "execution_count": null,
   "metadata": {
    "vscode": {
     "languageId": "javascript"
    }
   },
   "outputs": [],
   "source": [
    "dimension: is_email_source {\n",
    "  type: yesno\n",
    "}"
   ]
  },
  {
   "cell_type": "markdown",
   "metadata": {},
   "source": [
    "+ Lastly, add the SQL parameter. For this dimension, you're telling the SQL parameter to pull from the pre-existing traffic_source field where the value equals \"Email\"."
   ]
  },
  {
   "cell_type": "markdown",
   "metadata": {},
   "source": [
    "+ Be sure to use double quotation marks (\"\") when defining \"Email\" to ensure accurate syntax:"
   ]
  },
  {
   "cell_type": "code",
   "execution_count": null,
   "metadata": {
    "vscode": {
     "languageId": "javascript"
    }
   },
   "outputs": [],
   "source": [
    "dimension: is_email_source {\n",
    "  type: yesno\n",
    "  sql: ${traffic_source} = \"Email\" ;;\n",
    "}"
   ]
  },
  {
   "cell_type": "markdown",
   "metadata": {},
   "source": [
    "+ Click Save Changes and then click the Validate button on the top right of the IDE to run a LookML code validation.\n",
    "\n",
    "+ Click the caret next to the file title at the top of the IDE and then select Explore Order\n",
    "\n",
    "+ Next, navigate to your new dimension under Users > Dimensions > Is Email Source (Yes / No).\n",
    "\n",
    "+ Add the Is Email Source dimension and the Count measure and click Run. The results are showing the amount of users that were brought in via email or not. Success!"
   ]
  },
  {
   "cell_type": "markdown",
   "metadata": {},
   "source": [
    "### Create a new dimension for shipping days"
   ]
  },
  {
   "cell_type": "markdown",
   "metadata": {},
   "source": [
    "+ Navigate back to the qwiklabs-ecommerce project and open the order_items.view file.\n",
    "\n",
    "+ Locate the dimension group for shipped. Your file should resemble the following:\n",
    "\n",
    "+ On a new line under the dimension group for shipped, define a new dimension for shipping_days using the following code:"
   ]
  },
  {
   "cell_type": "code",
   "execution_count": null,
   "metadata": {
    "vscode": {
     "languageId": "javascript"
    }
   },
   "outputs": [],
   "source": [
    "dimension: shipping_days {\n",
    "}"
   ]
  },
  {
   "cell_type": "markdown",
   "metadata": {},
   "source": [
    "+ Next, add the type parameter. For this dimension, you will be using the number type:"
   ]
  },
  {
   "cell_type": "code",
   "execution_count": null,
   "metadata": {
    "vscode": {
     "languageId": "javascript"
    }
   },
   "outputs": [],
   "source": [
    "dimension: shipping_days {\n",
    "  type: number\n",
    "}"
   ]
  },
  {
   "cell_type": "markdown",
   "metadata": {},
   "source": [
    "+ Lastly, add the SQL parameter. For this dimension, you're telling the SQL parameter to run a DATE_DIFF function on the shipped_date and created_date dimensions. DAY is used here as the provided interval you want to be calculating:"
   ]
  },
  {
   "cell_type": "code",
   "execution_count": null,
   "metadata": {
    "vscode": {
     "languageId": "javascript"
    }
   },
   "outputs": [],
   "source": [
    "dimension: shipping_days {\n",
    "  type: number\n",
    "  sql: DATE_DIFF(${shipped_date}, ${created_date}, DAY);;\n",
    "}"
   ]
  },
  {
   "cell_type": "markdown",
   "metadata": {},
   "source": [
    "+ Now that you finished adding a new dimension, you can test to make sure it's working properly. Click Save Changes and then click the Validate button on the top right of the IDE to run a LookML code validation."
   ]
  },
  {
   "cell_type": "markdown",
   "metadata": {},
   "source": [
    "+ Click the caret next to the file title at the top of the IDE and then select Explore Order Items."
   ]
  },
  {
   "cell_type": "markdown",
   "metadata": {},
   "source": [
    "+ Next, navigate to your new dimension under Order Items > Dimensions > Shipping Days.\n",
    "\n",
    "+ Add the Shipping Days dimension and the Order Count measure and click Run. The results are showing the count of orders with their respective shipping days. Success!\n",
    "\n",
    "+ Navigate back to the order_items.view file."
   ]
  },
  {
   "cell_type": "markdown",
   "metadata": {},
   "source": [
    "### Commit changes and deploy to production"
   ]
  },
  {
   "cell_type": "markdown",
   "metadata": {},
   "source": [
    "+ Click Validate LookML and then click Commit Changes & Push.\n",
    "\n",
    "+ Add a commit message and click Commit.\n",
    "\n",
    "+ Lastly, click Deploy to Production."
   ]
  },
  {
   "cell_type": "markdown",
   "metadata": {},
   "source": [
    "### Creating measures"
   ]
  },
  {
   "cell_type": "markdown",
   "metadata": {},
   "source": [
    "### Create a measure of the distinct number of orders"
   ]
  },
  {
   "cell_type": "markdown",
   "metadata": {},
   "source": [
    "+ Navigate back to the qwiklabs-ecommerce project and open order_items.view file.\n",
    "\n",
    "+ In order_items.view, locate the measure for order_item_count.\n",
    "\n",
    "+ On a new line under the measure for order_item_count, start by defining a new measure for count_distinct_orders using the following code:"
   ]
  },
  {
   "cell_type": "code",
   "execution_count": null,
   "metadata": {
    "vscode": {
     "languageId": "javascript"
    }
   },
   "outputs": [],
   "source": [
    "measure: count_distinct_orders {\n",
    "}"
   ]
  },
  {
   "cell_type": "markdown",
   "metadata": {},
   "source": [
    "+ Note: Make sure to replace the default measure name (order_count) with count_distinct_orders."
   ]
  },
  {
   "cell_type": "markdown",
   "metadata": {},
   "source": [
    "+ Next, add the type parameter. For this measure, you will be using the count_distinct type. The type count_distinct calculates the number of distinct values in a given field. It makes use of SQL’s COUNT DISTINCT function:"
   ]
  },
  {
   "cell_type": "code",
   "execution_count": null,
   "metadata": {
    "vscode": {
     "languageId": "javascript"
    }
   },
   "outputs": [],
   "source": [
    "measure: count_distinct_orders {\n",
    "  type: count_distinct\n",
    "}"
   ]
  },
  {
   "cell_type": "markdown",
   "metadata": {},
   "source": [
    "+ Lastly, add the SQL parameter. For this measure, you're telling the SQL parameter to pull from the pre-existing order_id field:"
   ]
  },
  {
   "cell_type": "code",
   "execution_count": null,
   "metadata": {
    "vscode": {
     "languageId": "javascript"
    }
   },
   "outputs": [],
   "source": [
    "measure: count_distinct_orders {\n",
    "  type: count_distinct\n",
    "  sql: ${order_id} ;;\n",
    "}"
   ]
  },
  {
   "cell_type": "markdown",
   "metadata": {},
   "source": [
    "+ Click Save Changes and then click the Validate button on the top right of the IDE to run a LookML code validation.\n",
    "\n",
    "+ Click the caret next to the file title at the top of the IDE and then select Explore Order Items.\n",
    "\n",
    "+ Under Order Items > Measures, click Count Distinct Orders.\n",
    "\n",
    "+ Click Run to see the values in the new measure. You can confirm that your new measure is working properly."
   ]
  },
  {
   "cell_type": "markdown",
   "metadata": {},
   "source": [
    "### Create a total sales measure"
   ]
  },
  {
   "cell_type": "markdown",
   "metadata": {},
   "source": [
    "+ Navigate back to the qwiklabs-ecommerce project and open order_items.view file.\n",
    "\n",
    "+ In order_items.view, locate the measure for order_item_count.\n",
    "\n",
    "+ On a new line under the measure for order_item_count, start by defining a new measure for total_sales using the following code:"
   ]
  },
  {
   "cell_type": "code",
   "execution_count": null,
   "metadata": {
    "vscode": {
     "languageId": "javascript"
    }
   },
   "outputs": [],
   "source": [
    "measure: total_sales {\n",
    "}"
   ]
  },
  {
   "cell_type": "markdown",
   "metadata": {},
   "source": [
    "+ Add the type parameter. Here you will be using sum:"
   ]
  },
  {
   "cell_type": "code",
   "execution_count": null,
   "metadata": {
    "vscode": {
     "languageId": "javascript"
    }
   },
   "outputs": [],
   "source": [
    "measure: total_sales {\n",
    "    type: sum\n",
    "  }"
   ]
  },
  {
   "cell_type": "markdown",
   "metadata": {},
   "source": [
    "+ Add the SQL parameter. For this measure, you're telling the SQL parameter to pull from the pre-existing sale_price field:"
   ]
  },
  {
   "cell_type": "code",
   "execution_count": null,
   "metadata": {
    "vscode": {
     "languageId": "javascript"
    }
   },
   "outputs": [],
   "source": [
    "measure: total_sales {\n",
    "  type: sum\n",
    "  sql: ${sale_price} ;;\n",
    "}"
   ]
  },
  {
   "cell_type": "markdown",
   "metadata": {},
   "source": [
    "+ Lastly, you will add the value_format_name. The value_format_name parameter enables you to format data values using formats built into Looker or your own custom, reusable formats. Here, since you are calculating sale price you will use US dollars (usd_0):"
   ]
  },
  {
   "cell_type": "code",
   "execution_count": null,
   "metadata": {
    "vscode": {
     "languageId": "javascript"
    }
   },
   "outputs": [],
   "source": [
    "measure: total_sales {\n",
    "  type: sum\n",
    "  sql: ${sale_price} ;;\n",
    "  value_format_name: usd_0\n",
    "}"
   ]
  },
  {
   "cell_type": "markdown",
   "metadata": {},
   "source": [
    "+ Click Save Changes and then click the Validate button on the top right of the IDE to run a LookML code validation.\n",
    "\n",
    "+ Click the caret next to the file title at the top of the IDE and then select Explore Order Items.\n",
    "\n",
    "+ Under Order Items > Measures, click Total Sales.\n",
    "\n",
    "+ Click Run to see the values in the new measure."
   ]
  },
  {
   "cell_type": "markdown",
   "metadata": {},
   "source": [
    "+ Navigate back to the order_items.view file."
   ]
  },
  {
   "cell_type": "markdown",
   "metadata": {},
   "source": [
    "### Commit changes and deploy to production"
   ]
  },
  {
   "cell_type": "markdown",
   "metadata": {},
   "source": [
    "+ Click Validate LookML and then click Commit Changes & Push.\n",
    "\n",
    "+ Add a commit message and click Commit.\n",
    "\n",
    "+ Lastly, click Deploy to Production."
   ]
  },
  {
   "cell_type": "markdown",
   "metadata": {},
   "source": [
    "### Creating advanced measures"
   ]
  },
  {
   "cell_type": "markdown",
   "metadata": {},
   "source": [
    "### Create a filtered measure of the total sales for only the users who came to the website via the email traffic source\n"
   ]
  },
  {
   "cell_type": "markdown",
   "metadata": {},
   "source": [
    "+ Navigate back to the qwiklabs-ecommerce project and open order_items.view file.\n",
    "\n",
    "+ In order_items.view, locate the measure for order_item_count.\n",
    "\n",
    "+ On a new line under the measure for order_item_count, start by defining a new measure for total_sales_email_users using the following code:"
   ]
  },
  {
   "cell_type": "code",
   "execution_count": null,
   "metadata": {
    "vscode": {
     "languageId": "javascript"
    }
   },
   "outputs": [],
   "source": [
    "measure: total_sales_email_users {\n",
    "}"
   ]
  },
  {
   "cell_type": "markdown",
   "metadata": {},
   "source": [
    "+ Next, add the type. For this since we are calculating total sales, we will use sum:"
   ]
  },
  {
   "cell_type": "code",
   "execution_count": null,
   "metadata": {
    "vscode": {
     "languageId": "javascript"
    }
   },
   "outputs": [],
   "source": [
    "measure: total_sales_email_users {\n",
    "  type: sum\n",
    "}"
   ]
  },
  {
   "cell_type": "markdown",
   "metadata": {},
   "source": [
    "+ Add the SQL parameter. For this measure, you're telling the SQL parameter to pull from the pre-existing sale_price field:"
   ]
  },
  {
   "cell_type": "code",
   "execution_count": null,
   "metadata": {
    "vscode": {
     "languageId": "javascript"
    }
   },
   "outputs": [],
   "source": [
    "measure: total_sales_email_users {\n",
    "  type: sum\n",
    "  sql: ${sale_price} ;;\n",
    "}"
   ]
  },
  {
   "cell_type": "markdown",
   "metadata": {},
   "source": [
    "+ Add the following filter parameter. Here you are using the is_email_source dimension you created earlier within the users.view file:"
   ]
  },
  {
   "cell_type": "code",
   "execution_count": null,
   "metadata": {
    "vscode": {
     "languageId": "javascript"
    }
   },
   "outputs": [],
   "source": [
    "measure: total_sales_email_users {\n",
    "  type: sum\n",
    "  sql: ${sale_price} ;;\n",
    "  filters: [users.is_email_source: \"Yes\"]\n",
    "}"
   ]
  },
  {
   "cell_type": "markdown",
   "metadata": {},
   "source": [
    "+ Note: You could also reference the traffic_source dimension instead, using the following code."
   ]
  },
  {
   "cell_type": "code",
   "execution_count": null,
   "metadata": {
    "vscode": {
     "languageId": "javascript"
    }
   },
   "outputs": [],
   "source": [
    "measure: total_sales_email_users {\n",
    "    type: sum\n",
    "    sql: ${sale_price} ;;\n",
    "    filters: [users.traffic_source: \"Email\"]\n",
    "  }"
   ]
  },
  {
   "cell_type": "markdown",
   "metadata": {},
   "source": [
    "+ Click Save Changes and then click the Validate button on the top right of the IDE to run a LookML code validation.\n",
    "\n",
    "+ Click the caret next to the file title at the top of the IDE and then select Explore Order Items.\n",
    "\n",
    "+ Under Order Items > Measures, click Total Sales Email Users.\n",
    "\n",
    "+ Click Run to see the values in the new measure."
   ]
  },
  {
   "cell_type": "markdown",
   "metadata": {},
   "source": [
    "### Create a measure for the percentage of sales that are attributed to users coming from the email traffic source\n"
   ]
  },
  {
   "cell_type": "markdown",
   "metadata": {},
   "source": [
    "+ Navigate back to the qwiklabs-ecommerce project and open order_items.view file.\n",
    "\n",
    "+ In order_items.view, locate the measure for order_item_count.\n",
    "\n",
    "+ On a new line under the measure for order_item_count, start by defining a new measure for percentage_sales_email_source using the following code:"
   ]
  },
  {
   "cell_type": "code",
   "execution_count": null,
   "metadata": {
    "vscode": {
     "languageId": "javascript"
    }
   },
   "outputs": [],
   "source": [
    "measure: percentage_sales_email_source {\n",
    "}"
   ]
  },
  {
   "cell_type": "markdown",
   "metadata": {},
   "source": [
    "+ Next, add the type. For this since we are calculating total sales, we will use number:"
   ]
  },
  {
   "cell_type": "code",
   "execution_count": null,
   "metadata": {
    "vscode": {
     "languageId": "javascript"
    }
   },
   "outputs": [],
   "source": [
    "measure: percentage_sales_email_source {\n",
    "  type: number\n",
    "}"
   ]
  },
  {
   "cell_type": "markdown",
   "metadata": {},
   "source": [
    "+ Next add the value_format_name parameter. Since you are calculating a percentage, you can use percent_2:"
   ]
  },
  {
   "cell_type": "code",
   "execution_count": null,
   "metadata": {
    "vscode": {
     "languageId": "javascript"
    }
   },
   "outputs": [],
   "source": [
    "measure: percentage_sales_email_source {\n",
    "  type: number\n",
    "  value_format_name: percent_2\n",
    "}"
   ]
  },
  {
   "cell_type": "markdown",
   "metadata": {},
   "source": [
    "+ Add the SQL parameter. For this measure, you're telling the SQL parameter to pull from the pre-existing total_sales_email_users field and dividing by the total_sales:"
   ]
  },
  {
   "cell_type": "markdown",
   "metadata": {},
   "source": [
    "+ Note: When creating percentage measures, it is often useful to make sure you are not dividing by zero in the percentage calculation. This can be done through the NULLIF SQL function."
   ]
  },
  {
   "cell_type": "code",
   "execution_count": null,
   "metadata": {
    "vscode": {
     "languageId": "javascript"
    }
   },
   "outputs": [],
   "source": [
    "measure: percentage_sales_email_source {\n",
    "  type: number\n",
    "  value_format_name: percent_2\n",
    "  sql: 1.0*${total_sales_email_users}\n",
    "  / NULLIF(${total_sales}, 0) ;;\n",
    "}"
   ]
  },
  {
   "cell_type": "markdown",
   "metadata": {},
   "source": [
    "+ Click Save Changes and then click the Validate button on the top right of the IDE to run a LookML code validation.\n",
    "\n",
    "+ Click the caret next to the file title at the top of the IDE and then select Explore Order Items.\n",
    "\n",
    "+ Under Order Items >Measures, click Percentage Sales Email Source.\n",
    "\n",
    "+ Click Run to see the values in the new measure. Success!"
   ]
  },
  {
   "cell_type": "markdown",
   "metadata": {},
   "source": [
    "### Commit changes and deploy to production"
   ]
  },
  {
   "cell_type": "markdown",
   "metadata": {},
   "source": [
    "+ Click Validate LookML and then click Commit Changes & Push.\n",
    "\n",
    "+ Add a commit message and click Commit.\n",
    "\n",
    "+ Lastly, click Deploy to Production."
   ]
  },
  {
   "cell_type": "markdown",
   "metadata": {},
   "source": [
    "***"
   ]
  },
  {
   "cell_type": "markdown",
   "metadata": {},
   "source": [
    "**<center><font size = \"6\">Creating Derived Tables Using LookML<center>**\n",
    "***"
   ]
  },
  {
   "cell_type": "markdown",
   "metadata": {},
   "source": []
  }
 ],
 "metadata": {
  "kernelspec": {
   "display_name": "Python 3.9.9 64-bit",
   "language": "python",
   "name": "python3"
  },
  "language_info": {
   "codemirror_mode": {
    "name": "ipython",
    "version": 3
   },
   "file_extension": ".py",
   "mimetype": "text/x-python",
   "name": "python",
   "nbconvert_exporter": "python",
   "pygments_lexer": "ipython3",
   "version": "3.9.9"
  },
  "orig_nbformat": 4,
  "vscode": {
   "interpreter": {
    "hash": "aee8b7b246df8f9039afb4144a1f6fd8d2ca17a180786b69acc140d282b71a49"
   }
  }
 },
 "nbformat": 4,
 "nbformat_minor": 2
}
