{
 "cells": [
  {
   "cell_type": "markdown",
   "metadata": {},
   "source": [
    "***"
   ]
  },
  {
   "cell_type": "markdown",
   "metadata": {},
   "source": [
    "**<center><font size = \"6\">Build LookML Objects in Looker<center>**\n",
    "***\n",
    "<center><font size = \"2\">Prepared by: Sitsawek Sukorn<center>"
   ]
  },
  {
   "cell_type": "markdown",
   "metadata": {},
   "source": [
    "### Looker Developer - Qwik Start"
   ]
  },
  {
   "cell_type": "markdown",
   "metadata": {},
   "source": [
    "In this section, you will create a new view and add some dimensions and measures to it.\n",
    "\n",
    "+ First, on the bottom left of the Looker User Interface, click the toggle button to enter Development mode.\n",
    "Development Mode toggle\n",
    "\n",
    "+ Click the Develop tab and then select the qwiklabs-ecommerce LookML project.\n",
    "\n",
    "+ To create the file at the project’s root level, click the + button at the top of the file browser in the Looker IDE.\n",
    "\n",
    "+ Select Create View. Name the file users_limited. Click Create.\n",
    "\n",
    "+ After you have created your new view, click the arrow next to the views folder to see a list of the existing views for the project.\n",
    "\n",
    "+ To put your view file into the views folder, click and hold the users_limited file and drag it into the expanded folder. Your project should resemble the following:\n",
    "\n"
   ]
  },
  {
   "cell_type": "markdown",
   "metadata": {},
   "source": [
    "### Add some dimensions and measures"
   ]
  },
  {
   "cell_type": "markdown",
   "metadata": {},
   "source": [
    "+ For this example, you will be connecting to the dataset used for the qwiklabs_ecommerce project. This is the same table for users.view. Add the following code on line 2"
   ]
  },
  {
   "cell_type": "code",
   "execution_count": null,
   "metadata": {
    "vscode": {
     "languageId": "javascript"
    }
   },
   "outputs": [],
   "source": [
    "sql_table_name: `cloud-training-demos.looker_ecomm.users` ;;"
   ]
  },
  {
   "cell_type": "markdown",
   "metadata": {},
   "source": [
    "+ Now add a few dimensions. Here you will be adding the user id, country, email, first_name, and last_name:"
   ]
  },
  {
   "cell_type": "code",
   "execution_count": null,
   "metadata": {
    "vscode": {
     "languageId": "javascript"
    }
   },
   "outputs": [],
   "source": [
    "dimension: id {\n",
    "  primary_key: yes\n",
    "  type: number\n",
    "  sql: ${TABLE}.id ;;\n",
    "}\n",
    "dimension: country {\n",
    "  type: string\n",
    "  map_layer_name: countries\n",
    "  sql: ${TABLE}.country ;;\n",
    "}\n",
    "dimension: email {\n",
    "  type: string\n",
    "  sql: ${TABLE}.email ;;\n",
    "}\n",
    "dimension: first_name {\n",
    "  type: string\n",
    "  sql: ${TABLE}.first_name ;;\n",
    "}\n",
    "dimension: last_name {\n",
    "  type: string\n",
    "  sql: ${TABLE}.last_name ;;\n",
    "}"
   ]
  },
  {
   "cell_type": "markdown",
   "metadata": {},
   "source": [
    "+ Next, add a measure. This will be used for counting specific dimensions:"
   ]
  },
  {
   "cell_type": "code",
   "execution_count": null,
   "metadata": {
    "vscode": {
     "languageId": "javascript"
    }
   },
   "outputs": [],
   "source": [
    "measure: count {\n",
    "    type: count\n",
    "    drill_fields: [id, last_name, first_name]\n",
    "  }"
   ]
  },
  {
   "cell_type": "markdown",
   "metadata": {},
   "source": [
    "+ Click Save Changes."
   ]
  },
  {
   "cell_type": "markdown",
   "metadata": {},
   "source": [
    "### Commit changes and deploy to production"
   ]
  },
  {
   "cell_type": "markdown",
   "metadata": {},
   "source": [
    "+ Click Validate LookML and then click Commit Changes & Push.\n",
    "\n",
    "+ Add a commit message and click Commit.\n",
    "\n",
    "+ Lastly, click Deploy to Production."
   ]
  },
  {
   "cell_type": "markdown",
   "metadata": {},
   "source": [
    "### Join a view to an existing explore"
   ]
  },
  {
   "cell_type": "markdown",
   "metadata": {},
   "source": [
    "+ In the file browser, under the models folder, navigate to the training_ecommerce.model file.\n",
    "\n",
    "+ In the explore: events definition, add a new line after join: users, and paste the following:"
   ]
  },
  {
   "cell_type": "code",
   "execution_count": null,
   "metadata": {
    "vscode": {
     "languageId": "javascript"
    }
   },
   "outputs": [],
   "source": [
    "join: users_limited {\n",
    "    type: left_outer\n",
    "    sql_on: ${events.user_id} = ${users_limited.id};;\n",
    "    relationship: many_to_one\n",
    "  }"
   ]
  },
  {
   "cell_type": "markdown",
   "metadata": {},
   "source": [
    "+ Click Save Changes."
   ]
  },
  {
   "cell_type": "markdown",
   "metadata": {},
   "source": [
    "+ Click the caret next to the file title at the top of the IDE and then select Explore Events."
   ]
  },
  {
   "cell_type": "markdown",
   "metadata": {},
   "source": [
    "+ Next, navigate to your new view in the Explore page by selecting Users Limited."
   ]
  },
  {
   "cell_type": "markdown",
   "metadata": {},
   "source": [
    "+ Under Users Limited, select the First Name dimension and the Count measure."
   ]
  },
  {
   "cell_type": "markdown",
   "metadata": {},
   "source": [
    "+ Click Run. Your visualization should resemble"
   ]
  },
  {
   "cell_type": "markdown",
   "metadata": {},
   "source": [
    "+ Navigate back to the training_ecommerce.model file."
   ]
  },
  {
   "cell_type": "markdown",
   "metadata": {},
   "source": [
    "### Commit changes and deploy to production"
   ]
  },
  {
   "cell_type": "markdown",
   "metadata": {},
   "source": [
    "+ Click Validate LookML and then click Commit Changes & Push.\n",
    "\n",
    "+ Add a commit message and click Commit.\n",
    "\n",
    "+ Lastly, click Deploy to Production."
   ]
  },
  {
   "cell_type": "markdown",
   "metadata": {},
   "source": [
    "***"
   ]
  },
  {
   "cell_type": "markdown",
   "metadata": {},
   "source": [
    "**<center><font size = \"6\">Creating Measures and Dimensions Using LookML<center>**\n",
    "***"
   ]
  },
  {
   "cell_type": "markdown",
   "metadata": {},
   "source": [
    "### Creating dimensions"
   ]
  },
  {
   "cell_type": "markdown",
   "metadata": {},
   "source": [
    "+ First, on the bottom left of the Looker User Interface, click the toggle button to enter Development mode.\n",
    "Development mode toggle\n",
    "\n",
    "+ Click the Develop tab and then select the qwiklabs-ecommerce LookML project.\n",
    "\n",
    "+ Once you are in the qwiklabs-ecommerce project, click the arrow next to views to see a list of view names.\n",
    "\n",
    "+ Click users.view.\n",
    "\n",
    "+ In users.view, locate the dimension for age. Your file should resemble the following:\n",
    "\n",
    "+ On a new line under the dimension for age, start by defining a new dimension for age_tier using the following code:"
   ]
  },
  {
   "cell_type": "code",
   "execution_count": null,
   "metadata": {
    "vscode": {
     "languageId": "javascript"
    }
   },
   "outputs": [],
   "source": [
    "dimension: age_tier {\n",
    "}"
   ]
  },
  {
   "cell_type": "markdown",
   "metadata": {},
   "source": [
    "+ Next, you will add the dimension type. This dimension type is tier, so you'll add that here:"
   ]
  },
  {
   "cell_type": "code",
   "execution_count": null,
   "metadata": {
    "vscode": {
     "languageId": "javascript"
    }
   },
   "outputs": [],
   "source": [
    "dimension: age_tier {\n",
    "  type: tier\n",
    "}"
   ]
  },
  {
   "cell_type": "markdown",
   "metadata": {},
   "source": [
    "+ Next, you will add the specific tiers for the dimension. In this case, you will group the tiers first by 18 and younger, then by increments of 10 years:"
   ]
  },
  {
   "cell_type": "code",
   "execution_count": null,
   "metadata": {
    "vscode": {
     "languageId": "javascript"
    }
   },
   "outputs": [],
   "source": [
    "dimension: age_tier {\n",
    "  type: tier\n",
    "  tiers: [18, 25, 35, 45, 55, 65, 75, 90]\n",
    "}"
   ]
  },
  {
   "cell_type": "markdown",
   "metadata": {},
   "source": [
    "+ Next, define the style parameter. This parameter is specific to the tier type dimension and changes the way tiers appear in the UI. In this case, you want the style to be integer:"
   ]
  },
  {
   "cell_type": "code",
   "execution_count": null,
   "metadata": {
    "vscode": {
     "languageId": "javascript"
    }
   },
   "outputs": [],
   "source": [
    "dimension: age_tier {\n",
    "  type: tier\n",
    "  tiers: [18, 25, 35, 45, 55, 65, 75, 90]\n",
    "  style: integer\n",
    "}"
   ]
  },
  {
   "cell_type": "markdown",
   "metadata": {},
   "source": [
    "+ Lastly, you'll add the SQL parameter. The SQL parameter tells Looker how to write the SQL for queries users run. For this dimension, you're telling the SQL parameter to pull from the pre-existing age field:"
   ]
  },
  {
   "cell_type": "code",
   "execution_count": null,
   "metadata": {
    "vscode": {
     "languageId": "javascript"
    }
   },
   "outputs": [],
   "source": [
    "dimension: age_tier {\n",
    "  type: tier\n",
    "  tiers: [18, 25, 35, 45, 55, 65, 75, 90]\n",
    "  style: integer\n",
    "  sql: ${age} ;;\n",
    "}"
   ]
  },
  {
   "cell_type": "markdown",
   "metadata": {},
   "source": [
    "+ Click Save Changes and then click the Validate button on the top right of the IDE to run a LookML code validation."
   ]
  },
  {
   "cell_type": "markdown",
   "metadata": {},
   "source": [
    "+ You can quickly go to the Explore by clicking the caret next to the file title at the top of the IDE and then selecting Explore Order Items."
   ]
  },
  {
   "cell_type": "markdown",
   "metadata": {},
   "source": [
    "+ Next, navigate to your new dimension under Users > Dimensions > Age Tier."
   ]
  },
  {
   "cell_type": "markdown",
   "metadata": {},
   "source": [
    "+ Add the Age and the Age Tier dimensions and click Run. You can see that each age falls into the correct tier:"
   ]
  },
  {
   "cell_type": "markdown",
   "metadata": {},
   "source": [
    "+ Now remove the Age dimension and add the Count measure and hit Run again. The results are showing what you want. Looker has counted the different ages and grouped them into the appropriate tiers. Success!"
   ]
  },
  {
   "cell_type": "markdown",
   "metadata": {},
   "source": [
    "### Create a new dimension for email source"
   ]
  },
  {
   "cell_type": "markdown",
   "metadata": {},
   "source": [
    "+ Navigate back to the qwiklabs-ecommerce project and open users.view file.\n",
    "\n",
    "+ Locate the dimension for traffic_source. Your file should resemble the following:\n",
    "\n",
    "+ On a new line under the dimension for traffic source, start by defining a new dimension for is_email_source using the following code:"
   ]
  },
  {
   "cell_type": "code",
   "execution_count": null,
   "metadata": {
    "vscode": {
     "languageId": "javascript"
    }
   },
   "outputs": [],
   "source": [
    "dimension: is_email_source {\n",
    "}"
   ]
  },
  {
   "cell_type": "markdown",
   "metadata": {},
   "source": [
    "+ Next, add the type parameter. Since this is a boolean categorization, you will use the yesno type:"
   ]
  },
  {
   "cell_type": "code",
   "execution_count": null,
   "metadata": {
    "vscode": {
     "languageId": "javascript"
    }
   },
   "outputs": [],
   "source": [
    "dimension: is_email_source {\n",
    "  type: yesno\n",
    "}"
   ]
  },
  {
   "cell_type": "markdown",
   "metadata": {},
   "source": [
    "+ Lastly, add the SQL parameter. For this dimension, you're telling the SQL parameter to pull from the pre-existing traffic_source field where the value equals \"Email\"."
   ]
  },
  {
   "cell_type": "markdown",
   "metadata": {},
   "source": [
    "+ Be sure to use double quotation marks (\"\") when defining \"Email\" to ensure accurate syntax:"
   ]
  },
  {
   "cell_type": "code",
   "execution_count": null,
   "metadata": {
    "vscode": {
     "languageId": "javascript"
    }
   },
   "outputs": [],
   "source": [
    "dimension: is_email_source {\n",
    "  type: yesno\n",
    "  sql: ${traffic_source} = \"Email\" ;;\n",
    "}"
   ]
  },
  {
   "cell_type": "markdown",
   "metadata": {},
   "source": [
    "+ Click Save Changes and then click the Validate button on the top right of the IDE to run a LookML code validation.\n",
    "\n",
    "+ Click the caret next to the file title at the top of the IDE and then select Explore Order\n",
    "\n",
    "+ Next, navigate to your new dimension under Users > Dimensions > Is Email Source (Yes / No).\n",
    "\n",
    "+ Add the Is Email Source dimension and the Count measure and click Run. The results are showing the amount of users that were brought in via email or not. Success!"
   ]
  },
  {
   "cell_type": "markdown",
   "metadata": {},
   "source": [
    "### Create a new dimension for shipping days"
   ]
  },
  {
   "cell_type": "markdown",
   "metadata": {},
   "source": [
    "+ Navigate back to the qwiklabs-ecommerce project and open the order_items.view file.\n",
    "\n",
    "+ Locate the dimension group for shipped. Your file should resemble the following:\n",
    "\n",
    "+ On a new line under the dimension group for shipped, define a new dimension for shipping_days using the following code:"
   ]
  },
  {
   "cell_type": "code",
   "execution_count": null,
   "metadata": {
    "vscode": {
     "languageId": "javascript"
    }
   },
   "outputs": [],
   "source": [
    "dimension: shipping_days {\n",
    "}"
   ]
  },
  {
   "cell_type": "markdown",
   "metadata": {},
   "source": [
    "+ Next, add the type parameter. For this dimension, you will be using the number type:"
   ]
  },
  {
   "cell_type": "code",
   "execution_count": null,
   "metadata": {
    "vscode": {
     "languageId": "javascript"
    }
   },
   "outputs": [],
   "source": [
    "dimension: shipping_days {\n",
    "  type: number\n",
    "}"
   ]
  },
  {
   "cell_type": "markdown",
   "metadata": {},
   "source": [
    "+ Lastly, add the SQL parameter. For this dimension, you're telling the SQL parameter to run a DATE_DIFF function on the shipped_date and created_date dimensions. DAY is used here as the provided interval you want to be calculating:"
   ]
  },
  {
   "cell_type": "code",
   "execution_count": null,
   "metadata": {
    "vscode": {
     "languageId": "javascript"
    }
   },
   "outputs": [],
   "source": [
    "dimension: shipping_days {\n",
    "  type: number\n",
    "  sql: DATE_DIFF(${shipped_date}, ${created_date}, DAY);;\n",
    "}"
   ]
  },
  {
   "cell_type": "markdown",
   "metadata": {},
   "source": [
    "+ Now that you finished adding a new dimension, you can test to make sure it's working properly. Click Save Changes and then click the Validate button on the top right of the IDE to run a LookML code validation."
   ]
  },
  {
   "cell_type": "markdown",
   "metadata": {},
   "source": [
    "+ Click the caret next to the file title at the top of the IDE and then select Explore Order Items."
   ]
  },
  {
   "cell_type": "markdown",
   "metadata": {},
   "source": [
    "+ Next, navigate to your new dimension under Order Items > Dimensions > Shipping Days.\n",
    "\n",
    "+ Add the Shipping Days dimension and the Order Count measure and click Run. The results are showing the count of orders with their respective shipping days. Success!\n",
    "\n",
    "+ Navigate back to the order_items.view file."
   ]
  },
  {
   "cell_type": "markdown",
   "metadata": {},
   "source": [
    "### Commit changes and deploy to production"
   ]
  },
  {
   "cell_type": "markdown",
   "metadata": {},
   "source": [
    "+ Click Validate LookML and then click Commit Changes & Push.\n",
    "\n",
    "+ Add a commit message and click Commit.\n",
    "\n",
    "+ Lastly, click Deploy to Production."
   ]
  },
  {
   "cell_type": "markdown",
   "metadata": {},
   "source": [
    "### Creating measures"
   ]
  },
  {
   "cell_type": "markdown",
   "metadata": {},
   "source": [
    "### Create a measure of the distinct number of orders"
   ]
  },
  {
   "cell_type": "markdown",
   "metadata": {},
   "source": [
    "+ Navigate back to the qwiklabs-ecommerce project and open order_items.view file.\n",
    "\n",
    "+ In order_items.view, locate the measure for order_item_count.\n",
    "\n",
    "+ On a new line under the measure for order_item_count, start by defining a new measure for count_distinct_orders using the following code:"
   ]
  },
  {
   "cell_type": "code",
   "execution_count": null,
   "metadata": {
    "vscode": {
     "languageId": "javascript"
    }
   },
   "outputs": [],
   "source": [
    "measure: count_distinct_orders {\n",
    "}"
   ]
  },
  {
   "cell_type": "markdown",
   "metadata": {},
   "source": [
    "+ Note: Make sure to replace the default measure name (order_count) with count_distinct_orders."
   ]
  },
  {
   "cell_type": "markdown",
   "metadata": {},
   "source": [
    "+ Next, add the type parameter. For this measure, you will be using the count_distinct type. The type count_distinct calculates the number of distinct values in a given field. It makes use of SQL’s COUNT DISTINCT function:"
   ]
  },
  {
   "cell_type": "code",
   "execution_count": null,
   "metadata": {
    "vscode": {
     "languageId": "javascript"
    }
   },
   "outputs": [],
   "source": [
    "measure: count_distinct_orders {\n",
    "  type: count_distinct\n",
    "}"
   ]
  },
  {
   "cell_type": "markdown",
   "metadata": {},
   "source": [
    "+ Lastly, add the SQL parameter. For this measure, you're telling the SQL parameter to pull from the pre-existing order_id field:"
   ]
  },
  {
   "cell_type": "code",
   "execution_count": null,
   "metadata": {
    "vscode": {
     "languageId": "javascript"
    }
   },
   "outputs": [],
   "source": [
    "measure: count_distinct_orders {\n",
    "  type: count_distinct\n",
    "  sql: ${order_id} ;;\n",
    "}"
   ]
  },
  {
   "cell_type": "markdown",
   "metadata": {},
   "source": [
    "+ Click Save Changes and then click the Validate button on the top right of the IDE to run a LookML code validation.\n",
    "\n",
    "+ Click the caret next to the file title at the top of the IDE and then select Explore Order Items.\n",
    "\n",
    "+ Under Order Items > Measures, click Count Distinct Orders.\n",
    "\n",
    "+ Click Run to see the values in the new measure. You can confirm that your new measure is working properly."
   ]
  },
  {
   "cell_type": "markdown",
   "metadata": {},
   "source": [
    "### Create a total sales measure"
   ]
  },
  {
   "cell_type": "markdown",
   "metadata": {},
   "source": [
    "+ Navigate back to the qwiklabs-ecommerce project and open order_items.view file.\n",
    "\n",
    "+ In order_items.view, locate the measure for order_item_count.\n",
    "\n",
    "+ On a new line under the measure for order_item_count, start by defining a new measure for total_sales using the following code:"
   ]
  },
  {
   "cell_type": "code",
   "execution_count": null,
   "metadata": {
    "vscode": {
     "languageId": "javascript"
    }
   },
   "outputs": [],
   "source": [
    "measure: total_sales {\n",
    "}"
   ]
  },
  {
   "cell_type": "markdown",
   "metadata": {},
   "source": [
    "+ Add the type parameter. Here you will be using sum:"
   ]
  },
  {
   "cell_type": "code",
   "execution_count": null,
   "metadata": {
    "vscode": {
     "languageId": "javascript"
    }
   },
   "outputs": [],
   "source": [
    "measure: total_sales {\n",
    "    type: sum\n",
    "  }"
   ]
  },
  {
   "cell_type": "markdown",
   "metadata": {},
   "source": [
    "+ Add the SQL parameter. For this measure, you're telling the SQL parameter to pull from the pre-existing sale_price field:"
   ]
  },
  {
   "cell_type": "code",
   "execution_count": null,
   "metadata": {
    "vscode": {
     "languageId": "javascript"
    }
   },
   "outputs": [],
   "source": [
    "measure: total_sales {\n",
    "  type: sum\n",
    "  sql: ${sale_price} ;;\n",
    "}"
   ]
  },
  {
   "cell_type": "markdown",
   "metadata": {},
   "source": [
    "+ Lastly, you will add the value_format_name. The value_format_name parameter enables you to format data values using formats built into Looker or your own custom, reusable formats. Here, since you are calculating sale price you will use US dollars (usd_0):"
   ]
  },
  {
   "cell_type": "code",
   "execution_count": null,
   "metadata": {
    "vscode": {
     "languageId": "javascript"
    }
   },
   "outputs": [],
   "source": [
    "measure: total_sales {\n",
    "  type: sum\n",
    "  sql: ${sale_price} ;;\n",
    "  value_format_name: usd_0\n",
    "}"
   ]
  },
  {
   "cell_type": "markdown",
   "metadata": {},
   "source": [
    "+ Click Save Changes and then click the Validate button on the top right of the IDE to run a LookML code validation.\n",
    "\n",
    "+ Click the caret next to the file title at the top of the IDE and then select Explore Order Items.\n",
    "\n",
    "+ Under Order Items > Measures, click Total Sales.\n",
    "\n",
    "+ Click Run to see the values in the new measure."
   ]
  },
  {
   "cell_type": "markdown",
   "metadata": {},
   "source": [
    "+ Navigate back to the order_items.view file."
   ]
  },
  {
   "cell_type": "markdown",
   "metadata": {},
   "source": [
    "### Commit changes and deploy to production"
   ]
  },
  {
   "cell_type": "markdown",
   "metadata": {},
   "source": [
    "+ Click Validate LookML and then click Commit Changes & Push.\n",
    "\n",
    "+ Add a commit message and click Commit.\n",
    "\n",
    "+ Lastly, click Deploy to Production."
   ]
  },
  {
   "cell_type": "markdown",
   "metadata": {},
   "source": [
    "### Creating advanced measures"
   ]
  },
  {
   "cell_type": "markdown",
   "metadata": {},
   "source": [
    "### Create a filtered measure of the total sales for only the users who came to the website via the email traffic source\n"
   ]
  },
  {
   "cell_type": "markdown",
   "metadata": {},
   "source": [
    "+ Navigate back to the qwiklabs-ecommerce project and open order_items.view file.\n",
    "\n",
    "+ In order_items.view, locate the measure for order_item_count.\n",
    "\n",
    "+ On a new line under the measure for order_item_count, start by defining a new measure for total_sales_email_users using the following code:"
   ]
  },
  {
   "cell_type": "code",
   "execution_count": null,
   "metadata": {
    "vscode": {
     "languageId": "javascript"
    }
   },
   "outputs": [],
   "source": [
    "measure: total_sales_email_users {\n",
    "}"
   ]
  },
  {
   "cell_type": "markdown",
   "metadata": {},
   "source": [
    "+ Next, add the type. For this since we are calculating total sales, we will use sum:"
   ]
  },
  {
   "cell_type": "code",
   "execution_count": null,
   "metadata": {
    "vscode": {
     "languageId": "javascript"
    }
   },
   "outputs": [],
   "source": [
    "measure: total_sales_email_users {\n",
    "  type: sum\n",
    "}"
   ]
  },
  {
   "cell_type": "markdown",
   "metadata": {},
   "source": [
    "+ Add the SQL parameter. For this measure, you're telling the SQL parameter to pull from the pre-existing sale_price field:"
   ]
  },
  {
   "cell_type": "code",
   "execution_count": null,
   "metadata": {
    "vscode": {
     "languageId": "javascript"
    }
   },
   "outputs": [],
   "source": [
    "measure: total_sales_email_users {\n",
    "  type: sum\n",
    "  sql: ${sale_price} ;;\n",
    "}"
   ]
  },
  {
   "cell_type": "markdown",
   "metadata": {},
   "source": [
    "+ Add the following filter parameter. Here you are using the is_email_source dimension you created earlier within the users.view file:"
   ]
  },
  {
   "cell_type": "code",
   "execution_count": null,
   "metadata": {
    "vscode": {
     "languageId": "javascript"
    }
   },
   "outputs": [],
   "source": [
    "measure: total_sales_email_users {\n",
    "  type: sum\n",
    "  sql: ${sale_price} ;;\n",
    "  filters: [users.is_email_source: \"Yes\"]\n",
    "}"
   ]
  },
  {
   "cell_type": "markdown",
   "metadata": {},
   "source": [
    "+ Note: You could also reference the traffic_source dimension instead, using the following code."
   ]
  },
  {
   "cell_type": "code",
   "execution_count": null,
   "metadata": {
    "vscode": {
     "languageId": "javascript"
    }
   },
   "outputs": [],
   "source": [
    "measure: total_sales_email_users {\n",
    "    type: sum\n",
    "    sql: ${sale_price} ;;\n",
    "    filters: [users.traffic_source: \"Email\"]\n",
    "  }"
   ]
  },
  {
   "cell_type": "markdown",
   "metadata": {},
   "source": [
    "+ Click Save Changes and then click the Validate button on the top right of the IDE to run a LookML code validation.\n",
    "\n",
    "+ Click the caret next to the file title at the top of the IDE and then select Explore Order Items.\n",
    "\n",
    "+ Under Order Items > Measures, click Total Sales Email Users.\n",
    "\n",
    "+ Click Run to see the values in the new measure."
   ]
  },
  {
   "cell_type": "markdown",
   "metadata": {},
   "source": [
    "### Create a measure for the percentage of sales that are attributed to users coming from the email traffic source\n"
   ]
  },
  {
   "cell_type": "markdown",
   "metadata": {},
   "source": [
    "+ Navigate back to the qwiklabs-ecommerce project and open order_items.view file.\n",
    "\n",
    "+ In order_items.view, locate the measure for order_item_count.\n",
    "\n",
    "+ On a new line under the measure for order_item_count, start by defining a new measure for percentage_sales_email_source using the following code:"
   ]
  },
  {
   "cell_type": "code",
   "execution_count": null,
   "metadata": {
    "vscode": {
     "languageId": "javascript"
    }
   },
   "outputs": [],
   "source": [
    "measure: percentage_sales_email_source {\n",
    "}"
   ]
  },
  {
   "cell_type": "markdown",
   "metadata": {},
   "source": [
    "+ Next, add the type. For this since we are calculating total sales, we will use number:"
   ]
  },
  {
   "cell_type": "code",
   "execution_count": null,
   "metadata": {
    "vscode": {
     "languageId": "javascript"
    }
   },
   "outputs": [],
   "source": [
    "measure: percentage_sales_email_source {\n",
    "  type: number\n",
    "}"
   ]
  },
  {
   "cell_type": "markdown",
   "metadata": {},
   "source": [
    "+ Next add the value_format_name parameter. Since you are calculating a percentage, you can use percent_2:"
   ]
  },
  {
   "cell_type": "code",
   "execution_count": null,
   "metadata": {
    "vscode": {
     "languageId": "javascript"
    }
   },
   "outputs": [],
   "source": [
    "measure: percentage_sales_email_source {\n",
    "  type: number\n",
    "  value_format_name: percent_2\n",
    "}"
   ]
  },
  {
   "cell_type": "markdown",
   "metadata": {},
   "source": [
    "+ Add the SQL parameter. For this measure, you're telling the SQL parameter to pull from the pre-existing total_sales_email_users field and dividing by the total_sales:"
   ]
  },
  {
   "cell_type": "markdown",
   "metadata": {},
   "source": [
    "+ Note: When creating percentage measures, it is often useful to make sure you are not dividing by zero in the percentage calculation. This can be done through the NULLIF SQL function."
   ]
  },
  {
   "cell_type": "code",
   "execution_count": null,
   "metadata": {
    "vscode": {
     "languageId": "javascript"
    }
   },
   "outputs": [],
   "source": [
    "measure: percentage_sales_email_source {\n",
    "  type: number\n",
    "  value_format_name: percent_2\n",
    "  sql: 1.0*${total_sales_email_users}\n",
    "  / NULLIF(${total_sales}, 0) ;;\n",
    "}"
   ]
  },
  {
   "cell_type": "markdown",
   "metadata": {},
   "source": [
    "+ Click Save Changes and then click the Validate button on the top right of the IDE to run a LookML code validation.\n",
    "\n",
    "+ Click the caret next to the file title at the top of the IDE and then select Explore Order Items.\n",
    "\n",
    "+ Under Order Items >Measures, click Percentage Sales Email Source.\n",
    "\n",
    "+ Click Run to see the values in the new measure. Success!"
   ]
  },
  {
   "cell_type": "markdown",
   "metadata": {},
   "source": [
    "### Commit changes and deploy to production"
   ]
  },
  {
   "cell_type": "markdown",
   "metadata": {},
   "source": [
    "+ Click Validate LookML and then click Commit Changes & Push.\n",
    "\n",
    "+ Add a commit message and click Commit.\n",
    "\n",
    "+ Lastly, click Deploy to Production."
   ]
  },
  {
   "cell_type": "markdown",
   "metadata": {},
   "source": [
    "***"
   ]
  },
  {
   "cell_type": "markdown",
   "metadata": {},
   "source": [
    "**<center><font size = \"6\">Creating Derived Tables Using LookML<center>**\n",
    "***"
   ]
  },
  {
   "cell_type": "markdown",
   "metadata": {},
   "source": [
    "### Create a SQL derived table summarizing details for each order\n"
   ]
  },
  {
   "cell_type": "markdown",
   "metadata": {},
   "source": [
    "#### Define a new derived table using a SQL query"
   ]
  },
  {
   "cell_type": "markdown",
   "metadata": {},
   "source": [
    "+ First, on the bottom left of the Looker User Interface, click the toggle button to enter Development mode.\n",
    "Development Mode toggle\n",
    "\n",
    "+ On the Looker navigation menu, click Develop > SQL Runner.\n",
    "\n",
    "+ In the SQL Query window, add the following query:"
   ]
  },
  {
   "cell_type": "code",
   "execution_count": null,
   "metadata": {
    "vscode": {
     "languageId": "sql"
    }
   },
   "outputs": [],
   "source": [
    "SELECT\n",
    "  order_items.order_id AS order_id\n",
    "  ,order_items.user_id AS user_id\n",
    "  ,COUNT(*) AS order_item_count\n",
    "  ,SUM(order_items.sale_price) AS order_revenue\n",
    "FROM cloud-training-demos.looker_ecomm.order_items\n",
    "GROUP BY order_id, user_id\n",
    "LIMIT 10"
   ]
  },
  {
   "cell_type": "markdown",
   "metadata": {},
   "source": [
    "+ Verify that your query resembles\n",
    "\n",
    "+ Click Run to see the results."
   ]
  },
  {
   "cell_type": "markdown",
   "metadata": {},
   "source": [
    "#### Create a new view file for the SQL derived table"
   ]
  },
  {
   "cell_type": "markdown",
   "metadata": {},
   "source": [
    "+ Click Settings (settings gear icon) next to Run (top right of the page), and select Add to Project.\n",
    "\n",
    "+ For Project, select qwiklabs-ecommerce.\n",
    "\n",
    "+ For View Name, type: order_details.\n",
    "\n",
    "+ Click Add."
   ]
  },
  {
   "cell_type": "markdown",
   "metadata": {},
   "source": [
    "You are redirected to the Looker IDE to review the newly created view file for your SQL derived table.\n",
    "\n",
    "Notice that the new view file for the order_details view has been created outside of the views folder. It is a best practice to keep the view files organized in the project.\n",
    "\n",
    "+ Click on the arrow next to views to see the list of views.\n",
    "\n",
    "+ Click order_details.view and drag it under the views folder.\n",
    "\n",
    "+ Click order_details.view to see the view file for the SQL derived table.\n",
    "\n",
    "+ Delete the code line for LIMIT 10 from the sql parameter.\n",
    "\n",
    "+ In the measure: count definition, add a new line before type: count, and type: hidden: yes.\n",
    "\n",
    "+ In the dimension: order_id definition, add a new line before type: number, and type: primary_key: yes."
   ]
  },
  {
   "cell_type": "code",
   "execution_count": null,
   "metadata": {
    "vscode": {
     "languageId": "javascript"
    }
   },
   "outputs": [],
   "source": [
    "view: order_details {\n",
    "  derived_table: {\n",
    "    sql: SELECT\n",
    "        order_items.order_id AS order_id\n",
    "        ,order_items.user_id AS user_id\n",
    "        ,COUNT(*) AS order_item_count\n",
    "        ,SUM(order_items.sale_price) AS order_revenue\n",
    "      FROM cloud-training-demos.looker_ecomm.order_items\n",
    "      GROUP BY order_id, user_id\n",
    "       ;;\n",
    "  }\n",
    "\n",
    "  measure: count {\n",
    "    hidden: yes\n",
    "    type: count\n",
    "    drill_fields: [detail*]\n",
    "  }\n",
    "\n",
    "  dimension: order_id {\n",
    "    primary_key: yes\n",
    "    type: number\n",
    "    sql: ${TABLE}.order_id ;;\n",
    "  }\n",
    "\n",
    "  dimension: user_id {\n",
    "    type: number\n",
    "    sql: ${TABLE}.user_id ;;\n",
    "  }\n",
    "\n",
    "  dimension: order_item_count {\n",
    "    type: number\n",
    "    sql: ${TABLE}.order_item_count ;;\n",
    "  }\n",
    "\n",
    "  dimension: order_revenue {\n",
    "    type: number\n",
    "    sql: ${TABLE}.order_revenue ;;\n",
    "  }\n",
    "\n",
    "  set: detail {\n",
    "    fields: [order_id, user_id, order_item_count, order_revenue]\n",
    "  }\n",
    "}\n"
   ]
  },
  {
   "cell_type": "markdown",
   "metadata": {},
   "source": [
    "#### Commit changes and deploy to production"
   ]
  },
  {
   "cell_type": "markdown",
   "metadata": {},
   "source": [
    "+ Click Validate LookML and then click Commit Changes & Push.\n",
    "\n",
    "+ Add a commit message and click Commit.\n",
    "\n",
    "+ Lastly, click Deploy to Production."
   ]
  },
  {
   "cell_type": "markdown",
   "metadata": {},
   "source": [
    "### Create a native derived table summarizing details for each order"
   ]
  },
  {
   "cell_type": "markdown",
   "metadata": {},
   "source": [
    "#### Define a new native derived table from an Explore query"
   ]
  },
  {
   "cell_type": "markdown",
   "metadata": {},
   "source": [
    "+ On the Looker navigation menu, click Explore.\n",
    "\n",
    "+ Under E-Commerce Training, click Order Items.\n",
    "\n",
    "+ Click the arrow next to Order Items.\n",
    "\n",
    "+ Under Order Items > Dimensions, click Order ID and User ID.\n",
    "\n",
    "+ Under Order Items > Measures, click Order Count and Total Revenue.\n",
    "\n",
    "+ Click Run to see the results.\n",
    "\n",
    "+ Click Settings (settings gear icon) next to Run (top right of page), and select Get LookML.\n",
    "\n",
    "+ Click on Derived Table and copy the LookML code to your computer clipboard. You will paste this LookML code into a new view file for this native derived table."
   ]
  },
  {
   "cell_type": "markdown",
   "metadata": {},
   "source": [
    "#### Create a new view file for the native derived table\n"
   ]
  },
  {
   "cell_type": "markdown",
   "metadata": {},
   "source": [
    "+ Open a new Looker window in a new tab.\n",
    "\n",
    "+ On the Looker navigation menu, click the Develop tab and then select the qwiklabs-ecommerce LookML project.\n",
    "\n",
    "+ Next to File Browser, click Add file or folder (Add file or folder icon).\n",
    "\n",
    "+ Select Create View.\n",
    "\n",
    "+ For file name, type: order_details_summary.\n",
    "\n",
    "+ Click Create.\n",
    "\n",
    "+ Click on the arrow next to views to see the list of views.\n",
    "\n",
    "+ Click order_details_summary.view and drag it under the views folder.\n",
    "\n",
    "+ Click order_details_summary.view to see the view file for the native derived table.\n",
    "\n",
    "+ Delete all of the auto-generated LookML in the view file.\n",
    "\n",
    "+ Paste the LookML code you copied for the native derived table.\n",
    "\n",
    "+ Replace the auto-generated view name (e.g. add_a_unique_name_1623275538) with: order_details_summary. Your file should resemble the following:"
   ]
  },
  {
   "cell_type": "code",
   "execution_count": null,
   "metadata": {
    "vscode": {
     "languageId": "javascript"
    }
   },
   "outputs": [],
   "source": [
    "# If necessary, uncomment the line below to include explore_source.\n",
    "# include: \"training_ecommerce.model.lkml\"\n",
    "\n",
    "view: add_a_unique_name_1666087980 {\n",
    "  derived_table: {\n",
    "    explore_source: order_items {\n",
    "      column: order_id {}\n",
    "      column: user_id {}\n",
    "      column: order_count {}\n",
    "      column: total_revenue {}\n",
    "    }\n",
    "  }\n",
    "  dimension: order_id {\n",
    "    description: \"\"\n",
    "    type: number\n",
    "  }\n",
    "  dimension: user_id {\n",
    "    description: \"\"\n",
    "    type: number\n",
    "  }\n",
    "  dimension: order_count {\n",
    "    description: \"\"\n",
    "    type: number\n",
    "  }\n",
    "  dimension: total_revenue {\n",
    "    description: \"\"\n",
    "    value_format: \"$#,##0.00\"\n",
    "    type: number\n",
    "  }\n",
    "}\n"
   ]
  },
  {
   "cell_type": "markdown",
   "metadata": {},
   "source": [
    "+ Click Save Changes."
   ]
  },
  {
   "cell_type": "markdown",
   "metadata": {},
   "source": [
    "#### Commit changes and deploy to production"
   ]
  },
  {
   "cell_type": "markdown",
   "metadata": {},
   "source": [
    "+ Click Validate LookML and then click Commit Changes & Push.\n",
    "\n",
    "+ Add a commit message and click Commit.\n",
    "\n",
    "+ Lastly, click Deploy to Production."
   ]
  },
  {
   "cell_type": "markdown",
   "metadata": {},
   "source": [
    "### Join a new view to an Explore"
   ]
  },
  {
   "cell_type": "markdown",
   "metadata": {},
   "source": [
    "#### Join the view for the SQL derived table\n"
   ]
  },
  {
   "cell_type": "markdown",
   "metadata": {},
   "source": [
    "+ From the same page, click on the training_ecommerce.model file inside of the model folder to modify its contents.\n",
    "\n",
    "+ Locate the explore: order_items definition. Notice that there are several joins already defined such as the one for the users view.\n",
    "\n",
    "+ In the explore: order_items definition, above the existing join for users, add a new join for order_details by specifying:"
   ]
  },
  {
   "cell_type": "code",
   "execution_count": null,
   "metadata": {
    "vscode": {
     "languageId": "javascript"
    }
   },
   "outputs": [],
   "source": [
    "join: order_details {\n",
    "    type: left_outer\n",
    "    sql_on: ${order_items.order_id} = ${order_details.order_id};;\n",
    "    relationship: many_to_one\n",
    "  }"
   ]
  },
  {
   "cell_type": "markdown",
   "metadata": {},
   "source": [
    "+ Click Save Changes."
   ]
  },
  {
   "cell_type": "markdown",
   "metadata": {},
   "source": [
    "#### Review the data and generated SQL from the SQL derived table in the Explore"
   ]
  },
  {
   "cell_type": "markdown",
   "metadata": {},
   "source": [
    "+ On the Looker navigation menu, click Explore.\n",
    "\n",
    "+ Under E-Commerce Training, click Order Items.\n",
    "\n",
    "+ Click the arrow next to Order Details.\n",
    "\n",
    "+ Under Order Details > Dimensions, click Order ID, Order Item Count, Order Revenue, and User ID.\n",
    "\n",
    "+ Click Run to see the results.\n",
    "\n",
    "+ Click on the SQL tab to see the SQL query generated by Looker.\n",
    "\n",
    "+ Navigate back to the training_ecommerce.model file."
   ]
  },
  {
   "cell_type": "markdown",
   "metadata": {},
   "source": [
    "#### Commit changes and deploy to production"
   ]
  },
  {
   "cell_type": "markdown",
   "metadata": {},
   "source": [
    "+ Click Validate LookML and then click Commit Changes & Push.\n",
    "\n",
    "+ Add a commit message and click Commit.\n",
    "\n",
    "+ Lastly, click Deploy to Production."
   ]
  },
  {
   "cell_type": "markdown",
   "metadata": {},
   "source": [
    "### Persist a derived table"
   ]
  },
  {
   "cell_type": "markdown",
   "metadata": {},
   "source": [
    "#### Persist the native derived table"
   ]
  },
  {
   "cell_type": "markdown",
   "metadata": {},
   "source": [
    "+ On the Looker navigation menu, click the Develop tab and then select the qwiklabs-ecommerce LookML project.\n",
    "\n",
    "+ Click on the arrow next to views to see the list of views.\n",
    "\n",
    "+ Click order_details_summary.view to see the view file for the native derived table.\n",
    "\n",
    "+ In the derived_table definition, add a new line after the closing bracket (}) for explore_source: order_items, and paste:\n"
   ]
  },
  {
   "cell_type": "code",
   "execution_count": null,
   "metadata": {
    "vscode": {
     "languageId": "javascript"
    }
   },
   "outputs": [],
   "source": [
    "datagroup_trigger: training_ecommerce_default_datagroup"
   ]
  },
  {
   "cell_type": "markdown",
   "metadata": {},
   "source": [
    "#### Review the generated SQL for the persistent derived table in the Explore"
   ]
  },
  {
   "cell_type": "markdown",
   "metadata": {},
   "source": [
    "+ On the Looker navigation menu, click Explore.\n",
    "\n",
    "+ Under E-Commerce Training, click Order Items.\n",
    "\n",
    "+ Click the arrow next to Order Details.\n",
    "\n",
    "+ Under Order Details > Dimensions, click Order ID, Order Item Count, Order Revenue, and User ID.\n",
    "\n",
    "+ Click Run to see the results.\n",
    "\n",
    "+ Click on the SQL tab to see the SQL query generated by Looker."
   ]
  },
  {
   "cell_type": "code",
   "execution_count": null,
   "metadata": {
    "vscode": {
     "languageId": "sql"
    }
   },
   "outputs": [],
   "source": [
    "WITH order_details AS (SELECT\n",
    "        order_items.order_id AS order_id\n",
    "        ,order_items.user_id AS user_id\n",
    "        ,COUNT(*) AS order_item_count\n",
    "        ,SUM(order_items.sale_price) AS order_revenue\n",
    "      FROM cloud-training-demos.looker_ecomm.order_items\n",
    "      GROUP BY order_id, user_id\n",
    "       )\n",
    "SELECT\n",
    "    order_details.order_id  AS order_details_order_id,\n",
    "    order_details.order_item_count  AS order_details_order_item_count,\n",
    "    order_details.order_revenue  AS order_details_order_revenue,\n",
    "    order_details.user_id  AS order_details_user_id\n",
    "FROM `cloud-training-demos.looker_ecomm.order_items`\n",
    "     AS order_items\n",
    "LEFT JOIN order_details ON order_items.order_id = order_details.order_id\n",
    "GROUP BY\n",
    "    1,\n",
    "    2,\n",
    "    3,\n",
    "    4\n",
    "ORDER BY\n",
    "    1\n",
    "LIMIT 500"
   ]
  },
  {
   "cell_type": "markdown",
   "metadata": {},
   "source": [
    "+ Navigate back to the order_details_summary file"
   ]
  },
  {
   "cell_type": "markdown",
   "metadata": {},
   "source": [
    "#### Commit changes and deploy to production\n"
   ]
  },
  {
   "cell_type": "markdown",
   "metadata": {},
   "source": [
    "+ Click Validate LookML and then click Commit Changes & Push.\n",
    "\n",
    "+ Add a commit message and click Commit.\n",
    "\n",
    "+ Lastly, click Deploy to Production.\n"
   ]
  },
  {
   "cell_type": "markdown",
   "metadata": {},
   "source": [
    "***"
   ]
  },
  {
   "cell_type": "markdown",
   "metadata": {},
   "source": [
    "**<center><font size = \"6\">Filtering Explores with LookML<center>**\n",
    "***"
   ]
  },
  {
   "cell_type": "markdown",
   "metadata": {},
   "source": [
    "### Add an always_filter"
   ]
  },
  {
   "cell_type": "markdown",
   "metadata": {},
   "source": [
    "+ First, on the bottom left of the Looker User Interface, click the toggle button to enter Development mode.\n",
    "The Development Mode toggle switched to on.\n",
    "\n",
    "+ Next, click the Develop tab and then select the qwiklabs-ecommerce LookML project.\n",
    "\n",
    "+ Navigate to the training_ecommerce.model file in the qwiklab_ecommerce project. Notice that the Order Items Explore does not currently have any filters.\n",
    "\n",
    "+ Under the first line to define the Order Items Explore, add a new line and type always_filter followed by a colon (:) and curly braces ({}):\n",
    "\n",
    "+ Using the filters sub-parameter, define the filters to use status from the order_items table with a default value of “Complete” and country from the users table with a default value of “USA” using:\n"
   ]
  },
  {
   "cell_type": "code",
   "execution_count": null,
   "metadata": {
    "vscode": {
     "languageId": "javascript"
    }
   },
   "outputs": [],
   "source": [
    "connection: \"bigquery_public_data_looker\"\n",
    "\n",
    "# include all the views\n",
    "include: \"/views/*.view\"\n",
    "include: \"/z_tests/*.lkml\"\n",
    "include: \"/**/*.dashboard\"\n",
    "\n",
    "datagroup: training_ecommerce_default_datagroup {\n",
    "  # sql_trigger: SELECT MAX(id) FROM etl_log;;\n",
    "  max_cache_age: \"1 hour\"\n",
    "}\n",
    "\n",
    "persist_with: training_ecommerce_default_datagroup\n",
    "\n",
    "label: \"E-Commerce Training\"\n",
    "\n",
    "explore: order_items {\n",
    "  always_filter: {\n",
    "    filters: [order_items.status: \"Complete\", users.country: \"USA\"]\n",
    "  }\n",
    "  join: users {\n",
    "    type: left_outer\n",
    "    sql_on: ${order_items.user_id} = ${users.id} ;;\n",
    "    relationship: many_to_one\n",
    "  }\n",
    "\n",
    "  join: inventory_items {\n",
    "    type: left_outer\n",
    "    sql_on: ${order_items.inventory_item_id} = ${inventory_items.id} ;;\n",
    "    relationship: many_to_one\n",
    "  }\n",
    "\n",
    "  join: products {\n",
    "    type: left_outer\n",
    "    sql_on: ${inventory_items.product_id} = ${products.id} ;;\n",
    "    relationship: many_to_one\n",
    "  }\n",
    "\n",
    "  join: distribution_centers {\n",
    "    type: left_outer\n",
    "    sql_on: ${products.distribution_center_id} = ${distribution_centers.id} ;;\n",
    "    relationship: many_to_one\n",
    "  }\n",
    "}\n",
    "\n",
    "explore: events {\n",
    "  join: event_session_facts {\n",
    "    type: left_outer\n",
    "    sql_on: ${events.session_id} = ${event_session_facts.session_id} ;;\n",
    "    relationship: many_to_one\n",
    "  }\n",
    "  join: event_session_funnel {\n",
    "    type: left_outer\n",
    "    sql_on: ${events.session_id} = ${event_session_funnel.session_id} ;;\n",
    "    relationship: many_to_one\n",
    "  }\n",
    "  join: users {\n",
    "    type: left_outer\n",
    "    sql_on: ${events.user_id} = ${users.id} ;;\n",
    "    relationship: many_to_one\n",
    "  }\n",
    "}\n"
   ]
  },
  {
   "cell_type": "markdown",
   "metadata": {},
   "source": [
    "Note: Recall that while the a value for the filter is required, business users will be able to provide different values for these dimensions."
   ]
  },
  {
   "cell_type": "markdown",
   "metadata": {},
   "source": [
    "+ Click Save Changes.\n",
    "\n",
    "+ Click the caret next to the file title at the top of the IDE and then select Explore Order Items.\n",
    "\n",
    "+ Click on the arrow next to Filters to expand the window and see the two new filters with the default values:\n",
    "\n",
    "+ Under Order Items > Measures, click Order Count.\n",
    "\n",
    "+ Click Run. You should now see the number of completed order items within the USA. Notice how you cannot delete the filters, but you can modify them.\n",
    "\n",
    "+ Change the filters. For the Status filter, change it to Processing. For the Country filter, change it to the UK.\n",
    "\n",
    "+ Click Run. Your order items count should be updated along with the filters!\n",
    "\n",
    "+ Navigate back to the training_ecommerce.model file."
   ]
  },
  {
   "cell_type": "markdown",
   "metadata": {},
   "source": [
    "### Commit changes and deploy to production"
   ]
  },
  {
   "cell_type": "markdown",
   "metadata": {},
   "source": [
    "+ Click Validate LookML and then click Commit Changes & Push.\n",
    "\n",
    "+ Add a commit message and click Commit.\n",
    "\n",
    "+ Lastly, click Deploy to Production.\n"
   ]
  },
  {
   "cell_type": "markdown",
   "metadata": {},
   "source": [
    "### Add a sql_always_where filter"
   ]
  },
  {
   "cell_type": "markdown",
   "metadata": {},
   "source": [
    "+ Navigate back to the training_ecommerce.model file in the qwiklab_ecommerce project.\n",
    "\n",
    "+ Remove the filter you created in the previous section.\n",
    "\n",
    "+ Under the first line to define the Order Items Explore, add a new line and type sql_always_where followed by a colon (:):\n",
    "\n",
    "+ Add the following to your filter:\n",
    "\n",
    "+ Click Save Changes.\n",
    "\n",
    "+ Click the caret next to the file title at the top of the IDE and then select Explore Order Items."
   ]
  },
  {
   "cell_type": "code",
   "execution_count": null,
   "metadata": {
    "vscode": {
     "languageId": "javascript"
    }
   },
   "outputs": [],
   "source": [
    "connection: \"bigquery_public_data_looker\"\n",
    "\n",
    "# include all the views\n",
    "include: \"/views/*.view\"\n",
    "include: \"/z_tests/*.lkml\"\n",
    "include: \"/**/*.dashboard\"\n",
    "\n",
    "datagroup: training_ecommerce_default_datagroup {\n",
    "  # sql_trigger: SELECT MAX(id) FROM etl_log;;\n",
    "  max_cache_age: \"1 hour\"\n",
    "}\n",
    "\n",
    "persist_with: training_ecommerce_default_datagroup\n",
    "\n",
    "label: \"E-Commerce Training\"\n",
    "\n",
    "explore: order_items {\n",
    "  sql_always_where: ${created_date} >= '2021-01-01' ;;\n",
    "  join: users {\n",
    "    type: left_outer\n",
    "    sql_on: ${order_items.user_id} = ${users.id} ;;\n",
    "    relationship: many_to_one\n",
    "  }\n",
    "\n",
    "  join: inventory_items {\n",
    "    type: left_outer\n",
    "    sql_on: ${order_items.inventory_item_id} = ${inventory_items.id} ;;\n",
    "    relationship: many_to_one\n",
    "  }\n",
    "\n",
    "  join: products {\n",
    "    type: left_outer\n",
    "    sql_on: ${inventory_items.product_id} = ${products.id} ;;\n",
    "    relationship: many_to_one\n",
    "  }\n",
    "\n",
    "  join: distribution_centers {\n",
    "    type: left_outer\n",
    "    sql_on: ${products.distribution_center_id} = ${distribution_centers.id} ;;\n",
    "    relationship: many_to_one\n",
    "  }\n",
    "}\n",
    "\n",
    "explore: events {\n",
    "  join: event_session_facts {\n",
    "    type: left_outer\n",
    "    sql_on: ${events.session_id} = ${event_session_facts.session_id} ;;\n",
    "    relationship: many_to_one\n",
    "  }\n",
    "  join: event_session_funnel {\n",
    "    type: left_outer\n",
    "    sql_on: ${events.session_id} = ${event_session_funnel.session_id} ;;\n",
    "    relationship: many_to_one\n",
    "  }\n",
    "  join: users {\n",
    "    type: left_outer\n",
    "    sql_on: ${events.user_id} = ${users.id} ;;\n",
    "    relationship: many_to_one\n",
    "  }\n",
    "}\n"
   ]
  },
  {
   "cell_type": "markdown",
   "metadata": {},
   "source": [
    "Note: Note that you don't see any filters. A sql_always_where condition is not displayed to the user, unless they look at the underlying SQL of any queries that they create."
   ]
  },
  {
   "cell_type": "markdown",
   "metadata": {},
   "source": [
    "+ Under Order Items > Created Date, click Date.\n",
    "\n",
    "+ Under Order Items > Measures, click Order Count.\n",
    "\n",
    "+ Click Run. Notice that there are order items only from the date 2021-01-01 and later!\n",
    "\n",
    "+ On the Data bar, click the SQL tab. Notice there is the filter defined in the WHERE clause for all of the data."
   ]
  },
  {
   "cell_type": "code",
   "execution_count": null,
   "metadata": {
    "vscode": {
     "languageId": "sql"
    }
   },
   "outputs": [],
   "source": [
    "-- raw sql results do not include filled-in values for 'order_items.created_date'\n",
    "\n",
    "\n",
    "SELECT\n",
    "    (DATE(order_items.created_at )) AS order_items_created_date,\n",
    "    COUNT(DISTINCT order_items.order_id ) AS order_items_order_count\n",
    "FROM `cloud-training-demos.looker_ecomm.order_items`\n",
    "     AS order_items\n",
    "WHERE ((DATE(order_items.created_at )) >= '2021-01-01' )\n",
    "GROUP BY\n",
    "    1\n",
    "ORDER BY\n",
    "    1 DESC\n",
    "LIMIT 500"
   ]
  },
  {
   "cell_type": "markdown",
   "metadata": {},
   "source": [
    "+ Navigate back to the training_ecommerce.model file."
   ]
  },
  {
   "cell_type": "markdown",
   "metadata": {},
   "source": [
    "### Commit changes and deploy to production"
   ]
  },
  {
   "cell_type": "markdown",
   "metadata": {},
   "source": [
    "+ Click Validate LookML and then click Commit Changes & Push.\n",
    "\n",
    "+ Add a commit message and click Commit.\n",
    "\n",
    "+ Lastly, click Deploy to Production."
   ]
  },
  {
   "cell_type": "markdown",
   "metadata": {},
   "source": [
    "### Add a sql_always_having filter"
   ]
  },
  {
   "cell_type": "markdown",
   "metadata": {},
   "source": [
    "+ Navigate back to the training_ecommerce.model file in the qwiklab_ecommerce project.\n",
    "\n",
    "+ Remove the filter you created in the previous section.\n",
    "\n",
    "+ Under the first line to define the Order Items Explore, add a new line and type sql_always_having followed by a colon (:):\n",
    "\n",
    "+ Next, you will define the filter to only include the data with 1 order item, using the order_item_count measure:"
   ]
  },
  {
   "cell_type": "code",
   "execution_count": null,
   "metadata": {
    "vscode": {
     "languageId": "javascript"
    }
   },
   "outputs": [],
   "source": [
    "connection: \"bigquery_public_data_looker\"\n",
    "\n",
    "# include all the views\n",
    "include: \"/views/*.view\"\n",
    "include: \"/z_tests/*.lkml\"\n",
    "include: \"/**/*.dashboard\"\n",
    "\n",
    "datagroup: training_ecommerce_default_datagroup {\n",
    "  # sql_trigger: SELECT MAX(id) FROM etl_log;;\n",
    "  max_cache_age: \"1 hour\"\n",
    "}\n",
    "\n",
    "persist_with: training_ecommerce_default_datagroup\n",
    "\n",
    "label: \"E-Commerce Training\"\n",
    "\n",
    "explore: order_items {\n",
    "  sql_always_having: ${order_item_count} = 1 ;;\n",
    "  join: users {\n",
    "    type: left_outer\n",
    "    sql_on: ${order_items.user_id} = ${users.id} ;;\n",
    "    relationship: many_to_one\n",
    "  }\n",
    "\n",
    "  join: inventory_items {\n",
    "    type: left_outer\n",
    "    sql_on: ${order_items.inventory_item_id} = ${inventory_items.id} ;;\n",
    "    relationship: many_to_one\n",
    "  }\n",
    "\n",
    "  join: products {\n",
    "    type: left_outer\n",
    "    sql_on: ${inventory_items.product_id} = ${products.id} ;;\n",
    "    relationship: many_to_one\n",
    "  }\n",
    "\n",
    "  join: distribution_centers {\n",
    "    type: left_outer\n",
    "    sql_on: ${products.distribution_center_id} = ${distribution_centers.id} ;;\n",
    "    relationship: many_to_one\n",
    "  }\n",
    "}\n",
    "\n",
    "explore: events {\n",
    "  join: event_session_facts {\n",
    "    type: left_outer\n",
    "    sql_on: ${events.session_id} = ${event_session_facts.session_id} ;;\n",
    "    relationship: many_to_one\n",
    "  }\n",
    "  join: event_session_funnel {\n",
    "    type: left_outer\n",
    "    sql_on: ${events.session_id} = ${event_session_funnel.session_id} ;;\n",
    "    relationship: many_to_one\n",
    "  }\n",
    "  join: users {\n",
    "    type: left_outer\n",
    "    sql_on: ${events.user_id} = ${users.id} ;;\n",
    "    relationship: many_to_one\n",
    "  }\n",
    "}\n"
   ]
  },
  {
   "cell_type": "markdown",
   "metadata": {},
   "source": [
    "+ Click Save Changes.\n",
    "\n",
    "+ Click the caret next to the file title at the top of the IDE and then select Explore Order Items.\n",
    "\n",
    "Note: Again, notice that you don't see any filters. A sql_always_having condition condition is not displayed to the user, unless they look at the underlying SQL of any queries that they create.\n",
    "\n",
    "+ Under Order Items, click Order ID.\n",
    "\n",
    "+ Under Order Items > Measures, click Average Sale Price and Order Item Count.\n",
    "\n",
    "+ Click Run. You should see the different orders and their respective average sale prices. As you can see, the items count is always equal to 1!\n",
    "\n",
    "+ Navigate back to the training_ecommerce.model file."
   ]
  },
  {
   "cell_type": "markdown",
   "metadata": {},
   "source": [
    "### Commit changes and deploy to production\n",
    "\n",
    "+ Click Validate LookML and then click Commit Changes & Push.\n",
    "\n",
    "+ Add a commit message and click Commit.\n",
    "\n",
    "+ Lastly, click Deploy to Production."
   ]
  },
  {
   "cell_type": "markdown",
   "metadata": {},
   "source": [
    "### Add a conditionality_filter"
   ]
  },
  {
   "cell_type": "markdown",
   "metadata": {},
   "source": [
    "+ Navigate back to the training_ecommerce.model file in the qwiklab_ecommerce project.\n",
    "\n",
    "+ Remove the filter you created in the previous section.\n",
    "\n",
    "+ Under the first line to define the Order Items Explore, add a new line and type conditionally_filter followed by a colon (:) and curly braces ({}):\n",
    "\n",
    "+ Add the filters sub-parameter to define this filter.\n"
   ]
  },
  {
   "cell_type": "code",
   "execution_count": null,
   "metadata": {
    "vscode": {
     "languageId": "javascript"
    }
   },
   "outputs": [],
   "source": [
    "connection: \"bigquery_public_data_looker\"\n",
    "\n",
    "# include all the views\n",
    "include: \"/views/*.view\"\n",
    "include: \"/z_tests/*.lkml\"\n",
    "include: \"/**/*.dashboard\"\n",
    "\n",
    "datagroup: training_ecommerce_default_datagroup {\n",
    "  # sql_trigger: SELECT MAX(id) FROM etl_log;;\n",
    "  max_cache_age: \"1 hour\"\n",
    "}\n",
    "\n",
    "persist_with: training_ecommerce_default_datagroup\n",
    "\n",
    "label: \"E-Commerce Training\"\n",
    "\n",
    "explore: order_items {\n",
    "  conditionally_filter: {\n",
    "    filters: [created_date: \"3 years\"]\n",
    "    unless: [users.id, users.state]\n",
    "  }\n",
    "  join: users {\n",
    "    type: left_outer\n",
    "    sql_on: ${order_items.user_id} = ${users.id} ;;\n",
    "    relationship: many_to_one\n",
    "  }\n",
    "\n",
    "  join: inventory_items {\n",
    "    type: left_outer\n",
    "    sql_on: ${order_items.inventory_item_id} = ${inventory_items.id} ;;\n",
    "    relationship: many_to_one\n",
    "  }\n",
    "\n",
    "  join: products {\n",
    "    type: left_outer\n",
    "    sql_on: ${inventory_items.product_id} = ${products.id} ;;\n",
    "    relationship: many_to_one\n",
    "  }\n",
    "\n",
    "  join: distribution_centers {\n",
    "    type: left_outer\n",
    "    sql_on: ${products.distribution_center_id} = ${distribution_centers.id} ;;\n",
    "    relationship: many_to_one\n",
    "  }\n",
    "}\n",
    "\n",
    "explore: events {\n",
    "  join: event_session_facts {\n",
    "    type: left_outer\n",
    "    sql_on: ${events.session_id} = ${event_session_facts.session_id} ;;\n",
    "    relationship: many_to_one\n",
    "  }\n",
    "  join: event_session_funnel {\n",
    "    type: left_outer\n",
    "    sql_on: ${events.session_id} = ${event_session_funnel.session_id} ;;\n",
    "    relationship: many_to_one\n",
    "  }\n",
    "  join: users {\n",
    "    type: left_outer\n",
    "    sql_on: ${events.user_id} = ${users.id} ;;\n",
    "    relationship: many_to_one\n",
    "  }\n",
    "}\n"
   ]
  },
  {
   "cell_type": "markdown",
   "metadata": {},
   "source": [
    "+ Click Save Changes.\n",
    "\n",
    "+ Click the caret next to the file title at the top of the IDE and then select Explore Order Items.\n",
    "\n",
    "+ Click on the arrow next to Filters to expand the window and see the conditional filter you created. Success!\n",
    "\n",
    "+ Next, under Order Items, click Order ID.\n",
    "\n",
    "+ Under Order Items > Created Date, click Year.\n",
    "\n",
    "+ Under Order Items > Measures, click Average Sale Price.\n",
    "\n",
    "+ Click Run.\n",
    "\n",
    "+ You will now test the conditionality of the filter. Under Users, hover over State and click the filter button.\n",
    "\n",
    "+ In the filter window, set the State filter to: California.\n",
    "\n",
    "+ Click the X next to the other filter to delete it.\n",
    "\n",
    "+ Click Run again.\n",
    "\n",
    "+ Lastly, remove the State filter by clicking the X next to it to delete it. You will see the Created Date filter automatically appears again.\n",
    "\n",
    "+ Navigate back to the training_ecommerce.model file."
   ]
  },
  {
   "cell_type": "markdown",
   "metadata": {},
   "source": [
    "### Commit changes and deploy to production"
   ]
  },
  {
   "cell_type": "markdown",
   "metadata": {},
   "source": [
    "+ Click Validate LookML and then click Commit Changes & Push.\n",
    "\n",
    "+ Add a commit message and click Commit.\n",
    "\n",
    "+ Lastly, click Deploy to Production."
   ]
  },
  {
   "cell_type": "markdown",
   "metadata": {},
   "source": [
    "***"
   ]
  },
  {
   "cell_type": "markdown",
   "metadata": {},
   "source": [
    "**<center><font size = \"6\">Build LookML Objects in Looker: Challenge Lab<center>**\n",
    "***"
   ]
  },
  {
   "cell_type": "markdown",
   "metadata": {},
   "source": [
    "### Create dimensions and measures"
   ]
  },
  {
   "cell_type": "code",
   "execution_count": null,
   "metadata": {
    "vscode": {
     "languageId": "javascript"
    }
   },
   "outputs": [],
   "source": [
    "view: order_items {\n",
    "  sql_table_name: `cloud-training-demos.looker_ecomm.order_items`\n",
    "    ;;\n",
    "  drill_fields: [order_item_id]\n",
    "\n",
    "  dimension: order_item_id {\n",
    "    primary_key: yes\n",
    "    type: number\n",
    "    sql: ${TABLE}.id ;;\n",
    "  }\n",
    "\n",
    "  dimension_group: created {\n",
    "    type: time\n",
    "    timeframes: [\n",
    "      raw,\n",
    "      time,\n",
    "      date,\n",
    "      week,\n",
    "      month,\n",
    "      quarter,\n",
    "      year\n",
    "    ]\n",
    "    sql: ${TABLE}.created_at ;;\n",
    "  }\n",
    "\n",
    "  dimension_group: delivered {\n",
    "    type: time\n",
    "    timeframes: [\n",
    "      raw,\n",
    "      date,\n",
    "      week,\n",
    "      month,\n",
    "      quarter,\n",
    "      year\n",
    "    ]\n",
    "    convert_tz: no\n",
    "    datatype: date\n",
    "    sql: ${TABLE}.delivered_at ;;\n",
    "  }\n",
    "\n",
    "  dimension: inventory_item_id {\n",
    "    type: number\n",
    "    # hidden: yes\n",
    "    sql: ${TABLE}.inventory_item_id ;;\n",
    "  }\n",
    "\n",
    "  dimension: order_id {\n",
    "    type: number\n",
    "    sql: ${TABLE}.order_id ;;\n",
    "  }\n",
    "\n",
    "  dimension_group: returned {\n",
    "    type: time\n",
    "    timeframes: [\n",
    "      raw,\n",
    "      time,\n",
    "      date,\n",
    "      week,\n",
    "      month,\n",
    "      quarter,\n",
    "      year\n",
    "    ]\n",
    "    sql: ${TABLE}.returned_at ;;\n",
    "  }\n",
    "\n",
    "  dimension: sale_price {\n",
    "    type: number\n",
    "    sql: ${TABLE}.sale_price ;;\n",
    "  }\n",
    "\n",
    "  dimension_group: shipped {\n",
    "    type: time\n",
    "    timeframes: [\n",
    "      raw,\n",
    "      date,\n",
    "      week,\n",
    "      month,\n",
    "      quarter,\n",
    "      year\n",
    "    ]\n",
    "    convert_tz: no\n",
    "    datatype: date\n",
    "    sql: ${TABLE}.shipped_at ;;\n",
    "  }\n",
    "\n",
    "  dimension: status {\n",
    "    type: string\n",
    "    sql: ${TABLE}.status ;;\n",
    "  }\n",
    "\n",
    "  dimension: user_id {\n",
    "    type: number\n",
    "    # hidden: yes\n",
    "    sql: ${TABLE}.user_id ;;\n",
    "  }\n",
    "\n",
    "\n",
    "  measure: average_sale_price {\n",
    "    type: average\n",
    "    sql: ${sale_price} ;;\n",
    "    drill_fields: [detail*]\n",
    "    value_format_name: usd_0\n",
    "  }\n",
    "\n",
    "  measure: order_item_count {\n",
    "    type: count\n",
    "    drill_fields: [detail*]\n",
    "  }\n",
    "\n",
    "  measure: order_count {\n",
    "    type: count_distinct\n",
    "    sql: ${order_id} ;;\n",
    "  }\n",
    "\n",
    "  measure: total_revenue {\n",
    "    type: sum\n",
    "    sql: ${sale_price} ;;\n",
    "    value_format_name: usd\n",
    "  }\n",
    "\n",
    "  measure: total_revenue_from_completed_orders {\n",
    "    type: sum\n",
    "    sql: ${sale_price} ;;\n",
    "    filters: [status: \"Complete\"]\n",
    "    value_format_name: usd\n",
    "  }\n",
    "  \n",
    "  # dimension: is_search_source {\n",
    "  #   type: yesno\n",
    "  #   sql: ${users.traffic_source} = \"Search\" ;;\n",
    "  # }\n",
    "  \n",
    "  # measure: sales_from_complete_search_users {\n",
    "  #   type: sum\n",
    "  #   sql: ${TABLE}.sale_price ;;\n",
    "  #   filters: [order_items.is_search_source: \"Yes\", order_items.status: \"Complete\"]\n",
    "  # }\n",
    "  \n",
    "  # measure: total_gross_margin {\n",
    "  #   type: sum\n",
    "  #   sql: ${TABLE}.sale_price - ${products.cost};;\n",
    "  # }\n",
    "  \n",
    "  # dimension: return_days {\n",
    "  #   type: number\n",
    "  #   sql: DATE_DIFF(${returned_date}, ${delivered_date}, DAY);;\n",
    "  # }\n",
    "  \n",
    "  dimension: is_search_source {\n",
    "    type: yesno\n",
    "    sql: ${users.traffic_source} = \"Search\" ;;\n",
    "  }\n",
    "  \n",
    "  \n",
    "  measure: sales_from_complete_search_users {\n",
    "    type: sum\n",
    "    sql: ${TABLE}.sale_price ;;\n",
    "    filters: [is_search_source: \"Yes\", order_items.status: \"Complete\"]\n",
    "  }\n",
    "  \n",
    "  \n",
    "  measure: total_gross_margin {\n",
    "    type: sum\n",
    "    sql: ${TABLE}.sale_price - ${inventory_items.cost} ;;\n",
    "  }\n",
    "  \n",
    "  \n",
    "  dimension: return_days {\n",
    "    type: number\n",
    "    sql: DATE_DIFF(${order_items.delivered_date}, ${order_items.returned_date}, DAY);;\n",
    "  }\n",
    "  # ----- Sets of fields for drilling ------\n",
    "  set: detail {\n",
    "    fields: [\n",
    "      order_item_id,\n",
    "      users.last_name,\n",
    "      users.id,\n",
    "      users.first_name,\n",
    "      inventory_items.id,\n",
    "      inventory_items.product_name\n",
    "    ]\n",
    "  }\n",
    "}\n"
   ]
  },
  {
   "cell_type": "markdown",
   "metadata": {},
   "source": [
    "### Create a persistent derived table\n"
   ]
  },
  {
   "cell_type": "code",
   "execution_count": null,
   "metadata": {
    "vscode": {
     "languageId": "javascript"
    }
   },
   "outputs": [],
   "source": [
    "# If necessary, uncomment the line below to include explore_source.\n",
    "# include: \"training_ecommerce.model.lkml\"\n",
    "view: user_details {\n",
    "  derived_table: {\n",
    "    explore_source: order_items {\n",
    "      column: order_id {}\n",
    "      column: user_id {}\n",
    "      column: total_revenue {}\n",
    "      column: age { field:users.age }\n",
    "      column: city { field:users.city }\n",
    "      column: state { field:users.state }\n",
    "    }\n",
    "    # datagroup_trigger: training_ecommerce_default_datagroup\n",
    "  }\n",
    "  dimension: order_id {\n",
    "    description: \"\"\n",
    "    type: number\n",
    "  }\n",
    "  dimension: user_id {\n",
    "    description: \"\"\n",
    "    type: number\n",
    "  }\n",
    "  dimension: total_revenue {\n",
    "    description: \"\"\n",
    "    value_format: \"$#,##0.00\"\n",
    "    type: number\n",
    "  }\n",
    "  dimension: age {\n",
    "    description: \"\"\n",
    "    type: number\n",
    "  }\n",
    "  dimension: city {\n",
    "    description: \"\"\n",
    "  }\n",
    "  dimension: state {\n",
    "    description: \"\"\n",
    "  }\n",
    "}\n"
   ]
  },
  {
   "cell_type": "code",
   "execution_count": null,
   "metadata": {
    "vscode": {
     "languageId": "javascript"
    }
   },
   "outputs": [],
   "source": [
    "connection: \"bigquery_public_data_looker\"\n",
    "\n",
    "# include all the views\n",
    "include: \"/views/*.view\"\n",
    "include: \"/z_tests/*.lkml\"\n",
    "include: \"/**/*.dashboard\"\n",
    "\n",
    "datagroup: training_ecommerce_default_datagroup {\n",
    "  # sql_trigger: SELECT MAX(id) FROM etl_log;;\n",
    "  max_cache_age: \"1 hour\"\n",
    "}\n",
    "\n",
    "persist_with: training_ecommerce_default_datagroup\n",
    "\n",
    "label: \"E-Commerce Training\"\n",
    "\n",
    "explore: order_items {\n",
    "  join: users {\n",
    "    type: left_outer\n",
    "    sql_on: ${order_items.user_id} = ${users.id} ;;\n",
    "    relationship: many_to_one\n",
    "  }\n",
    "\n",
    "  join: inventory_items {\n",
    "    type: left_outer\n",
    "    sql_on: ${order_items.inventory_item_id} = ${inventory_items.id} ;;\n",
    "    relationship: many_to_one\n",
    "  }\n",
    "\n",
    "  join: products {\n",
    "    type: left_outer\n",
    "    sql_on: ${inventory_items.product_id} = ${products.id} ;;\n",
    "    relationship: many_to_one\n",
    "  }\n",
    "\n",
    "  join: distribution_centers {\n",
    "    type: left_outer\n",
    "    sql_on: ${products.distribution_center_id} = ${distribution_centers.id} ;;\n",
    "    relationship: many_to_one\n",
    "  }\n",
    "  join: user_details {\n",
    "    type: left_outer\n",
    "    sql_on: ${order_items.user_id} = ${user_details.user_id}id} ;;\n",
    "    relationship: many_to_one\n",
    "  }\n",
    "}\n",
    "\n",
    "explore: events {\n",
    "  join: event_session_facts {\n",
    "    type: left_outer\n",
    "    sql_on: ${events.session_id} = ${event_session_facts.session_id} ;;\n",
    "    relationship: many_to_one\n",
    "  }\n",
    "  join: event_session_funnel {\n",
    "    type: left_outer\n",
    "    sql_on: ${events.session_id} = ${event_session_funnel.session_id} ;;\n",
    "    relationship: many_to_one\n",
    "  }\n",
    "  join: users {\n",
    "    type: left_outer\n",
    "    sql_on: ${events.user_id} = ${users.id} ;;\n",
    "    relationship: many_to_one\n",
    "  }\n",
    "}\n"
   ]
  },
  {
   "cell_type": "markdown",
   "metadata": {},
   "source": [
    "### Use Explore filters"
   ]
  },
  {
   "cell_type": "code",
   "execution_count": null,
   "metadata": {
    "vscode": {
     "languageId": "javascript"
    }
   },
   "outputs": [],
   "source": [
    "connection: \"bigquery_public_data_looker\"\n",
    "\n",
    "# include all the views\n",
    "include: \"/views/*.view\"\n",
    "include: \"/z_tests/*.lkml\"\n",
    "include: \"/**/*.dashboard\"\n",
    "\n",
    "datagroup: training_ecommerce_default_datagroup {\n",
    "  # sql_trigger: SELECT MAX(id) FROM etl_log;;\n",
    "  max_cache_age: \"1 hour\"\n",
    "}\n",
    "\n",
    "persist_with: training_ecommerce_default_datagroup\n",
    "\n",
    "label: \"E-Commerce Training\"\n",
    "\n",
    "explore: order_items {\n",
    "  sql_always_where: ${sale_price} >= 148 ;;\n",
    "  join: users {\n",
    "    type: left_outer\n",
    "    sql_on: ${order_items.user_id} = ${users.id} ;;\n",
    "    relationship: many_to_one\n",
    "  }\n",
    "\n",
    "  join: inventory_items {\n",
    "    type: left_outer\n",
    "    sql_on: ${order_items.inventory_item_id} = ${inventory_items.id} ;;\n",
    "    relationship: many_to_one\n",
    "  }\n",
    "\n",
    "  join: products {\n",
    "    type: left_outer\n",
    "    sql_on: ${inventory_items.product_id} = ${products.id} ;;\n",
    "    relationship: many_to_one\n",
    "  }\n",
    "\n",
    "  join: distribution_centers {\n",
    "    type: left_outer\n",
    "    sql_on: ${products.distribution_center_id} = ${distribution_centers.id} ;;\n",
    "    relationship: many_to_one\n",
    "  }\n",
    "  join: user_details {\n",
    "    type: left_outer\n",
    "    sql_on: ${order_items.user_id} = ${user_details.user_id}id} ;;\n",
    "    relationship: many_to_one\n",
    "  }\n",
    "}\n",
    "\n",
    "explore: events {\n",
    "  join: event_session_facts {\n",
    "    type: left_outer\n",
    "    sql_on: ${events.session_id} = ${event_session_facts.session_id} ;;\n",
    "    relationship: many_to_one\n",
    "  }\n",
    "  join: event_session_funnel {\n",
    "    type: left_outer\n",
    "    sql_on: ${events.session_id} = ${event_session_funnel.session_id} ;;\n",
    "    relationship: many_to_one\n",
    "  }\n",
    "  join: users {\n",
    "    type: left_outer\n",
    "    sql_on: ${events.user_id} = ${users.id} ;;\n",
    "    relationship: many_to_one\n",
    "  }\n",
    "}\n"
   ]
  },
  {
   "cell_type": "code",
   "execution_count": null,
   "metadata": {
    "vscode": {
     "languageId": "javascript"
    }
   },
   "outputs": [],
   "source": [
    "connection: \"bigquery_public_data_looker\"\n",
    "\n",
    "# include all the views\n",
    "include: \"/views/*.view\"\n",
    "include: \"/z_tests/*.lkml\"\n",
    "include: \"/**/*.dashboard\"\n",
    "\n",
    "datagroup: training_ecommerce_default_datagroup {\n",
    "  # sql_trigger: SELECT MAX(id) FROM etl_log;;\n",
    "  max_cache_age: \"1 hour\"\n",
    "}\n",
    "\n",
    "persist_with: training_ecommerce_default_datagroup\n",
    "\n",
    "label: \"E-Commerce Training\"\n",
    "\n",
    "explore: order_items {\n",
    "  conditionally_filter: {\n",
    "    filters: [order_items.shipped_date: \"2018\"]\n",
    "    unless: [order_items.status, order_items.delivered_date]\n",
    "  }\n",
    "  join: users {\n",
    "    type: left_outer\n",
    "    sql_on: ${order_items.user_id} = ${users.id} ;;\n",
    "    relationship: many_to_one\n",
    "  }\n",
    "\n",
    "  join: inventory_items {\n",
    "    type: left_outer\n",
    "    sql_on: ${order_items.inventory_item_id} = ${inventory_items.id} ;;\n",
    "    relationship: many_to_one\n",
    "  }\n",
    "\n",
    "  join: products {\n",
    "    type: left_outer\n",
    "    sql_on: ${inventory_items.product_id} = ${products.id} ;;\n",
    "    relationship: many_to_one\n",
    "  }\n",
    "\n",
    "  join: distribution_centers {\n",
    "    type: left_outer\n",
    "    sql_on: ${products.distribution_center_id} = ${distribution_centers.id} ;;\n",
    "    relationship: many_to_one\n",
    "  }\n",
    "  join: user_details {\n",
    "    type: left_outer\n",
    "    sql_on: ${order_items.user_id} = ${user_details.user_id}id} ;;\n",
    "    relationship: many_to_one\n",
    "  }\n",
    "}\n",
    "\n",
    "explore: events {\n",
    "  join: event_session_facts {\n",
    "    type: left_outer\n",
    "    sql_on: ${events.session_id} = ${event_session_facts.session_id} ;;\n",
    "    relationship: many_to_one\n",
    "  }\n",
    "  join: event_session_funnel {\n",
    "    type: left_outer\n",
    "    sql_on: ${events.session_id} = ${event_session_funnel.session_id} ;;\n",
    "    relationship: many_to_one\n",
    "  }\n",
    "  join: users {\n",
    "    type: left_outer\n",
    "    sql_on: ${events.user_id} = ${users.id} ;;\n",
    "    relationship: many_to_one\n",
    "  }\n",
    "}\n"
   ]
  },
  {
   "cell_type": "code",
   "execution_count": null,
   "metadata": {
    "vscode": {
     "languageId": "javascript"
    }
   },
   "outputs": [],
   "source": [
    "connection: \"bigquery_public_data_looker\"\n",
    "\n",
    "# include all the views\n",
    "include: \"/views/*.view\"\n",
    "include: \"/z_tests/*.lkml\"\n",
    "include: \"/**/*.dashboard\"\n",
    "\n",
    "datagroup: training_ecommerce_default_datagroup {\n",
    "  # sql_trigger: SELECT MAX(id) FROM etl_log;;\n",
    "  max_cache_age: \"1 hour\"\n",
    "}\n",
    "\n",
    "persist_with: training_ecommerce_default_datagroup\n",
    "\n",
    "label: \"E-Commerce Training\"\n",
    "\n",
    "explore: order_items {\n",
    "  sql_always_having: ${average_sale_price} >= 96 ;;\n",
    "  join: users {\n",
    "    type: left_outer\n",
    "    sql_on: ${order_items.user_id} = ${users.id} ;;\n",
    "    relationship: many_to_one\n",
    "  }\n",
    "\n",
    "  join: inventory_items {\n",
    "    type: left_outer\n",
    "    sql_on: ${order_items.inventory_item_id} = ${inventory_items.id} ;;\n",
    "    relationship: many_to_one\n",
    "  }\n",
    "\n",
    "  join: products {\n",
    "    type: left_outer\n",
    "    sql_on: ${inventory_items.product_id} = ${products.id} ;;\n",
    "    relationship: many_to_one\n",
    "  }\n",
    "\n",
    "  join: distribution_centers {\n",
    "    type: left_outer\n",
    "    sql_on: ${products.distribution_center_id} = ${distribution_centers.id} ;;\n",
    "    relationship: many_to_one\n",
    "  }\n",
    "  join: user_details {\n",
    "    type: left_outer\n",
    "    sql_on: ${order_items.user_id} = ${user_details.user_id}id} ;;\n",
    "    relationship: many_to_one\n",
    "  }\n",
    "}\n",
    "\n",
    "explore: events {\n",
    "  join: event_session_facts {\n",
    "    type: left_outer\n",
    "    sql_on: ${events.session_id} = ${event_session_facts.session_id} ;;\n",
    "    relationship: many_to_one\n",
    "  }\n",
    "  join: event_session_funnel {\n",
    "    type: left_outer\n",
    "    sql_on: ${events.session_id} = ${event_session_funnel.session_id} ;;\n",
    "    relationship: many_to_one\n",
    "  }\n",
    "  join: users {\n",
    "    type: left_outer\n",
    "    sql_on: ${events.user_id} = ${users.id} ;;\n",
    "    relationship: many_to_one\n",
    "  }\n",
    "}\n"
   ]
  },
  {
   "cell_type": "code",
   "execution_count": null,
   "metadata": {
    "vscode": {
     "languageId": "javascript"
    }
   },
   "outputs": [],
   "source": [
    "connection: \"bigquery_public_data_looker\"\n",
    "\n",
    "# include all the views\n",
    "include: \"/views/*.view\"\n",
    "include: \"/z_tests/*.lkml\"\n",
    "include: \"/**/*.dashboard\"\n",
    "\n",
    "datagroup: training_ecommerce_default_datagroup {\n",
    "  # sql_trigger: SELECT MAX(id) FROM etl_log;;\n",
    "  max_cache_age: \"1 hour\"\n",
    "}\n",
    "\n",
    "persist_with: training_ecommerce_default_datagroup\n",
    "\n",
    "label: \"E-Commerce Training\"\n",
    "\n",
    "explore: order_items {\n",
    "  always_filter: {\n",
    "    filters: [order_items.status: \"Shipped\", users.state: \"California\", users.traffic_source: \"Search\"]\n",
    "  }\n",
    "  join: users {\n",
    "    type: left_outer\n",
    "    sql_on: ${order_items.user_id} = ${users.id} ;;\n",
    "    relationship: many_to_one\n",
    "  }\n",
    "\n",
    "  join: inventory_items {\n",
    "    type: left_outer\n",
    "    sql_on: ${order_items.inventory_item_id} = ${inventory_items.id} ;;\n",
    "    relationship: many_to_one\n",
    "  }\n",
    "\n",
    "  join: products {\n",
    "    type: left_outer\n",
    "    sql_on: ${inventory_items.product_id} = ${products.id} ;;\n",
    "    relationship: many_to_one\n",
    "  }\n",
    "\n",
    "  join: distribution_centers {\n",
    "    type: left_outer\n",
    "    sql_on: ${products.distribution_center_id} = ${distribution_centers.id} ;;\n",
    "    relationship: many_to_one\n",
    "  }\n",
    "  join: user_details {\n",
    "    type: left_outer\n",
    "    sql_on: ${order_items.user_id} = ${user_details.user_id}id} ;;\n",
    "    relationship: many_to_one\n",
    "  }\n",
    "}\n",
    "\n",
    "explore: events {\n",
    "  join: event_session_facts {\n",
    "    type: left_outer\n",
    "    sql_on: ${events.session_id} = ${event_session_facts.session_id} ;;\n",
    "    relationship: many_to_one\n",
    "  }\n",
    "  join: event_session_funnel {\n",
    "    type: left_outer\n",
    "    sql_on: ${events.session_id} = ${event_session_funnel.session_id} ;;\n",
    "    relationship: many_to_one\n",
    "  }\n",
    "  join: users {\n",
    "    type: left_outer\n",
    "    sql_on: ${events.user_id} = ${users.id} ;;\n",
    "    relationship: many_to_one\n",
    "  }\n",
    "}\n"
   ]
  },
  {
   "cell_type": "markdown",
   "metadata": {},
   "source": [
    "### Apply a datagroup to an Explore\n"
   ]
  },
  {
   "cell_type": "code",
   "execution_count": null,
   "metadata": {
    "vscode": {
     "languageId": "javascript"
    }
   },
   "outputs": [],
   "source": [
    "connection: \"bigquery_public_data_looker\"\n",
    "\n",
    "# include all the views\n",
    "include: \"/views/*.view\"\n",
    "include: \"/z_tests/*.lkml\"\n",
    "include: \"/**/*.dashboard\"\n",
    "\n",
    "datagroup: training_ecommerce_default_datagroup {\n",
    "  # sql_trigger: SELECT MAX(id) FROM etl_log;;\n",
    "  max_cache_age: \"6 hour\"\n",
    "}\n",
    "\n",
    "datagroup: order_items_challenge_datagroup {\n",
    "  sql_trigger: select max(order_items.id) from order_items ;;\n",
    "  max_cache_age: \"6 hour\"\n",
    "}\n",
    "\n",
    "persist_with: training_ecommerce_default_datagroup\n",
    "\n",
    "label: \"E-Commerce Training\"\n",
    "\n",
    "explore: order_items {\n",
    "  join: users {\n",
    "    type: left_outer\n",
    "    sql_on: ${order_items.user_id} = ${users.id} ;;\n",
    "    relationship: many_to_one\n",
    "  }\n",
    "\n",
    "  join: inventory_items {\n",
    "    type: left_outer\n",
    "    sql_on: ${order_items.inventory_item_id} = ${inventory_items.id} ;;\n",
    "    relationship: many_to_one\n",
    "  }\n",
    "\n",
    "  join: products {\n",
    "    type: left_outer\n",
    "    sql_on: ${inventory_items.product_id} = ${products.id} ;;\n",
    "    relationship: many_to_one\n",
    "  }\n",
    "\n",
    "  join: distribution_centers {\n",
    "    type: left_outer\n",
    "    sql_on: ${products.distribution_center_id} = ${distribution_centers.id} ;;\n",
    "    relationship: many_to_one\n",
    "  }\n",
    "  join: user_details {\n",
    "    type: left_outer\n",
    "    sql_on: ${order_items.user_id} = ${user_details.user_id}id} ;;\n",
    "    relationship: many_to_one\n",
    "  }\n",
    "}\n",
    "\n",
    "explore: events {\n",
    "  join: event_session_facts {\n",
    "    type: left_outer\n",
    "    sql_on: ${events.session_id} = ${event_session_facts.session_id} ;;\n",
    "    relationship: many_to_one\n",
    "  }\n",
    "  join: event_session_funnel {\n",
    "    type: left_outer\n",
    "    sql_on: ${events.session_id} = ${event_session_funnel.session_id} ;;\n",
    "    relationship: many_to_one\n",
    "  }\n",
    "  join: users {\n",
    "    type: left_outer\n",
    "    sql_on: ${events.user_id} = ${users.id} ;;\n",
    "    relationship: many_to_one\n",
    "  }\n",
    "}\n"
   ]
  }
 ],
 "metadata": {
  "kernelspec": {
   "display_name": "Python 3.9.9 64-bit",
   "language": "python",
   "name": "python3"
  },
  "language_info": {
   "codemirror_mode": {
    "name": "ipython",
    "version": 3
   },
   "file_extension": ".py",
   "mimetype": "text/x-python",
   "name": "python",
   "nbconvert_exporter": "python",
   "pygments_lexer": "ipython3",
   "version": "3.9.9"
  },
  "orig_nbformat": 4,
  "vscode": {
   "interpreter": {
    "hash": "aee8b7b246df8f9039afb4144a1f6fd8d2ca17a180786b69acc140d282b71a49"
   }
  }
 },
 "nbformat": 4,
 "nbformat_minor": 2
}
