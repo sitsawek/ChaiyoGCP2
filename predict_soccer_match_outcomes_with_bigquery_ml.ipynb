{
 "cells": [
  {
   "cell_type": "markdown",
   "metadata": {},
   "source": [
    "***"
   ]
  },
  {
   "cell_type": "markdown",
   "metadata": {},
   "source": [
    "**<center><font size = \"6\">Predict Soccer Match Outcomes with BigQuery ML<center>**\n",
    "***\n",
    "<center><font size = \"2\">Prepared by: Sitsawek Sukorn<center>"
   ]
  },
  {
   "cell_type": "markdown",
   "metadata": {},
   "source": [
    "### Query Player data"
   ]
  },
  {
   "cell_type": "code",
   "execution_count": null,
   "metadata": {
    "vscode": {
     "languageId": "sql"
    }
   },
   "outputs": [],
   "source": [
    "SELECT\n",
    "  (firstName || ' ' || lastName) AS player,\n",
    "  birthArea.name AS birthArea,\n",
    "  height\n",
    "FROM\n",
    "  `soccer.players`\n",
    "WHERE\n",
    "  role.name = 'Defender'\n",
    "ORDER BY\n",
    "  height DESC\n",
    "LIMIT 5"
   ]
  },
  {
   "cell_type": "markdown",
   "metadata": {},
   "source": [
    "### Query Events data"
   ]
  },
  {
   "cell_type": "code",
   "execution_count": null,
   "metadata": {
    "vscode": {
     "languageId": "sql"
    }
   },
   "outputs": [],
   "source": [
    "SELECT\n",
    "  eventId,\n",
    "  eventName,\n",
    "  COUNT(id) AS numEvents\n",
    "FROM\n",
    "  `soccer.events`\n",
    "GROUP BY\n",
    "  eventId, eventName\n",
    "ORDER BY\n",
    "  numEvents DESC"
   ]
  },
  {
   "cell_type": "markdown",
   "metadata": {},
   "source": [
    "***"
   ]
  },
  {
   "cell_type": "markdown",
   "metadata": {},
   "source": [
    "**<center><font size = \"6\">BigQuery Soccer Data Analysis<center>**\n",
    "***"
   ]
  },
  {
   "cell_type": "markdown",
   "metadata": {},
   "source": [
    "### Matches with the most goals"
   ]
  },
  {
   "cell_type": "code",
   "execution_count": null,
   "metadata": {
    "vscode": {
     "languageId": "sql"
    }
   },
   "outputs": [],
   "source": [
    "SELECT\n",
    " date,\n",
    " label,\n",
    " (team1.score + team2.score) AS totalGoals\n",
    "FROM\n",
    " `soccer.matches` Matches\n",
    "LEFT JOIN\n",
    " `soccer.competitions` Competitions ON\n",
    "   Matches.competitionId = Competitions.wyId\n",
    "WHERE\n",
    " status = 'Played' AND\n",
    " Competitions.name = 'Spanish first division'\n",
    "ORDER BY\n",
    " totalGoals DESC, date DESC"
   ]
  },
  {
   "cell_type": "markdown",
   "metadata": {},
   "source": [
    "### Players with the most passes"
   ]
  },
  {
   "cell_type": "code",
   "execution_count": null,
   "metadata": {
    "vscode": {
     "languageId": "sql"
    }
   },
   "outputs": [],
   "source": [
    "SELECT\n",
    " playerId,\n",
    " (Players.firstName || ' ' || Players.lastName) AS playerName,\n",
    " COUNT(id) AS numPasses\n",
    "FROM\n",
    " `soccer.events` Events\n",
    "LEFT JOIN\n",
    " `soccer.players` Players ON\n",
    "   Events.playerId = Players.wyId\n",
    "WHERE\n",
    " eventName = 'Pass'\n",
    "GROUP BY\n",
    " playerId, playerName\n",
    "ORDER BY\n",
    " numPasses DESC\n",
    "LIMIT 10"
   ]
  },
  {
   "cell_type": "markdown",
   "metadata": {},
   "source": [
    "### Determine penalty kick success rate"
   ]
  },
  {
   "cell_type": "code",
   "execution_count": null,
   "metadata": {
    "vscode": {
     "languageId": "sql"
    }
   },
   "outputs": [],
   "source": [
    "SELECT\n",
    " playerId,\n",
    " (Players.firstName || ' ' || Players.lastName) AS playerName,\n",
    " COUNT(id) AS numPKAtt,\n",
    " SUM(IF(101 IN UNNEST(tags.id), 1, 0)) AS numPKGoals,\n",
    " SAFE_DIVIDE(\n",
    "   SUM(IF(101 IN UNNEST(tags.id), 1, 0)),\n",
    "   COUNT(id)\n",
    "   ) AS PKSuccessRate\n",
    "FROM\n",
    " `soccer.events` Events\n",
    "LEFT JOIN\n",
    " `soccer.players` Players ON\n",
    "   Events.playerId = Players.wyId\n",
    "WHERE\n",
    " eventName = 'Free Kick' AND\n",
    " subEventName = 'Penalty'\n",
    "GROUP BY\n",
    " playerId, playerName\n",
    "HAVING\n",
    " numPkAtt >= 5\n",
    "ORDER BY\n",
    " PKSuccessRate DESC, numPKAtt DESC\n",
    "# The tags field in the events table uses BigQuery's array functionality (allowing more than 1 tag to be stored per event), so it must be unnested to determine if the kick was good or not (one can confirm that tag 101 represents a goal using the tags2name table).\n",
    "\n"
   ]
  },
  {
   "cell_type": "markdown",
   "metadata": {},
   "source": [
    "***"
   ]
  },
  {
   "cell_type": "markdown",
   "metadata": {},
   "source": [
    "**<center><font size = \"6\">BigQuery Soccer Data Analytical Insight<center>**\n",
    "***"
   ]
  },
  {
   "cell_type": "markdown",
   "metadata": {},
   "source": [
    "### Analyze nested soccer event data"
   ]
  },
  {
   "cell_type": "markdown",
   "metadata": {},
   "source": []
  }
 ],
 "metadata": {
  "kernelspec": {
   "display_name": "Python 3.9.9 64-bit",
   "language": "python",
   "name": "python3"
  },
  "language_info": {
   "codemirror_mode": {
    "name": "ipython",
    "version": 3
   },
   "file_extension": ".py",
   "mimetype": "text/x-python",
   "name": "python",
   "nbconvert_exporter": "python",
   "pygments_lexer": "ipython3",
   "version": "3.9.9"
  },
  "orig_nbformat": 4,
  "vscode": {
   "interpreter": {
    "hash": "aee8b7b246df8f9039afb4144a1f6fd8d2ca17a180786b69acc140d282b71a49"
   }
  }
 },
 "nbformat": 4,
 "nbformat_minor": 2
}
