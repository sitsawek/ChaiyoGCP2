{
 "cells": [
  {
   "cell_type": "markdown",
   "metadata": {},
   "source": [
    "***"
   ]
  },
  {
   "cell_type": "markdown",
   "metadata": {},
   "source": [
    "**<center><font size = \"6\">Predict Soccer Match Outcomes with BigQuery ML<center>**\n",
    "***\n",
    "<center><font size = \"2\">Prepared by: Sitsawek Sukorn<center>"
   ]
  },
  {
   "cell_type": "markdown",
   "metadata": {},
   "source": [
    "### Query Player data"
   ]
  },
  {
   "cell_type": "code",
   "execution_count": null,
   "metadata": {
    "vscode": {
     "languageId": "sql"
    }
   },
   "outputs": [],
   "source": [
    "SELECT\n",
    "  (firstName || ' ' || lastName) AS player,\n",
    "  birthArea.name AS birthArea,\n",
    "  height\n",
    "FROM\n",
    "  `soccer.players`\n",
    "WHERE\n",
    "  role.name = 'Defender'\n",
    "ORDER BY\n",
    "  height DESC\n",
    "LIMIT 5"
   ]
  },
  {
   "cell_type": "markdown",
   "metadata": {},
   "source": [
    "### Query Events data"
   ]
  },
  {
   "cell_type": "code",
   "execution_count": null,
   "metadata": {
    "vscode": {
     "languageId": "sql"
    }
   },
   "outputs": [],
   "source": [
    "SELECT\n",
    "  eventId,\n",
    "  eventName,\n",
    "  COUNT(id) AS numEvents\n",
    "FROM\n",
    "  `soccer.events`\n",
    "GROUP BY\n",
    "  eventId, eventName\n",
    "ORDER BY\n",
    "  numEvents DESC"
   ]
  },
  {
   "cell_type": "markdown",
   "metadata": {},
   "source": [
    "***"
   ]
  },
  {
   "cell_type": "markdown",
   "metadata": {},
   "source": [
    "**<center><font size = \"6\">BigQuery Soccer Data Analysis<center>**\n",
    "***"
   ]
  },
  {
   "cell_type": "markdown",
   "metadata": {},
   "source": [
    "### Matches with the most goals"
   ]
  },
  {
   "cell_type": "code",
   "execution_count": null,
   "metadata": {
    "vscode": {
     "languageId": "sql"
    }
   },
   "outputs": [],
   "source": [
    "SELECT\n",
    " date,\n",
    " label,\n",
    " (team1.score + team2.score) AS totalGoals\n",
    "FROM\n",
    " `soccer.matches` Matches\n",
    "LEFT JOIN\n",
    " `soccer.competitions` Competitions ON\n",
    "   Matches.competitionId = Competitions.wyId\n",
    "WHERE\n",
    " status = 'Played' AND\n",
    " Competitions.name = 'Spanish first division'\n",
    "ORDER BY\n",
    " totalGoals DESC, date DESC"
   ]
  },
  {
   "cell_type": "markdown",
   "metadata": {},
   "source": [
    "### Players with the most passes"
   ]
  },
  {
   "cell_type": "code",
   "execution_count": null,
   "metadata": {
    "vscode": {
     "languageId": "sql"
    }
   },
   "outputs": [],
   "source": [
    "SELECT\n",
    " playerId,\n",
    " (Players.firstName || ' ' || Players.lastName) AS playerName,\n",
    " COUNT(id) AS numPasses\n",
    "FROM\n",
    " `soccer.events` Events\n",
    "LEFT JOIN\n",
    " `soccer.players` Players ON\n",
    "   Events.playerId = Players.wyId\n",
    "WHERE\n",
    " eventName = 'Pass'\n",
    "GROUP BY\n",
    " playerId, playerName\n",
    "ORDER BY\n",
    " numPasses DESC\n",
    "LIMIT 10"
   ]
  },
  {
   "cell_type": "markdown",
   "metadata": {},
   "source": [
    "### Determine penalty kick success rate"
   ]
  },
  {
   "cell_type": "code",
   "execution_count": null,
   "metadata": {
    "vscode": {
     "languageId": "sql"
    }
   },
   "outputs": [],
   "source": [
    "SELECT\n",
    " playerId,\n",
    " (Players.firstName || ' ' || Players.lastName) AS playerName,\n",
    " COUNT(id) AS numPKAtt,\n",
    " SUM(IF(101 IN UNNEST(tags.id), 1, 0)) AS numPKGoals,\n",
    " SAFE_DIVIDE(\n",
    "   SUM(IF(101 IN UNNEST(tags.id), 1, 0)),\n",
    "   COUNT(id)\n",
    "   ) AS PKSuccessRate\n",
    "FROM\n",
    " `soccer.events` Events\n",
    "LEFT JOIN\n",
    " `soccer.players` Players ON\n",
    "   Events.playerId = Players.wyId\n",
    "WHERE\n",
    " eventName = 'Free Kick' AND\n",
    " subEventName = 'Penalty'\n",
    "GROUP BY\n",
    " playerId, playerName\n",
    "HAVING\n",
    " numPkAtt >= 5\n",
    "ORDER BY\n",
    " PKSuccessRate DESC, numPKAtt DESC\n",
    "# The tags field in the events table uses BigQuery's array functionality (allowing more than 1 tag to be stored per event), so it must be unnested to determine if the kick was good or not (one can confirm that tag 101 represents a goal using the tags2name table).\n",
    "\n"
   ]
  },
  {
   "cell_type": "markdown",
   "metadata": {},
   "source": [
    "***"
   ]
  },
  {
   "cell_type": "markdown",
   "metadata": {},
   "source": [
    "**<center><font size = \"6\">BigQuery Soccer Data Analytical Insight<center>**\n",
    "***"
   ]
  },
  {
   "cell_type": "markdown",
   "metadata": {},
   "source": [
    "### Analyze nested soccer event data"
   ]
  },
  {
   "cell_type": "code",
   "execution_count": null,
   "metadata": {
    "vscode": {
     "languageId": "sql"
    }
   },
   "outputs": [],
   "source": [
    "SELECT\n",
    " Events.playerId,\n",
    " (Players.firstName || ' ' || Players.lastName) AS playerName,\n",
    " SUM(IF(Tags2Name.Label = 'assist', 1, 0)) AS numAssists\n",
    "FROM\n",
    " `soccer.events` Events, # --> correlate cross join by comma\n",
    " Events.tags Tags\n",
    "LEFT JOIN\n",
    " `soccer.tags2name` Tags2Name ON\n",
    "   Tags.id = Tags2Name.Tag\n",
    "LEFT JOIN\n",
    " `soccer.players` Players ON\n",
    "   Events.playerId = Players.wyId\n",
    "GROUP BY\n",
    " playerId, playerName\n",
    "ORDER BY\n",
    " numAssists DESC"
   ]
  },
  {
   "cell_type": "markdown",
   "metadata": {},
   "source": [
    "### Calculate the average pass distance by team"
   ]
  },
  {
   "cell_type": "markdown",
   "metadata": {},
   "source": [
    "***Source***\n",
    "+ https://en.wikipedia.org/wiki/Football_pitch#/media/File:Football_pitch_metric_and_imperial.svg\n",
    "+ https://www.google.com/search?kgmid=/m/09t22&hl=en-US&q=Distance&kgs=0fb3bdb477ed608c&shndl=0&source=sh/x/kp/osrp/1&entrypoint=sh/x/kp/osrp\n",
    "+ From the data you can note that passes have 2 attributes (x, y) pairs representing the start and end position. Therefore pass distance can be calculated by calculating x- and y-coordinate differences, then converting to estimated meters using the average dimensions of a soccer field (105 x 68, per Wikipedia; there is no standard field size) and the 2-dimensional distance formula."
   ]
  },
  {
   "cell_type": "code",
   "execution_count": null,
   "metadata": {
    "vscode": {
     "languageId": "sql"
    }
   },
   "outputs": [],
   "source": [
    "WITH\n",
    "Passes AS\n",
    "(\n",
    " SELECT\n",
    "   *,\n",
    "   /* 1801 is known Tag for 'accurate' from tags2name table */\n",
    "   (1801 IN UNNEST(tags.id)) AS accuratePass,\n",
    "  \n",
    "   (CASE\n",
    "     WHEN ARRAY_LENGTH(positions) != 2 THEN NULL\n",
    "     ELSE\n",
    "  /* Translate 0-100 (x,y) coordinate-based distances to absolute positions\n",
    "  using \"average\" field dimensions of 105x68 before combining in 2D dist calc */\n",
    "       SQRT(\n",
    "         POW(\n",
    "           (positions[ORDINAL(2)].x - positions[ORDINAL(1)].x) * 105/100,\n",
    "           2) +\n",
    "         POW(\n",
    "           (positions[ORDINAL(2)].y - positions[ORDINAL(1)].y) * 68/100,\n",
    "           2)\n",
    "         )\n",
    "     END) AS passDistance\n",
    "  \n",
    " FROM\n",
    "   `soccer.events`\n",
    " \n",
    " WHERE\n",
    "   eventName = 'Pass'\n",
    ")\n",
    "SELECT\n",
    " Passes.teamId,\n",
    " Teams.name AS team,\n",
    " Teams.area.name AS teamArea,\n",
    " COUNT(Passes.Id) AS numPasses,\n",
    " AVG(Passes.passDistance) AS avgPassDistance,\n",
    " SAFE_DIVIDE(\n",
    "   SUM(IF(Passes.accuratePass, Passes.passDistance, 0)),\n",
    "   SUM(IF(Passes.accuratePass, 1, 0))\n",
    "   ) AS avgAccuratePassDistance\n",
    "FROM\n",
    " Passes\n",
    "LEFT JOIN\n",
    " `soccer.teams` Teams ON\n",
    "   Passes.teamId = Teams.wyId\n",
    "WHERE\n",
    " Teams.type = 'club'\n",
    "GROUP BY\n",
    " teamId, team, teamArea\n",
    "ORDER BY\n",
    " avgPassDistance"
   ]
  },
  {
   "cell_type": "markdown",
   "metadata": {},
   "source": [
    "### Analyze shot distance"
   ]
  },
  {
   "cell_type": "markdown",
   "metadata": {},
   "source": [
    "+ What impact does the distance of a shot have on the likelihood of a goal being scored?"
   ]
  },
  {
   "cell_type": "code",
   "execution_count": null,
   "metadata": {
    "vscode": {
     "languageId": "sql"
    }
   },
   "outputs": [],
   "source": [
    "WITH\n",
    "Shots AS\n",
    "(\n",
    " SELECT\n",
    "  *,\n",
    "  /* 101 is known Tag for 'goals' from goals table */\n",
    "  (101 IN UNNEST(tags.id)) AS isGoal,\n",
    "  /* Translate 0-100 (x,y) coordinate-based distances to absolute positions\n",
    "  using \"average\" field dimensions of 105x68 before combining in 2D dist calc */\n",
    "  SQRT(\n",
    "    POW(\n",
    "      (100 - positions[ORDINAL(1)].x) * 105/100,\n",
    "      2) +\n",
    "    POW(\n",
    "      (50 - positions[ORDINAL(1)].y) * 68/100,\n",
    "      2)\n",
    "     ) AS shotDistance\n",
    " FROM\n",
    "  `soccer.events`\n",
    " \n",
    " WHERE\n",
    "  /* Includes both \"open play\" & free kick shots (including penalties) */\n",
    "  eventName = 'Shot' OR\n",
    "  (eventName = 'Free Kick' AND subEventName IN ('Free kick shot', 'Penalty'))\n",
    ")\n",
    "SELECT\n",
    " ROUND(shotDistance, 0) AS ShotDistRound0,\n",
    " \n",
    " COUNT(*) AS numShots,\n",
    " SUM(IF(isGoal, 1, 0)) AS numGoals,\n",
    " AVG(IF(isGoal, 1, 0)) AS goalPct\n",
    "FROM\n",
    " Shots\n",
    "WHERE\n",
    " shotDistance <= 50\n",
    "GROUP BY\n",
    " ShotDistRound0\n",
    "ORDER BY\n",
    " ShotDistRound0"
   ]
  },
  {
   "cell_type": "markdown",
   "metadata": {},
   "source": [
    "### Analyze shot angle"
   ]
  },
  {
   "cell_type": "markdown",
   "metadata": {},
   "source": [
    "***Source***\n",
    "+ https://towardsdatascience.com/a-guide-to-expected-goals-63925ee71064\n",
    "+ c = sqrt(a**2 + b** -2ab cos(y))"
   ]
  },
  {
   "cell_type": "code",
   "execution_count": null,
   "metadata": {
    "vscode": {
     "languageId": "sql"
    }
   },
   "outputs": [],
   "source": [
    "WITH\n",
    "Shots AS\n",
    "(\n",
    " SELECT\n",
    "  *,\n",
    "  /* 101 is known Tag for 'goals' from goals table */\n",
    "  (101 IN UNNEST(tags.id)) AS isGoal,\n",
    "  /* Translate 0-100 (x,y) coordinates to absolute positions using \"average\"\n",
    "  field dimensions of 105x68 before using in various distance calcs;\n",
    "  LEAST used to cap shot locations to on-field (x, y) (i.e. no exact 100s) */\n",
    "  LEAST(positions[ORDINAL(1)].x, 99.99999) * 105/100 AS shotXAbs,\n",
    "  LEAST(positions[ORDINAL(1)].y, 99.99999) * 68/100 AS shotYAbs\n",
    " FROM\n",
    "   `soccer.events`\n",
    " \n",
    " WHERE\n",
    "   /* Includes both \"open play\" & free kick shots (including penalties) */\n",
    "   eventName = 'Shot' OR\n",
    "   (eventName = 'Free Kick' AND subEventName IN ('Free kick shot', 'Penalty'))\n",
    "),\n",
    "ShotsWithAngle AS\n",
    "(\n",
    " SELECT\n",
    "   Shots.*,\n",
    "   /* Law of cosines to get 'open' angle from shot location to goal, given\n",
    "    that goal opening is 7.32m, placed midway up at field end of (105, 34) */\n",
    "   SAFE.ACOS(\n",
    "     SAFE_DIVIDE(\n",
    "       ( /* Squared distance between shot and 1 post, in meters */\n",
    "         (POW(105 - shotXAbs, 2) + POW(34 + (7.32/2) - shotYAbs, 2)) +\n",
    "         /* Squared distance between shot and other post, in meters */\n",
    "         (POW(105 - shotXAbs, 2) + POW(34 - (7.32/2) - shotYAbs, 2)) -\n",
    "         /* Squared length of goal opening, in meters */\n",
    "         POW(7.32, 2)\n",
    "       ),\n",
    "       (2 *\n",
    "         /* Distance between shot and 1 post, in meters */\n",
    "         SQRT(POW(105 - shotXAbs, 2) + POW(34 + 7.32/2 - shotYAbs, 2)) *\n",
    "         /* Distance between shot and other post, in meters */\n",
    "         SQRT(POW(105 - shotXAbs, 2) + POW(34 - 7.32/2 - shotYAbs, 2))\n",
    "       )\n",
    "     )\n",
    "   /* Translate radians to degrees */\n",
    "   ) * 180 / ACOS(-1)\n",
    "   AS shotAngle\n",
    " FROM\n",
    "   Shots\n",
    ")\n",
    "SELECT\n",
    " ROUND(shotAngle, 0) AS ShotAngleRound0,\n",
    " \n",
    " COUNT(*) AS numShots,\n",
    " SUM(IF(isGoal, 1, 0)) AS numGoals,\n",
    " AVG(IF(isGoal, 1, 0)) AS goalPct\n",
    "FROM\n",
    " ShotsWithAngle\n",
    "GROUP BY\n",
    " ShotAngleRound0\n",
    "ORDER BY\n",
    " ShotAngleRound0"
   ]
  },
  {
   "cell_type": "markdown",
   "metadata": {},
   "source": [
    "***"
   ]
  },
  {
   "cell_type": "markdown",
   "metadata": {},
   "source": [
    "**<center><font size = \"6\">BigQuery Machine Learning using Soccer Data<center>**\n",
    "***"
   ]
  },
  {
   "cell_type": "markdown",
   "metadata": {},
   "source": [
    "### Calculate shot distance and shot angle"
   ]
  },
  {
   "cell_type": "markdown",
   "metadata": {},
   "source": [
    "+ Note: Calculating the distance of a shot from a given location to the goal involves using the midpoint of the goal mouth (100, 50) as the ending location, the known average dimensions of a soccer field (105x68, per Wikipedia; there is no standard field size) and the 2-dimensional distance formula."
   ]
  },
  {
   "cell_type": "code",
   "execution_count": null,
   "metadata": {
    "vscode": {
     "languageId": "sql"
    }
   },
   "outputs": [],
   "source": [
    "CREATE FUNCTION `soccer.GetShotDistanceToGoal`(x INT64, y INT64)\n",
    "RETURNS FLOAT64\n",
    "AS (\n",
    " /* Translate 0-100 (x,y) coordinate-based distances to absolute positions\n",
    " using \"average\" field dimensions of 105x68 before combining in 2D dist calc */\n",
    " SQRT(\n",
    "   POW((100 - x) * 105/100, 2) +\n",
    "   POW((50 - y) * 68/100, 2)\n",
    "   )\n",
    " );"
   ]
  },
  {
   "cell_type": "markdown",
   "metadata": {},
   "source": [
    "### Calculate shot angle from (x,y) coordinates"
   ]
  },
  {
   "cell_type": "code",
   "execution_count": null,
   "metadata": {
    "vscode": {
     "languageId": "sql"
    }
   },
   "outputs": [],
   "source": [
    "CREATE FUNCTION `soccer.GetShotAngleToGoal`(x INT64, y INT64)\n",
    "RETURNS FLOAT64\n",
    "AS (\n",
    " SAFE.ACOS(\n",
    "   /* Have to translate 0-100 (x,y) coordinates to absolute positions using\n",
    "   \"average\" field dimensions of 105x68 before using in various distance calcs */\n",
    "   SAFE_DIVIDE(\n",
    "     ( /* Squared distance between shot and 1 post, in meters */\n",
    "       (POW(105 - (x * 105/100), 2) + POW(34 + (7.32/2) - (y * 68/100), 2)) +\n",
    "       /* Squared distance between shot and other post, in meters */\n",
    "       (POW(105 - (x * 105/100), 2) + POW(34 - (7.32/2) - (y * 68/100), 2)) -\n",
    "       /* Squared length of goal opening, in meters */\n",
    "       POW(7.32, 2)\n",
    "     ),\n",
    "     (2 *\n",
    "       /* Distance between shot and 1 post, in meters */\n",
    "       SQRT(POW(105 - (x * 105/100), 2) + POW(34 + 7.32/2 - (y * 68/100), 2)) *\n",
    "       /* Distance between shot and other post, in meters */\n",
    "       SQRT(POW(105 - (x * 105/100), 2) + POW(34 - 7.32/2 - (y * 68/100), 2))\n",
    "     )\n",
    "    )\n",
    "  /* Translate radians to degrees */\n",
    "  ) * 180 / ACOS(-1)\n",
    " )\n",
    ";"
   ]
  },
  {
   "cell_type": "markdown",
   "metadata": {},
   "source": [
    "### Create expected goals models using BigQuery ML"
   ]
  },
  {
   "cell_type": "code",
   "execution_count": null,
   "metadata": {
    "vscode": {
     "languageId": "sql"
    }
   },
   "outputs": [],
   "source": [
    "CREATE MODEL `soccer.xg_logistic_reg_model`\n",
    "OPTIONS(\n",
    " model_type = 'LOGISTIC_REG',\n",
    " input_label_cols = ['isGoal']\n",
    " ) AS\n",
    "SELECT\n",
    " Events.subEventName AS shotType,\n",
    " /* 101 is known Tag for 'goals' from goals table */\n",
    " (101 IN UNNEST(Events.tags.id)) AS isGoal,\n",
    "  `soccer.GetShotDistanceToGoal`(Events.positions[ORDINAL(1)].x,\n",
    "   Events.positions[ORDINAL(1)].y) AS shotDistance,\n",
    " `soccer.GetShotAngleToGoal`(Events.positions[ORDINAL(1)].x,\n",
    "   Events.positions[ORDINAL(1)].y) AS shotAngle\n",
    "FROM\n",
    " `soccer.events` Events\n",
    "LEFT JOIN\n",
    " `soccer.matches` Matches ON\n",
    "   Events.matchId = Matches.wyId\n",
    "LEFT JOIN\n",
    " `soccer.competitions` Competitions ON\n",
    "   Matches.competitionId = Competitions.wyId\n",
    "WHERE\n",
    " /* Filter out World Cup matches for model fitting purposes */\n",
    " Competitions.name != 'World Cup' AND\n",
    " /* Includes both \"open play\" & free kick shots (including penalties) */\n",
    " (\n",
    "   eventName = 'Shot' OR\n",
    "   (eventName = 'Free Kick' AND subEventName IN ('Free kick shot', 'Penalty'))\n",
    " )\n",
    ";"
   ]
  },
  {
   "cell_type": "markdown",
   "metadata": {},
   "source": [
    "### Understanding the Logistic regression model fit"
   ]
  },
  {
   "cell_type": "code",
   "execution_count": null,
   "metadata": {
    "vscode": {
     "languageId": "sql"
    }
   },
   "outputs": [],
   "source": [
    "SELECT\n",
    " *\n",
    "FROM\n",
    " ML.WEIGHTS(MODEL soccer.xg_logistic_reg_model)\n",
    ";"
   ]
  },
  {
   "cell_type": "markdown",
   "metadata": {},
   "source": [
    "+ penalty weight = 1.14 --> if x * 1.14 --> has more higher chance to goal\n",
    "\n",
    "+ shot distance weight = -0.05 --> if x * -0.05 --> that mean if distance far that less chance to goal\n",
    "\n",
    "+ shot angle weight = 0.03 --> if x * 0.03 --> that mean if higher angle that get more chance to goal"
   ]
  },
  {
   "cell_type": "markdown",
   "metadata": {},
   "source": [
    "### Create a boosted tree model for expected goals"
   ]
  },
  {
   "cell_type": "markdown",
   "metadata": {},
   "source": [
    "+ In theory, boosted trees can be more accurate because of their ability to take into account nonlinear relationships between features and the outcome as well as interactions among features."
   ]
  },
  {
   "cell_type": "code",
   "execution_count": null,
   "metadata": {
    "vscode": {
     "languageId": "sql"
    }
   },
   "outputs": [],
   "source": [
    "CREATE MODEL `soccer.xg_boosted_tree_model`\n",
    "OPTIONS(\n",
    " model_type = 'BOOSTED_TREE_CLASSIFIER',\n",
    " input_label_cols = ['isGoal']\n",
    " ) AS\n",
    "SELECT\n",
    " Events.subEventName AS shotType,\n",
    " /* 101 is known Tag for 'goals' from goals table */\n",
    " (101 IN UNNEST(Events.tags.id)) AS isGoal,\n",
    "  `soccer.GetShotDistanceToGoal`(Events.positions[ORDINAL(1)].x,\n",
    "   Events.positions[ORDINAL(1)].y) AS shotDistance,\n",
    " `soccer.GetShotAngleToGoal`(Events.positions[ORDINAL(1)].x,\n",
    "   Events.positions[ORDINAL(1)].y) AS shotAngle\n",
    "FROM\n",
    " `soccer.events` Events\n",
    "LEFT JOIN\n",
    " `soccer.matches` Matches ON\n",
    "   Events.matchId = Matches.wyId\n",
    "LEFT JOIN\n",
    " `soccer.competitions` Competitions ON\n",
    "   Matches.competitionId = Competitions.wyId\n",
    "WHERE\n",
    " /* Filter out World Cup matches for model fitting purposes */\n",
    " Competitions.name != 'World Cup' AND\n",
    " /* Includes both \"open play\" & free kick shots (including penalties) */\n",
    " (\n",
    "   eventName = 'Shot' OR\n",
    "   (eventName = 'Free Kick' AND subEventName IN ('Free kick shot', 'Penalty'))\n",
    " )\n",
    ";"
   ]
  },
  {
   "cell_type": "markdown",
   "metadata": {},
   "source": [
    "### Apply an expected goals model to new data"
   ]
  },
  {
   "cell_type": "code",
   "execution_count": null,
   "metadata": {
    "vscode": {
     "languageId": "sql"
    }
   },
   "outputs": [],
   "source": [
    "SELECT\n",
    " *\n",
    "FROM\n",
    " ML.PREDICT(\n",
    "   MODEL `soccer.xg_logistic_reg_model`,   \n",
    "   (\n",
    "     SELECT\n",
    "       Events.subEventName AS shotType,\n",
    "       /* 101 is known Tag for 'goals' from goals table */\n",
    "       (101 IN UNNEST(Events.tags.id)) AS isGoal,\n",
    "      \n",
    "       `soccer.GetShotDistanceToGoal`(Events.positions[ORDINAL(1)].x,\n",
    "           Events.positions[ORDINAL(1)].y) AS shotDistance,\n",
    "       `soccer.GetShotAngleToGoal`(Events.positions[ORDINAL(1)].x,\n",
    "           Events.positions[ORDINAL(1)].y) AS shotAngle\n",
    "     FROM\n",
    "       `soccer.events` Events\n",
    "     LEFT JOIN\n",
    "       `soccer.matches` Matches ON\n",
    "           Events.matchId = Matches.wyId\n",
    "     LEFT JOIN\n",
    "       `soccer.competitions` Competitions ON\n",
    "           Matches.competitionId = Competitions.wyId\n",
    "     WHERE\n",
    "       /* Look only at World Cup matches for model predictions */\n",
    "       Competitions.name = 'World Cup' AND\n",
    "       /* Includes both \"open play\" & free kick shots (including penalties) */\n",
    "       (\n",
    "           eventName = 'Shot' OR\n",
    "           (eventName = 'Free Kick' AND subEventName IN ('Free kick shot', 'Penalty'))\n",
    "       )\n",
    "   )\n",
    " )"
   ]
  },
  {
   "cell_type": "markdown",
   "metadata": {},
   "source": [
    "### Identify most unlikely goals using model probabilities"
   ]
  },
  {
   "cell_type": "code",
   "execution_count": null,
   "metadata": {
    "vscode": {
     "languageId": "sql"
    }
   },
   "outputs": [],
   "source": [
    "SELECT\n",
    " predicted_isGoal_probs[ORDINAL(1)].prob AS predictedGoalProb,\n",
    " * EXCEPT (predicted_isGoal, predicted_isGoal_probs),\n",
    "FROM\n",
    " ML.PREDICT(\n",
    "   MODEL `soccer.xg_logistic_reg_model`,   \n",
    "   (\n",
    "     SELECT\n",
    "       Events.playerId,\n",
    "       (Players.firstName || ' ' || Players.lastName) AS playerName,\n",
    "       Teams.name AS teamName,\n",
    "       CAST(Matches.dateutc AS DATE) AS matchDate,\n",
    "       Matches.label AS match,\n",
    "     /* Convert match period and event seconds to minute of match */\n",
    "       CAST((CASE\n",
    "         WHEN Events.matchPeriod = '1H' THEN 0\n",
    "         WHEN Events.matchPeriod = '2H' THEN 45\n",
    "         WHEN Events.matchPeriod = 'E1' THEN 90\n",
    "         WHEN Events.matchPeriod = 'E2' THEN 105\n",
    "         ELSE 120\n",
    "         END) +\n",
    "         CEILING(Events.eventSec / 60) AS INT64)\n",
    "         AS matchMinute,\n",
    "       Events.subEventName AS shotType,\n",
    "       /* 101 is known Tag for 'goals' from goals table */\n",
    "       (101 IN UNNEST(Events.tags.id)) AS isGoal,\n",
    "      \n",
    "       `soccer.GetShotDistanceToGoal`(Events.positions[ORDINAL(1)].x,\n",
    "           Events.positions[ORDINAL(1)].y) AS shotDistance,\n",
    "       `soccer.GetShotAngleToGoal`(Events.positions[ORDINAL(1)].x,\n",
    "           Events.positions[ORDINAL(1)].y) AS shotAngle\n",
    "     FROM\n",
    "       `soccer.events` Events\n",
    "     LEFT JOIN\n",
    "       `soccer.matches` Matches ON\n",
    "           Events.matchId = Matches.wyId\n",
    "     LEFT JOIN\n",
    "       `soccer.competitions` Competitions ON\n",
    "           Matches.competitionId = Competitions.wyId\n",
    "     LEFT JOIN\n",
    "       `soccer.players` Players ON\n",
    "           Events.playerId = Players.wyId\n",
    "     LEFT JOIN\n",
    "       `soccer.teams` Teams ON\n",
    "           Events.teamId = Teams.wyId\n",
    "     WHERE\n",
    "       /* Look only at World Cup matches to apply model */\n",
    "       Competitions.name = 'World Cup' AND\n",
    "       /* Includes both \"open play\" & free kick shots (but not penalties) */\n",
    "       (\n",
    "         eventName = 'Shot' OR\n",
    "         (eventName = 'Free Kick' AND subEventName IN ('Free kick shot'))\n",
    "       ) AND\n",
    "       /* Filter only to goals scored */\n",
    "       (101 IN UNNEST(Events.tags.id))\n",
    "   )\n",
    " )\n",
    "ORDER BY\n",
    "  predictedgoalProb"
   ]
  },
  {
   "cell_type": "markdown",
   "metadata": {},
   "source": [
    "***"
   ]
  },
  {
   "cell_type": "markdown",
   "metadata": {},
   "source": [
    "**<center><font size = \"6\">Predict Soccer Match Outcomes with BigQuery ML: Challenge Lab<center>**\n",
    "***"
   ]
  },
  {
   "cell_type": "markdown",
   "metadata": {},
   "source": [
    "### Predict Soccer Match Outcomes with BigQuery ML: Challenge Lab"
   ]
  },
  {
   "cell_type": "markdown",
   "metadata": {},
   "source": [
    "### Analyze soccer data"
   ]
  },
  {
   "cell_type": "code",
   "execution_count": null,
   "metadata": {
    "vscode": {
     "languageId": "sql"
    }
   },
   "outputs": [],
   "source": [
    "SELECT\n",
    " playerId,\n",
    " (Players.firstName || ' ' || Players.lastName) AS playerName,\n",
    " COUNT(id) AS numPKAtt,\n",
    " SUM(IF(101 IN UNNEST(tags.id), 1, 0)) AS numPKGoals,\n",
    " SAFE_DIVIDE(\n",
    "   SUM(IF(101 IN UNNEST(tags.id), 1, 0)),\n",
    "   COUNT(id)\n",
    "   ) AS PKSuccessRate\n",
    "FROM\n",
    " `soccer.events851` Events\n",
    "LEFT JOIN\n",
    " `soccer.players` Players ON\n",
    "   Events.playerId = Players.wyId\n",
    "WHERE\n",
    " eventName = 'Free Kick' AND\n",
    " subEventName = 'Penalty'\n",
    "GROUP BY\n",
    " playerId, playerName\n",
    "HAVING\n",
    " numPkAtt >= 5\n",
    "ORDER BY\n",
    " PKSuccessRate DESC, numPKAtt DESC"
   ]
  },
  {
   "cell_type": "markdown",
   "metadata": {},
   "source": [
    "### Gain insight by analyzing soccer data"
   ]
  },
  {
   "cell_type": "code",
   "execution_count": null,
   "metadata": {
    "vscode": {
     "languageId": "sql"
    }
   },
   "outputs": [],
   "source": [
    "WITH\n",
    "Shots AS\n",
    "(\n",
    " SELECT\n",
    "  *,\n",
    "  /* 101 is known Tag for 'goals' from goals table */\n",
    "  (101 IN UNNEST(tags.id)) AS isGoal,\n",
    "  /* Translate 0-100 (x,y) coordinate-based distances to absolute positions\n",
    "  using \"average\" field dimensions of 105x68 before combining in 2D dist calc */\n",
    "  SQRT(\n",
    "    POW(\n",
    "      (110 - positions[ORDINAL(1)].x) * 106/100,\n",
    "      2) +\n",
    "    POW(\n",
    "      (55 - positions[ORDINAL(1)].y) * 58/100,\n",
    "      2)\n",
    "     ) AS shotDistance\n",
    " FROM\n",
    "  `soccer.events851`\n",
    " \n",
    " WHERE\n",
    "  /* Includes both \"open play\" & free kick shots (including penalties) */\n",
    "  eventName = 'Shot' OR\n",
    "  (eventName = 'Free Kick' AND subEventName IN ('Free kick shot', 'Penalty'))\n",
    ")\n",
    "SELECT\n",
    " ROUND(shotDistance, 0) AS ShotDistRound0,\n",
    " \n",
    " COUNT(*) AS numShots,\n",
    " SUM(IF(isGoal, 1, 0)) AS numGoals,\n",
    " AVG(IF(isGoal, 1, 0)) AS goalPct\n",
    "FROM\n",
    " Shots\n",
    "WHERE\n",
    " shotDistance <= 50\n",
    "GROUP BY\n",
    " ShotDistRound0\n",
    "ORDER BY\n",
    " ShotDistRound0"
   ]
  },
  {
   "cell_type": "markdown",
   "metadata": {},
   "source": [
    "### Create a regression model using soccer data"
   ]
  },
  {
   "cell_type": "markdown",
   "metadata": {},
   "source": [
    "#### Calculate shot distance from (x,y) coordinates"
   ]
  },
  {
   "cell_type": "code",
   "execution_count": null,
   "metadata": {
    "vscode": {
     "languageId": "sql"
    }
   },
   "outputs": [],
   "source": [
    "CREATE FUNCTION `soccer.GetShotDistanceToGoal851`(x INT64, y INT64)\n",
    "RETURNS FLOAT64\n",
    "AS (\n",
    " /* Translate 0-100 (x,y) coordinate-based distances to absolute positions\n",
    " using \"average\" field dimensions of 106x58 before combining in 2D dist calc */\n",
    " SQRT(\n",
    "   POW((110 - x) * 106/100, 2) +\n",
    "   POW((55 - y) * 58/100, 2)\n",
    "   )\n",
    " );"
   ]
  },
  {
   "cell_type": "markdown",
   "metadata": {},
   "source": [
    "#### Calculate shot angle from (x,y) coordinates"
   ]
  },
  {
   "cell_type": "code",
   "execution_count": null,
   "metadata": {
    "vscode": {
     "languageId": "sql"
    }
   },
   "outputs": [],
   "source": [
    "CREATE FUNCTION `soccer.GetShotAngleToGoal851`(x INT64, y INT64)\n",
    "RETURNS FLOAT64\n",
    "AS (\n",
    " SAFE.ACOS(\n",
    "   /* Have to translate 0-100 (x,y) coordinates to absolute positions using\n",
    "   \"average\" field dimensions of 106x58 before using in various distance calcs */\n",
    "   SAFE_DIVIDE(\n",
    "     ( /* Squared distance between shot and 1 post, in meters */\n",
    "       (POW(106 - (x * 106/100), 2) + POW(29 + (7.32/2) - (y * 58/100), 2)) +\n",
    "       /* Squared distance between shot and other post, in meters */\n",
    "       (POW(106 - (x * 106/100), 2) + POW(29 - (7.32/2) - (y * 58/100), 2)) -\n",
    "       /* Squared length of goal opening, in meters */\n",
    "       POW(7.32, 2)\n",
    "     ),\n",
    "     (2 *\n",
    "       /* Distance between shot and 1 post, in meters */\n",
    "       SQRT(POW(106 - (x * 106/100), 2) + POW(29 + 7.32/2 - (y * 58/100), 2)) *\n",
    "       /* Distance between shot and other post, in meters */\n",
    "       SQRT(POW(106 - (x * 106/100), 2) + POW(29 - 7.32/2 - (y * 58/100), 2))\n",
    "     )\n",
    "    )\n",
    "  /* Translate radians to degrees */\n",
    "  ) * 180 / ACOS(-1)\n",
    " )\n",
    ";"
   ]
  },
  {
   "cell_type": "markdown",
   "metadata": {},
   "source": [
    "### Create an expected goals model using BigQuery ML"
   ]
  },
  {
   "cell_type": "code",
   "execution_count": null,
   "metadata": {
    "vscode": {
     "languageId": "sql"
    }
   },
   "outputs": [],
   "source": [
    "CREATE MODEL `soccer.xg_logistic_reg_model_851`\n",
    "OPTIONS(\n",
    " model_type = 'LOGISTIC_REG',\n",
    " input_label_cols = ['isGoal']\n",
    " ) AS\n",
    "SELECT\n",
    " Events.subEventName AS shotType,\n",
    " /* 101 is known Tag for 'goals' from goals table */\n",
    " (101 IN UNNEST(Events.tags.id)) AS isGoal,\n",
    "  `soccer.GetShotDistanceToGoal851`(Events.positions[ORDINAL(1)].x,\n",
    "   Events.positions[ORDINAL(1)].y) AS shotDistance,\n",
    " `soccer.GetShotAngleToGoal851`(Events.positions[ORDINAL(1)].x,\n",
    "   Events.positions[ORDINAL(1)].y) AS shotAngle\n",
    "FROM\n",
    " `soccer.events851` Events\n",
    "LEFT JOIN\n",
    " `soccer.matches` Matches ON\n",
    "   Events.matchId = Matches.wyId\n",
    "LEFT JOIN\n",
    " `soccer.competitions` Competitions ON\n",
    "   Matches.competitionId = Competitions.wyId\n",
    "WHERE\n",
    " /* Filter out World Cup matches for model fitting purposes */\n",
    " Competitions.name != 'World Cup' AND\n",
    " /* Includes both \"open play\" & free kick shots (including penalties) */\n",
    " (\n",
    "   eventName = 'Shot' OR\n",
    "   (eventName = 'Free Kick' AND subEventName IN ('Free kick shot', 'Penalty'))\n",
    " )\n",
    ";"
   ]
  },
  {
   "cell_type": "markdown",
   "metadata": {},
   "source": [
    "### Make predictions from new data with the BigQuery model"
   ]
  },
  {
   "cell_type": "code",
   "execution_count": null,
   "metadata": {
    "vscode": {
     "languageId": "sql"
    }
   },
   "outputs": [],
   "source": [
    "SELECT\n",
    " *\n",
    "FROM\n",
    " ML.PREDICT(\n",
    "   MODEL `soccer.xg_logistic_reg_model_851`,   \n",
    "   (\n",
    "     SELECT\n",
    "       Events.subEventName AS shotType,\n",
    "       /* 101 is known Tag for 'goals' from goals table */\n",
    "       (101 IN UNNEST(Events.tags.id)) AS isGoal,\n",
    "      \n",
    "       `soccer.GetShotDistanceToGoal851`(Events.positions[ORDINAL(1)].x,\n",
    "           Events.positions[ORDINAL(1)].y) AS shotDistance,\n",
    "       `soccer.GetShotAngleToGoal851`(Events.positions[ORDINAL(1)].x,\n",
    "           Events.positions[ORDINAL(1)].y) AS shotAngle\n",
    "     FROM\n",
    "       `soccer.events851` Events\n",
    "     LEFT JOIN\n",
    "       `soccer.matches` Matches ON\n",
    "           Events.matchId = Matches.wyId\n",
    "     LEFT JOIN\n",
    "       `soccer.competitions` Competitions ON\n",
    "           Matches.competitionId = Competitions.wyId\n",
    "     WHERE\n",
    "       /* Look only at World Cup matches for model predictions */\n",
    "       Competitions.name = 'World Cup' AND\n",
    "       /* Includes both \"open play\" & free kick shots (including penalties) */\n",
    "       (\n",
    "           eventName = 'Shot' OR\n",
    "           (eventName = 'Free Kick' AND subEventName IN ('Free kick shot', 'Penalty'))\n",
    "       )\n",
    "   )\n",
    " )"
   ]
  }
 ],
 "metadata": {
  "kernelspec": {
   "display_name": "Python 3.9.9 64-bit",
   "language": "python",
   "name": "python3"
  },
  "language_info": {
   "codemirror_mode": {
    "name": "ipython",
    "version": 3
   },
   "file_extension": ".py",
   "mimetype": "text/x-python",
   "name": "python",
   "nbconvert_exporter": "python",
   "pygments_lexer": "ipython3",
   "version": "3.9.9"
  },
  "orig_nbformat": 4,
  "vscode": {
   "interpreter": {
    "hash": "aee8b7b246df8f9039afb4144a1f6fd8d2ca17a180786b69acc140d282b71a49"
   }
  }
 },
 "nbformat": 4,
 "nbformat_minor": 2
}
