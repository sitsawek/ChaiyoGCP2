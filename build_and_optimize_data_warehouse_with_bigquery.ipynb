{
 "cells": [
  {
   "cell_type": "markdown",
   "metadata": {},
   "source": [
    "***"
   ]
  },
  {
   "cell_type": "markdown",
   "metadata": {},
   "source": [
    "**<center><font size = \"6\">Build and Optimize Data Warehouses with BigQuery<center>**\n",
    "***\n",
    "<center><font size = \"2\">Prepared by: Sitsawek Sukorn<center>"
   ]
  },
  {
   "cell_type": "markdown",
   "metadata": {},
   "source": [
    "### BigQuery: Qwik Start - Command Line"
   ]
  },
  {
   "cell_type": "markdown",
   "metadata": {},
   "source": [
    "### Examine a table"
   ]
  },
  {
   "cell_type": "code",
   "execution_count": null,
   "metadata": {
    "vscode": {
     "languageId": "shellscript"
    }
   },
   "outputs": [],
   "source": [
    "# Run in shell \n",
    "bq show bigquery-public-data:samples.shakespeare"
   ]
  },
  {
   "cell_type": "markdown",
   "metadata": {},
   "source": [
    "+ bq to invoke the BigQuery command line tool\n",
    "+ show is the action\n",
    "+ Then you're listing the name of the project:public dataset.table in BigQuery that you want to see."
   ]
  },
  {
   "cell_type": "markdown",
   "metadata": {},
   "source": [
    "### Run the help command"
   ]
  },
  {
   "cell_type": "code",
   "execution_count": null,
   "metadata": {
    "vscode": {
     "languageId": "shellscript"
    }
   },
   "outputs": [],
   "source": [
    "bq help query"
   ]
  },
  {
   "cell_type": "markdown",
   "metadata": {},
   "source": [
    "### Run a query"
   ]
  },
  {
   "cell_type": "markdown",
   "metadata": {},
   "source": [
    "Now you'll run a query to see how many times the substring \"raisin\" appears in Shakespeare's works.\n",
    "\n",
    "+ To run a query, run the command bq query \"[SQL_STATEMENT]\":\n",
    "\n",
    "+ Escape any quotation marks inside the [SQL_STATEMENT] with a \\ mark, or\n",
    "\n",
    "+ Use a different quotation mark type than the surrounding marks (\"versus\").\n",
    "\n",
    "+ Run the following standard SQL query in Cloud Shell to count the number of times that the substring \"raisin\" appears in all of Shakespeare's works:"
   ]
  },
  {
   "cell_type": "code",
   "execution_count": null,
   "metadata": {
    "vscode": {
     "languageId": "shellscript"
    }
   },
   "outputs": [],
   "source": [
    "bq query --use_legacy_sql=false \\\n",
    "'SELECT\n",
    "   word,\n",
    "   SUM(word_count) AS count\n",
    " FROM\n",
    "   `bigquery-public-data`.samples.shakespeare\n",
    " WHERE\n",
    "   word LIKE \"%raisin%\"\n",
    " GROUP BY\n",
    "   word'"
   ]
  },
  {
   "cell_type": "markdown",
   "metadata": {},
   "source": [
    "+ --use_legacy_sql=false makes standard SQL the default query syntax."
   ]
  },
  {
   "cell_type": "markdown",
   "metadata": {},
   "source": [
    "+ If you search for a word that isn't in Shakespeare's works, no results are returned.\n",
    "\n",
    "+ Run the following search for \"huzzah\", returns no matches:\n",
    "\n"
   ]
  },
  {
   "cell_type": "code",
   "execution_count": null,
   "metadata": {
    "vscode": {
     "languageId": "shellscript"
    }
   },
   "outputs": [],
   "source": [
    "bq query --use_legacy_sql=false \\\n",
    "'SELECT\n",
    "   word\n",
    " FROM\n",
    "   `bigquery-public-data`.samples.shakespeare\n",
    " WHERE\n",
    "   word = \"huzzah\"'"
   ]
  },
  {
   "cell_type": "markdown",
   "metadata": {},
   "source": [
    "### Create a new table"
   ]
  },
  {
   "cell_type": "markdown",
   "metadata": {},
   "source": [
    "#### Create a new dataset\n",
    "+ Use the bq ls command to list any existing datasets in your project:"
   ]
  },
  {
   "cell_type": "code",
   "execution_count": null,
   "metadata": {
    "vscode": {
     "languageId": "shellscript"
    }
   },
   "outputs": [],
   "source": [
    "bq ls"
   ]
  },
  {
   "cell_type": "markdown",
   "metadata": {},
   "source": [
    "+ Run bq ls and the bigquery-public-data Project ID to list the datasets in that specific project, followed by a colon (:):"
   ]
  },
  {
   "cell_type": "code",
   "execution_count": null,
   "metadata": {
    "vscode": {
     "languageId": "shellscript"
    }
   },
   "outputs": [],
   "source": [
    "bq ls bigquery-public-data:"
   ]
  },
  {
   "cell_type": "markdown",
   "metadata": {},
   "source": [
    "+ Use the bq mk command to create a new dataset named babynames in your Qwiklabs project:"
   ]
  },
  {
   "cell_type": "code",
   "execution_count": null,
   "metadata": {
    "vscode": {
     "languageId": "shellscript"
    }
   },
   "outputs": [],
   "source": [
    "bq mk babynames"
   ]
  },
  {
   "cell_type": "markdown",
   "metadata": {},
   "source": [
    "+ Run bq ls to confirm that the dataset now appears as part of your project:"
   ]
  },
  {
   "cell_type": "code",
   "execution_count": null,
   "metadata": {
    "vscode": {
     "languageId": "shellscript"
    }
   },
   "outputs": [],
   "source": [
    "bq ls"
   ]
  },
  {
   "cell_type": "markdown",
   "metadata": {},
   "source": [
    "#### Upload the dataset"
   ]
  },
  {
   "cell_type": "markdown",
   "metadata": {},
   "source": [
    "+ Run this command to add the baby names zip file to your project, using the URL for the data file:"
   ]
  },
  {
   "cell_type": "code",
   "execution_count": null,
   "metadata": {
    "vscode": {
     "languageId": "shellscript"
    }
   },
   "outputs": [],
   "source": [
    "curl -LO http://www.ssa.gov/OACT/babynames/names.zip"
   ]
  },
  {
   "cell_type": "markdown",
   "metadata": {},
   "source": [
    "+ List the file:"
   ]
  },
  {
   "cell_type": "code",
   "execution_count": null,
   "metadata": {
    "vscode": {
     "languageId": "shellscript"
    }
   },
   "outputs": [],
   "source": [
    "ls"
   ]
  },
  {
   "cell_type": "markdown",
   "metadata": {},
   "source": [
    "+ Now unzip the file:"
   ]
  },
  {
   "cell_type": "code",
   "execution_count": null,
   "metadata": {
    "vscode": {
     "languageId": "shellscript"
    }
   },
   "outputs": [],
   "source": [
    "unzip names.zip"
   ]
  },
  {
   "cell_type": "markdown",
   "metadata": {},
   "source": [
    "+ That's a pretty big list of text files! List the files again:"
   ]
  },
  {
   "cell_type": "code",
   "execution_count": null,
   "metadata": {
    "vscode": {
     "languageId": "shellscript"
    }
   },
   "outputs": [],
   "source": [
    "ls"
   ]
  },
  {
   "cell_type": "markdown",
   "metadata": {},
   "source": [
    "+ Create your table:"
   ]
  },
  {
   "cell_type": "code",
   "execution_count": null,
   "metadata": {
    "vscode": {
     "languageId": "shellscript"
    }
   },
   "outputs": [],
   "source": [
    "bq load babynames.names2010 yob2010.txt name:string,gender:string,count:integer"
   ]
  },
  {
   "cell_type": "markdown",
   "metadata": {},
   "source": [
    "+ Run bq ls and babynames to confirm that the table now appears in your dataset:"
   ]
  },
  {
   "cell_type": "code",
   "execution_count": null,
   "metadata": {
    "vscode": {
     "languageId": "shellscript"
    }
   },
   "outputs": [],
   "source": [
    "bq ls babynames"
   ]
  },
  {
   "cell_type": "markdown",
   "metadata": {},
   "source": [
    "+ Run bq show and your dataset.table to see the schema:"
   ]
  },
  {
   "cell_type": "code",
   "execution_count": null,
   "metadata": {
    "vscode": {
     "languageId": "shellscript"
    }
   },
   "outputs": [],
   "source": [
    "bq show babynames.names2010"
   ]
  },
  {
   "cell_type": "markdown",
   "metadata": {},
   "source": [
    "+ Note: By default, when you load data, BigQuery expects UTF-8 encoded data. If you have data that is in ISO-8859-1 (or Latin-1) encoding and are having problems with your loaded data, you can tell BigQuery to treat your data as Latin-1 explicitly, using the -E flag. Learn more about Character Encodings from the Introduction to loading data guide."
   ]
  },
  {
   "cell_type": "markdown",
   "metadata": {},
   "source": [
    "### Run queries"
   ]
  },
  {
   "cell_type": "markdown",
   "metadata": {},
   "source": [
    "+ Run the following command to return the top 5 most popular girls names:"
   ]
  },
  {
   "cell_type": "code",
   "execution_count": null,
   "metadata": {
    "vscode": {
     "languageId": "shellscript"
    }
   },
   "outputs": [],
   "source": [
    "bq query \"SELECT name,count FROM babynames.names2010 WHERE gender = 'F' ORDER BY count DESC LIMIT 5\""
   ]
  },
  {
   "cell_type": "markdown",
   "metadata": {},
   "source": [
    "+ Run the following command to see the top 5 most unusual boys names:"
   ]
  },
  {
   "cell_type": "code",
   "execution_count": null,
   "metadata": {
    "vscode": {
     "languageId": "shellscript"
    }
   },
   "outputs": [],
   "source": [
    "bq query \"SELECT name,count FROM babynames.names2010 WHERE gender = 'M' ORDER BY count ASC LIMIT 5\""
   ]
  },
  {
   "cell_type": "markdown",
   "metadata": {},
   "source": [
    "+ Note: The minimum count is 5 because the source data omits names with fewer than 5 occurrences."
   ]
  },
  {
   "cell_type": "markdown",
   "metadata": {},
   "source": [
    "### Clean up"
   ]
  },
  {
   "cell_type": "markdown",
   "metadata": {},
   "source": [
    "+ Run the bq rm command to remove the babynames dataset with the -r flag to delete all tables in the dataset:"
   ]
  },
  {
   "cell_type": "code",
   "execution_count": null,
   "metadata": {
    "vscode": {
     "languageId": "shellscript"
    }
   },
   "outputs": [],
   "source": [
    "bq rm -r babynames"
   ]
  },
  {
   "cell_type": "markdown",
   "metadata": {},
   "source": [
    "+ Confirm the delete command by typing Y."
   ]
  },
  {
   "cell_type": "markdown",
   "metadata": {},
   "source": [
    "***"
   ]
  },
  {
   "cell_type": "markdown",
   "metadata": {},
   "source": [
    "**<center><font size = \"6\">Creating a Data Warehouse Through Joins and Unions<center>**\n",
    "***"
   ]
  },
  {
   "cell_type": "markdown",
   "metadata": {},
   "source": [
    "### Create a new dataset to store your tables"
   ]
  },
  {
   "cell_type": "markdown",
   "metadata": {},
   "source": [
    "First, create a new dataset titled ecommerce in BigQuery.\n",
    "\n",
    "+ In the left pane, click on the name of your BigQuery project (qwiklabs-gcp-xxxx).\n",
    "\n",
    "+ Click on the three dots next to your project name, then select CREATE DATASET.\n",
    "\n",
    "+ The Create dataset dialog opens.\n",
    "\n",
    "+ Set the Dataset ID to ecommerce, leave all other options at their default values.\n",
    "\n",
    "+ Click Create dataset.\n",
    "\n",
    "+ Click on the Disable Editor Tabs link to enable the Query Editor."
   ]
  },
  {
   "cell_type": "markdown",
   "metadata": {},
   "source": [
    "### Explore the product sentiment dataset"
   ]
  },
  {
   "cell_type": "markdown",
   "metadata": {},
   "source": [
    "+ First, create a copy the table that the data science team made so you can read it:\n",
    "\n"
   ]
  },
  {
   "cell_type": "code",
   "execution_count": null,
   "metadata": {
    "vscode": {
     "languageId": "sql"
    }
   },
   "outputs": [],
   "source": [
    "create or replace TABLE ecommerce.products AS\n",
    "SELECT\n",
    "*\n",
    "FROM\n",
    "`data-to-insights.ecommerce.products`"
   ]
  },
  {
   "cell_type": "markdown",
   "metadata": {},
   "source": [
    "+ Note: This is only for you to review, the queries in this lab will be using the data-to-insights project."
   ]
  },
  {
   "cell_type": "markdown",
   "metadata": {},
   "source": [
    "+ Click on the ecommerce dataset to display the products table."
   ]
  },
  {
   "cell_type": "markdown",
   "metadata": {},
   "source": [
    "#### Create a query that shows the top 5 products with the most positive sentiment"
   ]
  },
  {
   "cell_type": "markdown",
   "metadata": {},
   "source": [
    "+ In the Query Editor, write your SQL query."
   ]
  },
  {
   "cell_type": "code",
   "execution_count": null,
   "metadata": {
    "vscode": {
     "languageId": "sql"
    }
   },
   "outputs": [],
   "source": [
    "SELECT\n",
    "  SKU,\n",
    "  name,\n",
    "  sentimentScore,\n",
    "  sentimentMagnitude\n",
    "FROM\n",
    "  `data-to-insights.ecommerce.products`\n",
    "ORDER BY\n",
    "  sentimentScore DESC\n",
    "LIMIT 5"
   ]
  },
  {
   "cell_type": "markdown",
   "metadata": {},
   "source": [
    "+ Revise your query to show the top 5 products with the most negative sentiment and filter out NULL values."
   ]
  },
  {
   "cell_type": "code",
   "execution_count": null,
   "metadata": {
    "vscode": {
     "languageId": "sql"
    }
   },
   "outputs": [],
   "source": [
    "SELECT\n",
    "  SKU,\n",
    "  name,\n",
    "  sentimentScore,\n",
    "  sentimentMagnitude\n",
    "FROM\n",
    "  `data-to-insights.ecommerce.products`\n",
    "WHERE sentimentScore IS NOT NULL\n",
    "ORDER BY\n",
    "  sentimentScore\n",
    "LIMIT 5"
   ]
  },
  {
   "cell_type": "markdown",
   "metadata": {},
   "source": [
    "### Join datasets to find insights"
   ]
  },
  {
   "cell_type": "markdown",
   "metadata": {},
   "source": [
    "#### Calculate daily sales volume by productSKU"
   ]
  },
  {
   "cell_type": "markdown",
   "metadata": {},
   "source": [
    "+ Create a new table in your ecommerce dataset with the below requirements:\n",
    "\n",
    "- Title it sales_by_sku_20170801\n",
    "- Source the data from data-to-insights.ecommerce.all_sessions_raw\n",
    "- Include only distinct results\n",
    "- Return productSKU\n",
    "- Return the total quantity ordered (productQuantity). Hint: Use a SUM() with a IFNULL condition\n",
    "- Filter for only sales on 20170801\n",
    "- ORDER BY the SKUs with the most orders first"
   ]
  },
  {
   "cell_type": "code",
   "execution_count": null,
   "metadata": {
    "vscode": {
     "languageId": "sql"
    }
   },
   "outputs": [],
   "source": [
    "# pull what sold on 08/01/2017\n",
    "CREATE OR REPLACE TABLE ecommerce.sales_by_sku_20170801 AS\n",
    "SELECT DISTINCT\n",
    "  productSKU,\n",
    "  SUM(IFNULL(productQuantity,0)) AS total_ordered\n",
    "FROM\n",
    "  `data-to-insights.ecommerce.all_sessions_raw`\n",
    "WHERE date = '20170801'\n",
    "GROUP BY productSKU\n",
    "ORDER BY total_ordered DESC #462 skus sold"
   ]
  },
  {
   "cell_type": "markdown",
   "metadata": {},
   "source": [
    "+ Click on the sales_by_sku table, then click the Preview tab."
   ]
  },
  {
   "cell_type": "markdown",
   "metadata": {},
   "source": [
    "#### Join sales data and inventory data\n"
   ]
  },
  {
   "cell_type": "markdown",
   "metadata": {},
   "source": [
    "+ Using a JOIN, enrich the website ecommerce data with the following fields from the product inventory dataset:\n",
    "\n",
    "+ name\n",
    "\n",
    "+ stockLevel\n",
    "\n",
    "+ restockingLeadTime\n",
    "\n",
    "+ sentimentScore\n",
    "\n",
    "- sentimentMagnitude"
   ]
  },
  {
   "cell_type": "markdown",
   "metadata": {},
   "source": [
    "+ Complete the partially written query:"
   ]
  },
  {
   "cell_type": "code",
   "execution_count": null,
   "metadata": {
    "vscode": {
     "languageId": "sql"
    }
   },
   "outputs": [],
   "source": [
    "# join against product inventory to get name\n",
    "SELECT DISTINCT\n",
    "  website.productSKU,\n",
    "  website.total_ordered,\n",
    "  inventory.name,\n",
    "  inventory.stockLevel,\n",
    "  inventory.restockingLeadTime,\n",
    "  inventory.sentimentScore,\n",
    "  inventory.sentimentMagnitude\n",
    "FROM\n",
    "  ecommerce.sales_by_sku_20170801 AS website\n",
    "  LEFT JOIN `data-to-insights.ecommerce.products` AS inventory\n",
    "ORDER BY total_ordered DESC"
   ]
  },
  {
   "cell_type": "markdown",
   "metadata": {},
   "source": [
    "+ Possible solution:"
   ]
  },
  {
   "cell_type": "code",
   "execution_count": null,
   "metadata": {
    "vscode": {
     "languageId": "sql"
    }
   },
   "outputs": [],
   "source": [
    "# join against product inventory to get name\n",
    "SELECT DISTINCT\n",
    "  website.productSKU,\n",
    "  website.total_ordered,\n",
    "  inventory.name,\n",
    "  inventory.stockLevel,\n",
    "  inventory.restockingLeadTime,\n",
    "  inventory.sentimentScore,\n",
    "  inventory.sentimentMagnitude\n",
    "FROM\n",
    "  ecommerce.sales_by_sku_20170801 AS website\n",
    "  LEFT JOIN `data-to-insights.ecommerce.products` AS inventory\n",
    "  ON website.productSKU = inventory.SKU\n",
    "ORDER BY total_ordered DESC"
   ]
  },
  {
   "cell_type": "markdown",
   "metadata": {},
   "source": [
    "+ Modify the query you wrote to now include:"
   ]
  },
  {
   "cell_type": "markdown",
   "metadata": {},
   "source": [
    "+ A calculated field of (total_ordered / stockLevel) and alias it \"ratio\". Hint: Use SAFE_DIVIDE(field1,field2) to ***avoid divide by 0 errors*** when the stock level is 0.\n",
    "+ Filter the results to only include products that have gone through 50% or more of their inventory already at the beginning of the month"
   ]
  },
  {
   "cell_type": "markdown",
   "metadata": {},
   "source": [
    "+ Possible solution:"
   ]
  },
  {
   "cell_type": "code",
   "execution_count": null,
   "metadata": {
    "vscode": {
     "languageId": "sql"
    }
   },
   "outputs": [],
   "source": [
    "# calculate ratio and filter\n",
    "SELECT DISTINCT\n",
    "  website.productSKU,\n",
    "  website.total_ordered,\n",
    "  inventory.name,\n",
    "  inventory.stockLevel,\n",
    "  inventory.restockingLeadTime,\n",
    "  inventory.sentimentScore,\n",
    "  inventory.sentimentMagnitude,\n",
    "  SAFE_DIVIDE(website.total_ordered, inventory.stockLevel) AS ratio\n",
    "FROM\n",
    "  ecommerce.sales_by_sku_20170801 AS website\n",
    "  LEFT JOIN `data-to-insights.ecommerce.products` AS inventory\n",
    "  ON website.productSKU = inventory.SKU\n",
    "# gone through more than 50% of inventory for the month\n",
    "WHERE SAFE_DIVIDE(website.total_ordered,inventory.stockLevel) >= .50\n",
    "ORDER BY total_ordered DESC"
   ]
  },
  {
   "cell_type": "markdown",
   "metadata": {},
   "source": [
    "### Append additional records"
   ]
  },
  {
   "cell_type": "markdown",
   "metadata": {},
   "source": [
    "#### Create a new empty table to store sales by productSKU for 08/02/2017"
   ]
  },
  {
   "cell_type": "markdown",
   "metadata": {},
   "source": [
    "- For the schema, specify the following fields:\n",
    "\n",
    "- table name is ecommerce.sales_by_sku_20170802\n",
    "- productSKU STRING\n",
    "- total_ordered as an INT64 field"
   ]
  },
  {
   "cell_type": "markdown",
   "metadata": {},
   "source": [
    "+ Possible solution:"
   ]
  },
  {
   "cell_type": "code",
   "execution_count": null,
   "metadata": {
    "vscode": {
     "languageId": "sql"
    }
   },
   "outputs": [],
   "source": [
    "CREATE OR REPLACE TABLE ecommerce.sales_by_sku_20170802\n",
    "(\n",
    "productSKU STRING,\n",
    "total_ordered INT64\n",
    ");"
   ]
  },
  {
   "cell_type": "markdown",
   "metadata": {},
   "source": [
    "+ Confirm you now have two date-shared sales tables - use the dropdown menu next to the Sales_by_sku table name in the table results, or refresh your browser to see it listed in the left menu:"
   ]
  },
  {
   "cell_type": "markdown",
   "metadata": {},
   "source": [
    "+ Insert the sales record provided to you by your sales team:"
   ]
  },
  {
   "cell_type": "code",
   "execution_count": null,
   "metadata": {
    "vscode": {
     "languageId": "sql"
    }
   },
   "outputs": [],
   "source": [
    "INSERT INTO ecommerce.sales_by_sku_20170802\n",
    "(productSKU, total_ordered)\n",
    "VALUES('GGOEGHPA002910', 101)"
   ]
  },
  {
   "cell_type": "markdown",
   "metadata": {},
   "source": [
    "+ Confirm the record appears by previewing the table - click on the table name to see the results."
   ]
  },
  {
   "cell_type": "markdown",
   "metadata": {},
   "source": [
    "#### Append together historical data"
   ]
  },
  {
   "cell_type": "markdown",
   "metadata": {},
   "source": [
    "- There are multiple ways to append together data that has the same schema. Two common ways are using UNIONs and table wildcards.\n",
    "\n",
    "- Union is an SQL operator that appends together rows from different result sets.\n",
    "\n",
    "- Table wildcards enable you to query multiple tables using concise SQL statements. Wildcard tables are available only in standard SQL.\n",
    "\n",
    "- Write a UNION query that will result in all records from the below two tables:\n",
    "\n",
    "- ecommerce.sales_by_sku_20170801\n",
    "\n",
    "- ecommerce.sales_by_sku_20170802"
   ]
  },
  {
   "cell_type": "code",
   "execution_count": null,
   "metadata": {
    "vscode": {
     "languageId": "sql"
    }
   },
   "outputs": [],
   "source": [
    "SELECT * FROM ecommerce.sales_by_sku_20170801\n",
    "UNION ALL\n",
    "SELECT * FROM ecommerce.sales_by_sku_20170802"
   ]
  },
  {
   "cell_type": "markdown",
   "metadata": {},
   "source": [
    "+ Note: The difference between a UNION and UNION ALL is that a ***UNION will not include duplicate records***."
   ]
  },
  {
   "cell_type": "markdown",
   "metadata": {},
   "source": [
    "+ What is a pitfall of having many daily sales tables? You will have to write many UNION statements chained together.\n",
    "\n",
    "+ A better solution is to use the table wildcard filter and _TABLE_SUFFIX filter.\n",
    "\n",
    "+ Write a query that uses the (*) table wildcard to select all records from ecommerce.sales_by_sku_ for the year 201"
   ]
  },
  {
   "cell_type": "code",
   "execution_count": null,
   "metadata": {
    "vscode": {
     "languageId": "sql"
    }
   },
   "outputs": [],
   "source": [
    "SELECT * FROM `ecommerce.sales_by_sku_2017*`"
   ]
  },
  {
   "cell_type": "markdown",
   "metadata": {},
   "source": [
    "+ Modify the previous query to add a filter to limit the results to just 08/02/2017."
   ]
  },
  {
   "cell_type": "code",
   "execution_count": null,
   "metadata": {
    "vscode": {
     "languageId": "sql"
    }
   },
   "outputs": [],
   "source": [
    "SELECT * FROM `ecommerce.sales_by_sku_2017*`\n",
    "WHERE _TABLE_SUFFIX = '0802'"
   ]
  },
  {
   "cell_type": "markdown",
   "metadata": {},
   "source": [
    "+ Note: Another option to consider is to create a Partitioned Table which automatically can ingest daily sales data into the correct partition."
   ]
  },
  {
   "cell_type": "markdown",
   "metadata": {},
   "source": [
    "***"
   ]
  },
  {
   "cell_type": "markdown",
   "metadata": {},
   "source": [
    "**<center><font size = \"6\">Creating Date-Partitioned Tables in BigQuery<center>**\n",
    "***"
   ]
  },
  {
   "cell_type": "markdown",
   "metadata": {},
   "source": [
    "### Creating tables with date partitions"
   ]
  },
  {
   "cell_type": "markdown",
   "metadata": {},
   "source": [
    "#### Query webpage analytics for a sample of visitors in 2017"
   ]
  },
  {
   "cell_type": "markdown",
   "metadata": {},
   "source": [
    "+ In the Query Editor, add the below query:"
   ]
  },
  {
   "cell_type": "code",
   "execution_count": null,
   "metadata": {
    "vscode": {
     "languageId": "sql"
    }
   },
   "outputs": [],
   "source": [
    "#standardSQL\n",
    "SELECT DISTINCT\n",
    "  fullVisitorId,\n",
    "  date,\n",
    "  city,\n",
    "  pageTitle\n",
    "FROM `data-to-insights.ecommerce.all_sessions_raw`\n",
    "WHERE date = '20170708'\n",
    "LIMIT 5"
   ]
  },
  {
   "cell_type": "markdown",
   "metadata": {},
   "source": [
    "+ Click Run."
   ]
  },
  {
   "cell_type": "markdown",
   "metadata": {},
   "source": [
    "#### Query webpage analytics for a sample of visitors in 2018"
   ]
  },
  {
   "cell_type": "markdown",
   "metadata": {},
   "source": [
    "+ Let's modify the query to look at visitors for 2018 now.\n",
    "\n",
    "+ Click COMPOSE NEW QUERY to clear the Query Editor, then add this new query. Note the WHERE date parameter is changed to 20180708:"
   ]
  },
  {
   "cell_type": "code",
   "execution_count": null,
   "metadata": {
    "vscode": {
     "languageId": "sql"
    }
   },
   "outputs": [],
   "source": [
    "#standardSQL\n",
    "SELECT DISTINCT\n",
    "  fullVisitorId,\n",
    "  date,\n",
    "  city,\n",
    "  pageTitle\n",
    "FROM `data-to-insights.ecommerce.all_sessions_raw`\n",
    "WHERE date = '20180708'\n",
    "LIMIT 5"
   ]
  },
  {
   "cell_type": "markdown",
   "metadata": {},
   "source": [
    "+ Click Run."
   ]
  },
  {
   "cell_type": "markdown",
   "metadata": {},
   "source": [
    "#### Common use-cases for date-partitioned tables\n",
    "+ Scanning through the entire dataset everytime to compare rows against a WHERE condition is wasteful. This is especially true if you only really care about records for a specific period of time like:\n",
    "\n",
    "+ All transactions for the last year\n",
    "+ All visitor interactions within the last 7 days\n",
    "+ All products sold in the last month\n",
    "+ Instead of scanning the entire dataset and filtering on a date field like we did in the earlier queries, Now set up a date-partitioned table. This allows you to completely ignore scanning records in certain partitions if they are irrelevant to our query."
   ]
  },
  {
   "cell_type": "markdown",
   "metadata": {},
   "source": [
    "#### Create a new partitioned table based on date"
   ]
  },
  {
   "cell_type": "markdown",
   "metadata": {},
   "source": [
    "+ Click COMPOSE NEW QUERY , add the below query, then click Run:"
   ]
  },
  {
   "cell_type": "code",
   "execution_count": null,
   "metadata": {
    "vscode": {
     "languageId": "sql"
    }
   },
   "outputs": [],
   "source": [
    "#standardSQL\n",
    " CREATE OR REPLACE TABLE ecommerce.partition_by_day\n",
    " PARTITION BY date_formatted\n",
    " OPTIONS(\n",
    "   description=\"a table partitioned by date\"\n",
    " ) AS\n",
    " SELECT DISTINCT\n",
    " PARSE_DATE(\"%Y%m%d\", date) AS date_formatted,\n",
    " fullvisitorId\n",
    " FROM `data-to-insights.ecommerce.all_sessions_raw`"
   ]
  },
  {
   "cell_type": "markdown",
   "metadata": {},
   "source": [
    "+ Click on the ecommerce dataset, then select the new partiton_by_day table:"
   ]
  },
  {
   "cell_type": "markdown",
   "metadata": {},
   "source": [
    "+ Click on the Details tab."
   ]
  },
  {
   "cell_type": "markdown",
   "metadata": {},
   "source": [
    "+ Note: Partitions within partitioned tables on your lab account will auto-expire after 60 days from the value in your date column. Your personal Google Cloud account with billing-enabled will let you have partitioned tables that don't expire."
   ]
  },
  {
   "cell_type": "markdown",
   "metadata": {},
   "source": [
    "### View data processed with a partitioned table"
   ]
  },
  {
   "cell_type": "markdown",
   "metadata": {},
   "source": [
    "+ Run the below query, and note the total bytes to be processed:\n",
    "\n"
   ]
  },
  {
   "cell_type": "code",
   "execution_count": null,
   "metadata": {
    "vscode": {
     "languageId": "sql"
    }
   },
   "outputs": [],
   "source": [
    "#standardSQL\n",
    "SELECT *\n",
    "FROM `data-to-insights.ecommerce.partition_by_day`\n",
    "WHERE date_formatted = '2016-08-01'"
   ]
  },
  {
   "cell_type": "markdown",
   "metadata": {},
   "source": [
    "+ Now run the below query, and note the total bytes to be processed:"
   ]
  },
  {
   "cell_type": "code",
   "execution_count": null,
   "metadata": {
    "vscode": {
     "languageId": "sql"
    }
   },
   "outputs": [],
   "source": [
    "#standardSQL\n",
    "SELECT *\n",
    "FROM `data-to-insights.ecommerce.partition_by_day`\n",
    "WHERE date_formatted = '2018-07-08'"
   ]
  },
  {
   "cell_type": "markdown",
   "metadata": {},
   "source": [
    "+ You should see This query will process 0 B when run.\n",
    "\n"
   ]
  },
  {
   "cell_type": "markdown",
   "metadata": {},
   "source": [
    "### Creating an auto-expiring partitioned table"
   ]
  },
  {
   "cell_type": "markdown",
   "metadata": {},
   "source": [
    "#### Explore the available NOAA weather data tables"
   ]
  },
  {
   "cell_type": "markdown",
   "metadata": {},
   "source": [
    "+ In the left menu, in Explorer, click on Add Data and select Explore public datasets.\n",
    "\n",
    "+ Search for \"GSOD NOAA\" then select the dataset.\n",
    "\n",
    "+ Click on View Dataset.\n",
    "\n",
    "+ (Need to copy before see data but google not mention this!)\n",
    "\n",
    "+ Scroll through the tables in the noaa_gsod dataset (which are manually sharded and not partitioned):"
   ]
  },
  {
   "cell_type": "markdown",
   "metadata": {},
   "source": [
    "Your goal is to create a table that:\n",
    "\n",
    "+ Queries on weather data from 2018 onward\n",
    "\n",
    "+ Filters to only include days that have had some precipitation (rain, snow, etc.)\n",
    "\n",
    "+ Only stores each partition of data for 90 days from that partition's date (rolling window)"
   ]
  },
  {
   "cell_type": "markdown",
   "metadata": {},
   "source": [
    "+ First, copy and paste this below query:"
   ]
  },
  {
   "cell_type": "code",
   "execution_count": null,
   "metadata": {
    "vscode": {
     "languageId": "sql"
    }
   },
   "outputs": [],
   "source": [
    "#standardSQL\n",
    " SELECT\n",
    "   DATE(CAST(year AS INT64), CAST(mo AS INT64), CAST(da AS INT64)) AS date,\n",
    "   (SELECT ANY_VALUE(name) FROM `bigquery-public-data.noaa_gsod.stations` AS stations\n",
    "    WHERE stations.usaf = stn) AS station_name,  -- Stations may have multiple names\n",
    "   prcp\n",
    " FROM `bigquery-public-data.noaa_gsod.gsod*` AS weather\n",
    " WHERE prcp < 99.9  -- Filter unknown values\n",
    "   AND prcp > 0      -- Filter stations/days with no precipitation\n",
    "   AND _TABLE_SUFFIX >= '2018'\n",
    " ORDER BY date DESC -- Where has it rained/snowed recently\n",
    " LIMIT 10"
   ]
  },
  {
   "cell_type": "markdown",
   "metadata": {},
   "source": [
    "+ Note: The table wildcard * used in the FROM clause to limit the amount of tables referred to in the TABLE_SUFFIX filter."
   ]
  },
  {
   "cell_type": "markdown",
   "metadata": {},
   "source": [
    "+ Note: Although a LIMIT 10 was added, this still does not reduce the total amount of data scanned (about 1.83 GB) since there are no partitions yet.\n"
   ]
  },
  {
   "cell_type": "markdown",
   "metadata": {},
   "source": [
    "+ Click Run.\n",
    "\n",
    "+ Confirm the date is properly formatted and the precipitation field is showing non-zero values."
   ]
  },
  {
   "cell_type": "markdown",
   "metadata": {},
   "source": [
    "### Your turn: create a partitioned table"
   ]
  },
  {
   "cell_type": "markdown",
   "metadata": {},
   "source": [
    "+ Modify the previous query to create a table with the below specifications:\n",
    "\n",
    "- Table name: ecommerce.days_with_rain\n",
    "- Use the date field as your PARTITION BY\n",
    "- For OPTIONS, specify partition_expiration_days = 60\n",
    "- Add the table description = \"weather stations with precipitation, partitioned by day\""
   ]
  },
  {
   "cell_type": "code",
   "execution_count": null,
   "metadata": {
    "vscode": {
     "languageId": "sql"
    }
   },
   "outputs": [],
   "source": [
    "#standardSQL\n",
    " CREATE OR REPLACE TABLE ecommerce.days_with_rain\n",
    " PARTITION BY date\n",
    " OPTIONS (\n",
    "   partition_expiration_days=60,\n",
    "   description=\"weather stations with precipitation, partitioned by day\"\n",
    " ) AS\n",
    " SELECT\n",
    "   DATE(CAST(year AS INT64), CAST(mo AS INT64), CAST(da AS INT64)) AS date,\n",
    "   (SELECT ANY_VALUE(name) FROM `bigquery-public-data.noaa_gsod.stations` AS stations\n",
    "    WHERE stations.usaf = stn) AS station_name,  -- Stations may have multiple names\n",
    "   prcp\n",
    " FROM `bigquery-public-data.noaa_gsod.gsod*` AS weather\n",
    " WHERE prcp < 99.9  -- Filter unknown values\n",
    "   AND prcp > 0      -- Filter\n",
    "   AND _TABLE_SUFFIX >= '2018'"
   ]
  },
  {
   "cell_type": "markdown",
   "metadata": {},
   "source": [
    "#### Confirm data partition expiration is working"
   ]
  },
  {
   "cell_type": "markdown",
   "metadata": {},
   "source": [
    "+ To confirm you are only storing data from 60 days in the past up until today, run the DATE_DIFF query to get the age of your partitions, which are set to expire after 60 days.\n",
    "\n",
    "+ Below is a query which tracks the average rainfall for the NOAA weather station in Wakayama, Japan which has significant precipitation."
   ]
  },
  {
   "cell_type": "code",
   "execution_count": null,
   "metadata": {
    "vscode": {
     "languageId": "sql"
    }
   },
   "outputs": [],
   "source": [
    "#standardSQL\n",
    "# avg monthly precipitation\n",
    "SELECT\n",
    "  AVG(prcp) AS average,\n",
    "  station_name,\n",
    "  date,\n",
    "  CURRENT_DATE() AS today,\n",
    "  DATE_DIFF(CURRENT_DATE(), date, DAY) AS partition_age,\n",
    "  EXTRACT(MONTH FROM date) AS month\n",
    "FROM ecommerce.days_with_rain\n",
    "WHERE station_name = 'WAKAYAMA' #Japan\n",
    "GROUP BY station_name, date, today, month, partition_age\n",
    "ORDER BY date DESC; # most recent days first"
   ]
  },
  {
   "cell_type": "markdown",
   "metadata": {},
   "source": [
    "### Confirm the oldest partition_age is at or below 60 days"
   ]
  },
  {
   "cell_type": "markdown",
   "metadata": {},
   "source": [
    "+ Update the ORDER BY clause to show the oldest partitions first."
   ]
  },
  {
   "cell_type": "code",
   "execution_count": null,
   "metadata": {
    "vscode": {
     "languageId": "sql"
    }
   },
   "outputs": [],
   "source": [
    "#standardSQL\n",
    "# avg monthly precipitation\n",
    "SELECT\n",
    "  AVG(prcp) AS average,\n",
    "  station_name,\n",
    "  date,\n",
    "  CURRENT_DATE() AS today,\n",
    "  DATE_DIFF(CURRENT_DATE(), date, DAY) AS partition_age,\n",
    "  EXTRACT(MONTH FROM date) AS month\n",
    "FROM ecommerce.days_with_rain\n",
    "WHERE station_name = 'WAKAYAMA' #Japan\n",
    "GROUP BY station_name, date, today, month, partition_age\n",
    "ORDER BY partition_age DESC"
   ]
  },
  {
   "cell_type": "markdown",
   "metadata": {},
   "source": [
    "+ Note: Your results will vary if you re-run the query in the future, as the weather data, and your partitions, are continuously updated."
   ]
  },
  {
   "cell_type": "markdown",
   "metadata": {},
   "source": [
    "***"
   ]
  },
  {
   "cell_type": "markdown",
   "metadata": {},
   "source": []
  }
 ],
 "metadata": {
  "kernelspec": {
   "display_name": "Python 3.9.9 64-bit",
   "language": "python",
   "name": "python3"
  },
  "language_info": {
   "codemirror_mode": {
    "name": "ipython",
    "version": 3
   },
   "file_extension": ".py",
   "mimetype": "text/x-python",
   "name": "python",
   "nbconvert_exporter": "python",
   "pygments_lexer": "ipython3",
   "version": "3.9.9"
  },
  "orig_nbformat": 4,
  "vscode": {
   "interpreter": {
    "hash": "aee8b7b246df8f9039afb4144a1f6fd8d2ca17a180786b69acc140d282b71a49"
   }
  }
 },
 "nbformat": 4,
 "nbformat_minor": 2
}
