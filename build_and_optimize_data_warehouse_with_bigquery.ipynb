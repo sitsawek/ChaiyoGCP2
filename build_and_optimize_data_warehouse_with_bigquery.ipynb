{
 "cells": [
  {
   "cell_type": "markdown",
   "metadata": {},
   "source": [
    "***"
   ]
  },
  {
   "cell_type": "markdown",
   "metadata": {},
   "source": [
    "**<center><font size = \"6\">Build and Optimize Data Warehouses with BigQuery<center>**\n",
    "***\n",
    "<center><font size = \"2\">Prepared by: Sitsawek Sukorn<center>"
   ]
  },
  {
   "cell_type": "markdown",
   "metadata": {},
   "source": [
    "### BigQuery: Qwik Start - Command Line"
   ]
  },
  {
   "cell_type": "markdown",
   "metadata": {},
   "source": [
    "### Examine a table"
   ]
  },
  {
   "cell_type": "code",
   "execution_count": null,
   "metadata": {
    "vscode": {
     "languageId": "shellscript"
    }
   },
   "outputs": [],
   "source": [
    "# Run in shell \n",
    "bq show bigquery-public-data:samples.shakespeare"
   ]
  },
  {
   "cell_type": "markdown",
   "metadata": {},
   "source": [
    "+ bq to invoke the BigQuery command line tool\n",
    "+ show is the action\n",
    "+ Then you're listing the name of the project:public dataset.table in BigQuery that you want to see."
   ]
  },
  {
   "cell_type": "markdown",
   "metadata": {},
   "source": [
    "### Run the help command"
   ]
  },
  {
   "cell_type": "code",
   "execution_count": null,
   "metadata": {
    "vscode": {
     "languageId": "shellscript"
    }
   },
   "outputs": [],
   "source": [
    "bq help query"
   ]
  },
  {
   "cell_type": "markdown",
   "metadata": {},
   "source": [
    "### Run a query"
   ]
  },
  {
   "cell_type": "markdown",
   "metadata": {},
   "source": [
    "Now you'll run a query to see how many times the substring \"raisin\" appears in Shakespeare's works.\n",
    "\n",
    "+ To run a query, run the command bq query \"[SQL_STATEMENT]\":\n",
    "\n",
    "+ Escape any quotation marks inside the [SQL_STATEMENT] with a \\ mark, or\n",
    "\n",
    "+ Use a different quotation mark type than the surrounding marks (\"versus\").\n",
    "\n",
    "+ Run the following standard SQL query in Cloud Shell to count the number of times that the substring \"raisin\" appears in all of Shakespeare's works:"
   ]
  },
  {
   "cell_type": "code",
   "execution_count": null,
   "metadata": {
    "vscode": {
     "languageId": "shellscript"
    }
   },
   "outputs": [],
   "source": [
    "bq query --use_legacy_sql=false \\\n",
    "'SELECT\n",
    "   word,\n",
    "   SUM(word_count) AS count\n",
    " FROM\n",
    "   `bigquery-public-data`.samples.shakespeare\n",
    " WHERE\n",
    "   word LIKE \"%raisin%\"\n",
    " GROUP BY\n",
    "   word'"
   ]
  },
  {
   "cell_type": "markdown",
   "metadata": {},
   "source": [
    "+ --use_legacy_sql=false makes standard SQL the default query syntax."
   ]
  },
  {
   "cell_type": "markdown",
   "metadata": {},
   "source": [
    "+ If you search for a word that isn't in Shakespeare's works, no results are returned.\n",
    "\n",
    "+ Run the following search for \"huzzah\", returns no matches:\n",
    "\n"
   ]
  },
  {
   "cell_type": "code",
   "execution_count": null,
   "metadata": {
    "vscode": {
     "languageId": "shellscript"
    }
   },
   "outputs": [],
   "source": [
    "bq query --use_legacy_sql=false \\\n",
    "'SELECT\n",
    "   word\n",
    " FROM\n",
    "   `bigquery-public-data`.samples.shakespeare\n",
    " WHERE\n",
    "   word = \"huzzah\"'"
   ]
  },
  {
   "cell_type": "markdown",
   "metadata": {},
   "source": [
    "### Create a new table"
   ]
  },
  {
   "cell_type": "markdown",
   "metadata": {},
   "source": [
    "#### Create a new dataset\n",
    "+ Use the bq ls command to list any existing datasets in your project:"
   ]
  },
  {
   "cell_type": "code",
   "execution_count": null,
   "metadata": {
    "vscode": {
     "languageId": "shellscript"
    }
   },
   "outputs": [],
   "source": [
    "bq ls"
   ]
  },
  {
   "cell_type": "markdown",
   "metadata": {},
   "source": [
    "+ Run bq ls and the bigquery-public-data Project ID to list the datasets in that specific project, followed by a colon (:):"
   ]
  },
  {
   "cell_type": "code",
   "execution_count": null,
   "metadata": {
    "vscode": {
     "languageId": "shellscript"
    }
   },
   "outputs": [],
   "source": [
    "bq ls bigquery-public-data:"
   ]
  },
  {
   "cell_type": "markdown",
   "metadata": {},
   "source": [
    "+ Use the bq mk command to create a new dataset named babynames in your Qwiklabs project:"
   ]
  },
  {
   "cell_type": "code",
   "execution_count": null,
   "metadata": {
    "vscode": {
     "languageId": "shellscript"
    }
   },
   "outputs": [],
   "source": [
    "bq mk babynames"
   ]
  },
  {
   "cell_type": "markdown",
   "metadata": {},
   "source": [
    "+ Run bq ls to confirm that the dataset now appears as part of your project:"
   ]
  },
  {
   "cell_type": "code",
   "execution_count": null,
   "metadata": {
    "vscode": {
     "languageId": "shellscript"
    }
   },
   "outputs": [],
   "source": [
    "bq ls"
   ]
  },
  {
   "cell_type": "markdown",
   "metadata": {},
   "source": [
    "#### Upload the dataset"
   ]
  },
  {
   "cell_type": "markdown",
   "metadata": {},
   "source": [
    "+ Run this command to add the baby names zip file to your project, using the URL for the data file:"
   ]
  },
  {
   "cell_type": "code",
   "execution_count": null,
   "metadata": {
    "vscode": {
     "languageId": "shellscript"
    }
   },
   "outputs": [],
   "source": [
    "curl -LO http://www.ssa.gov/OACT/babynames/names.zip"
   ]
  },
  {
   "cell_type": "markdown",
   "metadata": {},
   "source": [
    "+ List the file:"
   ]
  },
  {
   "cell_type": "code",
   "execution_count": null,
   "metadata": {
    "vscode": {
     "languageId": "shellscript"
    }
   },
   "outputs": [],
   "source": [
    "ls"
   ]
  },
  {
   "cell_type": "markdown",
   "metadata": {},
   "source": [
    "+ Now unzip the file:"
   ]
  },
  {
   "cell_type": "code",
   "execution_count": null,
   "metadata": {
    "vscode": {
     "languageId": "shellscript"
    }
   },
   "outputs": [],
   "source": [
    "unzip names.zip"
   ]
  },
  {
   "cell_type": "markdown",
   "metadata": {},
   "source": [
    "+ That's a pretty big list of text files! List the files again:"
   ]
  },
  {
   "cell_type": "code",
   "execution_count": null,
   "metadata": {
    "vscode": {
     "languageId": "shellscript"
    }
   },
   "outputs": [],
   "source": [
    "ls"
   ]
  },
  {
   "cell_type": "markdown",
   "metadata": {},
   "source": [
    "+ Create your table:"
   ]
  },
  {
   "cell_type": "code",
   "execution_count": null,
   "metadata": {
    "vscode": {
     "languageId": "shellscript"
    }
   },
   "outputs": [],
   "source": [
    "bq load babynames.names2010 yob2010.txt name:string,gender:string,count:integer"
   ]
  },
  {
   "cell_type": "markdown",
   "metadata": {},
   "source": [
    "+ Run bq ls and babynames to confirm that the table now appears in your dataset:"
   ]
  },
  {
   "cell_type": "code",
   "execution_count": null,
   "metadata": {
    "vscode": {
     "languageId": "shellscript"
    }
   },
   "outputs": [],
   "source": [
    "bq ls babynames"
   ]
  },
  {
   "cell_type": "markdown",
   "metadata": {},
   "source": [
    "+ Run bq show and your dataset.table to see the schema:"
   ]
  },
  {
   "cell_type": "code",
   "execution_count": null,
   "metadata": {
    "vscode": {
     "languageId": "shellscript"
    }
   },
   "outputs": [],
   "source": [
    "bq show babynames.names2010"
   ]
  },
  {
   "cell_type": "markdown",
   "metadata": {},
   "source": [
    "+ Note: By default, when you load data, BigQuery expects UTF-8 encoded data. If you have data that is in ISO-8859-1 (or Latin-1) encoding and are having problems with your loaded data, you can tell BigQuery to treat your data as Latin-1 explicitly, using the -E flag. Learn more about Character Encodings from the Introduction to loading data guide."
   ]
  },
  {
   "cell_type": "markdown",
   "metadata": {},
   "source": [
    "### Run queries"
   ]
  },
  {
   "cell_type": "markdown",
   "metadata": {},
   "source": [
    "+ Run the following command to return the top 5 most popular girls names:"
   ]
  },
  {
   "cell_type": "code",
   "execution_count": null,
   "metadata": {
    "vscode": {
     "languageId": "shellscript"
    }
   },
   "outputs": [],
   "source": [
    "bq query \"SELECT name,count FROM babynames.names2010 WHERE gender = 'F' ORDER BY count DESC LIMIT 5\""
   ]
  },
  {
   "cell_type": "markdown",
   "metadata": {},
   "source": [
    "+ Run the following command to see the top 5 most unusual boys names:"
   ]
  },
  {
   "cell_type": "code",
   "execution_count": null,
   "metadata": {
    "vscode": {
     "languageId": "shellscript"
    }
   },
   "outputs": [],
   "source": [
    "bq query \"SELECT name,count FROM babynames.names2010 WHERE gender = 'M' ORDER BY count ASC LIMIT 5\""
   ]
  },
  {
   "cell_type": "markdown",
   "metadata": {},
   "source": [
    "+ Note: The minimum count is 5 because the source data omits names with fewer than 5 occurrences."
   ]
  },
  {
   "cell_type": "markdown",
   "metadata": {},
   "source": [
    "### Clean up"
   ]
  },
  {
   "cell_type": "markdown",
   "metadata": {},
   "source": [
    "+ Run the bq rm command to remove the babynames dataset with the -r flag to delete all tables in the dataset:"
   ]
  },
  {
   "cell_type": "code",
   "execution_count": null,
   "metadata": {
    "vscode": {
     "languageId": "shellscript"
    }
   },
   "outputs": [],
   "source": [
    "bq rm -r babynames"
   ]
  },
  {
   "cell_type": "markdown",
   "metadata": {},
   "source": [
    "+ Confirm the delete command by typing Y."
   ]
  },
  {
   "cell_type": "markdown",
   "metadata": {},
   "source": [
    "***"
   ]
  },
  {
   "cell_type": "markdown",
   "metadata": {},
   "source": [
    "**<center><font size = \"6\">Creating a Data Warehouse Through Joins and Unions<center>**\n",
    "***"
   ]
  },
  {
   "cell_type": "markdown",
   "metadata": {},
   "source": [
    "### Create a new dataset to store your tables"
   ]
  },
  {
   "cell_type": "markdown",
   "metadata": {},
   "source": [
    "First, create a new dataset titled ecommerce in BigQuery.\n",
    "\n",
    "+ In the left pane, click on the name of your BigQuery project (qwiklabs-gcp-xxxx).\n",
    "\n",
    "+ Click on the three dots next to your project name, then select CREATE DATASET.\n",
    "\n",
    "+ The Create dataset dialog opens.\n",
    "\n",
    "+ Set the Dataset ID to ecommerce, leave all other options at their default values.\n",
    "\n",
    "+ Click Create dataset.\n",
    "\n",
    "+ Click on the Disable Editor Tabs link to enable the Query Editor."
   ]
  },
  {
   "cell_type": "markdown",
   "metadata": {},
   "source": [
    "### Explore the product sentiment dataset"
   ]
  },
  {
   "cell_type": "markdown",
   "metadata": {},
   "source": [
    "+ First, create a copy the table that the data science team made so you can read it:\n",
    "\n"
   ]
  },
  {
   "cell_type": "code",
   "execution_count": null,
   "metadata": {
    "vscode": {
     "languageId": "sql"
    }
   },
   "outputs": [],
   "source": [
    "create or replace TABLE ecommerce.products AS\n",
    "SELECT\n",
    "*\n",
    "FROM\n",
    "`data-to-insights.ecommerce.products`"
   ]
  },
  {
   "cell_type": "markdown",
   "metadata": {},
   "source": [
    "+ Note: This is only for you to review, the queries in this lab will be using the data-to-insights project."
   ]
  },
  {
   "cell_type": "markdown",
   "metadata": {},
   "source": [
    "+ Click on the ecommerce dataset to display the products table."
   ]
  },
  {
   "cell_type": "markdown",
   "metadata": {},
   "source": [
    "#### Create a query that shows the top 5 products with the most positive sentiment"
   ]
  },
  {
   "cell_type": "markdown",
   "metadata": {},
   "source": [
    "+ In the Query Editor, write your SQL query."
   ]
  },
  {
   "cell_type": "code",
   "execution_count": null,
   "metadata": {
    "vscode": {
     "languageId": "sql"
    }
   },
   "outputs": [],
   "source": [
    "SELECT\n",
    "  SKU,\n",
    "  name,\n",
    "  sentimentScore,\n",
    "  sentimentMagnitude\n",
    "FROM\n",
    "  `data-to-insights.ecommerce.products`\n",
    "ORDER BY\n",
    "  sentimentScore DESC\n",
    "LIMIT 5"
   ]
  },
  {
   "cell_type": "markdown",
   "metadata": {},
   "source": [
    "+ Revise your query to show the top 5 products with the most negative sentiment and filter out NULL values."
   ]
  },
  {
   "cell_type": "code",
   "execution_count": null,
   "metadata": {
    "vscode": {
     "languageId": "sql"
    }
   },
   "outputs": [],
   "source": [
    "SELECT\n",
    "  SKU,\n",
    "  name,\n",
    "  sentimentScore,\n",
    "  sentimentMagnitude\n",
    "FROM\n",
    "  `data-to-insights.ecommerce.products`\n",
    "WHERE sentimentScore IS NOT NULL\n",
    "ORDER BY\n",
    "  sentimentScore\n",
    "LIMIT 5"
   ]
  },
  {
   "cell_type": "markdown",
   "metadata": {},
   "source": [
    "### Join datasets to find insights"
   ]
  },
  {
   "cell_type": "markdown",
   "metadata": {},
   "source": [
    "#### Calculate daily sales volume by productSKU"
   ]
  },
  {
   "cell_type": "markdown",
   "metadata": {},
   "source": [
    "+ Create a new table in your ecommerce dataset with the below requirements:\n",
    "\n",
    "- Title it sales_by_sku_20170801\n",
    "- Source the data from data-to-insights.ecommerce.all_sessions_raw\n",
    "- Include only distinct results\n",
    "- Return productSKU\n",
    "- Return the total quantity ordered (productQuantity). Hint: Use a SUM() with a IFNULL condition\n",
    "- Filter for only sales on 20170801\n",
    "- ORDER BY the SKUs with the most orders first"
   ]
  },
  {
   "cell_type": "code",
   "execution_count": null,
   "metadata": {
    "vscode": {
     "languageId": "sql"
    }
   },
   "outputs": [],
   "source": [
    "# pull what sold on 08/01/2017\n",
    "CREATE OR REPLACE TABLE ecommerce.sales_by_sku_20170801 AS\n",
    "SELECT DISTINCT\n",
    "  productSKU,\n",
    "  SUM(IFNULL(productQuantity,0)) AS total_ordered\n",
    "FROM\n",
    "  `data-to-insights.ecommerce.all_sessions_raw`\n",
    "WHERE date = '20170801'\n",
    "GROUP BY productSKU\n",
    "ORDER BY total_ordered DESC #462 skus sold"
   ]
  },
  {
   "cell_type": "markdown",
   "metadata": {},
   "source": [
    "+ Click on the sales_by_sku table, then click the Preview tab."
   ]
  },
  {
   "cell_type": "markdown",
   "metadata": {},
   "source": [
    "#### Join sales data and inventory data\n"
   ]
  },
  {
   "cell_type": "markdown",
   "metadata": {},
   "source": [
    "+ Using a JOIN, enrich the website ecommerce data with the following fields from the product inventory dataset:\n",
    "\n",
    "+ name\n",
    "\n",
    "+ stockLevel\n",
    "\n",
    "+ restockingLeadTime\n",
    "\n",
    "+ sentimentScore\n",
    "\n",
    "- sentimentMagnitude"
   ]
  },
  {
   "cell_type": "markdown",
   "metadata": {},
   "source": [
    "+ Complete the partially written query:"
   ]
  },
  {
   "cell_type": "code",
   "execution_count": null,
   "metadata": {
    "vscode": {
     "languageId": "sql"
    }
   },
   "outputs": [],
   "source": [
    "# join against product inventory to get name\n",
    "SELECT DISTINCT\n",
    "  website.productSKU,\n",
    "  website.total_ordered,\n",
    "  inventory.name,\n",
    "  inventory.stockLevel,\n",
    "  inventory.restockingLeadTime,\n",
    "  inventory.sentimentScore,\n",
    "  inventory.sentimentMagnitude\n",
    "FROM\n",
    "  ecommerce.sales_by_sku_20170801 AS website\n",
    "  LEFT JOIN `data-to-insights.ecommerce.products` AS inventory\n",
    "ORDER BY total_ordered DESC"
   ]
  },
  {
   "cell_type": "markdown",
   "metadata": {},
   "source": [
    "+ Possible solution:"
   ]
  },
  {
   "cell_type": "code",
   "execution_count": null,
   "metadata": {
    "vscode": {
     "languageId": "sql"
    }
   },
   "outputs": [],
   "source": [
    "# join against product inventory to get name\n",
    "SELECT DISTINCT\n",
    "  website.productSKU,\n",
    "  website.total_ordered,\n",
    "  inventory.name,\n",
    "  inventory.stockLevel,\n",
    "  inventory.restockingLeadTime,\n",
    "  inventory.sentimentScore,\n",
    "  inventory.sentimentMagnitude\n",
    "FROM\n",
    "  ecommerce.sales_by_sku_20170801 AS website\n",
    "  LEFT JOIN `data-to-insights.ecommerce.products` AS inventory\n",
    "  ON website.productSKU = inventory.SKU\n",
    "ORDER BY total_ordered DESC"
   ]
  },
  {
   "cell_type": "markdown",
   "metadata": {},
   "source": [
    "+ Modify the query you wrote to now include:"
   ]
  },
  {
   "cell_type": "markdown",
   "metadata": {},
   "source": [
    "+ A calculated field of (total_ordered / stockLevel) and alias it \"ratio\". Hint: Use SAFE_DIVIDE(field1,field2) to ***avoid divide by 0 errors*** when the stock level is 0.\n",
    "+ Filter the results to only include products that have gone through 50% or more of their inventory already at the beginning of the month"
   ]
  },
  {
   "cell_type": "markdown",
   "metadata": {},
   "source": [
    "+ Possible solution:"
   ]
  },
  {
   "cell_type": "code",
   "execution_count": null,
   "metadata": {
    "vscode": {
     "languageId": "sql"
    }
   },
   "outputs": [],
   "source": [
    "# calculate ratio and filter\n",
    "SELECT DISTINCT\n",
    "  website.productSKU,\n",
    "  website.total_ordered,\n",
    "  inventory.name,\n",
    "  inventory.stockLevel,\n",
    "  inventory.restockingLeadTime,\n",
    "  inventory.sentimentScore,\n",
    "  inventory.sentimentMagnitude,\n",
    "  SAFE_DIVIDE(website.total_ordered, inventory.stockLevel) AS ratio\n",
    "FROM\n",
    "  ecommerce.sales_by_sku_20170801 AS website\n",
    "  LEFT JOIN `data-to-insights.ecommerce.products` AS inventory\n",
    "  ON website.productSKU = inventory.SKU\n",
    "# gone through more than 50% of inventory for the month\n",
    "WHERE SAFE_DIVIDE(website.total_ordered,inventory.stockLevel) >= .50\n",
    "ORDER BY total_ordered DESC"
   ]
  },
  {
   "cell_type": "markdown",
   "metadata": {},
   "source": [
    "### Append additional records"
   ]
  },
  {
   "cell_type": "markdown",
   "metadata": {},
   "source": [
    "#### Create a new empty table to store sales by productSKU for 08/02/2017"
   ]
  },
  {
   "cell_type": "markdown",
   "metadata": {},
   "source": [
    "- For the schema, specify the following fields:\n",
    "\n",
    "- table name is ecommerce.sales_by_sku_20170802\n",
    "- productSKU STRING\n",
    "- total_ordered as an INT64 field"
   ]
  },
  {
   "cell_type": "markdown",
   "metadata": {},
   "source": [
    "+ Possible solution:"
   ]
  },
  {
   "cell_type": "code",
   "execution_count": null,
   "metadata": {
    "vscode": {
     "languageId": "sql"
    }
   },
   "outputs": [],
   "source": [
    "CREATE OR REPLACE TABLE ecommerce.sales_by_sku_20170802\n",
    "(\n",
    "productSKU STRING,\n",
    "total_ordered INT64\n",
    ");"
   ]
  },
  {
   "cell_type": "markdown",
   "metadata": {},
   "source": [
    "+ Confirm you now have two date-shared sales tables - use the dropdown menu next to the Sales_by_sku table name in the table results, or refresh your browser to see it listed in the left menu:"
   ]
  },
  {
   "cell_type": "markdown",
   "metadata": {},
   "source": [
    "+ Insert the sales record provided to you by your sales team:"
   ]
  },
  {
   "cell_type": "code",
   "execution_count": null,
   "metadata": {
    "vscode": {
     "languageId": "sql"
    }
   },
   "outputs": [],
   "source": [
    "INSERT INTO ecommerce.sales_by_sku_20170802\n",
    "(productSKU, total_ordered)\n",
    "VALUES('GGOEGHPA002910', 101)"
   ]
  },
  {
   "cell_type": "markdown",
   "metadata": {},
   "source": [
    "+ Confirm the record appears by previewing the table - click on the table name to see the results."
   ]
  },
  {
   "cell_type": "markdown",
   "metadata": {},
   "source": [
    "#### Append together historical data"
   ]
  },
  {
   "cell_type": "markdown",
   "metadata": {},
   "source": [
    "- There are multiple ways to append together data that has the same schema. Two common ways are using UNIONs and table wildcards.\n",
    "\n",
    "- Union is an SQL operator that appends together rows from different result sets.\n",
    "\n",
    "- Table wildcards enable you to query multiple tables using concise SQL statements. Wildcard tables are available only in standard SQL.\n",
    "\n",
    "- Write a UNION query that will result in all records from the below two tables:\n",
    "\n",
    "- ecommerce.sales_by_sku_20170801\n",
    "\n",
    "- ecommerce.sales_by_sku_20170802"
   ]
  },
  {
   "cell_type": "code",
   "execution_count": null,
   "metadata": {
    "vscode": {
     "languageId": "sql"
    }
   },
   "outputs": [],
   "source": [
    "SELECT * FROM ecommerce.sales_by_sku_20170801\n",
    "UNION ALL\n",
    "SELECT * FROM ecommerce.sales_by_sku_20170802"
   ]
  },
  {
   "cell_type": "markdown",
   "metadata": {},
   "source": [
    "+ Note: The difference between a UNION and UNION ALL is that a ***UNION will not include duplicate records***."
   ]
  },
  {
   "cell_type": "markdown",
   "metadata": {},
   "source": [
    "+ What is a pitfall of having many daily sales tables? You will have to write many UNION statements chained together.\n",
    "\n",
    "+ A better solution is to use the table wildcard filter and _TABLE_SUFFIX filter.\n",
    "\n",
    "+ Write a query that uses the (*) table wildcard to select all records from ecommerce.sales_by_sku_ for the year 201"
   ]
  },
  {
   "cell_type": "code",
   "execution_count": null,
   "metadata": {
    "vscode": {
     "languageId": "sql"
    }
   },
   "outputs": [],
   "source": [
    "SELECT * FROM `ecommerce.sales_by_sku_2017*`"
   ]
  },
  {
   "cell_type": "markdown",
   "metadata": {},
   "source": [
    "+ Modify the previous query to add a filter to limit the results to just 08/02/2017."
   ]
  },
  {
   "cell_type": "code",
   "execution_count": null,
   "metadata": {
    "vscode": {
     "languageId": "sql"
    }
   },
   "outputs": [],
   "source": [
    "SELECT * FROM `ecommerce.sales_by_sku_2017*`\n",
    "WHERE _TABLE_SUFFIX = '0802'"
   ]
  },
  {
   "cell_type": "markdown",
   "metadata": {},
   "source": [
    "+ Note: Another option to consider is to create a Partitioned Table which automatically can ingest daily sales data into the correct partition."
   ]
  },
  {
   "cell_type": "markdown",
   "metadata": {},
   "source": [
    "***"
   ]
  },
  {
   "cell_type": "markdown",
   "metadata": {},
   "source": [
    "**<center><font size = \"6\">Creating Date-Partitioned Tables in BigQuery<center>**\n",
    "***"
   ]
  },
  {
   "cell_type": "markdown",
   "metadata": {},
   "source": [
    "### Creating tables with date partitions"
   ]
  },
  {
   "cell_type": "markdown",
   "metadata": {},
   "source": [
    "#### Query webpage analytics for a sample of visitors in 2017"
   ]
  },
  {
   "cell_type": "markdown",
   "metadata": {},
   "source": [
    "+ In the Query Editor, add the below query:"
   ]
  },
  {
   "cell_type": "code",
   "execution_count": null,
   "metadata": {
    "vscode": {
     "languageId": "sql"
    }
   },
   "outputs": [],
   "source": [
    "#standardSQL\n",
    "SELECT DISTINCT\n",
    "  fullVisitorId,\n",
    "  date,\n",
    "  city,\n",
    "  pageTitle\n",
    "FROM `data-to-insights.ecommerce.all_sessions_raw`\n",
    "WHERE date = '20170708'\n",
    "LIMIT 5"
   ]
  },
  {
   "cell_type": "markdown",
   "metadata": {},
   "source": [
    "+ Click Run."
   ]
  },
  {
   "cell_type": "markdown",
   "metadata": {},
   "source": [
    "#### Query webpage analytics for a sample of visitors in 2018"
   ]
  },
  {
   "cell_type": "markdown",
   "metadata": {},
   "source": [
    "+ Let's modify the query to look at visitors for 2018 now.\n",
    "\n",
    "+ Click COMPOSE NEW QUERY to clear the Query Editor, then add this new query. Note the WHERE date parameter is changed to 20180708:"
   ]
  },
  {
   "cell_type": "code",
   "execution_count": null,
   "metadata": {
    "vscode": {
     "languageId": "sql"
    }
   },
   "outputs": [],
   "source": [
    "#standardSQL\n",
    "SELECT DISTINCT\n",
    "  fullVisitorId,\n",
    "  date,\n",
    "  city,\n",
    "  pageTitle\n",
    "FROM `data-to-insights.ecommerce.all_sessions_raw`\n",
    "WHERE date = '20180708'\n",
    "LIMIT 5"
   ]
  },
  {
   "cell_type": "markdown",
   "metadata": {},
   "source": [
    "+ Click Run."
   ]
  },
  {
   "cell_type": "markdown",
   "metadata": {},
   "source": [
    "#### Common use-cases for date-partitioned tables\n",
    "+ Scanning through the entire dataset everytime to compare rows against a WHERE condition is wasteful. This is especially true if you only really care about records for a specific period of time like:\n",
    "\n",
    "+ All transactions for the last year\n",
    "+ All visitor interactions within the last 7 days\n",
    "+ All products sold in the last month\n",
    "+ Instead of scanning the entire dataset and filtering on a date field like we did in the earlier queries, Now set up a date-partitioned table. This allows you to completely ignore scanning records in certain partitions if they are irrelevant to our query."
   ]
  },
  {
   "cell_type": "markdown",
   "metadata": {},
   "source": [
    "#### Create a new partitioned table based on date"
   ]
  },
  {
   "cell_type": "markdown",
   "metadata": {},
   "source": [
    "+ Click COMPOSE NEW QUERY , add the below query, then click Run:"
   ]
  },
  {
   "cell_type": "code",
   "execution_count": null,
   "metadata": {
    "vscode": {
     "languageId": "sql"
    }
   },
   "outputs": [],
   "source": [
    "#standardSQL\n",
    " CREATE OR REPLACE TABLE ecommerce.partition_by_day\n",
    " PARTITION BY date_formatted\n",
    " OPTIONS(\n",
    "   description=\"a table partitioned by date\"\n",
    " ) AS\n",
    " SELECT DISTINCT\n",
    " PARSE_DATE(\"%Y%m%d\", date) AS date_formatted,\n",
    " fullvisitorId\n",
    " FROM `data-to-insights.ecommerce.all_sessions_raw`"
   ]
  },
  {
   "cell_type": "markdown",
   "metadata": {},
   "source": [
    "+ Click on the ecommerce dataset, then select the new partiton_by_day table:"
   ]
  },
  {
   "cell_type": "markdown",
   "metadata": {},
   "source": [
    "+ Click on the Details tab."
   ]
  },
  {
   "cell_type": "markdown",
   "metadata": {},
   "source": [
    "+ Note: Partitions within partitioned tables on your lab account will auto-expire after 60 days from the value in your date column. Your personal Google Cloud account with billing-enabled will let you have partitioned tables that don't expire."
   ]
  },
  {
   "cell_type": "markdown",
   "metadata": {},
   "source": [
    "### View data processed with a partitioned table"
   ]
  },
  {
   "cell_type": "markdown",
   "metadata": {},
   "source": [
    "+ Run the below query, and note the total bytes to be processed:\n",
    "\n"
   ]
  },
  {
   "cell_type": "code",
   "execution_count": null,
   "metadata": {
    "vscode": {
     "languageId": "sql"
    }
   },
   "outputs": [],
   "source": [
    "#standardSQL\n",
    "SELECT *\n",
    "FROM `data-to-insights.ecommerce.partition_by_day`\n",
    "WHERE date_formatted = '2016-08-01'"
   ]
  },
  {
   "cell_type": "markdown",
   "metadata": {},
   "source": [
    "+ Now run the below query, and note the total bytes to be processed:"
   ]
  },
  {
   "cell_type": "code",
   "execution_count": null,
   "metadata": {
    "vscode": {
     "languageId": "sql"
    }
   },
   "outputs": [],
   "source": [
    "#standardSQL\n",
    "SELECT *\n",
    "FROM `data-to-insights.ecommerce.partition_by_day`\n",
    "WHERE date_formatted = '2018-07-08'"
   ]
  },
  {
   "cell_type": "markdown",
   "metadata": {},
   "source": [
    "+ You should see This query will process 0 B when run.\n",
    "\n"
   ]
  },
  {
   "cell_type": "markdown",
   "metadata": {},
   "source": [
    "### Creating an auto-expiring partitioned table"
   ]
  },
  {
   "cell_type": "markdown",
   "metadata": {},
   "source": [
    "#### Explore the available NOAA weather data tables"
   ]
  },
  {
   "cell_type": "markdown",
   "metadata": {},
   "source": [
    "+ In the left menu, in Explorer, click on Add Data and select Explore public datasets.\n",
    "\n",
    "+ Search for \"GSOD NOAA\" then select the dataset.\n",
    "\n",
    "+ Click on View Dataset.\n",
    "\n",
    "+ (Need to copy before see data but google not mention this!)\n",
    "\n",
    "+ Scroll through the tables in the noaa_gsod dataset (which are manually sharded and not partitioned):"
   ]
  },
  {
   "cell_type": "markdown",
   "metadata": {},
   "source": [
    "Your goal is to create a table that:\n",
    "\n",
    "+ Queries on weather data from 2018 onward\n",
    "\n",
    "+ Filters to only include days that have had some precipitation (rain, snow, etc.)\n",
    "\n",
    "+ Only stores each partition of data for 90 days from that partition's date (rolling window)"
   ]
  },
  {
   "cell_type": "markdown",
   "metadata": {},
   "source": [
    "+ First, copy and paste this below query:"
   ]
  },
  {
   "cell_type": "code",
   "execution_count": null,
   "metadata": {
    "vscode": {
     "languageId": "sql"
    }
   },
   "outputs": [],
   "source": [
    "#standardSQL\n",
    " SELECT\n",
    "   DATE(CAST(year AS INT64), CAST(mo AS INT64), CAST(da AS INT64)) AS date,\n",
    "   (SELECT ANY_VALUE(name) FROM `bigquery-public-data.noaa_gsod.stations` AS stations\n",
    "    WHERE stations.usaf = stn) AS station_name,  -- Stations may have multiple names\n",
    "   prcp\n",
    " FROM `bigquery-public-data.noaa_gsod.gsod*` AS weather\n",
    " WHERE prcp < 99.9  -- Filter unknown values\n",
    "   AND prcp > 0      -- Filter stations/days with no precipitation\n",
    "   AND _TABLE_SUFFIX >= '2018'\n",
    " ORDER BY date DESC -- Where has it rained/snowed recently\n",
    " LIMIT 10"
   ]
  },
  {
   "cell_type": "markdown",
   "metadata": {},
   "source": [
    "+ Note: The table wildcard * used in the FROM clause to limit the amount of tables referred to in the TABLE_SUFFIX filter."
   ]
  },
  {
   "cell_type": "markdown",
   "metadata": {},
   "source": [
    "+ Note: Although a LIMIT 10 was added, this still does not reduce the total amount of data scanned (about 1.83 GB) since there are no partitions yet.\n"
   ]
  },
  {
   "cell_type": "markdown",
   "metadata": {},
   "source": [
    "+ Click Run.\n",
    "\n",
    "+ Confirm the date is properly formatted and the precipitation field is showing non-zero values."
   ]
  },
  {
   "cell_type": "markdown",
   "metadata": {},
   "source": [
    "### Your turn: create a partitioned table"
   ]
  },
  {
   "cell_type": "markdown",
   "metadata": {},
   "source": [
    "+ Modify the previous query to create a table with the below specifications:\n",
    "\n",
    "- Table name: ecommerce.days_with_rain\n",
    "- Use the date field as your PARTITION BY\n",
    "- For OPTIONS, specify partition_expiration_days = 60\n",
    "- Add the table description = \"weather stations with precipitation, partitioned by day\""
   ]
  },
  {
   "cell_type": "code",
   "execution_count": null,
   "metadata": {
    "vscode": {
     "languageId": "sql"
    }
   },
   "outputs": [],
   "source": [
    "#standardSQL\n",
    " CREATE OR REPLACE TABLE ecommerce.days_with_rain\n",
    " PARTITION BY date\n",
    " OPTIONS (\n",
    "   partition_expiration_days=60,\n",
    "   description=\"weather stations with precipitation, partitioned by day\"\n",
    " ) AS\n",
    " SELECT\n",
    "   DATE(CAST(year AS INT64), CAST(mo AS INT64), CAST(da AS INT64)) AS date,\n",
    "   (SELECT ANY_VALUE(name) FROM `bigquery-public-data.noaa_gsod.stations` AS stations\n",
    "    WHERE stations.usaf = stn) AS station_name,  -- Stations may have multiple names\n",
    "   prcp\n",
    " FROM `bigquery-public-data.noaa_gsod.gsod*` AS weather\n",
    " WHERE prcp < 99.9  -- Filter unknown values\n",
    "   AND prcp > 0      -- Filter\n",
    "   AND _TABLE_SUFFIX >= '2018'"
   ]
  },
  {
   "cell_type": "markdown",
   "metadata": {},
   "source": [
    "#### Confirm data partition expiration is working"
   ]
  },
  {
   "cell_type": "markdown",
   "metadata": {},
   "source": [
    "+ To confirm you are only storing data from 60 days in the past up until today, run the DATE_DIFF query to get the age of your partitions, which are set to expire after 60 days.\n",
    "\n",
    "+ Below is a query which tracks the average rainfall for the NOAA weather station in Wakayama, Japan which has significant precipitation."
   ]
  },
  {
   "cell_type": "code",
   "execution_count": null,
   "metadata": {
    "vscode": {
     "languageId": "sql"
    }
   },
   "outputs": [],
   "source": [
    "#standardSQL\n",
    "# avg monthly precipitation\n",
    "SELECT\n",
    "  AVG(prcp) AS average,\n",
    "  station_name,\n",
    "  date,\n",
    "  CURRENT_DATE() AS today,\n",
    "  DATE_DIFF(CURRENT_DATE(), date, DAY) AS partition_age,\n",
    "  EXTRACT(MONTH FROM date) AS month\n",
    "FROM ecommerce.days_with_rain\n",
    "WHERE station_name = 'WAKAYAMA' #Japan\n",
    "GROUP BY station_name, date, today, month, partition_age\n",
    "ORDER BY date DESC; # most recent days first"
   ]
  },
  {
   "cell_type": "markdown",
   "metadata": {},
   "source": [
    "### Confirm the oldest partition_age is at or below 60 days"
   ]
  },
  {
   "cell_type": "markdown",
   "metadata": {},
   "source": [
    "+ Update the ORDER BY clause to show the oldest partitions first."
   ]
  },
  {
   "cell_type": "code",
   "execution_count": null,
   "metadata": {
    "vscode": {
     "languageId": "sql"
    }
   },
   "outputs": [],
   "source": [
    "#standardSQL\n",
    "# avg monthly precipitation\n",
    "SELECT\n",
    "  AVG(prcp) AS average,\n",
    "  station_name,\n",
    "  date,\n",
    "  CURRENT_DATE() AS today,\n",
    "  DATE_DIFF(CURRENT_DATE(), date, DAY) AS partition_age,\n",
    "  EXTRACT(MONTH FROM date) AS month\n",
    "FROM ecommerce.days_with_rain\n",
    "WHERE station_name = 'WAKAYAMA' #Japan\n",
    "GROUP BY station_name, date, today, month, partition_age\n",
    "ORDER BY partition_age DESC"
   ]
  },
  {
   "cell_type": "markdown",
   "metadata": {},
   "source": [
    "+ Note: Your results will vary if you re-run the query in the future, as the weather data, and your partitions, are continuously updated."
   ]
  },
  {
   "cell_type": "markdown",
   "metadata": {},
   "source": [
    "***"
   ]
  },
  {
   "cell_type": "markdown",
   "metadata": {},
   "source": [
    "**<center><font size = \"6\">Troubleshooting and Solving Data Join Pitfalls<center>**\n",
    "***"
   ]
  },
  {
   "cell_type": "markdown",
   "metadata": {},
   "source": [
    "### Pin the lab project in BigQuery"
   ]
  },
  {
   "cell_type": "markdown",
   "metadata": {},
   "source": [
    "+ The project with the new dataset is data-to-insights.\n",
    "\n",
    "+ Click Navigation menu Navigation menu icon > BigQuery.\n",
    "The Welcome to BigQuery in the Cloud Console message box opens.\n",
    "\n",
    "+ Note: The Welcome to BigQuery in the Cloud Console message box provides a link to the quickstart guide and UI updates.\n",
    "Click Done.\n",
    "\n",
    "+ BigQuery public datasets are not displayed by default in the BigQuery web UI. To open the public datasets project, copy data-to-insights.\n",
    "\n",
    "+ Click Add Data > Pin a project > Enter Project Name, then paste in the data-to-insights name. Click Pin."
   ]
  },
  {
   "cell_type": "markdown",
   "metadata": {},
   "source": [
    "### Examine the fields"
   ]
  },
  {
   "cell_type": "markdown",
   "metadata": {},
   "source": [
    "Next, get familiar with the products and fields on the website you can use to create queries to analyze the dataset.\n",
    "\n",
    "+ In the left pane in the Resources section, navigate to data-to-insights > ecommerce > all_sessions_raw.\n",
    "\n",
    "+ On the right, under the Query editor, click the Schema tab to see the Fields and information about each field."
   ]
  },
  {
   "cell_type": "markdown",
   "metadata": {},
   "source": [
    "### Identify a key field in your ecommerce dataset"
   ]
  },
  {
   "cell_type": "markdown",
   "metadata": {},
   "source": [
    "#### Examine the records"
   ]
  },
  {
   "cell_type": "markdown",
   "metadata": {},
   "source": [
    "In this section you find how many product names and product SKUs are on your website and whether either one of those fields is unique.\n",
    "\n",
    "+ Find how many product names and product SKUs are on the website. Copy and Paste the below query in bigquery EDITOR:"
   ]
  },
  {
   "cell_type": "code",
   "execution_count": null,
   "metadata": {
    "vscode": {
     "languageId": "sql"
    }
   },
   "outputs": [],
   "source": [
    "#standardSQL\n",
    "# how many products are on the website?\n",
    "SELECT DISTINCT\n",
    "productSKU,\n",
    "v2ProductName\n",
    "FROM `data-to-insights.ecommerce.all_sessions_raw`"
   ]
  },
  {
   "cell_type": "markdown",
   "metadata": {},
   "source": [
    "+ Click Run."
   ]
  },
  {
   "cell_type": "markdown",
   "metadata": {},
   "source": [
    "+ Clear the previous query and run the below query to list the number of distinct SKUs are listed using DISTINCT:"
   ]
  },
  {
   "cell_type": "code",
   "execution_count": null,
   "metadata": {
    "vscode": {
     "languageId": "sql"
    }
   },
   "outputs": [],
   "source": [
    "#standardSQL\n",
    "# find the count of unique SKUs\n",
    "SELECT\n",
    "DISTINCT\n",
    "productSKU\n",
    "FROM `data-to-insights.ecommerce.all_sessions_raw`"
   ]
  },
  {
   "cell_type": "markdown",
   "metadata": {},
   "source": [
    "#### Examine the relationship between SKU & Name"
   ]
  },
  {
   "cell_type": "markdown",
   "metadata": {},
   "source": [
    "+ Clear the previous query and run the below query to determine if some product names have more than one SKU. Notice we use the STRING_AGG() function to aggregate all the product SKUs that are associated with one product name into ***comma separated values***."
   ]
  },
  {
   "cell_type": "code",
   "execution_count": null,
   "metadata": {
    "vscode": {
     "languageId": "sql"
    }
   },
   "outputs": [],
   "source": [
    "SELECT\n",
    "  v2ProductName,\n",
    "  COUNT(DISTINCT productSKU) AS SKU_count,\n",
    "  STRING_AGG(DISTINCT productSKU LIMIT 5) AS SKU\n",
    "FROM `data-to-insights.ecommerce.all_sessions_raw`\n",
    "  WHERE productSKU IS NOT NULL\n",
    "  GROUP BY v2ProductName\n",
    "  HAVING SKU_count > 1\n",
    "  ORDER BY SKU_count DESC"
   ]
  },
  {
   "cell_type": "markdown",
   "metadata": {},
   "source": [
    "+ Click Run."
   ]
  },
  {
   "cell_type": "markdown",
   "metadata": {},
   "source": [
    "So we have seen that 1 Product can have 12 SKUs. What about 1 SKU? Should it be allowed to belong to more than 1 product?\n",
    "\n",
    "+ Clear the previous query and run the below query to find out:"
   ]
  },
  {
   "cell_type": "code",
   "execution_count": null,
   "metadata": {
    "vscode": {
     "languageId": "sql"
    }
   },
   "outputs": [],
   "source": [
    "SELECT\n",
    "  productSKU,\n",
    "  COUNT(DISTINCT v2ProductName) AS product_count,\n",
    "  STRING_AGG(DISTINCT v2ProductName LIMIT 5) AS product_name\n",
    "FROM `data-to-insights.ecommerce.all_sessions_raw`\n",
    "  WHERE v2ProductName IS NOT NULL\n",
    "  GROUP BY productSKU\n",
    "  HAVING product_count > 1\n",
    "  ORDER BY product_count DESC"
   ]
  },
  {
   "cell_type": "code",
   "execution_count": null,
   "metadata": {
    "vscode": {
     "languageId": "sql"
    }
   },
   "outputs": [],
   "source": [
    "SELECT\n",
    "  productSKU,\n",
    "  COUNT(DISTINCT v2ProductName) AS product_count,\n",
    "  STRING_AGG(DISTINCT v2ProductName LIMIT 5) AS product_name,\n",
    "  ARRAY_AGG(DISTINCT v2ProductName LIMIT 5) AS product_name2\n",
    "FROM `data-to-insights.ecommerce.all_sessions_raw`\n",
    "  WHERE v2ProductName IS NOT NULL\n",
    "  GROUP BY productSKU\n",
    "  HAVING product_count > 1\n",
    "  ORDER BY product_count DESC"
   ]
  },
  {
   "cell_type": "markdown",
   "metadata": {},
   "source": [
    "+ Note: Try replacing STRING_AGG() with ARRAY_AGG() instead. Pretty cool, right? BigQuery natively supports nested array values. You can learn more from the Work with arrays guide."
   ]
  },
  {
   "cell_type": "markdown",
   "metadata": {},
   "source": [
    "### Pitfall: non-unique key"
   ]
  },
  {
   "cell_type": "markdown",
   "metadata": {},
   "source": [
    "In inventory tracking, a SKU is designed to uniquely identify one and only one product. For us, it will be the basis of your JOIN condition when you lookup information from other tables. Having a non-unique key can cause serious data issues as you will see.\n",
    "\n",
    "+ Write a query to identify all the product names for the SKU 'GGOEGPJC019099'."
   ]
  },
  {
   "cell_type": "code",
   "execution_count": null,
   "metadata": {
    "vscode": {
     "languageId": "sql"
    }
   },
   "outputs": [],
   "source": [
    "SELECT DISTINCT\n",
    "  v2ProductName,\n",
    "  productSKU\n",
    "FROM `data-to-insights.ecommerce.all_sessions_raw`\n",
    "WHERE productSKU = 'GGOEGPJC019099'"
   ]
  },
  {
   "cell_type": "markdown",
   "metadata": {},
   "source": [
    "+ Click Run."
   ]
  },
  {
   "cell_type": "markdown",
   "metadata": {},
   "source": [
    "### Joining website data against your product inventory list"
   ]
  },
  {
   "cell_type": "markdown",
   "metadata": {},
   "source": [
    "Let's see the impact of joining on a dataset with multiple products for a single SKU. First explore the product inventory dataset (the products table) to see if this SKU is unique there."
   ]
  },
  {
   "cell_type": "code",
   "execution_count": null,
   "metadata": {
    "vscode": {
     "languageId": "sql"
    }
   },
   "outputs": [],
   "source": [
    "SELECT\n",
    "  SKU,\n",
    "  name,\n",
    "  stockLevel\n",
    "FROM `data-to-insights.ecommerce.products`\n",
    "WHERE SKU = 'GGOEGPJC019099'"
   ]
  },
  {
   "cell_type": "markdown",
   "metadata": {},
   "source": [
    "### Join pitfall: Unintentional many-to-one SKU relationship"
   ]
  },
  {
   "cell_type": "markdown",
   "metadata": {},
   "source": [
    "We now have two datasets: one for inventory stock level and the other for our website analytics. Let's JOIN the inventory dataset against your website product names and SKUs so you can have the inventory stock level associated with each product for sale on the website.\n",
    "\n",
    "+ Clear the previous query and run the below query:"
   ]
  },
  {
   "cell_type": "code",
   "execution_count": null,
   "metadata": {
    "vscode": {
     "languageId": "sql"
    }
   },
   "outputs": [],
   "source": [
    "SELECT DISTINCT\n",
    "  website.v2ProductName,\n",
    "  website.productSKU,\n",
    "  inventory.stockLevel\n",
    "FROM `data-to-insights.ecommerce.all_sessions_raw` AS website\n",
    "JOIN `data-to-insights.ecommerce.products` AS inventory\n",
    "  ON website.productSKU = inventory.SKU\n",
    "  WHERE productSKU = 'GGOEGPJC019099'"
   ]
  },
  {
   "cell_type": "markdown",
   "metadata": {},
   "source": [
    "Next, let's expand our previous query to simply SUM the inventory available by product.\n",
    "\n",
    "+ Clear the previous query and run the below query:"
   ]
  },
  {
   "cell_type": "code",
   "execution_count": null,
   "metadata": {
    "vscode": {
     "languageId": "sql"
    }
   },
   "outputs": [],
   "source": [
    "WITH inventory_per_sku AS (\n",
    "  SELECT DISTINCT\n",
    "    website.v2ProductName,\n",
    "    website.productSKU,\n",
    "    inventory.stockLevel\n",
    "  FROM `data-to-insights.ecommerce.all_sessions_raw` AS website\n",
    "  JOIN `data-to-insights.ecommerce.products` AS inventory\n",
    "    ON website.productSKU = inventory.SKU\n",
    "    WHERE productSKU = 'GGOEGPJC019099'\n",
    ")\n",
    "SELECT\n",
    "  productSKU,\n",
    "  SUM(stockLevel) AS total_inventory\n",
    "FROM inventory_per_sku\n",
    "GROUP BY productSKU"
   ]
  },
  {
   "cell_type": "markdown",
   "metadata": {},
   "source": [
    "+ Oh no! It is 154 x 3 = 462 or triple counting the inventory! This is called an unintentional cross join (a topic we'll revisit later).\n",
    "\n"
   ]
  },
  {
   "cell_type": "markdown",
   "metadata": {},
   "source": [
    "### Join pitfall solution: use distinct SKUs before joining"
   ]
  },
  {
   "cell_type": "markdown",
   "metadata": {},
   "source": [
    "What are the options to solve your triple counting dilemma? First you need to only select distinct SKUs from the website before joining on other datasets.\n",
    "\n",
    "We know that there can be more than one product name (like 7\" Dog Frisbee) that can share a single SKU.\n",
    "\n",
    "+ Let's gather all the possible names into an array:"
   ]
  },
  {
   "cell_type": "code",
   "execution_count": null,
   "metadata": {
    "vscode": {
     "languageId": "sql"
    }
   },
   "outputs": [],
   "source": [
    "SELECT\n",
    "  productSKU,\n",
    "  ARRAY_AGG(DISTINCT v2ProductName) AS push_all_names_into_array\n",
    "FROM `data-to-insights.ecommerce.all_sessions_raw`\n",
    "WHERE productSKU = 'GGOEGAAX0098'\n",
    "GROUP BY productSKU"
   ]
  },
  {
   "cell_type": "markdown",
   "metadata": {},
   "source": [
    "Now instead of having a row for every Product Name, we only have a row for each unique SKU.\n",
    "\n",
    "+ If you wanted to deduplicate the product names, you could even LIMIT the array like so:"
   ]
  },
  {
   "cell_type": "code",
   "execution_count": null,
   "metadata": {
    "vscode": {
     "languageId": "sql"
    }
   },
   "outputs": [],
   "source": [
    "SELECT\n",
    "  productSKU,\n",
    "  ARRAY_AGG(DISTINCT v2ProductName LIMIT 1) AS push_all_names_into_array\n",
    "FROM `data-to-insights.ecommerce.all_sessions_raw`\n",
    "WHERE productSKU = 'GGOEGAAX0098'\n",
    "GROUP BY productSKU"
   ]
  },
  {
   "cell_type": "markdown",
   "metadata": {},
   "source": [
    "#### Join pitfall: losing data records after a join"
   ]
  },
  {
   "cell_type": "markdown",
   "metadata": {},
   "source": [
    "Now you're ready to join against your product inventory dataset again."
   ]
  },
  {
   "cell_type": "code",
   "execution_count": null,
   "metadata": {
    "vscode": {
     "languageId": "sql"
    }
   },
   "outputs": [],
   "source": [
    "#standardSQL\n",
    "SELECT DISTINCT\n",
    "website.productSKU\n",
    "FROM `data-to-insights.ecommerce.all_sessions_raw` AS website\n",
    "JOIN `data-to-insights.ecommerce.products` AS inventory\n",
    "ON website.productSKU = inventory.SKU"
   ]
  },
  {
   "cell_type": "markdown",
   "metadata": {},
   "source": [
    "It seems we lost 819 SKUs after joining the datasets Let's investigate by adding more specificity in your fields (one SKU column from each dataset):"
   ]
  },
  {
   "cell_type": "code",
   "execution_count": null,
   "metadata": {
    "vscode": {
     "languageId": "sql"
    }
   },
   "outputs": [],
   "source": [
    "#standardSQL\n",
    "# pull ID fields from both tables\n",
    "SELECT DISTINCT\n",
    "website.productSKU AS website_SKU,\n",
    "inventory.SKU AS inventory_SKU\n",
    "FROM `data-to-insights.ecommerce.all_sessions_raw` AS website\n",
    "JOIN `data-to-insights.ecommerce.products` AS inventory\n",
    "ON website.productSKU = inventory.SKU\n",
    "# IDs are present in both tables, how can we dig deeper?"
   ]
  },
  {
   "cell_type": "markdown",
   "metadata": {},
   "source": [
    "+ It appears the SKUs are present in both of those datasets after the join for these 1,090 records. How can we find the missing records?"
   ]
  },
  {
   "cell_type": "markdown",
   "metadata": {},
   "source": [
    "#### Join pitfall solution: selecting the correct join type and filtering for NULL"
   ]
  },
  {
   "cell_type": "markdown",
   "metadata": {},
   "source": [
    "The default JOIN type is an INNER JOIN which returns records only if there is a SKU match on both the left and the right tables that are joined.\n",
    "\n",
    "+ Rewrite the previous query to use a different join type to include all records from the website table, regardless of whether there is a match on a product inventory SKU record. Join type options: INNER JOIN, LEFT JOIN, RIGHT JOIN, FULL JOIN, CROSS JOIN."
   ]
  },
  {
   "cell_type": "code",
   "execution_count": null,
   "metadata": {
    "vscode": {
     "languageId": "sql"
    }
   },
   "outputs": [],
   "source": [
    "#standardSQL\n",
    "# the secret is in the JOIN type\n",
    "# pull ID fields from both tables\n",
    "SELECT DISTINCT\n",
    "website.productSKU AS website_SKU,\n",
    "inventory.SKU AS inventory_SKU\n",
    "FROM `data-to-insights.ecommerce.all_sessions_raw` AS website\n",
    "LEFT JOIN `data-to-insights.ecommerce.products` AS inventory\n",
    "ON website.productSKU = inventory.SKU"
   ]
  },
  {
   "cell_type": "markdown",
   "metadata": {},
   "source": [
    "+ Click Run."
   ]
  },
  {
   "cell_type": "markdown",
   "metadata": {},
   "source": [
    "How many SKUs are missing from your product inventory set?\n",
    "\n",
    "+ Write a query to filter on NULL values from the inventory table."
   ]
  },
  {
   "cell_type": "code",
   "execution_count": null,
   "metadata": {
    "vscode": {
     "languageId": "sql"
    }
   },
   "outputs": [],
   "source": [
    "#standardSQL\n",
    "# find product SKUs in website table but not in product inventory table\n",
    "SELECT DISTINCT\n",
    "website.productSKU AS website_SKU,\n",
    "inventory.SKU AS inventory_SKU\n",
    "FROM `data-to-insights.ecommerce.all_sessions_raw` AS website\n",
    "LEFT JOIN `data-to-insights.ecommerce.products` AS inventory\n",
    "ON website.productSKU = inventory.SKU\n",
    "WHERE inventory.SKU IS NULL"
   ]
  },
  {
   "cell_type": "markdown",
   "metadata": {},
   "source": [
    "+ Click Run."
   ]
  },
  {
   "cell_type": "markdown",
   "metadata": {},
   "source": [
    "Question: How many products are missing?\n",
    "\n",
    "Answer: 819 products are missing (SKU IS NULL) from your product inventory dataset.\n",
    "\n",
    "+ Clear the previous query and run the below query to confirm using one of the specific SKUs from the website dataset:"
   ]
  },
  {
   "cell_type": "code",
   "execution_count": null,
   "metadata": {
    "vscode": {
     "languageId": "sql"
    }
   },
   "outputs": [],
   "source": [
    "#standardSQL\n",
    "# you can even pick one and confirm\n",
    "SELECT * FROM `data-to-insights.ecommerce.products`\n",
    "WHERE SKU = 'GGOEGATJ060517'\n",
    "# query returns zero results"
   ]
  },
  {
   "cell_type": "markdown",
   "metadata": {},
   "source": [
    "Now, what about the reverse situation? Are there any products in the product inventory dataset but missing from the website?\n",
    "\n",
    "+ Write a query using a different join type to investigate."
   ]
  },
  {
   "cell_type": "code",
   "execution_count": null,
   "metadata": {
    "vscode": {
     "languageId": "sql"
    }
   },
   "outputs": [],
   "source": [
    "#standardSQL\n",
    "# reverse the join\n",
    "# find records in website but not in inventory\n",
    "SELECT DISTINCT\n",
    "website.productSKU AS website_SKU,\n",
    "inventory.SKU AS inventory_SKU\n",
    "FROM `data-to-insights.ecommerce.all_sessions_raw` AS website\n",
    "RIGHT JOIN `data-to-insights.ecommerce.products` AS inventory\n",
    "ON website.productSKU = inventory.SKU\n",
    "WHERE website.productSKU IS NULL"
   ]
  },
  {
   "cell_type": "markdown",
   "metadata": {},
   "source": [
    "Answer: Yes. There are two product SKUs missing from the website dataset\n",
    "\n",
    "Next, add more fields from the product inventory dataset for more details.\n",
    "\n",
    "+ Clear the previous query and run the below query:"
   ]
  },
  {
   "cell_type": "code",
   "execution_count": null,
   "metadata": {
    "vscode": {
     "languageId": "sql"
    }
   },
   "outputs": [],
   "source": [
    "#standardSQL\n",
    "# what are these products?\n",
    "# add more fields in the SELECT STATEMENT\n",
    "SELECT DISTINCT\n",
    "website.productSKU AS website_SKU,\n",
    "inventory.*\n",
    "FROM `data-to-insights.ecommerce.all_sessions_raw` AS website\n",
    "RIGHT JOIN `data-to-insights.ecommerce.products` AS inventory\n",
    "ON website.productSKU = inventory.SKU\n",
    "WHERE website.productSKU IS NULL"
   ]
  },
  {
   "cell_type": "markdown",
   "metadata": {},
   "source": [
    "+ Note: You typically will not see RIGHT JOINs in production queries. You would simply just do a LEFT JOIN and switch the ordering of the tables."
   ]
  },
  {
   "cell_type": "markdown",
   "metadata": {},
   "source": [
    "What if you wanted one query that listed all products missing from either the website or inventory?\n",
    "\n",
    "+ Write a query using a different join type.\n"
   ]
  },
  {
   "cell_type": "code",
   "execution_count": null,
   "metadata": {
    "vscode": {
     "languageId": "sql"
    }
   },
   "outputs": [],
   "source": [
    "#standardSQL\n",
    "SELECT DISTINCT\n",
    "website.productSKU AS website_SKU,\n",
    "inventory.SKU AS inventory_SKU\n",
    "FROM `data-to-insights.ecommerce.all_sessions_raw` AS website\n",
    "FULL JOIN `data-to-insights.ecommerce.products` AS inventory\n",
    "ON website.productSKU = inventory.SKU\n",
    "WHERE website.productSKU IS NULL OR inventory.SKU IS NULL"
   ]
  },
  {
   "cell_type": "markdown",
   "metadata": {},
   "source": [
    "LEFT JOIN + RIGHT JOIN = FULL JOIN which returns all records from both tables regardless of matching join keys. You then filter out where you have mismatches on either side"
   ]
  },
  {
   "cell_type": "markdown",
   "metadata": {},
   "source": [
    "#### Join pitfall: unintentional cross join"
   ]
  },
  {
   "cell_type": "markdown",
   "metadata": {},
   "source": [
    "Not knowing the relationship between data table keys (1:1, 1:N, N:N) can return unexpected results and also significantly reduce query performance.\n",
    "\n",
    "The last join type is the CROSS JOIN.\n",
    "\n",
    "Create a new table with a site-wide discount percent that you want applied across products in the Clearance category.\n",
    "\n",
    "+ Clear the previous query and run the below query:"
   ]
  },
  {
   "cell_type": "code",
   "execution_count": null,
   "metadata": {
    "vscode": {
     "languageId": "sql"
    }
   },
   "outputs": [],
   "source": [
    "#standardSQL\n",
    "CREATE OR REPLACE TABLE ecommerce.site_wide_promotion AS\n",
    "SELECT .05 AS discount;"
   ]
  },
  {
   "cell_type": "markdown",
   "metadata": {},
   "source": [
    "In the left pane, site_wide_promotion is now listed in the Resource section under your project and dataset.\n",
    "\n",
    "+ Clear the previous query and run the below query to find out how many products are in clearance:"
   ]
  },
  {
   "cell_type": "markdown",
   "metadata": {},
   "source": [
    "+ Note: For a CROSS JOIN you will notice there is no join condition (e.g. ON or USING). The field is simply multiplied against the first dataset or .05 discount across all items."
   ]
  },
  {
   "cell_type": "markdown",
   "metadata": {},
   "source": [
    "Let's see the impact of unintentionally adding more than one record in the discount table.\n",
    "\n",
    "+ Clear the previous query and run the below query to insert two more records into the promotion table:"
   ]
  },
  {
   "cell_type": "code",
   "execution_count": null,
   "metadata": {
    "vscode": {
     "languageId": "sql"
    }
   },
   "outputs": [],
   "source": [
    "INSERT INTO ecommerce.site_wide_promotion (discount)\n",
    "VALUES (.04),\n",
    "       (.03);"
   ]
  },
  {
   "cell_type": "markdown",
   "metadata": {},
   "source": [
    "+ Clear the previous query and run the below query:"
   ]
  },
  {
   "cell_type": "code",
   "execution_count": null,
   "metadata": {
    "vscode": {
     "languageId": "sql"
    }
   },
   "outputs": [],
   "source": [
    "SELECT discount FROM ecommerce.site_wide_promotion"
   ]
  },
  {
   "cell_type": "markdown",
   "metadata": {},
   "source": [
    "What happens when you apply the discount again across all 82 clearance products?\n",
    "\n"
   ]
  },
  {
   "cell_type": "code",
   "execution_count": null,
   "metadata": {
    "vscode": {
     "languageId": "sql"
    }
   },
   "outputs": [],
   "source": [
    "SELECT DISTINCT\n",
    "productSKU,\n",
    "v2ProductCategory,\n",
    "discount\n",
    "FROM `data-to-insights.ecommerce.all_sessions_raw` AS website\n",
    "CROSS JOIN ecommerce.site_wide_promotion\n",
    "WHERE v2ProductCategory LIKE '%Clearance%'"
   ]
  },
  {
   "cell_type": "markdown",
   "metadata": {},
   "source": [
    "Answer: Instead of 82, you now have 246 returned which is more records than your original table started with.\n",
    "\n",
    "Let's investigate the underlying cause by examining one product SKU."
   ]
  },
  {
   "cell_type": "code",
   "execution_count": null,
   "metadata": {
    "vscode": {
     "languageId": "sql"
    }
   },
   "outputs": [],
   "source": [
    "#standardSQL\n",
    "SELECT DISTINCT\n",
    "productSKU,\n",
    "v2ProductCategory,\n",
    "discount\n",
    "FROM `data-to-insights.ecommerce.all_sessions_raw` AS website\n",
    "CROSS JOIN ecommerce.site_wide_promotion\n",
    "WHERE v2ProductCategory LIKE '%Clearance%'\n",
    "AND productSKU = 'GGOEGOLC013299'"
   ]
  },
  {
   "cell_type": "markdown",
   "metadata": {},
   "source": [
    "What was the impact of the CROSS JOIN?\n",
    "\n",
    "Answer: Since there are 3 discount codes to cross join on, you are multiplying the original dataset by 3."
   ]
  },
  {
   "cell_type": "markdown",
   "metadata": {},
   "source": [
    "+ Note: This behavior isn't limited to cross joins, with a normal join you can unintentionally cross join when the data relationships are many-to-many this can easily result in returning millions or even billions of records unintentionally."
   ]
  },
  {
   "cell_type": "markdown",
   "metadata": {},
   "source": [
    "***"
   ]
  },
  {
   "cell_type": "markdown",
   "metadata": {},
   "source": [
    "**<center><font size = \"6\">Working with JSON, Arrays, and Structs in BigQuery<center>**\n",
    "***"
   ]
  },
  {
   "cell_type": "markdown",
   "metadata": {},
   "source": [
    "### Practice working with arrays in SQL"
   ]
  },
  {
   "cell_type": "markdown",
   "metadata": {},
   "source": [
    "+ An easier way to interpret the Fruit array:\n",
    "\n",
    "+ An array is simply a list of items in brackets [ ]\n",
    "\n",
    "+ BigQuery visually displays arrays as flattened. It simply lists the value in the array vertically (note that all of those values still belong to a single row)\n"
   ]
  },
  {
   "cell_type": "markdown",
   "metadata": {},
   "source": []
  },
  {
   "cell_type": "markdown",
   "metadata": {},
   "source": [
    "+ Enter the following in the BigQuery Query Editor:"
   ]
  },
  {
   "cell_type": "code",
   "execution_count": null,
   "metadata": {
    "vscode": {
     "languageId": "sql"
    }
   },
   "outputs": [],
   "source": [
    "#standardSQL\n",
    "SELECT\n",
    "['raspberry', 'blackberry', 'strawberry', 'cherry'] AS fruit_array"
   ]
  },
  {
   "cell_type": "markdown",
   "metadata": {},
   "source": [
    "+ Now try executing this one:"
   ]
  },
  {
   "cell_type": "code",
   "execution_count": null,
   "metadata": {
    "vscode": {
     "languageId": "sql"
    }
   },
   "outputs": [],
   "source": [
    "#standardSQL\n",
    "SELECT\n",
    "['raspberry', 'blackberry', 'strawberry', 'cherry', 1234567] AS fruit_array"
   ]
  },
  {
   "cell_type": "markdown",
   "metadata": {},
   "source": [
    "+ Error: Array elements of types {INT64, STRING} do not have a common supertype at [3:1]"
   ]
  },
  {
   "cell_type": "markdown",
   "metadata": {},
   "source": [
    "+ Here's the final table to query against:"
   ]
  },
  {
   "cell_type": "code",
   "execution_count": null,
   "metadata": {
    "vscode": {
     "languageId": "sql"
    }
   },
   "outputs": [],
   "source": [
    "#standardSQL\n",
    "SELECT person, fruit_array, total_cost FROM `data-to-insights.advanced.fruit_store`;"
   ]
  },
  {
   "cell_type": "markdown",
   "metadata": {},
   "source": [
    "+ After viewing the results, click the JSON tab to view the nested structure of the results."
   ]
  },
  {
   "cell_type": "markdown",
   "metadata": {},
   "source": [
    "#### Loading semi-structured JSON into BigQuery"
   ]
  },
  {
   "cell_type": "markdown",
   "metadata": {},
   "source": [
    "+ Click on fruit_store dataset, then click on the vertical 3-dots, and select Open.\n",
    "Now you will see the Create Table option.\n",
    "\n",
    "+ Name the table fruit_details.\n",
    "Note: You may have to widen your browser window to see the Create table option.\n",
    "Add the following details for the table:\n",
    "\n",
    "+ Source: Choose Google Cloud Storage in the Create table from dropdown.\n",
    "\n",
    "+ Select file from Cloud Storage bucket: cloud-training/gsp416/shopping_cart.json\n",
    "\n",
    "+ File format: JSONL (Newline delimited JSON)\n",
    "\n",
    "+ Call the new table fruit_details.\n",
    "\n",
    "+ Check the checkbox of Schema (Auto detect).\n",
    "\n",
    "+ Click Create table."
   ]
  },
  {
   "cell_type": "markdown",
   "metadata": {},
   "source": [
    "In the schema, note that fruit_array is marked as REPEATED which means it's an array."
   ]
  },
  {
   "cell_type": "markdown",
   "metadata": {},
   "source": [
    "### Creating your own arrays with ARRAY_AGG()"
   ]
  },
  {
   "cell_type": "markdown",
   "metadata": {},
   "source": [
    "+ Copy and paste the below query to explore this public dataset:"
   ]
  },
  {
   "cell_type": "code",
   "execution_count": null,
   "metadata": {
    "vscode": {
     "languageId": "sql"
    }
   },
   "outputs": [],
   "source": [
    "SELECT\n",
    "  fullVisitorId,\n",
    "  date,\n",
    "  v2ProductName,\n",
    "  pageTitle\n",
    "  FROM `data-to-insights.ecommerce.all_sessions`\n",
    "WHERE visitId = 1501570398\n",
    "ORDER BY date"
   ]
  },
  {
   "cell_type": "markdown",
   "metadata": {},
   "source": [
    "Now, use the ARRAY_AGG() function to aggregate our string values into an array.\n",
    "\n",
    "+ Copy and paste the below query to explore this public dataset:"
   ]
  },
  {
   "cell_type": "code",
   "execution_count": null,
   "metadata": {
    "vscode": {
     "languageId": "sql"
    }
   },
   "outputs": [],
   "source": [
    "SELECT\n",
    "  fullVisitorId,\n",
    "  date,\n",
    "  ARRAY_AGG(v2ProductName) AS products_viewed,\n",
    "  ARRAY_AGG(pageTitle) AS pages_viewed\n",
    "  FROM `data-to-insights.ecommerce.all_sessions`\n",
    "WHERE visitId = 1501570398\n",
    "GROUP BY fullVisitorId, date\n",
    "ORDER BY date"
   ]
  },
  {
   "cell_type": "markdown",
   "metadata": {},
   "source": [
    "- Next, use the ARRAY_LENGTH() function to count the number of pages and products that were viewed:"
   ]
  },
  {
   "cell_type": "code",
   "execution_count": null,
   "metadata": {
    "vscode": {
     "languageId": "sql"
    }
   },
   "outputs": [],
   "source": [
    "SELECT\n",
    "  fullVisitorId,\n",
    "  date,\n",
    "  ARRAY_AGG(v2ProductName) AS products_viewed,\n",
    "  ARRAY_LENGTH(ARRAY_AGG(v2ProductName)) AS num_products_viewed,\n",
    "  ARRAY_AGG(pageTitle) AS pages_viewed,\n",
    "  ARRAY_LENGTH(ARRAY_AGG(pageTitle)) AS num_pages_viewed\n",
    "  FROM `data-to-insights.ecommerce.all_sessions`\n",
    "WHERE visitId = 1501570398\n",
    "GROUP BY fullVisitorId, date\n",
    "ORDER BY date"
   ]
  },
  {
   "cell_type": "markdown",
   "metadata": {},
   "source": [
    "+ Next, deduplicate the pages and products so you can see how many unique products were viewed by adding DISTINCT to ARRAY_AGG():"
   ]
  },
  {
   "cell_type": "code",
   "execution_count": null,
   "metadata": {
    "vscode": {
     "languageId": "sql"
    }
   },
   "outputs": [],
   "source": [
    "SELECT\n",
    "  fullVisitorId,\n",
    "  date,\n",
    "  ARRAY_AGG(DISTINCT v2ProductName) AS products_viewed,\n",
    "  ARRAY_LENGTH(ARRAY_AGG(DISTINCT v2ProductName)) AS distinct_products_viewed,\n",
    "  ARRAY_AGG(DISTINCT pageTitle) AS pages_viewed,\n",
    "  ARRAY_LENGTH(ARRAY_AGG(DISTINCT pageTitle)) AS distinct_pages_viewed\n",
    "  FROM `data-to-insights.ecommerce.all_sessions`\n",
    "WHERE visitId = 1501570398\n",
    "GROUP BY fullVisitorId, date\n",
    "ORDER BY date"
   ]
  },
  {
   "cell_type": "markdown",
   "metadata": {},
   "source": [
    "You can do some pretty useful things with arrays like:\n",
    "\n",
    "+ finding the number of elements with ARRAY_LENGTH(<array>)\n",
    "\n",
    "+ deduplicating elements with ARRAY_AGG(DISTINCT <field>)\n",
    "\n",
    "+ ordering elements with ARRAY_AGG(<field> ORDER BY <field>)\n",
    "\n",
    "+ limiting ARRAY_AGG(<field> LIMIT 5)"
   ]
  },
  {
   "cell_type": "markdown",
   "metadata": {},
   "source": [
    "### Querying datasets that already have arrays"
   ]
  },
  {
   "cell_type": "markdown",
   "metadata": {},
   "source": [
    "+ Copy and paste the below query to explore the available data and see if you can find fields with repeated values (arrays):"
   ]
  },
  {
   "cell_type": "code",
   "execution_count": null,
   "metadata": {
    "vscode": {
     "languageId": "sql"
    }
   },
   "outputs": [],
   "source": [
    "SELECT\n",
    "  *\n",
    "FROM `bigquery-public-data.google_analytics_sample.ga_sessions_20170801`\n",
    "WHERE visitId = 1501570398"
   ]
  },
  {
   "cell_type": "markdown",
   "metadata": {},
   "source": [
    "+ Scroll right in the results until you see the hits.product.v2ProductName field (multiple field aliases are discussed shortly)."
   ]
  },
  {
   "cell_type": "markdown",
   "metadata": {},
   "source": [
    "The amount of fields available in the Google Analytics schema can be overwhelming for analysis.\n",
    "\n",
    "- Try to query just the visit and page name fields like before:"
   ]
  },
  {
   "cell_type": "code",
   "execution_count": null,
   "metadata": {
    "vscode": {
     "languageId": "sql"
    }
   },
   "outputs": [],
   "source": [
    "SELECT\n",
    "  visitId,\n",
    "  hits.page.pageTitle\n",
    "FROM `bigquery-public-data.google_analytics_sample.ga_sessions_20170801`\n",
    "WHERE visitId = 1501570398"
   ]
  },
  {
   "cell_type": "markdown",
   "metadata": {},
   "source": [
    "+ You will get an error: Cannot access field page on a value with type ARRAY<STRUCT<hitNumber INT64, time INT64, hour INT64, ...>> at [3:8]\n",
    "\n",
    "+ Before you can query REPEATED fields (arrays) normally, you must first break the arrays back into rows.\n",
    "\n",
    "+ For example, the array for hits.page.pageTitle is stored currently as a single row like:"
   ]
  },
  {
   "cell_type": "markdown",
   "metadata": {},
   "source": [
    "['homepage','product page','checkout']\n",
    "\n",
    "and it needs to be:\n",
    "\n",
    "['homepage',\n",
    "\n",
    "'product page',\n",
    "\n",
    "'checkout']"
   ]
  },
  {
   "cell_type": "markdown",
   "metadata": {},
   "source": [
    "How do you do that with SQL?\n",
    "\n",
    "**Answer**: Use the UNNEST() function on your array field:"
   ]
  },
  {
   "cell_type": "code",
   "execution_count": null,
   "metadata": {
    "vscode": {
     "languageId": "sql"
    }
   },
   "outputs": [],
   "source": [
    "SELECT DISTINCT\n",
    "  visitId,\n",
    "  h.page.pageTitle\n",
    "FROM `bigquery-public-data.google_analytics_sample.ga_sessions_20170801`,\n",
    "UNNEST(hits) AS h\n",
    "WHERE visitId = 1501570398\n",
    "LIMIT 10"
   ]
  },
  {
   "cell_type": "markdown",
   "metadata": {},
   "source": [
    "- You need to UNNEST() arrays to bring the array elements back into rows\n",
    "- UNNEST() always follows the table name in your FROM clause (think of it conceptually like a pre-joined table)"
   ]
  },
  {
   "cell_type": "markdown",
   "metadata": {},
   "source": [
    "### Introduction to STRUCTs"
   ]
  },
  {
   "cell_type": "markdown",
   "metadata": {},
   "source": [
    "#### Explore a dataset with STRUCTs"
   ]
  },
  {
   "cell_type": "markdown",
   "metadata": {},
   "source": [
    "- To open the bigquery-public-data dataset, click +Add Data > Pin a project > Enter Project Name, then write the bigquery-public-data name.\n",
    "\n",
    "- Click Pin.\n",
    "\n",
    "- The bigquery-public-data project is listed in the Explorer section.\n",
    "\n",
    "- Open bigquery-public-data.\n",
    "\n",
    "- Find and open google_analytics_sample dataset.\n",
    "\n",
    "- Click the ga_sessions table.\n",
    "\n",
    "- Start scrolling through the schema and answer the following question by using the find feature of your browser (i.e. CTRL + F)."
   ]
  },
  {
   "cell_type": "markdown",
   "metadata": {},
   "source": [
    "As you can imagine, there is an incredible amount of website session data stored for a modern ecommerce website.\n",
    "\n",
    "The main advantage of having 32 STRUCTs in a single table is it allows you to run queries like this one without having to do any JOINs:"
   ]
  },
  {
   "cell_type": "code",
   "execution_count": null,
   "metadata": {
    "vscode": {
     "languageId": "sql"
    }
   },
   "outputs": [],
   "source": [
    "SELECT\n",
    "  visitId,\n",
    "  totals.*,\n",
    "  device.*\n",
    "FROM `bigquery-public-data.google_analytics_sample.ga_sessions_20170801`\n",
    "WHERE visitId = 1501570398\n",
    "LIMIT 10"
   ]
  },
  {
   "cell_type": "markdown",
   "metadata": {},
   "source": [
    "Note: The .* syntax tells BigQuery to return all fields for that STRUCT (much like it would if totals.* was a separate table we joined against)."
   ]
  },
  {
   "cell_type": "markdown",
   "metadata": {},
   "source": [
    "Storing your large reporting tables as STRUCTs (pre-joined \"tables\") and ARRAYs (deep granularity) allows you to:\n",
    "\n",
    "+ Gain significant performance advantages by avoiding 32 table JOINs\n",
    "\n",
    "+ Get granular data from ARRAYs when you need it but not be punished if you don't (BigQuery stores each column individually on disk)\n",
    "\n",
    "+ Have all the business context in one table as opposed to worrying about JOIN keys and which tables have the data you need"
   ]
  },
  {
   "cell_type": "markdown",
   "metadata": {},
   "source": [
    "### Practice with STRUCTs and arrays"
   ]
  },
  {
   "cell_type": "markdown",
   "metadata": {},
   "source": [
    "+ With this query, try out the STRUCT syntax and note the different field types within the struct container:"
   ]
  },
  {
   "cell_type": "code",
   "execution_count": null,
   "metadata": {
    "vscode": {
     "languageId": "sql"
    }
   },
   "outputs": [],
   "source": [
    "#standardSQL\n",
    "SELECT STRUCT(\"Rudisha\" as name, 23.4 as split) as runner"
   ]
  },
  {
   "cell_type": "markdown",
   "metadata": {},
   "source": [
    "+ Run the below query to confirm:"
   ]
  },
  {
   "cell_type": "code",
   "execution_count": null,
   "metadata": {
    "vscode": {
     "languageId": "sql"
    }
   },
   "outputs": [],
   "source": [
    "#standardSQL\n",
    "SELECT STRUCT(\"Rudisha\" as name, [23.4, 26.3, 26.4, 26.1] as splits) AS runner"
   ]
  },
  {
   "cell_type": "markdown",
   "metadata": {},
   "source": [
    "- Structs are containers that can have multiple field names and data types nested inside.\n",
    "\n",
    "- Arrays can be one of the field types inside of a Struct (as shown above with the splits field)."
   ]
  },
  {
   "cell_type": "markdown",
   "metadata": {},
   "source": [
    "#### Practice ingesting JSON data"
   ]
  },
  {
   "cell_type": "markdown",
   "metadata": {},
   "source": [
    "- Create a new dataset titled racing.\n",
    "\n",
    "- Create a new table titled race_results.\n",
    "\n",
    "- Click on racing dataset and click Create table.\n",
    "\n",
    "Note: You may have to widen your browser window to see the Create table option.\n",
    "Source: select Google Cloud Storage under Create table from dropdown.\n",
    "\n",
    "- Select file from Cloud Storage bucket: data-insights-course/labs/optimizing-for-performance/race_results.json\n",
    "\n",
    "- File format: JSONL (Newline delimited JSON)\n",
    "\n",
    "- In Schema, click on Edit as text slider and add the following:"
   ]
  },
  {
   "cell_type": "code",
   "execution_count": null,
   "metadata": {
    "vscode": {
     "languageId": "javascript"
    }
   },
   "outputs": [],
   "source": [
    "[\n",
    "    {\n",
    "        \"name\": \"race\",\n",
    "        \"type\": \"STRING\",\n",
    "        \"mode\": \"NULLABLE\"\n",
    "    },\n",
    "    {\n",
    "        \"name\": \"participants\",\n",
    "        \"type\": \"RECORD\",\n",
    "        \"mode\": \"REPEATED\",\n",
    "        \"fields\": [\n",
    "            {\n",
    "                \"name\": \"name\",\n",
    "                \"type\": \"STRING\",\n",
    "                \"mode\": \"NULLABLE\"\n",
    "            },\n",
    "            {\n",
    "                \"name\": \"splits\",\n",
    "                \"type\": \"FLOAT\",\n",
    "                \"mode\": \"REPEATED\"\n",
    "            }\n",
    "        ]\n",
    "    }\n",
    "]"
   ]
  },
  {
   "cell_type": "markdown",
   "metadata": {},
   "source": [
    "- Click Create table.\n",
    "\n",
    "- After the load job is successful, preview the schema for the newly created table:"
   ]
  },
  {
   "cell_type": "markdown",
   "metadata": {},
   "source": [
    "- Which field is the STRUCT? How do you know?\n",
    "\n",
    "- The participants field is the STRUCT because it is of type RECORD.\n",
    "\n",
    "- Which field is the ARRAY?\n",
    "\n",
    "- The participants.splits field is an array of floats inside of the parent participants struct. It has a REPEATED Mode which indicates an array. Values of that array are called nested values since they are multiple values inside of a single field."
   ]
  },
  {
   "cell_type": "markdown",
   "metadata": {},
   "source": [
    "#### Practice querying nested and repeated fields"
   ]
  },
  {
   "cell_type": "markdown",
   "metadata": {},
   "source": [
    "- Let's see all of our racers for the 800 Meter race:"
   ]
  },
  {
   "cell_type": "code",
   "execution_count": null,
   "metadata": {
    "vscode": {
     "languageId": "sql"
    }
   },
   "outputs": [],
   "source": [
    "#standardSQL\n",
    "SELECT * FROM racing.race_results"
   ]
  },
  {
   "cell_type": "markdown",
   "metadata": {},
   "source": [
    "+ Run the below schema and see what happens:"
   ]
  },
  {
   "cell_type": "code",
   "execution_count": null,
   "metadata": {
    "vscode": {
     "languageId": "sql"
    }
   },
   "outputs": [],
   "source": [
    "#standardSQL\n",
    "SELECT race, participants.name\n",
    "FROM racing.race_results"
   ]
  },
  {
   "cell_type": "markdown",
   "metadata": {},
   "source": [
    "Error: Cannot access field name on a value with type ARRAY<STRUCT<name STRING, splits ARRAY<FLOAT64>>>> at [2:27]"
   ]
  },
  {
   "cell_type": "markdown",
   "metadata": {},
   "source": [
    "+ Now try running this:"
   ]
  },
  {
   "cell_type": "code",
   "execution_count": null,
   "metadata": {
    "vscode": {
     "languageId": "sql"
    }
   },
   "outputs": [],
   "source": [
    "#standardSQL\n",
    "SELECT race, participants.name\n",
    "FROM racing.race_results\n",
    "CROSS JOIN\n",
    "participants  # this is the STRUCT (it is like a table within a table)"
   ]
  },
  {
   "cell_type": "markdown",
   "metadata": {},
   "source": [
    "Table name \"participants\" missing dataset while no default dataset is set in the request.\n",
    "\n",
    "Even though the participants STRUCT is like a table, it is still technically a field in the racing.race_results table."
   ]
  },
  {
   "cell_type": "code",
   "execution_count": null,
   "metadata": {
    "vscode": {
     "languageId": "sql"
    }
   },
   "outputs": [],
   "source": [
    "#standardSQL\n",
    "SELECT race, participants.name\n",
    "FROM racing.race_results\n",
    "CROSS JOIN\n",
    "race_results.participants # full STRUCT name"
   ]
  },
  {
   "cell_type": "markdown",
   "metadata": {},
   "source": [
    "You can simplify the last query by:\n",
    "\n",
    "+ Adding an alias for the original table\n",
    "+ Replacing the words \"CROSS JOIN\" with a comma (a comma implicitly cross joins)"
   ]
  },
  {
   "cell_type": "code",
   "execution_count": null,
   "metadata": {
    "vscode": {
     "languageId": "sql"
    }
   },
   "outputs": [],
   "source": [
    "#standardSQL\n",
    "SELECT race, participants.name\n",
    "FROM racing.race_results AS r, r.participants"
   ]
  },
  {
   "cell_type": "markdown",
   "metadata": {},
   "source": [
    "### Lab question: STRUCT()"
   ]
  },
  {
   "cell_type": "markdown",
   "metadata": {},
   "source": [
    "Task: Write a query to COUNT how many racers were there in total.\n",
    "\n",
    "To start, use the below partially written query:"
   ]
  },
  {
   "cell_type": "code",
   "execution_count": null,
   "metadata": {
    "vscode": {
     "languageId": "sql"
    }
   },
   "outputs": [],
   "source": [
    "#standardSQL\n",
    "SELECT COUNT(participants.name) AS racer_count\n",
    "FROM racing.race_results"
   ]
  },
  {
   "cell_type": "markdown",
   "metadata": {},
   "source": [
    "Note: Remember you will need to cross join in your struct name as an additional data source after the FROM."
   ]
  },
  {
   "cell_type": "code",
   "execution_count": null,
   "metadata": {
    "vscode": {
     "languageId": "sql"
    }
   },
   "outputs": [],
   "source": [
    "#standardSQL\n",
    "SELECT COUNT(p.name) AS racer_count\n",
    "FROM racing.race_results AS r, UNNEST(r.participants) AS p"
   ]
  },
  {
   "cell_type": "markdown",
   "metadata": {},
   "source": [
    "### Lab question: Unpacking arrays with UNNEST( )"
   ]
  },
  {
   "cell_type": "markdown",
   "metadata": {},
   "source": [
    "Write a query that will list the total race time for racers whose names begin with R. Order the results with the fastest total time first. Use the UNNEST() operator and start with the partially written query below."
   ]
  },
  {
   "cell_type": "code",
   "execution_count": null,
   "metadata": {
    "vscode": {
     "languageId": "sql"
    }
   },
   "outputs": [],
   "source": [
    "#standardSQL\n",
    "SELECT\n",
    "  p.name,\n",
    "  SUM(split_times) as total_race_time\n",
    "FROM racing.race_results AS r\n",
    ", r.participants AS p\n",
    ", p.splits AS split_times\n",
    "WHERE\n",
    "GROUP BY\n",
    "ORDER BY\n",
    ";"
   ]
  },
  {
   "cell_type": "markdown",
   "metadata": {},
   "source": [
    "Note:\n",
    "You will need to unpack both the struct and the array within the struct as data sources after your FROM clause.\n",
    "Be sure to use aliases where appropriate."
   ]
  },
  {
   "cell_type": "code",
   "execution_count": null,
   "metadata": {
    "vscode": {
     "languageId": "sql"
    }
   },
   "outputs": [],
   "source": [
    "#standardSQL\n",
    "SELECT\n",
    "  p.name,\n",
    "  SUM(split_times) as total_race_time\n",
    "FROM racing.race_results AS r\n",
    ", UNNEST(r.participants) AS p\n",
    ", UNNEST(p.splits) AS split_times\n",
    "WHERE p.name LIKE 'R%'\n",
    "GROUP BY p.name\n",
    "ORDER BY total_race_time ASC;"
   ]
  },
  {
   "cell_type": "markdown",
   "metadata": {},
   "source": [
    "### Filtering within array values"
   ]
  },
  {
   "cell_type": "markdown",
   "metadata": {},
   "source": [
    "You happened to see that the fastest lap time recorded for the 800 M race was 23.2 seconds, but you did not see which runner ran that particular lap. Create a query that returns that result."
   ]
  },
  {
   "cell_type": "code",
   "execution_count": null,
   "metadata": {
    "vscode": {
     "languageId": "sql"
    }
   },
   "outputs": [],
   "source": [
    "#standardSQL\n",
    "SELECT\n",
    "  p.name,\n",
    "  split_time\n",
    "FROM racing.race_results AS r\n",
    ", r.participants AS p\n",
    ", p.splits AS split_time\n",
    "WHERE split_time = ;"
   ]
  },
  {
   "cell_type": "markdown",
   "metadata": {},
   "source": [
    "Possible solution:"
   ]
  },
  {
   "cell_type": "code",
   "execution_count": null,
   "metadata": {
    "vscode": {
     "languageId": "sql"
    }
   },
   "outputs": [],
   "source": [
    "#standardSQL\n",
    "SELECT\n",
    "  p.name,\n",
    "  split_time\n",
    "FROM racing.race_results AS r\n",
    ", UNNEST(r.participants) AS p\n",
    ", UNNEST(p.splits) AS split_time\n",
    "WHERE split_time = 23.2;"
   ]
  },
  {
   "cell_type": "markdown",
   "metadata": {},
   "source": [
    "***"
   ]
  },
  {
   "cell_type": "markdown",
   "metadata": {},
   "source": [
    "**<center><font size = \"6\">Build and Execute MySQL, PostgreSQL, and SQLServer to Data Catalog Connectors<center>**\n",
    "***"
   ]
  },
  {
   "cell_type": "markdown",
   "metadata": {},
   "source": [
    "### Enable the Data Catalog API\n"
   ]
  },
  {
   "cell_type": "markdown",
   "metadata": {},
   "source": [
    "- Open the Navigation menu and select APIs and Services > Library.\n",
    "\n",
    "- In the search bar, enter in \"Data Catalog\" and select the Google Cloud Data Catalog API.\n",
    "\n",
    "- Then click Enable.\n",
    "\n",
    "If you run into the following error after trying to enable the Data Catalog API:\n",
    "\n",
    "- Click Close.\n",
    "- Refresh your browser tab.\n",
    "- Click Enable again.\n"
   ]
  },
  {
   "cell_type": "markdown",
   "metadata": {},
   "source": [
    "### SQLServer to Data Catalog"
   ]
  },
  {
   "cell_type": "markdown",
   "metadata": {},
   "source": [
    "Start by setting up your environment.\n",
    "\n",
    "- Run the following command to set your Project ID, replacing <YOUR_PROJECT_ID> with the Project ID found in the connection details panel:"
   ]
  },
  {
   "cell_type": "code",
   "execution_count": null,
   "metadata": {
    "vscode": {
     "languageId": "shellscript"
    }
   },
   "outputs": [],
   "source": [
    "gcloud config set project <YOUR_PROJECT_ID>"
   ]
  },
  {
   "cell_type": "markdown",
   "metadata": {},
   "source": [
    "- Next set it as an environment variable:"
   ]
  },
  {
   "cell_type": "code",
   "execution_count": null,
   "metadata": {
    "vscode": {
     "languageId": "shellscript"
    }
   },
   "outputs": [],
   "source": [
    "export PROJECT_ID=$(gcloud config get-value project)"
   ]
  },
  {
   "cell_type": "markdown",
   "metadata": {},
   "source": [
    "#### Create the SQLServer database"
   ]
  },
  {
   "cell_type": "markdown",
   "metadata": {},
   "source": [
    "- In your Cloud Shell session, run the following command to download the scripts to create and populate your SQLServer instance:"
   ]
  },
  {
   "cell_type": "code",
   "execution_count": null,
   "metadata": {
    "vscode": {
     "languageId": "shellscript"
    }
   },
   "outputs": [],
   "source": [
    "gsutil cp gs://spls/gsp814/cloudsql-sqlserver-tooling.zip .\n",
    "unzip cloudsql-sqlserver-tooling.zip"
   ]
  },
  {
   "cell_type": "markdown",
   "metadata": {},
   "source": [
    "- Now change your current working directory to the downloaded directory:"
   ]
  },
  {
   "cell_type": "code",
   "execution_count": null,
   "metadata": {
    "vscode": {
     "languageId": "shellscript"
    }
   },
   "outputs": [],
   "source": [
    "cd cloudsql-sqlserver-tooling"
   ]
  },
  {
   "cell_type": "markdown",
   "metadata": {},
   "source": [
    "- Now run the init-db.sh script.\n",
    "\n"
   ]
  },
  {
   "cell_type": "code",
   "execution_count": null,
   "metadata": {
    "vscode": {
     "languageId": "shellscript"
    }
   },
   "outputs": [],
   "source": [
    "bash init-db.sh"
   ]
  },
  {
   "cell_type": "markdown",
   "metadata": {},
   "source": [
    "This will create your SQLServer instance and populate it with a random schema.\n",
    "\n",
    "Note: If you get an Error: Failed to load \"tfplan\" as a plan file, re-run the init-db script.\n",
    "This will take around 5 to 10 minutes to complete. You can move on when you receive the following output:"
   ]
  },
  {
   "cell_type": "code",
   "execution_count": null,
   "metadata": {
    "vscode": {
     "languageId": "shellscript"
    }
   },
   "outputs": [],
   "source": [
    "CREATE TABLE factory_warehouse15797.employees53b82dc5 ( school80581 REAL, reason91250 DATETIME, randomdata32431 BINARY, phone_number52754 REAL, person66471 REAL, credit_card75527 DATETIME )\n",
    "COMPLETED"
   ]
  },
  {
   "cell_type": "markdown",
   "metadata": {},
   "source": [
    "#### Set up the Service Account"
   ]
  },
  {
   "cell_type": "markdown",
   "metadata": {},
   "source": [
    "- Run the following command to create a Service Account:"
   ]
  },
  {
   "cell_type": "code",
   "execution_count": null,
   "metadata": {
    "vscode": {
     "languageId": "shellscript"
    }
   },
   "outputs": [],
   "source": [
    "gcloud iam service-accounts create sqlserver2dc-credentials \\\n",
    "--display-name  \"Service Account for SQLServer to Data Catalog connector\" \\\n",
    "--project $PROJECT_ID"
   ]
  },
  {
   "cell_type": "markdown",
   "metadata": {},
   "source": [
    "- Now create and download the Service Account Key."
   ]
  },
  {
   "cell_type": "code",
   "execution_count": null,
   "metadata": {
    "vscode": {
     "languageId": "shellscript"
    }
   },
   "outputs": [],
   "source": [
    "gcloud iam service-accounts keys create \"sqlserver2dc-credentials.json\" \\\n",
    "--iam-account \"sqlserver2dc-credentials@$PROJECT_ID.iam.gserviceaccount.com\""
   ]
  },
  {
   "cell_type": "markdown",
   "metadata": {},
   "source": [
    "- Add the Data Catalog admin role to the Service Account:"
   ]
  },
  {
   "cell_type": "code",
   "execution_count": null,
   "metadata": {
    "vscode": {
     "languageId": "shellscript"
    }
   },
   "outputs": [],
   "source": [
    "gcloud projects add-iam-policy-binding $PROJECT_ID \\\n",
    "--member \"serviceAccount:sqlserver2dc-credentials@$PROJECT_ID.iam.gserviceaccount.com\" \\\n",
    "--quiet \\\n",
    "--project $PROJECT_ID \\\n",
    "--role \"roles/datacatalog.admin\""
   ]
  },
  {
   "cell_type": "markdown",
   "metadata": {},
   "source": [
    "#### Execute SQLServer to Data Catalog connector"
   ]
  },
  {
   "cell_type": "markdown",
   "metadata": {},
   "source": [
    "- Change directories into the location of the Terraform scripts:"
   ]
  },
  {
   "cell_type": "code",
   "execution_count": null,
   "metadata": {
    "vscode": {
     "languageId": "shellscript"
    }
   },
   "outputs": [],
   "source": [
    "cd infrastructure/terraform/"
   ]
  },
  {
   "cell_type": "markdown",
   "metadata": {},
   "source": [
    "- Grab the environment variables:"
   ]
  },
  {
   "cell_type": "code",
   "execution_count": null,
   "metadata": {
    "vscode": {
     "languageId": "shellscript"
    }
   },
   "outputs": [],
   "source": [
    "public_ip_address=$(terraform output -raw public_ip_address)\n",
    "username=$(terraform output -raw username)\n",
    "password=$(terraform output -raw password)\n",
    "database=$(terraform output -raw db_name)"
   ]
  },
  {
   "cell_type": "markdown",
   "metadata": {},
   "source": [
    "- Change back to the root directory for the example code:"
   ]
  },
  {
   "cell_type": "code",
   "execution_count": null,
   "metadata": {
    "vscode": {
     "languageId": "shellscript"
    }
   },
   "outputs": [],
   "source": [
    "cd ~/cloudsql-sqlserver-tooling"
   ]
  },
  {
   "cell_type": "markdown",
   "metadata": {},
   "source": [
    "- Run the following command to execute the connector:"
   ]
  },
  {
   "cell_type": "code",
   "execution_count": null,
   "metadata": {
    "vscode": {
     "languageId": "shellscript"
    }
   },
   "outputs": [],
   "source": [
    "docker run --rm --tty -v \\\n",
    "\"$PWD\":/data mesmacosta/sqlserver2datacatalog:stable \\\n",
    "--datacatalog-project-id=$PROJECT_ID \\\n",
    "--datacatalog-location-id=us-central1 \\\n",
    "--sqlserver-host=$public_ip_address \\\n",
    "--sqlserver-user=$username \\\n",
    "--sqlserver-pass=$password \\\n",
    "--sqlserver-database=$database"
   ]
  },
  {
   "cell_type": "markdown",
   "metadata": {},
   "source": [
    "Soon after you should receive the following output:"
   ]
  },
  {
   "cell_type": "code",
   "execution_count": null,
   "metadata": {
    "vscode": {
     "languageId": "shellscript"
    }
   },
   "outputs": [],
   "source": [
    "============End sqlserver-to-datacatalog============"
   ]
  },
  {
   "cell_type": "markdown",
   "metadata": {},
   "source": [
    "#### Search for the SQLServer Entries in Data catalog"
   ]
  },
  {
   "cell_type": "markdown",
   "metadata": {},
   "source": [
    "- After the script finishes, open the navigation menu and select Data Catalog from the list of services.\n",
    "\n",
    "- In the the Data Catalog page, click on Tag Templates."
   ]
  },
  {
   "cell_type": "markdown",
   "metadata": {},
   "source": [
    "You should see your sqlserver Tag Templates listed.\n",
    "\n",
    "- Next, select Entry Groups."
   ]
  },
  {
   "cell_type": "markdown",
   "metadata": {},
   "source": [
    "You should see the sqlserver Entry Group in the Entry Groups list:\n",
    "\n",
    "- Now click on the sqlserver Entry Group. Your console should resemble the following:"
   ]
  },
  {
   "cell_type": "markdown",
   "metadata": {},
   "source": [
    "This is the real value of an Entry Group—you can see all entries that belong to sqlserver using the UI.\n",
    "\n",
    "- Click on one of the warehouse entries. Look at the Custom entry details and tags.\n",
    "\n",
    "This is the real value the connector adds — it allows you to have the metadata searchable in Data Catalog."
   ]
  },
  {
   "cell_type": "markdown",
   "metadata": {},
   "source": [
    "#### Clean up"
   ]
  },
  {
   "cell_type": "code",
   "execution_count": null,
   "metadata": {
    "vscode": {
     "languageId": "shellscript"
    }
   },
   "outputs": [],
   "source": [
    "./cleanup-db.sh"
   ]
  },
  {
   "cell_type": "markdown",
   "metadata": {},
   "source": [
    "- Now execute the cleaner container:"
   ]
  },
  {
   "cell_type": "code",
   "execution_count": null,
   "metadata": {
    "vscode": {
     "languageId": "shellscript"
    }
   },
   "outputs": [],
   "source": [
    "docker run --rm --tty -v \\\n",
    "\"$PWD\":/data mesmacosta/sqlserver-datacatalog-cleaner:stable \\\n",
    "--datacatalog-project-ids=$PROJECT_ID \\\n",
    "--rdbms-type=sqlserver \\\n",
    "--table-container-type=schema"
   ]
  },
  {
   "cell_type": "markdown",
   "metadata": {},
   "source": [
    "- Now run the following command to delete the SQLServer database:"
   ]
  },
  {
   "cell_type": "code",
   "execution_count": null,
   "metadata": {
    "vscode": {
     "languageId": "shellscript"
    }
   },
   "outputs": [],
   "source": [
    "./delete-db.sh"
   ]
  },
  {
   "cell_type": "markdown",
   "metadata": {},
   "source": [
    "- From the Navigation menu click Data Catalog.\n",
    "\n",
    "- Search for sqlserver."
   ]
  },
  {
   "cell_type": "markdown",
   "metadata": {},
   "source": [
    "- You will no longer see the SQLServer Tag Templates in the results:\n",
    "\n",
    "- Ensure you see the following output in Cloud Shell before you move on:"
   ]
  },
  {
   "cell_type": "code",
   "execution_count": null,
   "metadata": {
    "vscode": {
     "languageId": "shellscript"
    }
   },
   "outputs": [],
   "source": [
    " Cloud SQL Instance deleted\n",
    " COMPLETED"
   ]
  },
  {
   "cell_type": "markdown",
   "metadata": {},
   "source": [
    "### PostgreSQL to Data Catalog"
   ]
  },
  {
   "cell_type": "markdown",
   "metadata": {},
   "source": [
    "#### Create the PostgreSQL Database\n"
   ]
  },
  {
   "cell_type": "markdown",
   "metadata": {},
   "source": [
    "- Run the following command in Cloud Shell to return to your home directory:"
   ]
  },
  {
   "cell_type": "code",
   "execution_count": null,
   "metadata": {
    "vscode": {
     "languageId": "shellscript"
    }
   },
   "outputs": [],
   "source": [
    "cd"
   ]
  },
  {
   "cell_type": "markdown",
   "metadata": {},
   "source": [
    "- Run the following command to clone the Github repository:"
   ]
  },
  {
   "cell_type": "code",
   "execution_count": null,
   "metadata": {
    "vscode": {
     "languageId": "shellscript"
    }
   },
   "outputs": [],
   "source": [
    "gsutil cp gs://spls/gsp814/cloudsql-postgresql-tooling.zip .\n",
    "unzip cloudsql-postgresql-tooling.zip"
   ]
  },
  {
   "cell_type": "markdown",
   "metadata": {},
   "source": [
    "- Now change your current working directory to the cloned repo directory:"
   ]
  },
  {
   "cell_type": "code",
   "execution_count": null,
   "metadata": {
    "vscode": {
     "languageId": "shellscript"
    }
   },
   "outputs": [],
   "source": [
    "cd cloudsql-postgresql-tooling"
   ]
  },
  {
   "cell_type": "markdown",
   "metadata": {},
   "source": [
    "- Now execute the init-db.sh script:"
   ]
  },
  {
   "cell_type": "code",
   "execution_count": null,
   "metadata": {
    "vscode": {
     "languageId": "shellscript"
    }
   },
   "outputs": [],
   "source": [
    "bash init-db.sh"
   ]
  },
  {
   "cell_type": "markdown",
   "metadata": {},
   "source": [
    "This will create your PostgreSQL instance and populate it with a random schema. This can take around 10 to 15 minutes to complete.\n",
    "\n",
    "Note: If you get an Error: Failed to load \"tfplan\" as a plan file, re-run the init-db script."
   ]
  },
  {
   "cell_type": "markdown",
   "metadata": {},
   "source": [
    "Soon after you should receive the following output:"
   ]
  },
  {
   "cell_type": "code",
   "execution_count": null,
   "metadata": {
    "vscode": {
     "languageId": "shellscript"
    }
   },
   "outputs": [],
   "source": [
    "CREATE TABLE factory_warehouse69945.home17e97c57 ( house57588 DATE, paragraph64180 SMALLINT, ip_address61569 JSONB, date_time44962 REAL, food19478 JSONB, state8925 VARCHAR(25), cpf75444 REAL, date_time96090 SMALLINT, reason7955 CHAR(5), phone_number96292 INT, size97593 DATE, date_time609 CHAR(5), location70431 DATE )\n",
    " COMPLETED"
   ]
  },
  {
   "cell_type": "markdown",
   "metadata": {},
   "source": [
    "### Set up the Service Account"
   ]
  },
  {
   "cell_type": "markdown",
   "metadata": {},
   "source": [
    "- Create a Service Account:"
   ]
  },
  {
   "cell_type": "code",
   "execution_count": null,
   "metadata": {
    "vscode": {
     "languageId": "shellscript"
    }
   },
   "outputs": [],
   "source": [
    "gcloud iam service-accounts create postgresql2dc-credentials \\\n",
    "--display-name  \"Service Account for PostgreSQL to Data Catalog connector\" \\\n",
    "--project $PROJECT_ID"
   ]
  },
  {
   "cell_type": "markdown",
   "metadata": {},
   "source": [
    "- Next create and download the Service Account Key:"
   ]
  },
  {
   "cell_type": "code",
   "execution_count": null,
   "metadata": {
    "vscode": {
     "languageId": "shellscript"
    }
   },
   "outputs": [],
   "source": [
    "gcloud iam service-accounts keys create \"postgresql2dc-credentials.json\" \\\n",
    "--iam-account \"postgresql2dc-credentials@$PROJECT_ID.iam.gserviceaccount.com\""
   ]
  },
  {
   "cell_type": "markdown",
   "metadata": {},
   "source": [
    "- Next add Data Catalog admin role to the Service Account:"
   ]
  },
  {
   "cell_type": "code",
   "execution_count": null,
   "metadata": {
    "vscode": {
     "languageId": "shellscript"
    }
   },
   "outputs": [],
   "source": [
    "gcloud projects add-iam-policy-binding $PROJECT_ID \\\n",
    "--member \"serviceAccount:postgresql2dc-credentials@$PROJECT_ID.iam.gserviceaccount.com\" \\\n",
    "--quiet \\\n",
    "--project $PROJECT_ID \\\n",
    "--role \"roles/datacatalog.admin\""
   ]
  },
  {
   "cell_type": "markdown",
   "metadata": {},
   "source": [
    "#### Execute PostgreSQL to Data Catalog connector"
   ]
  },
  {
   "cell_type": "markdown",
   "metadata": {},
   "source": [
    "- Change directories into the location of the Terraform scripts:"
   ]
  },
  {
   "cell_type": "code",
   "execution_count": null,
   "metadata": {
    "vscode": {
     "languageId": "shellscript"
    }
   },
   "outputs": [],
   "source": [
    "cd infrastructure/terraform/"
   ]
  },
  {
   "cell_type": "markdown",
   "metadata": {},
   "source": [
    "- Grab the environment variables:"
   ]
  },
  {
   "cell_type": "code",
   "execution_count": null,
   "metadata": {
    "vscode": {
     "languageId": "shellscript"
    }
   },
   "outputs": [],
   "source": [
    "public_ip_address=$(terraform output -raw public_ip_address)\n",
    "username=$(terraform output -raw username)\n",
    "password=$(terraform output -raw password)\n",
    "database=$(terraform output -raw db_name)"
   ]
  },
  {
   "cell_type": "markdown",
   "metadata": {},
   "source": [
    "- Change back to the root directory for the example code:"
   ]
  },
  {
   "cell_type": "code",
   "execution_count": null,
   "metadata": {
    "vscode": {
     "languageId": "shellscript"
    }
   },
   "outputs": [],
   "source": [
    "cd ~/cloudsql-postgresql-tooling"
   ]
  },
  {
   "cell_type": "markdown",
   "metadata": {},
   "source": [
    "- Execute the connector:"
   ]
  },
  {
   "cell_type": "code",
   "execution_count": null,
   "metadata": {
    "vscode": {
     "languageId": "shellscript"
    }
   },
   "outputs": [],
   "source": [
    "docker run --rm --tty -v \\\n",
    "\"$PWD\":/data mesmacosta/postgresql2datacatalog:stable \\\n",
    "--datacatalog-project-id=$PROJECT_ID \\\n",
    "--datacatalog-location-id=us-central1 \\\n",
    "--postgresql-host=$public_ip_address \\\n",
    "--postgresql-user=$username \\\n",
    "--postgresql-pass=$password \\\n",
    "--postgresql-database=$database"
   ]
  },
  {
   "cell_type": "markdown",
   "metadata": {},
   "source": [
    "Soon after you should receive the following output:"
   ]
  },
  {
   "cell_type": "code",
   "execution_count": null,
   "metadata": {
    "vscode": {
     "languageId": "shellscript"
    }
   },
   "outputs": [],
   "source": [
    "============End postgresql-to-datacatalog============"
   ]
  },
  {
   "cell_type": "markdown",
   "metadata": {},
   "source": [
    "#### Check the results of the script"
   ]
  },
  {
   "cell_type": "markdown",
   "metadata": {},
   "source": [
    "- Ensure that you are in the Data Catalog home page.\n",
    "\n",
    "- Click on Tag Templates.\n",
    "\n",
    "- Click on Entry groups.\n",
    "\n",
    "- Now click on the postgresql Entry Group. Your console should resemble the following:\n",
    "\n",
    "- This is the real value of an Entry Group — you can see all entries that belong to postgresql using the UI.\n",
    "\n",
    "- Click on one of the warehouse entries. Look at the Custom entry details and tags:\n",
    "\n",
    "This is the real value the connector adds—it allows you to have the metadata searchable in Data Catalog."
   ]
  },
  {
   "cell_type": "markdown",
   "metadata": {},
   "source": [
    "#### Clean up"
   ]
  },
  {
   "cell_type": "markdown",
   "metadata": {},
   "source": [
    "- To delete the created resources, run the following command to delete the PostgreSQL metadata:"
   ]
  },
  {
   "cell_type": "code",
   "execution_count": null,
   "metadata": {
    "vscode": {
     "languageId": "shellscript"
    }
   },
   "outputs": [],
   "source": [
    "./cleanup-db.sh"
   ]
  },
  {
   "cell_type": "markdown",
   "metadata": {},
   "source": [
    "- Now execute the cleaner container:"
   ]
  },
  {
   "cell_type": "code",
   "execution_count": null,
   "metadata": {
    "vscode": {
     "languageId": "shellscript"
    }
   },
   "outputs": [],
   "source": [
    "docker run --rm --tty -v \\\n",
    "\"$PWD\":/data mesmacosta/postgresql-datacatalog-cleaner:stable \\\n",
    "--datacatalog-project-ids=$PROJECT_ID \\\n",
    "--rdbms-type=postgresql \\\n",
    "--table-container-type=schema"
   ]
  },
  {
   "cell_type": "markdown",
   "metadata": {},
   "source": [
    "- Finally, delete the PostgreSQL database:"
   ]
  },
  {
   "cell_type": "code",
   "execution_count": null,
   "metadata": {
    "vscode": {
     "languageId": "shellscript"
    }
   },
   "outputs": [],
   "source": [
    "./delete-db.sh"
   ]
  },
  {
   "cell_type": "markdown",
   "metadata": {},
   "source": [
    "- Now, from the Navigation menu click on Data Catalog.\n",
    "\n",
    "- Search for PostgreSQL. You will no longer see the PostgreSQL Tag Templates in the results:"
   ]
  },
  {
   "cell_type": "markdown",
   "metadata": {},
   "source": [
    "Ensure you see the following output in Cloud Shell before you move on:"
   ]
  },
  {
   "cell_type": "code",
   "execution_count": null,
   "metadata": {
    "vscode": {
     "languageId": "shellscript"
    }
   },
   "outputs": [],
   "source": [
    "Cloud SQL Instance deleted\n",
    "  COMPLETED"
   ]
  },
  {
   "cell_type": "markdown",
   "metadata": {},
   "source": [
    "### MySQL to Data Catalog"
   ]
  },
  {
   "cell_type": "markdown",
   "metadata": {},
   "source": [
    "#### Create the MySQL database"
   ]
  },
  {
   "cell_type": "markdown",
   "metadata": {},
   "source": [
    "- Run the following command in Cloud Shell to return to your home directory:"
   ]
  },
  {
   "cell_type": "code",
   "execution_count": null,
   "metadata": {
    "vscode": {
     "languageId": "shellscript"
    }
   },
   "outputs": [],
   "source": [
    "cd"
   ]
  },
  {
   "cell_type": "markdown",
   "metadata": {},
   "source": [
    "- Run the following command to download the scripts to create and populate your MySQL instance:"
   ]
  },
  {
   "cell_type": "code",
   "execution_count": null,
   "metadata": {
    "vscode": {
     "languageId": "shellscript"
    }
   },
   "outputs": [],
   "source": [
    "gsutil cp gs://spls/gsp814/cloudsql-mysql-tooling.zip .\n",
    "unzip cloudsql-mysql-tooling.zip"
   ]
  },
  {
   "cell_type": "markdown",
   "metadata": {},
   "source": [
    "- Now change your current working directory to the cloned repo directory:"
   ]
  },
  {
   "cell_type": "code",
   "execution_count": null,
   "metadata": {
    "vscode": {
     "languageId": "shellscript"
    }
   },
   "outputs": [],
   "source": [
    "cd cloudsql-mysql-tooling"
   ]
  },
  {
   "cell_type": "markdown",
   "metadata": {},
   "source": [
    "- Next execute the init-db.sh script:"
   ]
  },
  {
   "cell_type": "code",
   "execution_count": null,
   "metadata": {
    "vscode": {
     "languageId": "shellscript"
    }
   },
   "outputs": [],
   "source": [
    "bash init-db.sh"
   ]
  },
  {
   "cell_type": "markdown",
   "metadata": {},
   "source": [
    "This will create your MySQL instance and populate it with a random schema. After a few minutes, you should receive the following output:"
   ]
  },
  {
   "cell_type": "code",
   "execution_count": null,
   "metadata": {
    "vscode": {
     "languageId": "shellscript"
    }
   },
   "outputs": [],
   "source": [
    "CREATE TABLE factory_warehouse14342.persons88a5ebc4 ( address9634 TEXT, cpf12934 FLOAT, food88799 BOOL, food4761 LONGTEXT, credit_card44049 FLOAT, city8417 TINYINT, name76076 DATETIME, address19458 TIME, reason49953 DATETIME )\n",
    " COMPLETED"
   ]
  },
  {
   "cell_type": "markdown",
   "metadata": {},
   "source": [
    "Note: If you get an Error: Failed to load \"tfplan\" as a plan file, re-run the init-db script."
   ]
  },
  {
   "cell_type": "markdown",
   "metadata": {},
   "source": [
    "#### Set up the Service Account"
   ]
  },
  {
   "cell_type": "markdown",
   "metadata": {},
   "source": [
    "- Run the following to create a Service Account:"
   ]
  },
  {
   "cell_type": "code",
   "execution_count": null,
   "metadata": {
    "vscode": {
     "languageId": "shellscript"
    }
   },
   "outputs": [],
   "source": [
    "gcloud iam service-accounts create mysql2dc-credentials \\\n",
    "--display-name  \"Service Account for MySQL to Data Catalog connector\" \\\n",
    "--project $PROJECT_ID"
   ]
  },
  {
   "cell_type": "markdown",
   "metadata": {},
   "source": [
    "- Next, create and download the Service Account Key:"
   ]
  },
  {
   "cell_type": "code",
   "execution_count": null,
   "metadata": {
    "vscode": {
     "languageId": "shellscript"
    }
   },
   "outputs": [],
   "source": [
    "gcloud iam service-accounts keys create \"mysql2dc-credentials.json\" \\\n",
    "--iam-account \"mysql2dc-credentials@$PROJECT_ID.iam.gserviceaccount.com\""
   ]
  },
  {
   "cell_type": "markdown",
   "metadata": {},
   "source": [
    "- Next add Data Catalog admin role to the Service Account:"
   ]
  },
  {
   "cell_type": "code",
   "execution_count": null,
   "metadata": {
    "vscode": {
     "languageId": "shellscript"
    }
   },
   "outputs": [],
   "source": [
    "gcloud projects add-iam-policy-binding $PROJECT_ID \\\n",
    "--member \"serviceAccount:mysql2dc-credentials@$PROJECT_ID.iam.gserviceaccount.com\" \\\n",
    "--quiet \\\n",
    "--project $PROJECT_ID \\\n",
    "--role \"roles/datacatalog.admin\""
   ]
  },
  {
   "cell_type": "markdown",
   "metadata": {},
   "source": [
    "#### Execute MySQL to Data Catalog connector"
   ]
  },
  {
   "cell_type": "markdown",
   "metadata": {},
   "source": [
    "- Change directories into the location of the Terraform scripts:"
   ]
  },
  {
   "cell_type": "code",
   "execution_count": null,
   "metadata": {
    "vscode": {
     "languageId": "shellscript"
    }
   },
   "outputs": [],
   "source": [
    "cd infrastructure/terraform/"
   ]
  },
  {
   "cell_type": "markdown",
   "metadata": {},
   "source": [
    "- Grab the environment variables:"
   ]
  },
  {
   "cell_type": "code",
   "execution_count": null,
   "metadata": {
    "vscode": {
     "languageId": "shellscript"
    }
   },
   "outputs": [],
   "source": [
    "public_ip_address=$(terraform output -raw public_ip_address)\n",
    "username=$(terraform output -raw username)\n",
    "password=$(terraform output -raw password)\n",
    "database=$(terraform output -raw db_name)"
   ]
  },
  {
   "cell_type": "markdown",
   "metadata": {},
   "source": [
    "- Change back to the root directory for the example code:"
   ]
  },
  {
   "cell_type": "code",
   "execution_count": null,
   "metadata": {
    "vscode": {
     "languageId": "shellscript"
    }
   },
   "outputs": [],
   "source": [
    "cd ~/cloudsql-mysql-tooling"
   ]
  },
  {
   "cell_type": "markdown",
   "metadata": {},
   "source": [
    "- Execute the connector:"
   ]
  },
  {
   "cell_type": "code",
   "execution_count": null,
   "metadata": {
    "vscode": {
     "languageId": "shellscript"
    }
   },
   "outputs": [],
   "source": [
    "docker run --rm --tty -v \\\n",
    "\"$PWD\":/data mesmacosta/mysql2datacatalog:stable \\\n",
    "--datacatalog-project-id=$PROJECT_ID \\\n",
    "--datacatalog-location-id=us-central1 \\\n",
    "--mysql-host=$public_ip_address \\\n",
    "--mysql-user=$username \\\n",
    "--mysql-pass=$password \\\n",
    "--mysql-database=$database"
   ]
  },
  {
   "cell_type": "markdown",
   "metadata": {},
   "source": [
    "Soon after you should receive the following output:"
   ]
  },
  {
   "cell_type": "code",
   "execution_count": null,
   "metadata": {
    "vscode": {
     "languageId": "shellscript"
    }
   },
   "outputs": [],
   "source": [
    "============End mysql-to-datacatalog============"
   ]
  },
  {
   "cell_type": "markdown",
   "metadata": {},
   "source": [
    "#### Check the results of the script"
   ]
  },
  {
   "cell_type": "markdown",
   "metadata": {},
   "source": [
    "- Ensure that you are in the Data Catalog home page.\n",
    "\n",
    "- Click on Tag Templates.\n",
    "\n",
    "- Click on Entry groups.\n",
    "\n",
    "- Now click on the mysql Entry Group. Your console should resemble the following:"
   ]
  },
  {
   "cell_type": "markdown",
   "metadata": {},
   "source": [
    "This is the real value of an Entry Group — you can see all entries that belong to MySQL using the UI.\n",
    "\n",
    "- Click on one of the warehouse entries. Look at the Custom entry details and tags.\n",
    "\n",
    "This is the real value the connector adds — it allows you to have the metadata searchable in Data Catalog."
   ]
  },
  {
   "cell_type": "markdown",
   "metadata": {},
   "source": [
    "#### Clean up"
   ]
  },
  {
   "cell_type": "markdown",
   "metadata": {},
   "source": [
    "- To delete the created resources, run the following command to delete the MySQL metadata:"
   ]
  },
  {
   "cell_type": "code",
   "execution_count": null,
   "metadata": {
    "vscode": {
     "languageId": "shellscript"
    }
   },
   "outputs": [],
   "source": [
    "./cleanup-db.sh"
   ]
  },
  {
   "cell_type": "markdown",
   "metadata": {},
   "source": [
    "- Now execute the cleaner container:"
   ]
  },
  {
   "cell_type": "code",
   "execution_count": null,
   "metadata": {
    "vscode": {
     "languageId": "shellscript"
    }
   },
   "outputs": [],
   "source": [
    "docker run --rm --tty -v \\\n",
    "\"$PWD\":/data mesmacosta/mysql-datacatalog-cleaner:stable \\\n",
    "--datacatalog-project-ids=$PROJECT_ID \\\n",
    "--rdbms-type=mysql \\\n",
    "--table-container-type=database"
   ]
  },
  {
   "cell_type": "markdown",
   "metadata": {},
   "source": [
    "- Finally, delete the PostgreSQL database:"
   ]
  },
  {
   "cell_type": "code",
   "execution_count": null,
   "metadata": {
    "vscode": {
     "languageId": "shellscript"
    }
   },
   "outputs": [],
   "source": [
    "./delete-db.sh"
   ]
  },
  {
   "cell_type": "markdown",
   "metadata": {},
   "source": [
    "- From the Navigation menu click Data Catalog.\n",
    "\n",
    "- Search for MySQL. You will no longer see the MySQL Tag Templates in the results.\n",
    "\n",
    "Ensure you see the following output in Cloud Shell before you move on:"
   ]
  },
  {
   "cell_type": "code",
   "execution_count": null,
   "metadata": {
    "vscode": {
     "languageId": "shellscript"
    }
   },
   "outputs": [],
   "source": [
    "Cloud SQL Instance deleted\n",
    "  COMPLETED"
   ]
  },
  {
   "cell_type": "markdown",
   "metadata": {},
   "source": [
    "***"
   ]
  },
  {
   "cell_type": "markdown",
   "metadata": {},
   "source": [
    "**<center><font size = \"6\">Build and Optimize Data Warehouses with BigQuery: Challenge Lab<center>**\n",
    "***"
   ]
  },
  {
   "cell_type": "markdown",
   "metadata": {},
   "source": [
    "### Create a table partitioned by date"
   ]
  },
  {
   "cell_type": "code",
   "execution_count": null,
   "metadata": {
    "vscode": {
     "languageId": "sql"
    }
   },
   "outputs": [],
   "source": [
    "create or replace table `qwiklabs-gcp-04-a1d664c63bfe.covid_901.oxford_policy_tracker_466`\n",
    "partition by date\n",
    "options(\n",
    "  partition_expiration_days = 720\n",
    ")\n",
    "as\n",
    "select *\n",
    "from `qwiklabs-gcp-04-a1d664c63bfe.covid_901.oxford_policy_tracker`\n",
    "where alpha_3_code not in ('GBR', 'BRA', 'CAN', 'USA')"
   ]
  },
  {
   "cell_type": "markdown",
   "metadata": {},
   "source": [
    "### Add new columns to your table"
   ]
  },
  {
   "cell_type": "markdown",
   "metadata": {},
   "source": [
    "- Update your table to add new columns to your table with the appropriate data types to ensure alignment with the specification provided to you:"
   ]
  },
  {
   "cell_type": "markdown",
   "metadata": {},
   "source": [
    "***Tip should create empty column first***"
   ]
  },
  {
   "cell_type": "markdown",
   "metadata": {},
   "source": [
    "### Add country population data to the population column"
   ]
  },
  {
   "cell_type": "code",
   "execution_count": null,
   "metadata": {
    "vscode": {
     "languageId": "sql"
    }
   },
   "outputs": [],
   "source": [
    "UPDATE\n",
    "`qwiklabs-gcp-04-a1d664c63bfe.covid_901.oxford_policy_tracker_466`  t0\n",
    "SET\n",
    "    t0.population = t2.pop_data_2019\n",
    "FROM\n",
    "    (SELECT DISTINCT country_territory_code, pop_data_2019 FROM `bigquery-public-data.covid19_ecdc.covid_19_geographic_distribution_worldwide`) AS t2\n",
    "WHERE t0.alpha_3_code = t2.country_territory_code;"
   ]
  },
  {
   "cell_type": "markdown",
   "metadata": {},
   "source": [
    "### Add country area data to the country_area column"
   ]
  },
  {
   "cell_type": "code",
   "execution_count": null,
   "metadata": {
    "vscode": {
     "languageId": "sql"
    }
   },
   "outputs": [],
   "source": [
    "UPDATE\n",
    "`qwiklabs-gcp-04-a1d664c63bfe.covid_901.oxford_policy_tracker_466`  t0\n",
    "SET\n",
    "    t0.country_area = t2.country_area\n",
    "FROM\n",
    "    (SELECT DISTINCT country_name, country_area FROM `qwiklabs-gcp-04-a1d664c63bfe.covid_901.country_names_area`) AS t2\n",
    "WHERE t0.country_name = t2.country_name;"
   ]
  },
  {
   "cell_type": "markdown",
   "metadata": {},
   "source": [
    "## Populate the mobility record data"
   ]
  },
  {
   "cell_type": "code",
   "execution_count": null,
   "metadata": {
    "vscode": {
     "languageId": "sql"
    }
   },
   "outputs": [],
   "source": [
    "UPDATE\n",
    "`qwiklabs-gcp-04-a1d664c63bfe.covid_901.oxford_policy_tracker_466`  t0\n",
    "SET\n",
    "    t0.mobility.avg_retail = t2.avg_retail,\n",
    "    t0.mobility.avg_grocery = t2.avg_grocery,\n",
    "    t0.mobility.avg_parks = t2.avg_parks,\n",
    "    t0.mobility.avg_transit = t2.avg_transit,\n",
    "    t0.mobility.avg_workplace = t2.avg_workplace,\n",
    "    t0.mobility.avg_residential = t2.avg_residential\n",
    "FROM\n",
    "    (\n",
    "        SELECT country_region, date,\n",
    "      AVG(retail_and_recreation_percent_change_from_baseline) as avg_retail,\n",
    "      AVG(grocery_and_pharmacy_percent_change_from_baseline)  as avg_grocery,\n",
    "      AVG(parks_percent_change_from_baseline) as avg_parks,\n",
    "      AVG(transit_stations_percent_change_from_baseline) as avg_transit,\n",
    "      AVG( workplaces_percent_change_from_baseline ) as avg_workplace,\n",
    "      AVG( residential_percent_change_from_baseline)  as avg_residential\n",
    "      FROM `bigquery-public-data.covid19_google_mobility.mobility_report`\n",
    "      GROUP BY country_region, date\n",
    "    ) AS t2\n",
    "WHERE t0.country_name = t2.country_region\n",
    "and t0.date = t2.date;"
   ]
  },
  {
   "cell_type": "markdown",
   "metadata": {},
   "source": [
    "### Query missing data in population & country_area columns"
   ]
  },
  {
   "cell_type": "code",
   "execution_count": null,
   "metadata": {
    "vscode": {
     "languageId": "sql"
    }
   },
   "outputs": [],
   "source": [
    "select *\n",
    "from \n",
    "(\n",
    "SELECT distinct country_name \n",
    "FROM `qwiklabs-gcp-04-a1d664c63bfe.covid_901.oxford_policy_tracker_466` \n",
    "where population is null\n",
    "union all\n",
    "SELECT distinct country_name \n",
    "FROM `qwiklabs-gcp-04-a1d664c63bfe.covid_901.oxford_policy_tracker_466` \n",
    "where country_area is null\n",
    ")\n",
    "order by country_name\n"
   ]
  }
 ],
 "metadata": {
  "kernelspec": {
   "display_name": "Python 3.9.9 64-bit",
   "language": "python",
   "name": "python3"
  },
  "language_info": {
   "codemirror_mode": {
    "name": "ipython",
    "version": 3
   },
   "file_extension": ".py",
   "mimetype": "text/x-python",
   "name": "python",
   "nbconvert_exporter": "python",
   "pygments_lexer": "ipython3",
   "version": "3.9.9"
  },
  "orig_nbformat": 4,
  "vscode": {
   "interpreter": {
    "hash": "aee8b7b246df8f9039afb4144a1f6fd8d2ca17a180786b69acc140d282b71a49"
   }
  }
 },
 "nbformat": 4,
 "nbformat_minor": 2
}
