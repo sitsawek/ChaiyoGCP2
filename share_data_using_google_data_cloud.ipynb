{
 "cells": [
  {
   "cell_type": "markdown",
   "metadata": {},
   "source": [
    "***"
   ]
  },
  {
   "cell_type": "markdown",
   "metadata": {},
   "source": [
    "**<center><font size = \"6\">Share Data Using Google Data Cloud<center>**\n",
    "***\n",
    "<center><font size = \"2\">Prepared by: Sitsawek Sukorn<center>"
   ]
  },
  {
   "cell_type": "markdown",
   "metadata": {},
   "source": [
    "### Data Publishing on BigQuery for Data Sharing Partners"
   ]
  },
  {
   "cell_type": "markdown",
   "metadata": {},
   "source": [
    "### Grant permissions via IAM for data access"
   ]
  },
  {
   "cell_type": "markdown",
   "metadata": {},
   "source": [
    "- Open the Data Sharing Partner Project Console.\n",
    "\n",
    "- From the Navigation Menu, go to IAM & Admin > IAM.\n",
    "\n",
    "- Click + GRANT ACCESS at the top to assign a role to principals who needs to access the data.\n",
    "\n",
    "- In the New principals field, enter the customer service account IDs:\n",
    "\n",
    "- Customer 1 username\n",
    "\n",
    "- Customer 2 username\n",
    "\n",
    "- In the Select a role field, select the BigQuery User role.\n",
    "\n",
    "- Click Save.\n",
    "\n",
    "Note: You could also add the BigQuery Job User role so that a service account can run scheduled jobs."
   ]
  },
  {
   "cell_type": "markdown",
   "metadata": {},
   "source": [
    "### Create a new dataset within an existing project"
   ]
  },
  {
   "cell_type": "markdown",
   "metadata": {},
   "source": [
    "- From the Navigation Menu, go to BigQuery > SQL Workspace.\n",
    "\n",
    "- In the Explorer panel, select the project where you want to create the dataset. Expand the three dots Actions option and click Create dataset.\n",
    "\n",
    "- For Dataset ID, enter demo_dataset.\n",
    "\n",
    "- For Data location choose US.\n",
    "\n",
    "- Click Create Dataset."
   ]
  },
  {
   "cell_type": "markdown",
   "metadata": {},
   "source": [
    "### Copy an existing table to newly created dataset"
   ]
  },
  {
   "cell_type": "markdown",
   "metadata": {},
   "source": [
    "For the purposes of this lab, you will use a public dataset that you will then copy into a table inside of your project.\n",
    "\n",
    "- Click + Add data.\n",
    "\n",
    "The Add data window opens.\n",
    "\n",
    "- Click Public Datasets under Additional sources.\n",
    "\n",
    "- In the search bar, type Google Trends.\n",
    "\n",
    "- Select the Google Trends dataset. Make sure it is not the international dataset.\n",
    "\n",
    "- Click View dataset. The dataset information page should show up.\n",
    "\n",
    "- Click Copy.\n",
    "\n",
    "- For the Destination dataset, click in the box and select Data Sharing Partner Project ID .demo_dataset.\n",
    "\n",
    "- For Location select US.\n",
    "\n",
    "- Click Copy.\n",
    "\n",
    "A popup window asking to authorize the BigQuery Data Transfer Service should appear. Select the student account and click Allow."
   ]
  },
  {
   "cell_type": "markdown",
   "metadata": {},
   "source": [
    "### Grant permission to the users to access the table"
   ]
  },
  {
   "cell_type": "markdown",
   "metadata": {},
   "source": [
    "For the purposes of this lab, a dataset and table have been provided for you in BigQuery.\n",
    "\n",
    "- From the Navigation Menu, go to BigQuery > SQL Workspace.\n",
    "\n",
    "- Under your project, inside of demo_dataset, open the top_terms table.\n",
    "\n",
    "- Click Share.\n",
    "\n",
    "- Click on Add Principal and add the two customer users:\n",
    "\n",
    "- Customer 1 username\n",
    "\n",
    "- Customer 2 username\n",
    "\n",
    "- Select the BigQuery Data Viewer role.\n",
    "\n",
    "- Click Save."
   ]
  },
  {
   "cell_type": "markdown",
   "metadata": {},
   "source": [
    "### Authorize a dataset and grant permission to the users"
   ]
  },
  {
   "cell_type": "markdown",
   "metadata": {},
   "source": [
    "- Open the demo_dataset and click + Sharing > Authorize Datasets.\n",
    "\n",
    "- Select the Dataset ID that needs to be authorized to share: Data Sharing Partner Project ID .demo_dataset.\n",
    "\n",
    "- Click Add Authorization.\n",
    "\n",
    "- Click on Sharing > Permissions > Add Principal and add the two customer users:\n",
    "\n",
    "- Customer 1 username\n",
    "\n",
    "- Customer 2 username\n",
    "\n",
    "- Select the BigQuery User role.\n",
    "\n",
    "- Click Save."
   ]
  },
  {
   "cell_type": "markdown",
   "metadata": {},
   "source": [
    "### Verify dataset sharing for customer projects"
   ]
  },
  {
   "cell_type": "markdown",
   "metadata": {},
   "source": [
    "#### Verify dataset sharing for customer 1"
   ]
  },
  {
   "cell_type": "markdown",
   "metadata": {},
   "source": [
    "- Close the Data Sharing Partner Project Console and open the Customer Project 1 Console. Log in with the associated credentials.\n",
    "\n",
    "- From the Navigation Menu, go to BigQuery > SQL Workspace.\n",
    "\n",
    "- Run the following query, which selects all columns from the demo_dataset.top_terms table from the Data Sharing Partner project:"
   ]
  },
  {
   "cell_type": "code",
   "execution_count": null,
   "metadata": {
    "vscode": {
     "languageId": "sql"
    }
   },
   "outputs": [],
   "source": [
    "SELECT * FROM `Project ID.demo_dataset.top_terms`"
   ]
  },
  {
   "cell_type": "markdown",
   "metadata": {},
   "source": [
    "- On the query toolbar, select Save > Save View.\n",
    "\n",
    "- Click in the Dataset field and select Create New Dataset.\n",
    "\n",
    "- For the Dataset ID, type customer_1_dataset\n",
    "\n",
    "- For Data Location, select US\n",
    "\n",
    "- Click Create Dataset.\n",
    "\n",
    "- In the Table field, type customer_1_table.\n",
    "\n",
    "- Click Save.\n",
    "\n",
    "- Refresh your window."
   ]
  },
  {
   "cell_type": "markdown",
   "metadata": {},
   "source": [
    "***"
   ]
  },
  {
   "cell_type": "markdown",
   "metadata": {},
   "source": []
  }
 ],
 "metadata": {
  "kernelspec": {
   "display_name": "Python 3.9.9 64-bit",
   "language": "python",
   "name": "python3"
  },
  "language_info": {
   "codemirror_mode": {
    "name": "ipython",
    "version": 3
   },
   "file_extension": ".py",
   "mimetype": "text/x-python",
   "name": "python",
   "nbconvert_exporter": "python",
   "pygments_lexer": "ipython3",
   "version": "3.9.9"
  },
  "orig_nbformat": 4,
  "vscode": {
   "interpreter": {
    "hash": "aee8b7b246df8f9039afb4144a1f6fd8d2ca17a180786b69acc140d282b71a49"
   }
  }
 },
 "nbformat": 4,
 "nbformat_minor": 2
}
