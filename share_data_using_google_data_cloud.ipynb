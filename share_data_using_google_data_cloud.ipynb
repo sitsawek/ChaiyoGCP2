{
 "cells": [
  {
   "cell_type": "markdown",
   "metadata": {},
   "source": [
    "***"
   ]
  },
  {
   "cell_type": "markdown",
   "metadata": {},
   "source": [
    "**<center><font size = \"6\">Share Data Using Google Data Cloud<center>**\n",
    "***\n",
    "<center><font size = \"2\">Prepared by: Sitsawek Sukorn<center>"
   ]
  },
  {
   "cell_type": "markdown",
   "metadata": {},
   "source": [
    "### Data Publishing on BigQuery for Data Sharing Partners"
   ]
  },
  {
   "cell_type": "markdown",
   "metadata": {},
   "source": [
    "### Grant permissions via IAM for data access"
   ]
  },
  {
   "cell_type": "markdown",
   "metadata": {},
   "source": [
    "- Open the Data Sharing Partner Project Console.\n",
    "\n",
    "- From the Navigation Menu, go to IAM & Admin > IAM.\n",
    "\n",
    "- Click + GRANT ACCESS at the top to assign a role to principals who needs to access the data.\n",
    "\n",
    "- In the New principals field, enter the customer service account IDs:\n",
    "\n",
    "- Customer 1 username\n",
    "\n",
    "- Customer 2 username\n",
    "\n",
    "- In the Select a role field, select the BigQuery User role.\n",
    "\n",
    "- Click Save.\n",
    "\n",
    "Note: You could also add the BigQuery Job User role so that a service account can run scheduled jobs."
   ]
  },
  {
   "cell_type": "markdown",
   "metadata": {},
   "source": [
    "### Create a new dataset within an existing project"
   ]
  },
  {
   "cell_type": "markdown",
   "metadata": {},
   "source": [
    "- From the Navigation Menu, go to BigQuery > SQL Workspace.\n",
    "\n",
    "- In the Explorer panel, select the project where you want to create the dataset. Expand the three dots Actions option and click Create dataset.\n",
    "\n",
    "- For Dataset ID, enter demo_dataset.\n",
    "\n",
    "- For Data location choose US.\n",
    "\n",
    "- Click Create Dataset."
   ]
  },
  {
   "cell_type": "markdown",
   "metadata": {},
   "source": [
    "### Copy an existing table to newly created dataset"
   ]
  },
  {
   "cell_type": "markdown",
   "metadata": {},
   "source": [
    "For the purposes of this lab, you will use a public dataset that you will then copy into a table inside of your project.\n",
    "\n",
    "- Click + Add data.\n",
    "\n",
    "The Add data window opens.\n",
    "\n",
    "- Click Public Datasets under Additional sources.\n",
    "\n",
    "- In the search bar, type Google Trends.\n",
    "\n",
    "- Select the Google Trends dataset. Make sure it is not the international dataset.\n",
    "\n",
    "- Click View dataset. The dataset information page should show up.\n",
    "\n",
    "- Click Copy.\n",
    "\n",
    "- For the Destination dataset, click in the box and select Data Sharing Partner Project ID .demo_dataset.\n",
    "\n",
    "- For Location select US.\n",
    "\n",
    "- Click Copy.\n",
    "\n",
    "A popup window asking to authorize the BigQuery Data Transfer Service should appear. Select the student account and click Allow."
   ]
  },
  {
   "cell_type": "markdown",
   "metadata": {},
   "source": [
    "### Grant permission to the users to access the table"
   ]
  },
  {
   "cell_type": "markdown",
   "metadata": {},
   "source": [
    "For the purposes of this lab, a dataset and table have been provided for you in BigQuery.\n",
    "\n",
    "- From the Navigation Menu, go to BigQuery > SQL Workspace.\n",
    "\n",
    "- Under your project, inside of demo_dataset, open the top_terms table.\n",
    "\n",
    "- Click Share.\n",
    "\n",
    "- Click on Add Principal and add the two customer users:\n",
    "\n",
    "- Customer 1 username\n",
    "\n",
    "- Customer 2 username\n",
    "\n",
    "- Select the BigQuery Data Viewer role.\n",
    "\n",
    "- Click Save."
   ]
  },
  {
   "cell_type": "markdown",
   "metadata": {},
   "source": [
    "### Authorize a dataset and grant permission to the users"
   ]
  },
  {
   "cell_type": "markdown",
   "metadata": {},
   "source": [
    "- Open the demo_dataset and click + Sharing > Authorize Datasets.\n",
    "\n",
    "- Select the Dataset ID that needs to be authorized to share: Data Sharing Partner Project ID .demo_dataset.\n",
    "\n",
    "- Click Add Authorization.\n",
    "\n",
    "- Click on Sharing > Permissions > Add Principal and add the two customer users:\n",
    "\n",
    "- Customer 1 username\n",
    "\n",
    "- Customer 2 username\n",
    "\n",
    "- Select the BigQuery User role.\n",
    "\n",
    "- Click Save."
   ]
  },
  {
   "cell_type": "markdown",
   "metadata": {},
   "source": [
    "### Verify dataset sharing for customer projects"
   ]
  },
  {
   "cell_type": "markdown",
   "metadata": {},
   "source": [
    "#### Verify dataset sharing for customer 1"
   ]
  },
  {
   "cell_type": "markdown",
   "metadata": {},
   "source": [
    "- Close the Data Sharing Partner Project Console and open the Customer Project 1 Console. Log in with the associated credentials.\n",
    "\n",
    "- From the Navigation Menu, go to BigQuery > SQL Workspace.\n",
    "\n",
    "- Run the following query, which selects all columns from the demo_dataset.top_terms table from the Data Sharing Partner project:"
   ]
  },
  {
   "cell_type": "code",
   "execution_count": null,
   "metadata": {
    "vscode": {
     "languageId": "sql"
    }
   },
   "outputs": [],
   "source": [
    "SELECT * FROM `Project ID.demo_dataset.top_terms`"
   ]
  },
  {
   "cell_type": "markdown",
   "metadata": {},
   "source": [
    "- On the query toolbar, select Save > Save View.\n",
    "\n",
    "- Click in the Dataset field and select Create New Dataset.\n",
    "\n",
    "- For the Dataset ID, type customer_1_dataset\n",
    "\n",
    "- For Data Location, select US\n",
    "\n",
    "- Click Create Dataset.\n",
    "\n",
    "- In the Table field, type customer_1_table.\n",
    "\n",
    "- Click Save.\n",
    "\n",
    "- Refresh your window."
   ]
  },
  {
   "cell_type": "markdown",
   "metadata": {},
   "source": [
    "***"
   ]
  },
  {
   "cell_type": "markdown",
   "metadata": {},
   "source": [
    "**<center><font size = \"6\">Data Publishing on BigQuery using Authorized Views for Data Sharing Partners<center>**\n",
    "***"
   ]
  },
  {
   "cell_type": "markdown",
   "metadata": {},
   "source": [
    "### Create authorized views"
   ]
  },
  {
   "cell_type": "markdown",
   "metadata": {},
   "source": [
    "#### Create Authorized View A\n"
   ]
  },
  {
   "cell_type": "markdown",
   "metadata": {},
   "source": [
    "- From the lab pane. open the Data Sharing Partner Project Console and log in with the associated credentials.\n",
    "\n",
    "- From the Navigation Menu, go to BigQuery > SQL Workspace.\n",
    "\n",
    "- Run the following query to create an authorized view for Customer A, based on a public geographical dataset."
   ]
  },
  {
   "cell_type": "code",
   "execution_count": null,
   "metadata": {
    "vscode": {
     "languageId": "sql"
    }
   },
   "outputs": [],
   "source": [
    "SELECT * FROM `bigquery-public-data.geo_us_boundaries.zip_codes`\n",
    "WHERE state_code=\"TX\"\n",
    "LIMIT 4000"
   ]
  },
  {
   "cell_type": "markdown",
   "metadata": {},
   "source": [
    "- From the toolbar, click Save > Save View.\n",
    "\n",
    "- Keep the project as default and for the Dataset select demo_dataset.\n",
    "\n",
    "- For Table type authorized_view_a.\n",
    "\n",
    "- Click Save."
   ]
  },
  {
   "cell_type": "markdown",
   "metadata": {},
   "source": [
    "#### Create Authorized View B"
   ]
  },
  {
   "cell_type": "markdown",
   "metadata": {},
   "source": [
    "- In the query editor, remove the previous query you just ran.\n",
    "\n",
    "- Run the following query to create an authorized view for Customer B, based on a public geographical dataset."
   ]
  },
  {
   "cell_type": "code",
   "execution_count": null,
   "metadata": {
    "vscode": {
     "languageId": "sql"
    }
   },
   "outputs": [],
   "source": [
    "SELECT * FROM `bigquery-public-data.geo_us_boundaries.zip_codes`\n",
    "WHERE state_code=\"CA\"\n",
    "LIMIT 4000"
   ]
  },
  {
   "cell_type": "markdown",
   "metadata": {},
   "source": [
    "- From the toolbar, click Save > Save View as.\n",
    "\n",
    "- Keep the project as default and for the Dataset select demo_dataset.\n",
    "\n",
    "- For Table type authorized_view_b.\n",
    "\n",
    "- Click Save."
   ]
  },
  {
   "cell_type": "markdown",
   "metadata": {},
   "source": [
    "### Assign IAM permissions to both the views"
   ]
  },
  {
   "cell_type": "markdown",
   "metadata": {},
   "source": [
    "- From the BigQuery Explorer pane, open the demo_dataset and click + Sharing > Authorize Views.\n",
    "\n",
    "- Add Authorized View A that needs to be authorized to share: Data Sharing Partner Project ID .demo_dataset.authorized_view_a.\n",
    "\n",
    "- Click Add Authorization.\n",
    "\n",
    "- Add Authorized View B that needs to be authorized to share: Data Sharing Partner Project ID .demo_dataset.authorized_view_b.\n",
    "\n",
    "- Click Add Authorization. Your authorized views should resemble the following:\n",
    "\n",
    "- Click Close."
   ]
  },
  {
   "cell_type": "markdown",
   "metadata": {},
   "source": [
    "### Grant permissions to the users to access the views"
   ]
  },
  {
   "cell_type": "markdown",
   "metadata": {},
   "source": [
    "#### Assign IAM permissions for Customer A"
   ]
  },
  {
   "cell_type": "markdown",
   "metadata": {},
   "source": [
    "- Under your project, inside of demo_dataset, open the authorized_view_a view.\n",
    "\n",
    "- Click Share.\n",
    "\n",
    "- Click on Add Principal and add the Customer A user:\n",
    "\n",
    "- Customer A username\n",
    "\n",
    "- Select the BigQuery Data Viewer role.\n",
    "\n",
    "- Click Save."
   ]
  },
  {
   "cell_type": "markdown",
   "metadata": {},
   "source": [
    "### Verify shared authorized views in customer projects"
   ]
  },
  {
   "cell_type": "markdown",
   "metadata": {},
   "source": [
    "#### Verify authorized view sharing for Customer A"
   ]
  },
  {
   "cell_type": "markdown",
   "metadata": {},
   "source": [
    "- Close the Data Sharing Partner Project Console and from the lab pane open the Customer Project A Console. Log in with the associated credentials.\n",
    "\n",
    "- From the Navigation Menu, go to BigQuery > SQL Workspace.\n",
    "\n",
    "- Run the following query, which selects all columns from the demo_dataset.authorized_view_a view from the Data Sharing Partner project:"
   ]
  },
  {
   "cell_type": "code",
   "execution_count": null,
   "metadata": {
    "vscode": {
     "languageId": "sql"
    }
   },
   "outputs": [],
   "source": [
    "SELECT * FROM `Project ID.demo_dataset.authorized_view_a`"
   ]
  },
  {
   "cell_type": "markdown",
   "metadata": {},
   "source": [
    "- On the query toolbar, select Save > Save View.\n",
    "\n",
    "- Click in the Dataset field and select customer_a_dataset.\n",
    "\n",
    "- In the Table field, type customer_a_table.\n",
    "\n",
    "- Click Save. You should now be able to see the dataset and table, as well as query it.\n",
    "\n",
    "- Run the following query to find all customers in a State. Since the authorized view available to Customer A is filtered on the state of Texas, the query should return only customers in that state."
   ]
  },
  {
   "cell_type": "code",
   "execution_count": null,
   "metadata": {
    "vscode": {
     "languageId": "sql"
    }
   },
   "outputs": [],
   "source": [
    "SELECT geos.zip_code, geos.city, cust.last_name, cust.first_name\n",
    "FROM `Customer A Project ID.customer_a_dataset.customer_info` as cust\n",
    "JOIN `Data sharing partner Project ID.demo_dataset.authorized_view_a` as geos\n",
    "ON geos.zip_code = cust.postal_code;"
   ]
  },
  {
   "cell_type": "markdown",
   "metadata": {},
   "source": [
    "- Run the following query to confirm only Customer A's specific data is visible.\n"
   ]
  },
  {
   "cell_type": "code",
   "execution_count": null,
   "metadata": {
    "vscode": {
     "languageId": "sql"
    }
   },
   "outputs": [],
   "source": [
    "SELECT * FROM `Project ID.demo_dataset.authorized_view_b`"
   ]
  },
  {
   "cell_type": "markdown",
   "metadata": {},
   "source": [
    "You should receive the following error:\n",
    "\n",
    "Access Denied: Table qwiklabs-gcp-04-b39db6c444b1:demo_dataset.authorized_view_b: User does not have permission to query table qwiklabs-gcp-04-b39db6c444b1:demo_dataset.authorized_view_b."
   ]
  },
  {
   "cell_type": "markdown",
   "metadata": {},
   "source": [
    "***"
   ]
  },
  {
   "cell_type": "markdown",
   "metadata": {},
   "source": [
    "**<center><font size = \"6\">Analytics as a Service for Data Sharing Partners<center>**\n",
    "***"
   ]
  },
  {
   "cell_type": "markdown",
   "metadata": {},
   "source": [
    "### Create authorized views\n"
   ]
  },
  {
   "cell_type": "markdown",
   "metadata": {},
   "source": [
    "#### Create Authorized View A\n"
   ]
  },
  {
   "cell_type": "markdown",
   "metadata": {},
   "source": [
    "- From the lab pane. open the Data Sharing Partner Project Console and log in with the associated credentials.\n",
    "\n",
    "- From the Navigation Menu, go to BigQuery > SQL Workspace.\n",
    "\n",
    "- Run the following query to create an authorized view for Customer A, based on a public geographical dataset."
   ]
  },
  {
   "cell_type": "code",
   "execution_count": null,
   "metadata": {
    "vscode": {
     "languageId": "sql"
    }
   },
   "outputs": [],
   "source": [
    "SELECT * FROM `bigquery-public-data.geo_us_boundaries.zip_codes`\n",
    "WHERE state_code=\"TX\"\n",
    "LIMIT 4000"
   ]
  },
  {
   "cell_type": "markdown",
   "metadata": {},
   "source": [
    "- From the toolbar, click Save > Save View.\n",
    "\n",
    "- Keep the project as default and for the Dataset select demo_dataset.\n",
    "\n",
    "- For Table type authorized_view_a.\n",
    "\n",
    "- Click Save."
   ]
  },
  {
   "cell_type": "markdown",
   "metadata": {},
   "source": [
    "#### Create Authorized View B"
   ]
  },
  {
   "cell_type": "markdown",
   "metadata": {},
   "source": [
    "- In the query editor, remove the previous query you just ran.\n",
    "\n",
    "- Run the following query to create an authorized view for Customer B, based on a public geographical dataset."
   ]
  },
  {
   "cell_type": "code",
   "execution_count": null,
   "metadata": {
    "vscode": {
     "languageId": "sql"
    }
   },
   "outputs": [],
   "source": [
    "SELECT * FROM `bigquery-public-data.geo_us_boundaries.zip_codes`\n",
    "WHERE state_code=\"CA\"\n",
    "LIMIT 4000"
   ]
  },
  {
   "cell_type": "markdown",
   "metadata": {},
   "source": [
    "- From the toolbar, click Save > Save View as.\n",
    "\n",
    "- Keep the project as default and for the Dataset select demo_dataset.\n",
    "\n",
    "- For Table type authorized_view_b.\n",
    "\n",
    "- Click Save."
   ]
  },
  {
   "cell_type": "markdown",
   "metadata": {},
   "source": [
    "### Assign IAM permissions to both the views"
   ]
  },
  {
   "cell_type": "markdown",
   "metadata": {},
   "source": [
    "- From the BigQuery Explorer pane, open the demo_dataset and click + Sharing > Authorize Views.\n",
    "\n",
    "- Add Authorized View A that needs to be authorized to share: Data Sharing Partner Project ID .demo_dataset.authorized_view_a.\n",
    "\n",
    "- Click Add Authorization.\n",
    "\n",
    "- Add Authorized View B that needs to be authorized to share: Data Sharing Partner Project ID .demo_dataset.authorized_view_b.\n",
    "\n",
    "- Click Add Authorization. Your authorized views should resemble the following:\n",
    "\n",
    "- Click Close."
   ]
  },
  {
   "cell_type": "markdown",
   "metadata": {},
   "source": [
    "### Grant permissions to the users to access the views\n"
   ]
  },
  {
   "cell_type": "markdown",
   "metadata": {},
   "source": [
    "#### Assign IAM permissions for Customer A"
   ]
  },
  {
   "cell_type": "markdown",
   "metadata": {},
   "source": [
    "- Under your project, inside of demo_dataset, open the authorized_view_a view.\n",
    "\n",
    "- Click Share.\n",
    "\n",
    "- Click on Add Principal and add the Customer A user:\n",
    "\n",
    "- Customer A username\n",
    "\n",
    "- Select the BigQuery Data Viewer role.\n",
    "\n",
    "- Click Save."
   ]
  },
  {
   "cell_type": "markdown",
   "metadata": {},
   "source": [
    "#### Assign IAM permissions for Customer B"
   ]
  },
  {
   "cell_type": "markdown",
   "metadata": {},
   "source": [
    "- Under your project, inside of demo_dataset, open the authorized_view_b view.\n",
    "\n",
    "- Click Share.\n",
    "\n",
    "- Click on Add Principal and add the Customer B user:\n",
    "\n",
    "- Customer B username\n",
    "\n",
    "- Select the BigQuery Data Viewer role.\n",
    "\n",
    "- Click Save."
   ]
  },
  {
   "cell_type": "markdown",
   "metadata": {},
   "source": [
    "### Display insights for View A\n"
   ]
  },
  {
   "cell_type": "markdown",
   "metadata": {},
   "source": [
    "#### Verify authorized view sharing for Customer A\n"
   ]
  },
  {
   "cell_type": "markdown",
   "metadata": {},
   "source": [
    "- Close the Data Sharing Partner Project Console and from the lab pane open the Customer Project A Console. Log in with the associated credentials.\n",
    "\n",
    "- From the Navigation Menu, go to BigQuery > SQL Workspace.\n",
    "\n",
    "- Run the following query to find all customers in a State. Since the authorized view available to Customer A is filtered on the state of Texas, the query should return only customers in that state.\n"
   ]
  },
  {
   "cell_type": "code",
   "execution_count": null,
   "metadata": {
    "vscode": {
     "languageId": "sql"
    }
   },
   "outputs": [],
   "source": [
    "SELECT geos.zip_code, geos.city, cust.last_name, cust.first_name\n",
    "FROM `Customer A Project ID.customer_a_dataset.customer_info` as cust\n",
    "JOIN `Partner Project ID.demo_dataset.authorized_view_a` as geos\n",
    "ON geos.zip_code = cust.postal_code;"
   ]
  },
  {
   "cell_type": "markdown",
   "metadata": {},
   "source": [
    "- On the query toolbar, select Save > Save View.\n",
    "\n",
    "- Click in the Dataset field and select customer_a_dataset.\n",
    "\n",
    "- In the Table field, type customer_a_table.\n",
    "\n",
    "- Click Save. You should now be able to see the dataset and table, as well as query it."
   ]
  },
  {
   "cell_type": "markdown",
   "metadata": {},
   "source": [
    "#### Connect BigQuery to Data Studio\n"
   ]
  },
  {
   "cell_type": "markdown",
   "metadata": {},
   "source": [
    "- Open Google Data Studio.\n",
    "\n",
    "- On the Reports page, in the Start with a Template section, click the Blank Report template. This creates a new untitled report.\n",
    "\n",
    "- In the Add data to report window, in the search box, enter BigQuery.\n",
    "\n",
    "- Click the BigQuery Connector.\n",
    "\n",
    "- For Authorization, click Authorize. This action lets Google Data Studio access to your Google Cloud project.\n",
    "\n",
    "- Select Recent Projects from the left pane, select Customer A Project ID > customer_a_dataset > customer_a_table.\n",
    "\n",
    "- Click Add.\n",
    "\n",
    "- When prompted, click Add to Report."
   ]
  },
  {
   "cell_type": "markdown",
   "metadata": {},
   "source": [
    "#### Create a visualization in Data Studio"
   ]
  },
  {
   "cell_type": "markdown",
   "metadata": {},
   "source": [
    "- At the top of the page, click Untitled Report to change the report name. Type Customer A Vizualization.\n",
    "\n",
    "- After the report editor loads, click Insert > Pie chart.\n",
    "\n",
    "- On the Pie Chart Data tab, notice the value for Data Source (customer_a_table) and the default values for Dimension and Metric: zip_code and Record Count.\n",
    "\n",
    "- Drag city from Available Fields onto the zip_code dimension to replace it."
   ]
  },
  {
   "cell_type": "markdown",
   "metadata": {},
   "source": [
    "#### Verify Analytics security"
   ]
  },
  {
   "cell_type": "markdown",
   "metadata": {},
   "source": [
    "- From the toolbar, expand + Share > Get report link.\n",
    "\n",
    "- In the pop-up dialogue, click Copy Link and save it somewhere. Exit out of the window.\n",
    "\n",
    "- Click the student profile in the top right and click Sign out.\n",
    "\n",
    "- Select Use another account.\n",
    "\n",
    "- Log in with the Customer B user credentials.\n",
    "\n",
    "- You will be taken to your Google Account home page.\n",
    "\n",
    "- Open a new tab and navigate to the Data Studio link you copied earlier."
   ]
  },
  {
   "cell_type": "markdown",
   "metadata": {},
   "source": [
    "***"
   ]
  },
  {
   "cell_type": "markdown",
   "metadata": {},
   "source": [
    "**<center><font size = \"6\">Consuming Customer Specific Datasets from Data Sharing Partners using BigQuery<center>**\n",
    "***"
   ]
  },
  {
   "cell_type": "markdown",
   "metadata": {},
   "source": [
    "### Created an authorized table"
   ]
  },
  {
   "cell_type": "markdown",
   "metadata": {},
   "source": [
    "- In the first project, you will take on the role of a Data Sharing Partner creating and sharing a dataset using an authorized table."
   ]
  },
  {
   "cell_type": "markdown",
   "metadata": {},
   "source": [
    "#### Create the Customer Authorized Table\n"
   ]
  },
  {
   "cell_type": "markdown",
   "metadata": {},
   "source": [
    "- From the lab pane. open the Data Sharing Partner Project Console and log in with the associated credentials.\n",
    "\n",
    "- From the Navigation Menu, go to BigQuery > SQL Workspace.\n",
    "\n",
    "- Run the following query to create a source dataset by selecting the top 10 cities of each state sorted by land area:"
   ]
  },
  {
   "cell_type": "code",
   "execution_count": null,
   "metadata": {
    "vscode": {
     "languageId": "sql"
    }
   },
   "outputs": [],
   "source": [
    "SELECT * FROM (\n",
    "SELECT *, ROW_NUMBER() OVER (PARTITION BY state_code ORDER BY area_land_meters DESC) AS cities_by_area\n",
    "FROM `bigquery-public-data.geo_us_boundaries.zip_codes`) cities\n",
    "WHERE cities_by_area <= 10 ORDER BY cities.state_code\n",
    "LIMIT 1000;"
   ]
  },
  {
   "cell_type": "markdown",
   "metadata": {},
   "source": [
    "- From the toolbar, click More > Query Settings.\n",
    "\n",
    "- Select the Set a destination table for query results option.\n",
    "\n",
    "- For the Dataset select Data Sharing Partner Project ID .demo_dataset.\n",
    "\n",
    "- For Table ID type authorized_table.\n",
    "\n",
    "- Leave the rest of the fields as default and click Save.\n",
    "\n",
    "- Click Run to run the query again to write the results to the table you specified.\n",
    "\n",
    "- Verify the authorized_table has been created."
   ]
  },
  {
   "cell_type": "markdown",
   "metadata": {},
   "source": [
    "#### Authorize the dataset"
   ]
  },
  {
   "cell_type": "markdown",
   "metadata": {},
   "source": [
    "- From the BigQuery Explorer pane, open the demo_dataset and click + Sharing > Authorize dataset.\n",
    "\n",
    "- Add the authorized view that needs to be authorized to share: Data Sharing Partner Project ID .demo_dataset.\n",
    "\n",
    "- Click Add Authorization.\n",
    "\n",
    "- Click Close."
   ]
  },
  {
   "cell_type": "markdown",
   "metadata": {},
   "source": [
    "#### Grant permissions to the Data Publisher to access the view\n"
   ]
  },
  {
   "cell_type": "markdown",
   "metadata": {},
   "source": [
    "- Under your project, inside of demo_dataset, open authorized_table.\n",
    "\n",
    "- Click Share.\n",
    "\n",
    "- Click on Add Principal and add the Data Publisher and Customer users:\n",
    "\n",
    "- Data Publisher username\n",
    "\n",
    "- Customer username\n",
    "\n",
    "- Select the BigQuery Data Viewer role.\n",
    "\n",
    "- Click Save."
   ]
  },
  {
   "cell_type": "markdown",
   "metadata": {},
   "source": [
    "### Create an authorized view in the Data Publishing project"
   ]
  },
  {
   "cell_type": "markdown",
   "metadata": {},
   "source": [
    "In the second project, you will assume the role of a Data Sharing Partner who will share the source dataset in partner project as an authorized view in the Data Publishing project.\n",
    "\n",
    "- Close the Data Sharing Partner Project Console and from the lab pane open the Data Publisher Project Console. Log in with the associated credentials.\n",
    "\n",
    "- From the Navigation Menu, go to BigQuery > SQL Workspace.\n",
    "\n",
    "- Run the following query to select cities in New York state from the authorized view:"
   ]
  },
  {
   "cell_type": "code",
   "execution_count": null,
   "metadata": {
    "vscode": {
     "languageId": "sql"
    }
   },
   "outputs": [],
   "source": [
    "SELECT *\n",
    "FROM `Data Sharing Partner Project ID.demo_dataset.authorized_table`\n",
    "WHERE state_code=\"NY\"\n",
    "LIMIT 1000"
   ]
  },
  {
   "cell_type": "markdown",
   "metadata": {},
   "source": [
    "- On the query toolbar, select Save > Save View.\n",
    "\n",
    "- Click in the Dataset field and select data_publisher_dataset.\n",
    "\n",
    "- In the Table field, type authorized_view.\n",
    "\n",
    "- Click Save. You should now be able to see the dataset and table, as well as query it."
   ]
  },
  {
   "cell_type": "markdown",
   "metadata": {},
   "source": [
    "#### Assign IAM permissions to the Data Publisher view"
   ]
  },
  {
   "cell_type": "markdown",
   "metadata": {},
   "source": [
    "- From the BigQuery Explorer pane, open the data_publisher_dataset and click + Sharing > Authorize Views.\n",
    "\n",
    "- Add the authorized view that needs to be authorized to share: Data Publisher Project ID .data_publisher_dataset.authorized_view.\n",
    "\n",
    "- Click Add Authorization.\n",
    "\n",
    "- Click Close."
   ]
  },
  {
   "cell_type": "markdown",
   "metadata": {},
   "source": [
    "#### Grant permissions to the customer to access the view\n"
   ]
  },
  {
   "cell_type": "markdown",
   "metadata": {},
   "source": [
    "- Under your project, inside of data_publisher_dataset, open authorized_view.\n",
    "\n",
    "- Click Share.\n",
    "\n",
    "- Click on Add Principal and add the Customer user:\n",
    "\n",
    "- Data Twin username\n",
    "\n",
    "- Select the BigQuery Data Viewer role.\n",
    "\n",
    "- Click Save."
   ]
  },
  {
   "cell_type": "markdown",
   "metadata": {},
   "source": [
    "### Access the authorized view as a Data Twin"
   ]
  },
  {
   "cell_type": "markdown",
   "metadata": {},
   "source": [
    "In the third project, the student will assume the role of a customer who will access the authorized view into their project as a Data Twin and join the data with their solution dataset to create enriched datasets.\n",
    "\n",
    "- Close the Data Publisher Console and from the lab pane open the Customer (Data Twin) Project Console. Log in with the associated credentials.\n",
    "\n",
    "- From the Navigation Menu, go to BigQuery > SQL Workspace.\n",
    "\n",
    "- Execute the following query to access data from the Data Sharing Partner Data publishing project and join the Customer’s data and partner's view to create new insights."
   ]
  },
  {
   "cell_type": "code",
   "execution_count": null,
   "metadata": {
    "vscode": {
     "languageId": "sql"
    }
   },
   "outputs": [],
   "source": [
    "SELECT cities.zip_code, cities.city, cities.state_code, customers.last_name, customers.first_name\n",
    "FROM `Data Twin Project ID.customer_dataset.customer_info` as customers\n",
    "JOIN `Data Publisher Project ID.data_publisher_dataset.authorized_view` as cities\n",
    "ON cities.state_code = customers.state;"
   ]
  },
  {
   "cell_type": "markdown",
   "metadata": {},
   "source": [
    "- On the query toolbar, select Save > Save View.\n",
    "\n",
    "- Click in the Dataset field and select customer_dataset.\n",
    "\n",
    "- In the Table field, type customer_table.\n",
    "\n",
    "- Click Save. You should now be able to see the dataset and table, as well as query it."
   ]
  },
  {
   "cell_type": "markdown",
   "metadata": {},
   "source": [
    "### Confirm functionality of the Customer (Data Twin)"
   ]
  },
  {
   "cell_type": "markdown",
   "metadata": {},
   "source": [
    "To confirm the functionality of the Data Twin, you will insert a new row in the Data Sharing Partner Project and test the functionality inside of the customer project.\n",
    "\n",
    "- Close the Customer (Data Twin) Project Console and from the lab pane open the Data Sharing Partner Project Console. Log in with the associated credentials.\n",
    "\n",
    "- From the Navigation Menu, go to BigQuery > SQL Workspace.\n",
    "\n",
    "- Run the following query to insert a new row in the Data Sharing Partner dataset:"
   ]
  },
  {
   "cell_type": "code",
   "execution_count": null,
   "metadata": {
    "vscode": {
     "languageId": "sql"
    }
   },
   "outputs": [],
   "source": [
    "INSERT INTO\n",
    " `Data Sharing Partner Project ID.demo_dataset.authorized_table` (zip_code,\n",
    "   city,\n",
    "   county,\n",
    "   state_fips_code,\n",
    "   state_code,\n",
    "   state_name,\n",
    "   fips_class_code,\n",
    "   mtfcc_feature_class_code,\n",
    "   functional_status,\n",
    "   area_land_meters,\n",
    "   area_water_meters,\n",
    "   cities_by_area)\n",
    "VALUES\n",
    " (\"11012\", \"New City\", \"New County\", \"02\", \"NY\", \"New York\", \"B5\", \"G6350\", \"S\", 123632007174.0, 544474039.0, 10)"
   ]
  },
  {
   "cell_type": "markdown",
   "metadata": {},
   "source": [
    "You should see the following output\n",
    "\n",
    "This statement added 1 row to authorized_table."
   ]
  },
  {
   "cell_type": "markdown",
   "metadata": {},
   "source": [
    "- Close the Data Sharing Partner Project Console and from the lab pane open the Customer (Data Twin) Project Console. Log in with the associated credentials.\n",
    "\n",
    "- Finally, query the view in Customer (Data Twin) project to confirm the newly added row is visible."
   ]
  },
  {
   "cell_type": "code",
   "execution_count": null,
   "metadata": {
    "vscode": {
     "languageId": "sql"
    }
   },
   "outputs": [],
   "source": [
    "SELECT cities.zip_code, cities.city, cities.state_code, customers.last_name, customers.first_name\n",
    "FROM `Data Twin Project ID.customer_dataset.customer_info` as customers\n",
    "JOIN `Data Publisher Project ID.data_publisher_dataset.authorized_view` as cities\n",
    "ON cities.state_code = customers.state;"
   ]
  },
  {
   "cell_type": "markdown",
   "metadata": {},
   "source": [
    "***"
   ]
  },
  {
   "cell_type": "markdown",
   "metadata": {},
   "source": [
    "**<center><font size = \"6\">Data Sharing using Google Data Cloud: Challenge Lab<center>**\n",
    "***"
   ]
  },
  {
   "cell_type": "markdown",
   "metadata": {},
   "source": [
    "### Challenge scenario\n",
    "\n",
    "You are a Google Cloud Data Sharing Partner hosting an application for multiple customers, storing data, and providing analytics as a service. The application caters to a customer that depends on your data data to enrich their application data. In turn, the customer then shares high-level metrics with the Data Sharing Partner to better understand the customer footprint.\n",
    "\n",
    "In this lab, you will be required to act as both the Data Sharing Partner and the customer by enabling bi-directional data exchange in BigQuery, as well as creating a visualization in Data Studio."
   ]
  },
  {
   "cell_type": "markdown",
   "metadata": {},
   "source": [
    "### Task 1. Create the partner authorized view"
   ]
  },
  {
   "cell_type": "markdown",
   "metadata": {},
   "source": [
    "Your first task as a Data Sharing Partner is to copy a BigQuery public dataset into your project. The dataset contains details of each zip code across the US. In this section, you will need to expose the loaded dataset as an authorized view and grant access to a specific customer user."
   ]
  },
  {
   "cell_type": "markdown",
   "metadata": {},
   "source": [
    "For this task, you will need to be logged into the Data Sharing Partner Project Console with the associated credentials."
   ]
  },
  {
   "cell_type": "markdown",
   "metadata": {},
   "source": [
    "- Create an authorized view named Partner authorized view name based off of the following query. Save it inside demo_dataset."
   ]
  },
  {
   "cell_type": "code",
   "execution_count": null,
   "metadata": {
    "vscode": {
     "languageId": "sql"
    }
   },
   "outputs": [],
   "source": [
    "SELECT\n",
    " *\n",
    "FROM\n",
    " `bigquery-public-data.geo_us_boundaries.zip_codes`;"
   ]
  },
  {
   "cell_type": "markdown",
   "metadata": {},
   "source": [
    "#### Authorize the view\n"
   ]
  },
  {
   "cell_type": "markdown",
   "metadata": {},
   "source": [
    "Next, you will need to assign IAM permissions by authorizing the view in the dataset.\n",
    "\n",
    "- Authorize the Partner authorized view name view you just created."
   ]
  },
  {
   "cell_type": "markdown",
   "metadata": {},
   "source": [
    "#### Assign IAM permissions for the customer user"
   ]
  },
  {
   "cell_type": "markdown",
   "metadata": {},
   "source": [
    "Next, you will need to grant the Customer user the BigQuery Data Viewer role on the authorized view you created.\n",
    "\n",
    "- Grant the customer user access to the Partner authorized view name view.\n",
    "\n",
    "- Their username is: Customer username\n",
    "\n",
    "- Grant them the BigQuery Data Viewer role"
   ]
  },
  {
   "cell_type": "markdown",
   "metadata": {},
   "source": [
    "#### Task 2. Update the customer data table"
   ]
  },
  {
   "cell_type": "markdown",
   "metadata": {},
   "source": [
    "In this task, you will be acting as the customer. Your next step is to run a query to update the customer table inside of your project.\n",
    "\n"
   ]
  },
  {
   "cell_type": "markdown",
   "metadata": {},
   "source": [
    "For this task, you will need to be logged into the Customer Project Console with the associated credentials."
   ]
  },
  {
   "cell_type": "markdown",
   "metadata": {},
   "source": [
    "- Execute the query below to update the county value in the customer table."
   ]
  },
  {
   "cell_type": "code",
   "execution_count": null,
   "metadata": {
    "vscode": {
     "languageId": "sql"
    }
   },
   "outputs": [],
   "source": [
    "UPDATE\n",
    " `Customer A Project ID.customer_dataset.customer_info` cust\n",
    "SET\n",
    "cust.county=vw.county\n",
    "FROM\n",
    "`Partner Project ID.demo_dataset.Partner authorized view` vw\n",
    "WHERE\n",
    "vw.zip_code=cust.postal_code;"
   ]
  },
  {
   "cell_type": "markdown",
   "metadata": {},
   "source": [
    "You should see the following result:\n",
    "\n",
    "This statement modified 14 rows in customer_info."
   ]
  },
  {
   "cell_type": "markdown",
   "metadata": {},
   "source": [
    "### Task 3. Create the customer authorized view"
   ]
  },
  {
   "cell_type": "markdown",
   "metadata": {},
   "source": [
    "In this section, you will need to create a customer authorized view and grant access to a specific Data Sharing Partner user.\n",
    "\n",
    "For this task, you will need to be logged into the Customer Project Console with the associated credentials.\n",
    "\n",
    "- Create an authorized view named Customer authorized table name based off of the following query that lists the counties and number of customers in the listed counties. Save it inside customer_dataset.\n"
   ]
  },
  {
   "cell_type": "code",
   "execution_count": null,
   "metadata": {
    "vscode": {
     "languageId": "sql"
    }
   },
   "outputs": [],
   "source": [
    "SELECT\n",
    "  county,\n",
    "COUNT(1) AS Count\n",
    "FROM\n",
    " `Customer A Project ID.customer_dataset.customer_info` cust\n",
    "GROUP BY\n",
    " county\n",
    "HAVING county is not null"
   ]
  },
  {
   "cell_type": "markdown",
   "metadata": {},
   "source": [
    "#### Authorize the view"
   ]
  },
  {
   "cell_type": "markdown",
   "metadata": {},
   "source": [
    "Next, you will need to assign IAM permissions by authorizing the customer view in the dataset.\n",
    "\n",
    "- Authorize the Customer authorized table name view you just created."
   ]
  },
  {
   "cell_type": "markdown",
   "metadata": {},
   "source": [
    "#### Assign IAM permissions for the partner user"
   ]
  },
  {
   "cell_type": "markdown",
   "metadata": {},
   "source": [
    "Next, you will need to grant the Data Sharing Partner user the BigQuery Data Viewer role on the customer authorized view you created.\n",
    "\n",
    "- Grant the Data Sharing Partner user access to the Customer authorized table name view.\n",
    "\n",
    "- Their username is: Partner username\n",
    "\n",
    "- Grant them the BigQuery Data Viewer role\n"
   ]
  },
  {
   "cell_type": "markdown",
   "metadata": {},
   "source": [
    "#### Task 4. Use the customer authorized view to create a visualization"
   ]
  },
  {
   "cell_type": "markdown",
   "metadata": {},
   "source": [
    "Your fourth task is to consume the customer’s authorized view in the Data Sharing Partner project and create a column chart visualization that shows the distribution of the customers and counties.\n",
    "\n",
    "For this task, you will need to be logged into the Data Sharing Partner Project Console with the associated credentials."
   ]
  },
  {
   "cell_type": "markdown",
   "metadata": {},
   "source": [
    "#### Connect BigQuery to Data Studio"
   ]
  },
  {
   "cell_type": "markdown",
   "metadata": {},
   "source": [
    "- Open Google Data Studio and create a Blank Report.\n",
    "\n",
    "- Connect BigQuery and authorize to Data Studio.\n",
    "\n",
    "- From My Projects on the left pane, navigate to the customer project and select Customer authorized table name . Add the table to the blank report."
   ]
  },
  {
   "cell_type": "markdown",
   "metadata": {},
   "source": [
    "#### Create a visualization in Data Studio"
   ]
  },
  {
   "cell_type": "markdown",
   "metadata": {},
   "source": [
    "- Create a visualization with the following requirements:\n",
    "\n",
    "- Report name: Data Sharing Partner Vizualization\n",
    "\n",
    "- For the visualization, insert a Column Chart\n",
    "\n",
    "- For the Column Chart, set county as the Dimension and Count as the Breakdown Dimension and Metric."
   ]
  },
  {
   "cell_type": "markdown",
   "metadata": {},
   "source": []
  }
 ],
 "metadata": {
  "kernelspec": {
   "display_name": "Python 3.9.9 64-bit",
   "language": "python",
   "name": "python3"
  },
  "language_info": {
   "codemirror_mode": {
    "name": "ipython",
    "version": 3
   },
   "file_extension": ".py",
   "mimetype": "text/x-python",
   "name": "python",
   "nbconvert_exporter": "python",
   "pygments_lexer": "ipython3",
   "version": "3.9.9"
  },
  "orig_nbformat": 4,
  "vscode": {
   "interpreter": {
    "hash": "aee8b7b246df8f9039afb4144a1f6fd8d2ca17a180786b69acc140d282b71a49"
   }
  }
 },
 "nbformat": 4,
 "nbformat_minor": 2
}
