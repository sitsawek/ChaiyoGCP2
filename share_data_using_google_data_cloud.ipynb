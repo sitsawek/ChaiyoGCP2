{
 "cells": [
  {
   "cell_type": "markdown",
   "metadata": {},
   "source": [
    "***"
   ]
  },
  {
   "cell_type": "markdown",
   "metadata": {},
   "source": [
    "**<center><font size = \"6\">Share Data Using Google Data Cloud<center>**\n",
    "***\n",
    "<center><font size = \"2\">Prepared by: Sitsawek Sukorn<center>"
   ]
  },
  {
   "cell_type": "markdown",
   "metadata": {},
   "source": [
    "### Data Publishing on BigQuery for Data Sharing Partners"
   ]
  },
  {
   "cell_type": "markdown",
   "metadata": {},
   "source": [
    "### Grant permissions via IAM for data access"
   ]
  },
  {
   "cell_type": "markdown",
   "metadata": {},
   "source": [
    "- Open the Data Sharing Partner Project Console.\n",
    "\n",
    "- From the Navigation Menu, go to IAM & Admin > IAM.\n",
    "\n",
    "- Click + GRANT ACCESS at the top to assign a role to principals who needs to access the data.\n",
    "\n",
    "- In the New principals field, enter the customer service account IDs:\n",
    "\n",
    "- Customer 1 username\n",
    "\n",
    "- Customer 2 username\n",
    "\n",
    "- In the Select a role field, select the BigQuery User role.\n",
    "\n",
    "- Click Save.\n",
    "\n",
    "Note: You could also add the BigQuery Job User role so that a service account can run scheduled jobs."
   ]
  },
  {
   "cell_type": "markdown",
   "metadata": {},
   "source": [
    "### Create a new dataset within an existing project"
   ]
  },
  {
   "cell_type": "markdown",
   "metadata": {},
   "source": [
    "- From the Navigation Menu, go to BigQuery > SQL Workspace.\n",
    "\n",
    "- In the Explorer panel, select the project where you want to create the dataset. Expand the three dots Actions option and click Create dataset.\n",
    "\n",
    "- For Dataset ID, enter demo_dataset.\n",
    "\n",
    "- For Data location choose US.\n",
    "\n",
    "- Click Create Dataset."
   ]
  },
  {
   "cell_type": "markdown",
   "metadata": {},
   "source": [
    "### Copy an existing table to newly created dataset"
   ]
  },
  {
   "cell_type": "markdown",
   "metadata": {},
   "source": [
    "For the purposes of this lab, you will use a public dataset that you will then copy into a table inside of your project.\n",
    "\n",
    "- Click + Add data.\n",
    "\n",
    "The Add data window opens.\n",
    "\n",
    "- Click Public Datasets under Additional sources.\n",
    "\n",
    "- In the search bar, type Google Trends.\n",
    "\n",
    "- Select the Google Trends dataset. Make sure it is not the international dataset.\n",
    "\n",
    "- Click View dataset. The dataset information page should show up.\n",
    "\n",
    "- Click Copy.\n",
    "\n",
    "- For the Destination dataset, click in the box and select Data Sharing Partner Project ID .demo_dataset.\n",
    "\n",
    "- For Location select US.\n",
    "\n",
    "- Click Copy.\n",
    "\n",
    "A popup window asking to authorize the BigQuery Data Transfer Service should appear. Select the student account and click Allow."
   ]
  },
  {
   "cell_type": "markdown",
   "metadata": {},
   "source": [
    "### Grant permission to the users to access the table"
   ]
  },
  {
   "cell_type": "markdown",
   "metadata": {},
   "source": [
    "For the purposes of this lab, a dataset and table have been provided for you in BigQuery.\n",
    "\n",
    "- From the Navigation Menu, go to BigQuery > SQL Workspace.\n",
    "\n",
    "- Under your project, inside of demo_dataset, open the top_terms table.\n",
    "\n",
    "- Click Share.\n",
    "\n",
    "- Click on Add Principal and add the two customer users:\n",
    "\n",
    "- Customer 1 username\n",
    "\n",
    "- Customer 2 username\n",
    "\n",
    "- Select the BigQuery Data Viewer role.\n",
    "\n",
    "- Click Save."
   ]
  },
  {
   "cell_type": "markdown",
   "metadata": {},
   "source": [
    "### Authorize a dataset and grant permission to the users"
   ]
  },
  {
   "cell_type": "markdown",
   "metadata": {},
   "source": [
    "- Open the demo_dataset and click + Sharing > Authorize Datasets.\n",
    "\n",
    "- Select the Dataset ID that needs to be authorized to share: Data Sharing Partner Project ID .demo_dataset.\n",
    "\n",
    "- Click Add Authorization.\n",
    "\n",
    "- Click on Sharing > Permissions > Add Principal and add the two customer users:\n",
    "\n",
    "- Customer 1 username\n",
    "\n",
    "- Customer 2 username\n",
    "\n",
    "- Select the BigQuery User role.\n",
    "\n",
    "- Click Save."
   ]
  },
  {
   "cell_type": "markdown",
   "metadata": {},
   "source": [
    "### Verify dataset sharing for customer projects"
   ]
  },
  {
   "cell_type": "markdown",
   "metadata": {},
   "source": [
    "#### Verify dataset sharing for customer 1"
   ]
  },
  {
   "cell_type": "markdown",
   "metadata": {},
   "source": [
    "- Close the Data Sharing Partner Project Console and open the Customer Project 1 Console. Log in with the associated credentials.\n",
    "\n",
    "- From the Navigation Menu, go to BigQuery > SQL Workspace.\n",
    "\n",
    "- Run the following query, which selects all columns from the demo_dataset.top_terms table from the Data Sharing Partner project:"
   ]
  },
  {
   "cell_type": "code",
   "execution_count": null,
   "metadata": {
    "vscode": {
     "languageId": "sql"
    }
   },
   "outputs": [],
   "source": [
    "SELECT * FROM `Project ID.demo_dataset.top_terms`"
   ]
  },
  {
   "cell_type": "markdown",
   "metadata": {},
   "source": [
    "- On the query toolbar, select Save > Save View.\n",
    "\n",
    "- Click in the Dataset field and select Create New Dataset.\n",
    "\n",
    "- For the Dataset ID, type customer_1_dataset\n",
    "\n",
    "- For Data Location, select US\n",
    "\n",
    "- Click Create Dataset.\n",
    "\n",
    "- In the Table field, type customer_1_table.\n",
    "\n",
    "- Click Save.\n",
    "\n",
    "- Refresh your window."
   ]
  },
  {
   "cell_type": "markdown",
   "metadata": {},
   "source": [
    "***"
   ]
  },
  {
   "cell_type": "markdown",
   "metadata": {},
   "source": [
    "**<center><font size = \"6\">Data Publishing on BigQuery using Authorized Views for Data Sharing Partners<center>**\n",
    "***"
   ]
  },
  {
   "cell_type": "markdown",
   "metadata": {},
   "source": [
    "### Create authorized views"
   ]
  },
  {
   "cell_type": "markdown",
   "metadata": {},
   "source": [
    "#### Create Authorized View A\n"
   ]
  },
  {
   "cell_type": "markdown",
   "metadata": {},
   "source": [
    "- From the lab pane. open the Data Sharing Partner Project Console and log in with the associated credentials.\n",
    "\n",
    "- From the Navigation Menu, go to BigQuery > SQL Workspace.\n",
    "\n",
    "- Run the following query to create an authorized view for Customer A, based on a public geographical dataset."
   ]
  },
  {
   "cell_type": "code",
   "execution_count": null,
   "metadata": {
    "vscode": {
     "languageId": "sql"
    }
   },
   "outputs": [],
   "source": [
    "SELECT * FROM `bigquery-public-data.geo_us_boundaries.zip_codes`\n",
    "WHERE state_code=\"TX\"\n",
    "LIMIT 4000"
   ]
  },
  {
   "cell_type": "markdown",
   "metadata": {},
   "source": [
    "- From the toolbar, click Save > Save View.\n",
    "\n",
    "- Keep the project as default and for the Dataset select demo_dataset.\n",
    "\n",
    "- For Table type authorized_view_a.\n",
    "\n",
    "- Click Save."
   ]
  },
  {
   "cell_type": "markdown",
   "metadata": {},
   "source": [
    "#### Create Authorized View B"
   ]
  },
  {
   "cell_type": "markdown",
   "metadata": {},
   "source": [
    "- In the query editor, remove the previous query you just ran.\n",
    "\n",
    "- Run the following query to create an authorized view for Customer B, based on a public geographical dataset."
   ]
  },
  {
   "cell_type": "code",
   "execution_count": null,
   "metadata": {
    "vscode": {
     "languageId": "sql"
    }
   },
   "outputs": [],
   "source": [
    "SELECT * FROM `bigquery-public-data.geo_us_boundaries.zip_codes`\n",
    "WHERE state_code=\"CA\"\n",
    "LIMIT 4000"
   ]
  },
  {
   "cell_type": "markdown",
   "metadata": {},
   "source": [
    "- From the toolbar, click Save > Save View as.\n",
    "\n",
    "- Keep the project as default and for the Dataset select demo_dataset.\n",
    "\n",
    "- For Table type authorized_view_b.\n",
    "\n",
    "- Click Save."
   ]
  },
  {
   "cell_type": "markdown",
   "metadata": {},
   "source": [
    "### Assign IAM permissions to both the views"
   ]
  },
  {
   "cell_type": "markdown",
   "metadata": {},
   "source": [
    "- From the BigQuery Explorer pane, open the demo_dataset and click + Sharing > Authorize Views.\n",
    "\n",
    "- Add Authorized View A that needs to be authorized to share: Data Sharing Partner Project ID .demo_dataset.authorized_view_a.\n",
    "\n",
    "- Click Add Authorization.\n",
    "\n",
    "- Add Authorized View B that needs to be authorized to share: Data Sharing Partner Project ID .demo_dataset.authorized_view_b.\n",
    "\n",
    "- Click Add Authorization. Your authorized views should resemble the following:\n",
    "\n",
    "- Click Close."
   ]
  },
  {
   "cell_type": "markdown",
   "metadata": {},
   "source": [
    "### Grant permissions to the users to access the views"
   ]
  },
  {
   "cell_type": "markdown",
   "metadata": {},
   "source": [
    "#### Assign IAM permissions for Customer A"
   ]
  },
  {
   "cell_type": "markdown",
   "metadata": {},
   "source": [
    "- Under your project, inside of demo_dataset, open the authorized_view_a view.\n",
    "\n",
    "- Click Share.\n",
    "\n",
    "- Click on Add Principal and add the Customer A user:\n",
    "\n",
    "- Customer A username\n",
    "\n",
    "- Select the BigQuery Data Viewer role.\n",
    "\n",
    "- Click Save."
   ]
  },
  {
   "cell_type": "markdown",
   "metadata": {},
   "source": [
    "### Verify shared authorized views in customer projects"
   ]
  },
  {
   "cell_type": "markdown",
   "metadata": {},
   "source": [
    "#### Verify authorized view sharing for Customer A"
   ]
  },
  {
   "cell_type": "markdown",
   "metadata": {},
   "source": [
    "- Close the Data Sharing Partner Project Console and from the lab pane open the Customer Project A Console. Log in with the associated credentials.\n",
    "\n",
    "- From the Navigation Menu, go to BigQuery > SQL Workspace.\n",
    "\n",
    "- Run the following query, which selects all columns from the demo_dataset.authorized_view_a view from the Data Sharing Partner project:"
   ]
  },
  {
   "cell_type": "code",
   "execution_count": null,
   "metadata": {
    "vscode": {
     "languageId": "sql"
    }
   },
   "outputs": [],
   "source": [
    "SELECT * FROM `Project ID.demo_dataset.authorized_view_a`"
   ]
  },
  {
   "cell_type": "markdown",
   "metadata": {},
   "source": [
    "- On the query toolbar, select Save > Save View.\n",
    "\n",
    "- Click in the Dataset field and select customer_a_dataset.\n",
    "\n",
    "- In the Table field, type customer_a_table.\n",
    "\n",
    "- Click Save. You should now be able to see the dataset and table, as well as query it.\n",
    "\n",
    "- Run the following query to find all customers in a State. Since the authorized view available to Customer A is filtered on the state of Texas, the query should return only customers in that state."
   ]
  },
  {
   "cell_type": "code",
   "execution_count": null,
   "metadata": {
    "vscode": {
     "languageId": "sql"
    }
   },
   "outputs": [],
   "source": [
    "SELECT geos.zip_code, geos.city, cust.last_name, cust.first_name\n",
    "FROM `Customer A Project ID.customer_a_dataset.customer_info` as cust\n",
    "JOIN `Data sharing partner Project ID.demo_dataset.authorized_view_a` as geos\n",
    "ON geos.zip_code = cust.postal_code;"
   ]
  },
  {
   "cell_type": "markdown",
   "metadata": {},
   "source": [
    "- Run the following query to confirm only Customer A's specific data is visible.\n"
   ]
  },
  {
   "cell_type": "code",
   "execution_count": null,
   "metadata": {
    "vscode": {
     "languageId": "sql"
    }
   },
   "outputs": [],
   "source": [
    "SELECT * FROM `Project ID.demo_dataset.authorized_view_b`"
   ]
  },
  {
   "cell_type": "markdown",
   "metadata": {},
   "source": [
    "You should receive the following error:\n",
    "\n",
    "Access Denied: Table qwiklabs-gcp-04-b39db6c444b1:demo_dataset.authorized_view_b: User does not have permission to query table qwiklabs-gcp-04-b39db6c444b1:demo_dataset.authorized_view_b."
   ]
  },
  {
   "cell_type": "markdown",
   "metadata": {},
   "source": [
    "***"
   ]
  },
  {
   "cell_type": "markdown",
   "metadata": {},
   "source": [
    "**<center><font size = \"6\">Analytics as a Service for Data Sharing Partners<center>**\n",
    "***"
   ]
  },
  {
   "cell_type": "markdown",
   "metadata": {},
   "source": [
    "### Create authorized views\n"
   ]
  },
  {
   "cell_type": "markdown",
   "metadata": {},
   "source": [
    "#### Create Authorized View A\n"
   ]
  },
  {
   "cell_type": "markdown",
   "metadata": {},
   "source": [
    "- From the lab pane. open the Data Sharing Partner Project Console and log in with the associated credentials.\n",
    "\n",
    "- From the Navigation Menu, go to BigQuery > SQL Workspace.\n",
    "\n",
    "- Run the following query to create an authorized view for Customer A, based on a public geographical dataset."
   ]
  },
  {
   "cell_type": "code",
   "execution_count": null,
   "metadata": {
    "vscode": {
     "languageId": "sql"
    }
   },
   "outputs": [],
   "source": [
    "SELECT * FROM `bigquery-public-data.geo_us_boundaries.zip_codes`\n",
    "WHERE state_code=\"TX\"\n",
    "LIMIT 4000"
   ]
  },
  {
   "cell_type": "markdown",
   "metadata": {},
   "source": [
    "- From the toolbar, click Save > Save View.\n",
    "\n",
    "- Keep the project as default and for the Dataset select demo_dataset.\n",
    "\n",
    "- For Table type authorized_view_a.\n",
    "\n",
    "- Click Save."
   ]
  },
  {
   "cell_type": "markdown",
   "metadata": {},
   "source": [
    "#### Create Authorized View B"
   ]
  },
  {
   "cell_type": "markdown",
   "metadata": {},
   "source": [
    "- In the query editor, remove the previous query you just ran.\n",
    "\n",
    "- Run the following query to create an authorized view for Customer B, based on a public geographical dataset."
   ]
  },
  {
   "cell_type": "code",
   "execution_count": null,
   "metadata": {
    "vscode": {
     "languageId": "sql"
    }
   },
   "outputs": [],
   "source": [
    "SELECT * FROM `bigquery-public-data.geo_us_boundaries.zip_codes`\n",
    "WHERE state_code=\"CA\"\n",
    "LIMIT 4000"
   ]
  },
  {
   "cell_type": "markdown",
   "metadata": {},
   "source": [
    "- From the toolbar, click Save > Save View as.\n",
    "\n",
    "- Keep the project as default and for the Dataset select demo_dataset.\n",
    "\n",
    "- For Table type authorized_view_b.\n",
    "\n",
    "- Click Save."
   ]
  },
  {
   "cell_type": "markdown",
   "metadata": {},
   "source": [
    "### Assign IAM permissions to both the views"
   ]
  },
  {
   "cell_type": "markdown",
   "metadata": {},
   "source": [
    "- From the BigQuery Explorer pane, open the demo_dataset and click + Sharing > Authorize Views.\n",
    "\n",
    "- Add Authorized View A that needs to be authorized to share: Data Sharing Partner Project ID .demo_dataset.authorized_view_a.\n",
    "\n",
    "- Click Add Authorization.\n",
    "\n",
    "- Add Authorized View B that needs to be authorized to share: Data Sharing Partner Project ID .demo_dataset.authorized_view_b.\n",
    "\n",
    "- Click Add Authorization. Your authorized views should resemble the following:\n",
    "\n",
    "- Click Close."
   ]
  },
  {
   "cell_type": "markdown",
   "metadata": {},
   "source": [
    "### Grant permissions to the users to access the views\n"
   ]
  },
  {
   "cell_type": "markdown",
   "metadata": {},
   "source": [
    "#### Assign IAM permissions for Customer A"
   ]
  },
  {
   "cell_type": "markdown",
   "metadata": {},
   "source": [
    "- Under your project, inside of demo_dataset, open the authorized_view_a view.\n",
    "\n",
    "- Click Share.\n",
    "\n",
    "- Click on Add Principal and add the Customer A user:\n",
    "\n",
    "- Customer A username\n",
    "\n",
    "- Select the BigQuery Data Viewer role.\n",
    "\n",
    "- Click Save."
   ]
  },
  {
   "cell_type": "markdown",
   "metadata": {},
   "source": [
    "#### Assign IAM permissions for Customer B"
   ]
  },
  {
   "cell_type": "markdown",
   "metadata": {},
   "source": [
    "- Under your project, inside of demo_dataset, open the authorized_view_b view.\n",
    "\n",
    "- Click Share.\n",
    "\n",
    "- Click on Add Principal and add the Customer B user:\n",
    "\n",
    "- Customer B username\n",
    "\n",
    "- Select the BigQuery Data Viewer role.\n",
    "\n",
    "- Click Save."
   ]
  },
  {
   "cell_type": "markdown",
   "metadata": {},
   "source": [
    "### Display insights for View A\n"
   ]
  },
  {
   "cell_type": "markdown",
   "metadata": {},
   "source": [
    "#### Verify authorized view sharing for Customer A\n"
   ]
  },
  {
   "cell_type": "markdown",
   "metadata": {},
   "source": [
    "- Close the Data Sharing Partner Project Console and from the lab pane open the Customer Project A Console. Log in with the associated credentials.\n",
    "\n",
    "- From the Navigation Menu, go to BigQuery > SQL Workspace.\n",
    "\n",
    "- Run the following query to find all customers in a State. Since the authorized view available to Customer A is filtered on the state of Texas, the query should return only customers in that state.\n"
   ]
  },
  {
   "cell_type": "code",
   "execution_count": null,
   "metadata": {
    "vscode": {
     "languageId": "sql"
    }
   },
   "outputs": [],
   "source": [
    "SELECT geos.zip_code, geos.city, cust.last_name, cust.first_name\n",
    "FROM `Customer A Project ID.customer_a_dataset.customer_info` as cust\n",
    "JOIN `Partner Project ID.demo_dataset.authorized_view_a` as geos\n",
    "ON geos.zip_code = cust.postal_code;"
   ]
  },
  {
   "cell_type": "markdown",
   "metadata": {},
   "source": [
    "- On the query toolbar, select Save > Save View.\n",
    "\n",
    "- Click in the Dataset field and select customer_a_dataset.\n",
    "\n",
    "- In the Table field, type customer_a_table.\n",
    "\n",
    "- Click Save. You should now be able to see the dataset and table, as well as query it."
   ]
  },
  {
   "cell_type": "markdown",
   "metadata": {},
   "source": [
    "#### Connect BigQuery to Data Studio\n"
   ]
  },
  {
   "cell_type": "markdown",
   "metadata": {},
   "source": [
    "- Open Google Data Studio.\n",
    "\n",
    "- On the Reports page, in the Start with a Template section, click the Blank Report template. This creates a new untitled report.\n",
    "\n",
    "- In the Add data to report window, in the search box, enter BigQuery.\n",
    "\n",
    "- Click the BigQuery Connector.\n",
    "\n",
    "- For Authorization, click Authorize. This action lets Google Data Studio access to your Google Cloud project.\n",
    "\n",
    "- Select Recent Projects from the left pane, select Customer A Project ID > customer_a_dataset > customer_a_table.\n",
    "\n",
    "- Click Add.\n",
    "\n",
    "- When prompted, click Add to Report."
   ]
  },
  {
   "cell_type": "markdown",
   "metadata": {},
   "source": [
    "#### Create a visualization in Data Studio"
   ]
  },
  {
   "cell_type": "markdown",
   "metadata": {},
   "source": [
    "- At the top of the page, click Untitled Report to change the report name. Type Customer A Vizualization.\n",
    "\n",
    "- After the report editor loads, click Insert > Pie chart.\n",
    "\n",
    "- On the Pie Chart Data tab, notice the value for Data Source (customer_a_table) and the default values for Dimension and Metric: zip_code and Record Count.\n",
    "\n",
    "- Drag city from Available Fields onto the zip_code dimension to replace it."
   ]
  },
  {
   "cell_type": "markdown",
   "metadata": {},
   "source": [
    "#### Verify Analytics security"
   ]
  },
  {
   "cell_type": "markdown",
   "metadata": {},
   "source": [
    "- From the toolbar, expand + Share > Get report link.\n",
    "\n",
    "- In the pop-up dialogue, click Copy Link and save it somewhere. Exit out of the window.\n",
    "\n",
    "- Click the student profile in the top right and click Sign out.\n",
    "\n",
    "- Select Use another account.\n",
    "\n",
    "- Log in with the Customer B user credentials.\n",
    "\n",
    "- You will be taken to your Google Account home page.\n",
    "\n",
    "- Open a new tab and navigate to the Data Studio link you copied earlier."
   ]
  },
  {
   "cell_type": "markdown",
   "metadata": {},
   "source": [
    "***"
   ]
  },
  {
   "cell_type": "markdown",
   "metadata": {},
   "source": [
    "**<center><font size = \"6\">Analytics as a Service for Data Sharing Partners<center>**\n",
    "***"
   ]
  },
  {
   "cell_type": "markdown",
   "metadata": {},
   "source": []
  }
 ],
 "metadata": {
  "kernelspec": {
   "display_name": "Python 3.9.9 64-bit",
   "language": "python",
   "name": "python3"
  },
  "language_info": {
   "codemirror_mode": {
    "name": "ipython",
    "version": 3
   },
   "file_extension": ".py",
   "mimetype": "text/x-python",
   "name": "python",
   "nbconvert_exporter": "python",
   "pygments_lexer": "ipython3",
   "version": "3.9.9"
  },
  "orig_nbformat": 4,
  "vscode": {
   "interpreter": {
    "hash": "aee8b7b246df8f9039afb4144a1f6fd8d2ca17a180786b69acc140d282b71a49"
   }
  }
 },
 "nbformat": 4,
 "nbformat_minor": 2
}
