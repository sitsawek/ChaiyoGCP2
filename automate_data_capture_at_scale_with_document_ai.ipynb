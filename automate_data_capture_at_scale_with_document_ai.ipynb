{
 "cells": [
  {
   "cell_type": "markdown",
   "metadata": {},
   "source": [
    "***"
   ]
  },
  {
   "cell_type": "markdown",
   "metadata": {},
   "source": [
    "**<center><font size = \"6\">Automate Data Capture at Scale with Document AI<center>**\n",
    "***\n",
    "<center><font size = \"2\">Prepared by: Sitsawek Sukorn<center>"
   ]
  },
  {
   "cell_type": "markdown",
   "metadata": {},
   "source": [
    "## Create and Test a Document AI Processor"
   ]
  },
  {
   "cell_type": "markdown",
   "metadata": {},
   "source": [
    "### Part 1. Create and test a general form processor"
   ]
  },
  {
   "cell_type": "markdown",
   "metadata": {},
   "source": [
    "### Task 1. Enable the Cloud Document AI API\n"
   ]
  },
  {
   "cell_type": "markdown",
   "metadata": {},
   "source": [
    "Before you can begin using Document AI, you must enable the API.\n",
    "\n",
    "- In Google Cloud Console, on the Navigation menu (Navigation menu icon), click APIs & services > Library.\n",
    "\n",
    "- Search for Cloud Document AI API, then click the Enable button to use the API in your Google Cloud project."
   ]
  },
  {
   "cell_type": "markdown",
   "metadata": {},
   "source": [
    "### Task 2. Create a general form processor"
   ]
  },
  {
   "cell_type": "markdown",
   "metadata": {},
   "source": [
    "Next you will create a Document AI processor using the Document AI Form Parser.\n",
    "\n",
    "- In the console, on the Navigation menu (Navigation menu icon), click Document AI > Overview.\n",
    "\n",
    "- Click Explore processors and select Form Parser, which is a type of general processor.\n",
    "\n",
    "- Specify the processor name as form-parser and select the region US (United States) from the list.\n",
    "\n",
    "- Click Create to create the general form-parser processor.\n",
    "\n",
    "This will create the processor and return to the processor details page that will display the processor ID, status, and the prediction endpoint.\n",
    "\n",
    "- Make a note of the Processor ID as you will use it with curl to make a POST call to the API in a later task."
   ]
  },
  {
   "cell_type": "markdown",
   "metadata": {},
   "source": [
    "### Task 3. Download the sample form"
   ]
  },
  {
   "cell_type": "markdown",
   "metadata": {},
   "source": [
    "Download the form.pdf file to your local machine."
   ]
  },
  {
   "cell_type": "markdown",
   "metadata": {},
   "source": [
    "### Task 4. Upload a form for Document AI processing"
   ]
  },
  {
   "cell_type": "markdown",
   "metadata": {},
   "source": [
    "- In Cloud Console, on your form-parser page, click the Upload Test Document button. A dialog will pop up - select the file you downloaded in the previous task for uploading."
   ]
  },
  {
   "cell_type": "markdown",
   "metadata": {},
   "source": [
    "### Task 5. Check output quality\n",
    "\n",
    "The key/value pairs parsed from the source document will be presented in the Cloud Console. The left hand pane lists the data, and the right hand pane highlights with blue rectangles the source locations in the parsed document. Examine the output and compare the results with the source data."
   ]
  },
  {
   "cell_type": "markdown",
   "metadata": {},
   "source": [
    "### Part 2. Test a Document AI form processor using the API"
   ]
  },
  {
   "cell_type": "markdown",
   "metadata": {},
   "source": [
    "### Task 6. Connect to the lab VM instance using SSH"
   ]
  },
  {
   "cell_type": "markdown",
   "metadata": {},
   "source": [
    "You will perform the remainder of the lab tasks in the lab VM called document-ai-dev.\n",
    "\n",
    "- In the Cloud Console, on the Navigation menu (Navigation menu icon), click Compute Engine > VM Instances.\n",
    "\n",
    "- Click the SSH link for the VM Instance called document-ai-dev.\n",
    "\n",
    "You will need the Document AI processor ID of the processor you created in Task 1 for this step. If you did not save it, then in the Cloud Console tab open the Navigation menu (Navigation menu icon), click Document AI > Processors, then click the name of your processor to open the details page. From here you can copy the processor ID.\n",
    "\n",
    "- In the SSH session create an environment variable to contain the Document AI processor ID. You must replace the placeholder for [your processor id]:"
   ]
  },
  {
   "cell_type": "code",
   "execution_count": null,
   "metadata": {
    "vscode": {
     "languageId": "shellscript"
    }
   },
   "outputs": [],
   "source": [
    "export PROCESSOR_ID=[your processor id]"
   ]
  },
  {
   "cell_type": "markdown",
   "metadata": {},
   "source": [
    "- In the SSH session confirm that the environment variable contains the Document AI processor ID:"
   ]
  },
  {
   "cell_type": "code",
   "execution_count": null,
   "metadata": {
    "vscode": {
     "languageId": "shellscript"
    }
   },
   "outputs": [],
   "source": [
    "echo Your processor ID is:$PROCESSOR_ID"
   ]
  },
  {
   "cell_type": "markdown",
   "metadata": {},
   "source": [
    "This should print out the Processor ID similar to the following:\n",
    "Your processor ID is:4897d834d2f4415d"
   ]
  },
  {
   "cell_type": "markdown",
   "metadata": {},
   "source": [
    "### Task 7. Authenticate API requests"
   ]
  },
  {
   "cell_type": "markdown",
   "metadata": {},
   "source": [
    "In order to make requests to the Document AI API, you need to provide a valid credential. In this task you will create a service account, limit the permissions granted to that service account to those required for the lab, and then generate a credential for that account that can be used to authenticate Document AI API requests.\n",
    "\n",
    "- Set an environment variable with your Project ID, which you will use throughout this lab:\n"
   ]
  },
  {
   "cell_type": "code",
   "execution_count": null,
   "metadata": {
    "vscode": {
     "languageId": "shellscript"
    }
   },
   "outputs": [],
   "source": [
    "export PROJECT_ID=$(gcloud config get-value core/project)"
   ]
  },
  {
   "cell_type": "markdown",
   "metadata": {},
   "source": [
    "- Create a new service account to access the Document AI API by using:"
   ]
  },
  {
   "cell_type": "code",
   "execution_count": null,
   "metadata": {
    "vscode": {
     "languageId": "shellscript"
    }
   },
   "outputs": [],
   "source": [
    "export SA_NAME=\"document-ai-service-account\"\n",
    "gcloud iam service-accounts create $SA_NAME --display-name $SA_NAME"
   ]
  },
  {
   "cell_type": "markdown",
   "metadata": {},
   "source": [
    "- Bind the service account to the Document AI API user role:\n"
   ]
  },
  {
   "cell_type": "code",
   "execution_count": null,
   "metadata": {
    "vscode": {
     "languageId": "shellscript"
    }
   },
   "outputs": [],
   "source": [
    "gcloud projects add-iam-policy-binding ${PROJECT_ID} \\\n",
    "--member=\"serviceAccount:$SA_NAME@${PROJECT_ID}.iam.gserviceaccount.com\" \\\n",
    "--role=\"roles/documentai.apiUser\""
   ]
  },
  {
   "cell_type": "markdown",
   "metadata": {},
   "source": [
    "- Create the credentials that will be used to log in as your new service account and save them in a JSON file called key.json in your working directory:"
   ]
  },
  {
   "cell_type": "code",
   "execution_count": null,
   "metadata": {
    "vscode": {
     "languageId": "shellscript"
    }
   },
   "outputs": [],
   "source": [
    "gcloud iam service-accounts keys create key.json \\\n",
    "--iam-account  $SA_NAME@${PROJECT_ID}.iam.gserviceaccount.com"
   ]
  },
  {
   "cell_type": "markdown",
   "metadata": {},
   "source": [
    "- Set the GOOGLE_APPLICATION_CREDENTIALS environment variable, which is used by the library to find your credentials, to point to the credentials file:"
   ]
  },
  {
   "cell_type": "code",
   "execution_count": null,
   "metadata": {
    "vscode": {
     "languageId": "shellscript"
    }
   },
   "outputs": [],
   "source": [
    "export GOOGLE_APPLICATION_CREDENTIALS=\"$PWD/key.json\""
   ]
  },
  {
   "cell_type": "markdown",
   "metadata": {},
   "source": [
    "- Check that the GOOGLE_APPLICATION_CREDENTIALS environment variable is set to the full path of the credentials JSON file you created earlier:\n"
   ]
  },
  {
   "cell_type": "code",
   "execution_count": null,
   "metadata": {
    "vscode": {
     "languageId": "shellscript"
    }
   },
   "outputs": [],
   "source": [
    "echo $GOOGLE_APPLICATION_CREDENTIALS"
   ]
  },
  {
   "cell_type": "markdown",
   "metadata": {},
   "source": [
    "### Task 8. Download the sample form to the VM instance\n"
   ]
  },
  {
   "cell_type": "markdown",
   "metadata": {},
   "source": [
    "Now you can download a sample form and then base64 encode it for submission to the Document AI API.\n",
    "\n",
    "- Enter the following command in the SSH window to download the sample form to your working directory:"
   ]
  },
  {
   "cell_type": "code",
   "execution_count": null,
   "metadata": {
    "vscode": {
     "languageId": "shellscript"
    }
   },
   "outputs": [],
   "source": [
    "gsutil cp gs://cloud-training/gsp924/health-intake-form.pdf ."
   ]
  },
  {
   "cell_type": "markdown",
   "metadata": {},
   "source": [
    "- Create a JSON request file for submitting the base64 encoded form for processing:"
   ]
  },
  {
   "cell_type": "code",
   "execution_count": null,
   "metadata": {
    "vscode": {
     "languageId": "shellscript"
    }
   },
   "outputs": [],
   "source": [
    "echo '{\"inlineDocument\": {\"mimeType\": \"application/pdf\",\"content\": \"' > temp.json\n",
    "base64 health-intake-form.pdf >> temp.json\n",
    "echo '\"}}' >> temp.json\n",
    "cat temp.json | tr -d \\\\n > request.json"
   ]
  },
  {
   "cell_type": "markdown",
   "metadata": {},
   "source": [
    "### Task 9. Make a synchronous process document request using curl"
   ]
  },
  {
   "cell_type": "markdown",
   "metadata": {},
   "source": [
    "In this task you process the sample document by making a call to the synchronous Document AI API endpoint using curl.\n",
    "\n",
    "- Submit a form for processing via curl. The result will be stored in output.json:"
   ]
  },
  {
   "cell_type": "code",
   "execution_count": null,
   "metadata": {
    "vscode": {
     "languageId": "shellscript"
    }
   },
   "outputs": [],
   "source": [
    "export LOCATION=\"us\"\n",
    "export PROJECT_ID=$(gcloud config get-value core/project)\n",
    "curl -X POST \\\n",
    "-H \"Authorization: Bearer \"$(gcloud auth application-default print-access-token) \\\n",
    "-H \"Content-Type: application/json; charset=utf-8\" \\\n",
    "-d @request.json \\\n",
    "https://${LOCATION}-documentai.googleapis.com/v1beta3/projects/${PROJECT_ID}/locations/${LOCATION}/processors/${PROCESSOR_ID}:process > output.json"
   ]
  },
  {
   "cell_type": "markdown",
   "metadata": {},
   "source": [
    "### Task 10. Extract the form entitied"
   ]
  },
  {
   "cell_type": "markdown",
   "metadata": {},
   "source": [
    "Next, explore some of the information extracted from the sample form.\n",
    "\n",
    "- Extract the raw text detected in the document as follows:\n"
   ]
  },
  {
   "cell_type": "code",
   "execution_count": null,
   "metadata": {
    "vscode": {
     "languageId": "shellscript"
    }
   },
   "outputs": [],
   "source": [
    "cat output.json | jq -r \".document.text\""
   ]
  },
  {
   "cell_type": "markdown",
   "metadata": {},
   "source": [
    "This lists all of the text detected in the uploaded document.\n",
    "\n",
    "- Extract the list of form fields detected by the form processor:"
   ]
  },
  {
   "cell_type": "code",
   "execution_count": null,
   "metadata": {
    "vscode": {
     "languageId": "shellscript"
    }
   },
   "outputs": [],
   "source": [
    "cat output.json | jq -r \".document.pages[].formFields\""
   ]
  },
  {
   "cell_type": "markdown",
   "metadata": {},
   "source": [
    "This lists the object data for all of the form fields detected in the document. The textAnchor.startIndex and textAnchor.endIndex values for each form can be used to locate the names of the detected forms in the document.text field. The Python script that you will use in the next task will do this mapping for you.\n",
    "\n",
    "The JSON file is quite large as it includes the base64 encoded source document as well as all of the detected text and document properties. You can explore the JSON file by opening the file in a text editor or by using a JSON query tool like jq."
   ]
  },
  {
   "cell_type": "markdown",
   "metadata": {},
   "source": [
    "### Part 3. Test a Document AI form processor using the Python client libraries"
   ]
  },
  {
   "cell_type": "markdown",
   "metadata": {},
   "source": [
    "### Task 11. Configure your VM Instance to use the Document AI Python client\n"
   ]
  },
  {
   "cell_type": "markdown",
   "metadata": {},
   "source": [
    "Now install the Python Google Cloud client libraries into the VM Instance.\n",
    "\n",
    "- Enter the following command in the SSH terminal shell to import the lab files into your VM Instance:"
   ]
  },
  {
   "cell_type": "code",
   "execution_count": null,
   "metadata": {
    "vscode": {
     "languageId": "shellscript"
    }
   },
   "outputs": [],
   "source": [
    "gsutil cp gs://cloud-training/gsp924/synchronous_doc_ai.py ."
   ]
  },
  {
   "cell_type": "markdown",
   "metadata": {},
   "source": [
    "- Enter the following command to install the Python client libraries required for Document AI and the other libraries required for this lab:"
   ]
  },
  {
   "cell_type": "code",
   "execution_count": null,
   "metadata": {
    "vscode": {
     "languageId": "shellscript"
    }
   },
   "outputs": [],
   "source": [
    "python3 -m pip install --upgrade google-cloud-documentai google-cloud-storage prettytable "
   ]
  },
  {
   "cell_type": "markdown",
   "metadata": {},
   "source": [
    "### Task 12. Review the Document AI API Python code"
   ]
  },
  {
   "cell_type": "markdown",
   "metadata": {},
   "source": [
    "- The first two code blocks import the required libraries and parses parameters to initialize variables that identify the Document AI processor and input data.\n"
   ]
  },
  {
   "cell_type": "code",
   "execution_count": null,
   "metadata": {},
   "outputs": [],
   "source": [
    "import argparse\n",
    "from google.cloud import documentai_v1beta3 as documentai\n",
    "from google.cloud import storage\n",
    "from prettytable import PrettyTable\n",
    "parser = argparse.ArgumentParser()\n",
    "parser.add_argument(\"-P\", \"--project_id\", help=\"Google Cloud Project ID\")\n",
    "parser.add_argument(\"-D\", \"--processor_id\", help=\"Document AI Processor ID\")\n",
    "parser.add_argument(\"-F\", \"--file_name\", help=\"Input file name\", default=\"form.pdf\")\n",
    "parser.add_argument(\"-L\", \"--location\", help=\"Processor Location\", default=\"us\")\n",
    "args = parser.parse_args()"
   ]
  },
  {
   "cell_type": "markdown",
   "metadata": {},
   "source": [
    "- The process_document function is used to make a synchronous call to a Document AI processor. The function creates a Document AI API client object.\n"
   ]
  },
  {
   "cell_type": "markdown",
   "metadata": {},
   "source": [
    "The processor name required by the API call is created using the project_id,location, and processor_id parameters and the document to be processed is read in and stored in a mime_type structure.\n",
    "\n",
    "The processor name and the document are then passed to the Document API client object and a synchronous call to the API is made. If the request is successful the document object that is returned will include properties that contain the data that has been detected by the Document AI processor."
   ]
  },
  {
   "cell_type": "code",
   "execution_count": null,
   "metadata": {},
   "outputs": [],
   "source": [
    "def process_document(project_id, location, processor_id, file_path ):\n",
    "    # Instantiates a client\n",
    "    client = documentai.DocumentProcessorServiceClient()\n",
    "    # The full resource name of the processor, e.g.:\n",
    "    # projects/project-id/locations/location/processor/processor-id\n",
    "    # You must create new processors in the Cloud Console first\n",
    "    name = f\"projects/{project_id}/locations/{location}/processors/{processor_id}\"\n",
    "    # Read the file into memory\n",
    "    with open(file_path, \"rb\") as image:\n",
    "        image_content = image.read()\n",
    "        \n",
    "    # Create the document object \n",
    "    document = {\"content\": image_content, \"mime_type\": \"application/pdf\"}\n",
    "    # Configure the process request\n",
    "    request = {\"name\": name, \"document\": document}\n",
    "    # Use the Document AI client synchronous endpoint to process the request\n",
    "    result = client.process_document(request=request)\n",
    "    return result.document"
   ]
  },
  {
   "cell_type": "markdown",
   "metadata": {},
   "source": [
    "- The script then calls the process_document function with the required parameters and saves the response in the document variable.\n"
   ]
  },
  {
   "cell_type": "code",
   "execution_count": null,
   "metadata": {},
   "outputs": [],
   "source": [
    "document = process_document(args.project_id,args.location,args.processor_id,args.file_name )"
   ]
  },
  {
   "cell_type": "markdown",
   "metadata": {},
   "source": [
    "- The final block of code prints the .text property that contains all of the text detected in the document then displays the form information using the text anchor data for each of the form fields detected by the form parser.\n"
   ]
  },
  {
   "cell_type": "code",
   "execution_count": null,
   "metadata": {},
   "outputs": [],
   "source": [
    "print(\"Document processing complete.\")\n",
    "print(\"Text: {}\".format(document.document_text))\n",
    "# Define a function to retrieve an object dictionary for a named element\n",
    "def get_text(doc_element: dict, document: dict):\n",
    "    \"\"\"\n",
    "    Document AI identifies form fields by their offsets\n",
    "    in document text. This function converts offsets\n",
    "    to text snippets.\n",
    "    \"\"\"\n",
    "    response = \"\"\n",
    "    # If a text segment spans several lines, it will\n",
    "    # be stored in different text segments.\n",
    "    for segment in doc_element.text_anchor.text_segments:\n",
    "        start_index = (\n",
    "            int(segment.start_index)\n",
    "            if segment in doc_element.text_anchor.text_segments\n",
    "            else 0\n",
    "        )\n",
    "        end_index = int(segment.end_index)\n",
    "        response += document.text[start_index:end_index]\n",
    "    return response\n",
    "# Grab each key/value pair and their corresponding confidence scores.\n",
    "document_pages = document.pages\n",
    "print(\"Form data detected:\\n\")\n",
    "# For each page fetch each form field and display fieldname, value and confidence scores\n",
    "for page in document_pages:\n",
    "    print(\"Page Number:{}\".format(page.page_number))\n",
    "    for form_field in page.form_fields:\n",
    "        fieldName=get_text(form_field.field_name,document)\n",
    "        nameConfidence = round(form_field.field_name.confidence,4)\n",
    "        fieldValue = get_text(form_field.field_value,document)\n",
    "        valueConfidence = round(form_field.field_value.confidence,4)\n",
    "        print(fieldName+fieldValue +\"  (Confidence Scores: (Name) \"+str(nameConfidence)+\", (Value) \"+str(valueConfidence)+\")\\n\")"
   ]
  },
  {
   "cell_type": "markdown",
   "metadata": {},
   "source": [
    "### Task 13. Run the Document AI Python code\n"
   ]
  },
  {
   "cell_type": "markdown",
   "metadata": {},
   "source": [
    "Execute the sample code and process the same file as before.\n",
    "\n",
    "- Create environment variables for the Project ID and the IAM service account credentials file:"
   ]
  },
  {
   "cell_type": "code",
   "execution_count": null,
   "metadata": {
    "vscode": {
     "languageId": "shellscript"
    }
   },
   "outputs": [],
   "source": [
    "export PROJECT_ID=$(gcloud config get-value core/project)\n",
    "export GOOGLE_APPLICATION_CREDENTIALS=\"$PWD/key.json\""
   ]
  },
  {
   "cell_type": "markdown",
   "metadata": {},
   "source": [
    "- Call the synchronous_doc_ai.py python program with the parameters it requires:"
   ]
  },
  {
   "cell_type": "code",
   "execution_count": null,
   "metadata": {
    "vscode": {
     "languageId": "shellscript"
    }
   },
   "outputs": [],
   "source": [
    "python3 synchronous_doc_ai.py \\\n",
    "--project_id=$PROJECT_ID \\\n",
    "--processor_id=$PROCESSOR_ID \\\n",
    "--location=us \\\n",
    "--file_name=health-intake-form.pdf | tee results.txt"
   ]
  },
  {
   "cell_type": "markdown",
   "metadata": {},
   "source": [
    "You will see the following block of text output:\n",
    "\n",
    "FakeDoc M.D.\n",
    "HEALTH INTAKE FORM\n",
    "Please fill out the questionnaire carefully. The information you provide will be used to complete\n",
    "your health profile and will be kept confidential.\n",
    "Date:\n",
    "Sally\n",
    "Walker\n",
    "Name:\n",
    "9/14/19\n",
    "..."
   ]
  },
  {
   "cell_type": "markdown",
   "metadata": {},
   "source": [
    "The first block of text is a single text element containing all of the text in the document. This block of text does not include any awareness of form based data so some items, such as the Date and Name entries, are mixed together in this raw text value.\n",
    "\n",
    "The code then outputs a more structured view of the data using the form data that the form-parser has inferred from the document structure. This structured output also includes the confidence score for the form field names and values. The output from this section gives a much more useful mapping between the form field names and the values, as can be seen with the link between the Date and Name form fields and their correct values.\n",
    "\n"
   ]
  },
  {
   "cell_type": "markdown",
   "metadata": {},
   "source": [
    "Form data detected:\n",
    "Page Number:1\n",
    "Phone #: (906) 917-3486\n",
    "(Confidence Scores: (Name) 1.0, (Value) 1.0)\n",
    "...\n",
    "Date:\n",
    "9/14/19\n",
    "(Confidence Scores: (Name) 0.9999, (Value) 0.9999)\n",
    "...\n",
    "Name:\n",
    "Sally\n",
    "Walker\n",
    "(Confidence Scores: (Name) 0.9973, (Value) 0.9973)\n",
    "...\n"
   ]
  },
  {
   "cell_type": "markdown",
   "metadata": {},
   "source": [
    "***"
   ]
  },
  {
   "cell_type": "markdown",
   "metadata": {},
   "source": [
    "**<center><font size = \"6\">Automate Data Capture at Scale with Document AI<center>**\n",
    "***"
   ]
  },
  {
   "cell_type": "markdown",
   "metadata": {},
   "source": []
  }
 ],
 "metadata": {
  "kernelspec": {
   "display_name": "Python 3.9.9 64-bit",
   "language": "python",
   "name": "python3"
  },
  "language_info": {
   "name": "python",
   "version": "3.9.9"
  },
  "orig_nbformat": 4,
  "vscode": {
   "interpreter": {
    "hash": "aee8b7b246df8f9039afb4144a1f6fd8d2ca17a180786b69acc140d282b71a49"
   }
  }
 },
 "nbformat": 4,
 "nbformat_minor": 2
}
