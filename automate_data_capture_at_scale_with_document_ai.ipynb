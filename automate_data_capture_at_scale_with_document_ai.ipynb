{
 "cells": [
  {
   "cell_type": "markdown",
   "metadata": {},
   "source": [
    "***"
   ]
  },
  {
   "cell_type": "markdown",
   "metadata": {},
   "source": [
    "**<center><font size = \"6\">Automate Data Capture at Scale with Document AI<center>**\n",
    "***\n",
    "<center><font size = \"2\">Prepared by: Sitsawek Sukorn<center>"
   ]
  },
  {
   "cell_type": "markdown",
   "metadata": {},
   "source": [
    "## Create and Test a Document AI Processor"
   ]
  },
  {
   "cell_type": "markdown",
   "metadata": {},
   "source": [
    "### Part 1. Create and test a general form processor"
   ]
  },
  {
   "cell_type": "markdown",
   "metadata": {},
   "source": [
    "### Task 1. Enable the Cloud Document AI API\n"
   ]
  },
  {
   "cell_type": "markdown",
   "metadata": {},
   "source": [
    "Before you can begin using Document AI, you must enable the API.\n",
    "\n",
    "- In Google Cloud Console, on the Navigation menu (Navigation menu icon), click APIs & services > Library.\n",
    "\n",
    "- Search for Cloud Document AI API, then click the Enable button to use the API in your Google Cloud project."
   ]
  },
  {
   "cell_type": "markdown",
   "metadata": {},
   "source": [
    "### Task 2. Create a general form processor"
   ]
  },
  {
   "cell_type": "markdown",
   "metadata": {},
   "source": [
    "Next you will create a Document AI processor using the Document AI Form Parser.\n",
    "\n",
    "- In the console, on the Navigation menu (Navigation menu icon), click Document AI > Overview.\n",
    "\n",
    "- Click Explore processors and select Form Parser, which is a type of general processor.\n",
    "\n",
    "- Specify the processor name as form-parser and select the region US (United States) from the list.\n",
    "\n",
    "- Click Create to create the general form-parser processor.\n",
    "\n",
    "This will create the processor and return to the processor details page that will display the processor ID, status, and the prediction endpoint.\n",
    "\n",
    "- Make a note of the Processor ID as you will use it with curl to make a POST call to the API in a later task."
   ]
  },
  {
   "cell_type": "markdown",
   "metadata": {},
   "source": [
    "### Task 3. Download the sample form"
   ]
  },
  {
   "cell_type": "markdown",
   "metadata": {},
   "source": [
    "Download the form.pdf file to your local machine."
   ]
  },
  {
   "cell_type": "markdown",
   "metadata": {},
   "source": [
    "### Task 4. Upload a form for Document AI processing"
   ]
  },
  {
   "cell_type": "markdown",
   "metadata": {},
   "source": [
    "- In Cloud Console, on your form-parser page, click the Upload Test Document button. A dialog will pop up - select the file you downloaded in the previous task for uploading."
   ]
  },
  {
   "cell_type": "markdown",
   "metadata": {},
   "source": [
    "### Task 5. Check output quality\n",
    "\n",
    "The key/value pairs parsed from the source document will be presented in the Cloud Console. The left hand pane lists the data, and the right hand pane highlights with blue rectangles the source locations in the parsed document. Examine the output and compare the results with the source data."
   ]
  },
  {
   "cell_type": "markdown",
   "metadata": {},
   "source": [
    "### Part 2. Test a Document AI form processor using the API"
   ]
  },
  {
   "cell_type": "markdown",
   "metadata": {},
   "source": [
    "### Task 6. Connect to the lab VM instance using SSH"
   ]
  },
  {
   "cell_type": "markdown",
   "metadata": {},
   "source": [
    "You will perform the remainder of the lab tasks in the lab VM called document-ai-dev.\n",
    "\n",
    "- In the Cloud Console, on the Navigation menu (Navigation menu icon), click Compute Engine > VM Instances.\n",
    "\n",
    "- Click the SSH link for the VM Instance called document-ai-dev.\n",
    "\n",
    "You will need the Document AI processor ID of the processor you created in Task 1 for this step. If you did not save it, then in the Cloud Console tab open the Navigation menu (Navigation menu icon), click Document AI > Processors, then click the name of your processor to open the details page. From here you can copy the processor ID.\n",
    "\n",
    "- In the SSH session create an environment variable to contain the Document AI processor ID. You must replace the placeholder for [your processor id]:"
   ]
  },
  {
   "cell_type": "code",
   "execution_count": null,
   "metadata": {
    "vscode": {
     "languageId": "shellscript"
    }
   },
   "outputs": [],
   "source": [
    "export PROCESSOR_ID=[your processor id]"
   ]
  },
  {
   "cell_type": "markdown",
   "metadata": {},
   "source": [
    "- In the SSH session confirm that the environment variable contains the Document AI processor ID:"
   ]
  },
  {
   "cell_type": "code",
   "execution_count": null,
   "metadata": {
    "vscode": {
     "languageId": "shellscript"
    }
   },
   "outputs": [],
   "source": [
    "echo Your processor ID is:$PROCESSOR_ID"
   ]
  },
  {
   "cell_type": "markdown",
   "metadata": {},
   "source": [
    "This should print out the Processor ID similar to the following:\n",
    "Your processor ID is:4897d834d2f4415d"
   ]
  },
  {
   "cell_type": "markdown",
   "metadata": {},
   "source": [
    "### Task 7. Authenticate API requests"
   ]
  },
  {
   "cell_type": "markdown",
   "metadata": {},
   "source": [
    "In order to make requests to the Document AI API, you need to provide a valid credential. In this task you will create a service account, limit the permissions granted to that service account to those required for the lab, and then generate a credential for that account that can be used to authenticate Document AI API requests.\n",
    "\n",
    "- Set an environment variable with your Project ID, which you will use throughout this lab:\n"
   ]
  },
  {
   "cell_type": "code",
   "execution_count": null,
   "metadata": {
    "vscode": {
     "languageId": "shellscript"
    }
   },
   "outputs": [],
   "source": [
    "export PROJECT_ID=$(gcloud config get-value core/project)"
   ]
  },
  {
   "cell_type": "markdown",
   "metadata": {},
   "source": [
    "- Create a new service account to access the Document AI API by using:"
   ]
  },
  {
   "cell_type": "code",
   "execution_count": null,
   "metadata": {
    "vscode": {
     "languageId": "shellscript"
    }
   },
   "outputs": [],
   "source": [
    "export SA_NAME=\"document-ai-service-account\"\n",
    "gcloud iam service-accounts create $SA_NAME --display-name $SA_NAME"
   ]
  },
  {
   "cell_type": "markdown",
   "metadata": {},
   "source": [
    "- Bind the service account to the Document AI API user role:\n"
   ]
  },
  {
   "cell_type": "code",
   "execution_count": null,
   "metadata": {
    "vscode": {
     "languageId": "shellscript"
    }
   },
   "outputs": [],
   "source": [
    "gcloud projects add-iam-policy-binding ${PROJECT_ID} \\\n",
    "--member=\"serviceAccount:$SA_NAME@${PROJECT_ID}.iam.gserviceaccount.com\" \\\n",
    "--role=\"roles/documentai.apiUser\""
   ]
  },
  {
   "cell_type": "markdown",
   "metadata": {},
   "source": [
    "- Create the credentials that will be used to log in as your new service account and save them in a JSON file called key.json in your working directory:"
   ]
  },
  {
   "cell_type": "code",
   "execution_count": null,
   "metadata": {
    "vscode": {
     "languageId": "shellscript"
    }
   },
   "outputs": [],
   "source": [
    "gcloud iam service-accounts keys create key.json \\\n",
    "--iam-account  $SA_NAME@${PROJECT_ID}.iam.gserviceaccount.com"
   ]
  },
  {
   "cell_type": "markdown",
   "metadata": {},
   "source": [
    "- Set the GOOGLE_APPLICATION_CREDENTIALS environment variable, which is used by the library to find your credentials, to point to the credentials file:"
   ]
  },
  {
   "cell_type": "code",
   "execution_count": null,
   "metadata": {
    "vscode": {
     "languageId": "shellscript"
    }
   },
   "outputs": [],
   "source": [
    "export GOOGLE_APPLICATION_CREDENTIALS=\"$PWD/key.json\""
   ]
  },
  {
   "cell_type": "markdown",
   "metadata": {},
   "source": [
    "- Check that the GOOGLE_APPLICATION_CREDENTIALS environment variable is set to the full path of the credentials JSON file you created earlier:\n"
   ]
  },
  {
   "cell_type": "code",
   "execution_count": null,
   "metadata": {
    "vscode": {
     "languageId": "shellscript"
    }
   },
   "outputs": [],
   "source": [
    "echo $GOOGLE_APPLICATION_CREDENTIALS"
   ]
  },
  {
   "cell_type": "markdown",
   "metadata": {},
   "source": [
    "### Task 8. Download the sample form to the VM instance\n"
   ]
  },
  {
   "cell_type": "markdown",
   "metadata": {},
   "source": [
    "Now you can download a sample form and then base64 encode it for submission to the Document AI API.\n",
    "\n",
    "- Enter the following command in the SSH window to download the sample form to your working directory:"
   ]
  },
  {
   "cell_type": "code",
   "execution_count": null,
   "metadata": {
    "vscode": {
     "languageId": "shellscript"
    }
   },
   "outputs": [],
   "source": [
    "gsutil cp gs://cloud-training/gsp924/health-intake-form.pdf ."
   ]
  },
  {
   "cell_type": "markdown",
   "metadata": {},
   "source": [
    "- Create a JSON request file for submitting the base64 encoded form for processing:"
   ]
  },
  {
   "cell_type": "code",
   "execution_count": null,
   "metadata": {
    "vscode": {
     "languageId": "shellscript"
    }
   },
   "outputs": [],
   "source": [
    "echo '{\"inlineDocument\": {\"mimeType\": \"application/pdf\",\"content\": \"' > temp.json\n",
    "base64 health-intake-form.pdf >> temp.json\n",
    "echo '\"}}' >> temp.json\n",
    "cat temp.json | tr -d \\\\n > request.json"
   ]
  },
  {
   "cell_type": "markdown",
   "metadata": {},
   "source": [
    "### Task 9. Make a synchronous process document request using curl"
   ]
  },
  {
   "cell_type": "markdown",
   "metadata": {},
   "source": [
    "In this task you process the sample document by making a call to the synchronous Document AI API endpoint using curl.\n",
    "\n",
    "- Submit a form for processing via curl. The result will be stored in output.json:"
   ]
  },
  {
   "cell_type": "code",
   "execution_count": null,
   "metadata": {
    "vscode": {
     "languageId": "shellscript"
    }
   },
   "outputs": [],
   "source": [
    "export LOCATION=\"us\"\n",
    "export PROJECT_ID=$(gcloud config get-value core/project)\n",
    "curl -X POST \\\n",
    "-H \"Authorization: Bearer \"$(gcloud auth application-default print-access-token) \\\n",
    "-H \"Content-Type: application/json; charset=utf-8\" \\\n",
    "-d @request.json \\\n",
    "https://${LOCATION}-documentai.googleapis.com/v1beta3/projects/${PROJECT_ID}/locations/${LOCATION}/processors/${PROCESSOR_ID}:process > output.json"
   ]
  },
  {
   "cell_type": "markdown",
   "metadata": {},
   "source": [
    "### Task 10. Extract the form entitied"
   ]
  },
  {
   "cell_type": "markdown",
   "metadata": {},
   "source": [
    "Next, explore some of the information extracted from the sample form.\n",
    "\n",
    "- Extract the raw text detected in the document as follows:\n"
   ]
  },
  {
   "cell_type": "code",
   "execution_count": null,
   "metadata": {
    "vscode": {
     "languageId": "shellscript"
    }
   },
   "outputs": [],
   "source": [
    "cat output.json | jq -r \".document.text\""
   ]
  },
  {
   "cell_type": "markdown",
   "metadata": {},
   "source": [
    "This lists all of the text detected in the uploaded document.\n",
    "\n",
    "- Extract the list of form fields detected by the form processor:"
   ]
  },
  {
   "cell_type": "code",
   "execution_count": null,
   "metadata": {
    "vscode": {
     "languageId": "shellscript"
    }
   },
   "outputs": [],
   "source": [
    "cat output.json | jq -r \".document.pages[].formFields\""
   ]
  },
  {
   "cell_type": "markdown",
   "metadata": {},
   "source": [
    "This lists the object data for all of the form fields detected in the document. The textAnchor.startIndex and textAnchor.endIndex values for each form can be used to locate the names of the detected forms in the document.text field. The Python script that you will use in the next task will do this mapping for you.\n",
    "\n",
    "The JSON file is quite large as it includes the base64 encoded source document as well as all of the detected text and document properties. You can explore the JSON file by opening the file in a text editor or by using a JSON query tool like jq."
   ]
  },
  {
   "cell_type": "markdown",
   "metadata": {},
   "source": [
    "### Part 3. Test a Document AI form processor using the Python client libraries"
   ]
  },
  {
   "cell_type": "markdown",
   "metadata": {},
   "source": [
    "### Task 11. Configure your VM Instance to use the Document AI Python client\n"
   ]
  },
  {
   "cell_type": "markdown",
   "metadata": {},
   "source": [
    "Now install the Python Google Cloud client libraries into the VM Instance.\n",
    "\n",
    "- Enter the following command in the SSH terminal shell to import the lab files into your VM Instance:"
   ]
  },
  {
   "cell_type": "code",
   "execution_count": null,
   "metadata": {
    "vscode": {
     "languageId": "shellscript"
    }
   },
   "outputs": [],
   "source": [
    "gsutil cp gs://cloud-training/gsp924/synchronous_doc_ai.py ."
   ]
  },
  {
   "cell_type": "markdown",
   "metadata": {},
   "source": [
    "- Enter the following command to install the Python client libraries required for Document AI and the other libraries required for this lab:"
   ]
  },
  {
   "cell_type": "code",
   "execution_count": null,
   "metadata": {
    "vscode": {
     "languageId": "shellscript"
    }
   },
   "outputs": [],
   "source": [
    "python3 -m pip install --upgrade google-cloud-documentai google-cloud-storage prettytable "
   ]
  },
  {
   "cell_type": "markdown",
   "metadata": {},
   "source": [
    "### Task 12. Review the Document AI API Python code"
   ]
  },
  {
   "cell_type": "markdown",
   "metadata": {},
   "source": [
    "- The first two code blocks import the required libraries and parses parameters to initialize variables that identify the Document AI processor and input data.\n"
   ]
  },
  {
   "cell_type": "code",
   "execution_count": null,
   "metadata": {},
   "outputs": [],
   "source": [
    "import argparse\n",
    "from google.cloud import documentai_v1beta3 as documentai\n",
    "from google.cloud import storage\n",
    "from prettytable import PrettyTable\n",
    "parser = argparse.ArgumentParser()\n",
    "parser.add_argument(\"-P\", \"--project_id\", help=\"Google Cloud Project ID\")\n",
    "parser.add_argument(\"-D\", \"--processor_id\", help=\"Document AI Processor ID\")\n",
    "parser.add_argument(\"-F\", \"--file_name\", help=\"Input file name\", default=\"form.pdf\")\n",
    "parser.add_argument(\"-L\", \"--location\", help=\"Processor Location\", default=\"us\")\n",
    "args = parser.parse_args()"
   ]
  },
  {
   "cell_type": "markdown",
   "metadata": {},
   "source": [
    "- The process_document function is used to make a synchronous call to a Document AI processor. The function creates a Document AI API client object.\n"
   ]
  },
  {
   "cell_type": "markdown",
   "metadata": {},
   "source": [
    "The processor name required by the API call is created using the project_id,location, and processor_id parameters and the document to be processed is read in and stored in a mime_type structure.\n",
    "\n",
    "The processor name and the document are then passed to the Document API client object and a synchronous call to the API is made. If the request is successful the document object that is returned will include properties that contain the data that has been detected by the Document AI processor."
   ]
  },
  {
   "cell_type": "code",
   "execution_count": null,
   "metadata": {},
   "outputs": [],
   "source": [
    "def process_document(project_id, location, processor_id, file_path ):\n",
    "    # Instantiates a client\n",
    "    client = documentai.DocumentProcessorServiceClient()\n",
    "    # The full resource name of the processor, e.g.:\n",
    "    # projects/project-id/locations/location/processor/processor-id\n",
    "    # You must create new processors in the Cloud Console first\n",
    "    name = f\"projects/{project_id}/locations/{location}/processors/{processor_id}\"\n",
    "    # Read the file into memory\n",
    "    with open(file_path, \"rb\") as image:\n",
    "        image_content = image.read()\n",
    "        \n",
    "    # Create the document object \n",
    "    document = {\"content\": image_content, \"mime_type\": \"application/pdf\"}\n",
    "    # Configure the process request\n",
    "    request = {\"name\": name, \"document\": document}\n",
    "    # Use the Document AI client synchronous endpoint to process the request\n",
    "    result = client.process_document(request=request)\n",
    "    return result.document"
   ]
  },
  {
   "cell_type": "markdown",
   "metadata": {},
   "source": [
    "- The script then calls the process_document function with the required parameters and saves the response in the document variable.\n"
   ]
  },
  {
   "cell_type": "code",
   "execution_count": null,
   "metadata": {},
   "outputs": [],
   "source": [
    "document = process_document(args.project_id,args.location,args.processor_id,args.file_name )"
   ]
  },
  {
   "cell_type": "markdown",
   "metadata": {},
   "source": [
    "- The final block of code prints the .text property that contains all of the text detected in the document then displays the form information using the text anchor data for each of the form fields detected by the form parser.\n"
   ]
  },
  {
   "cell_type": "code",
   "execution_count": null,
   "metadata": {},
   "outputs": [],
   "source": [
    "print(\"Document processing complete.\")\n",
    "print(\"Text: {}\".format(document.document_text))\n",
    "# Define a function to retrieve an object dictionary for a named element\n",
    "def get_text(doc_element: dict, document: dict):\n",
    "    \"\"\"\n",
    "    Document AI identifies form fields by their offsets\n",
    "    in document text. This function converts offsets\n",
    "    to text snippets.\n",
    "    \"\"\"\n",
    "    response = \"\"\n",
    "    # If a text segment spans several lines, it will\n",
    "    # be stored in different text segments.\n",
    "    for segment in doc_element.text_anchor.text_segments:\n",
    "        start_index = (\n",
    "            int(segment.start_index)\n",
    "            if segment in doc_element.text_anchor.text_segments\n",
    "            else 0\n",
    "        )\n",
    "        end_index = int(segment.end_index)\n",
    "        response += document.text[start_index:end_index]\n",
    "    return response\n",
    "# Grab each key/value pair and their corresponding confidence scores.\n",
    "document_pages = document.pages\n",
    "print(\"Form data detected:\\n\")\n",
    "# For each page fetch each form field and display fieldname, value and confidence scores\n",
    "for page in document_pages:\n",
    "    print(\"Page Number:{}\".format(page.page_number))\n",
    "    for form_field in page.form_fields:\n",
    "        fieldName=get_text(form_field.field_name,document)\n",
    "        nameConfidence = round(form_field.field_name.confidence,4)\n",
    "        fieldValue = get_text(form_field.field_value,document)\n",
    "        valueConfidence = round(form_field.field_value.confidence,4)\n",
    "        print(fieldName+fieldValue +\"  (Confidence Scores: (Name) \"+str(nameConfidence)+\", (Value) \"+str(valueConfidence)+\")\\n\")"
   ]
  },
  {
   "cell_type": "markdown",
   "metadata": {},
   "source": [
    "### Task 13. Run the Document AI Python code\n"
   ]
  },
  {
   "cell_type": "markdown",
   "metadata": {},
   "source": [
    "Execute the sample code and process the same file as before.\n",
    "\n",
    "- Create environment variables for the Project ID and the IAM service account credentials file:"
   ]
  },
  {
   "cell_type": "code",
   "execution_count": null,
   "metadata": {
    "vscode": {
     "languageId": "shellscript"
    }
   },
   "outputs": [],
   "source": [
    "export PROJECT_ID=$(gcloud config get-value core/project)\n",
    "export GOOGLE_APPLICATION_CREDENTIALS=\"$PWD/key.json\""
   ]
  },
  {
   "cell_type": "markdown",
   "metadata": {},
   "source": [
    "- Call the synchronous_doc_ai.py python program with the parameters it requires:"
   ]
  },
  {
   "cell_type": "code",
   "execution_count": null,
   "metadata": {
    "vscode": {
     "languageId": "shellscript"
    }
   },
   "outputs": [],
   "source": [
    "python3 synchronous_doc_ai.py \\\n",
    "--project_id=$PROJECT_ID \\\n",
    "--processor_id=$PROCESSOR_ID \\\n",
    "--location=us \\\n",
    "--file_name=health-intake-form.pdf | tee results.txt"
   ]
  },
  {
   "cell_type": "markdown",
   "metadata": {},
   "source": [
    "You will see the following block of text output:\n",
    "\n",
    "FakeDoc M.D.\n",
    "HEALTH INTAKE FORM\n",
    "Please fill out the questionnaire carefully. The information you provide will be used to complete\n",
    "your health profile and will be kept confidential.\n",
    "Date:\n",
    "Sally\n",
    "Walker\n",
    "Name:\n",
    "9/14/19\n",
    "..."
   ]
  },
  {
   "cell_type": "markdown",
   "metadata": {},
   "source": [
    "The first block of text is a single text element containing all of the text in the document. This block of text does not include any awareness of form based data so some items, such as the Date and Name entries, are mixed together in this raw text value.\n",
    "\n",
    "The code then outputs a more structured view of the data using the form data that the form-parser has inferred from the document structure. This structured output also includes the confidence score for the form field names and values. The output from this section gives a much more useful mapping between the form field names and the values, as can be seen with the link between the Date and Name form fields and their correct values.\n",
    "\n"
   ]
  },
  {
   "cell_type": "markdown",
   "metadata": {},
   "source": [
    "Form data detected:\n",
    "Page Number:1\n",
    "Phone #: (906) 917-3486\n",
    "(Confidence Scores: (Name) 1.0, (Value) 1.0)\n",
    "...\n",
    "Date:\n",
    "9/14/19\n",
    "(Confidence Scores: (Name) 0.9999, (Value) 0.9999)\n",
    "...\n",
    "Name:\n",
    "Sally\n",
    "Walker\n",
    "(Confidence Scores: (Name) 0.9973, (Value) 0.9973)\n",
    "...\n"
   ]
  },
  {
   "cell_type": "markdown",
   "metadata": {},
   "source": [
    "***"
   ]
  },
  {
   "cell_type": "markdown",
   "metadata": {},
   "source": [
    "**<center><font size = \"6\">Process Documents with Python Using the Document AI API<center>**\n",
    "***"
   ]
  },
  {
   "cell_type": "markdown",
   "metadata": {},
   "source": [
    "### Task 1. Create and test a general form processor"
   ]
  },
  {
   "cell_type": "markdown",
   "metadata": {},
   "source": [
    "#### Enable the Cloud Document AI API"
   ]
  },
  {
   "cell_type": "markdown",
   "metadata": {},
   "source": [
    "Before you can begin using Document AI, you must enable the API.\n",
    "\n",
    "- In Cloud Console, from the Navigation menu (Navigation menu icon), click APIs & services > Library.\n",
    "\n",
    "- Search for Cloud Document AI API, then click the Enable button to use the API in your Google Cloud project.\n",
    "\n",
    "If the Cloud Document AI API is already enabled you will see the Manage button and you can continue with the rest of the lab."
   ]
  },
  {
   "cell_type": "markdown",
   "metadata": {},
   "source": [
    "#### Create a general form processor"
   ]
  },
  {
   "cell_type": "markdown",
   "metadata": {},
   "source": [
    "Create a Document AI processor using the Document AI form parser.\n",
    "\n",
    "- In the console, on the Navigation menu (Navigation menu icon), click Document AI > Overview.\n",
    "\n",
    "- Click Create processor and select Form Parser, which is a type of general processor.\n",
    "\n",
    "- Specify the processor name as form-parser and select the region US (United States) from the list.\n",
    "\n",
    "- Click Create to create the general form-parser processor.\n",
    "\n",
    "This will create the processor and return to the processor details page that will display the processor ID, status, and the prediction endpoint.\n",
    "\n",
    "- Make a note of the Processor ID as you will need to update variables in JupyterLab notebooks with the Processor ID in later tasks."
   ]
  },
  {
   "cell_type": "markdown",
   "metadata": {},
   "source": [
    "### Task 2. Configure your Vertex AI Notebooks instance to perform Document AI API calls\n"
   ]
  },
  {
   "cell_type": "markdown",
   "metadata": {},
   "source": [
    "Next you will connect to JupyterLab running on the Vertex AI Notebooks instance that was created for you when the lab was started and then configure that environment for the remaining lab tasks.\n",
    "\n",
    "- In the Cloud Console, on the Navigation menu, click Vertex AI > Workbench.\n",
    "\n",
    "- Click Open Jupyterlab to open the JupyterLab console on your Vertex AI Notebooks instance.\n",
    "\n",
    "- Click Terminal to open a terminal shell inside the Vertex AI Notebooks instance.\n",
    "\n",
    "- Enter the following command in the terminal shell to import the lab files into your Vertex AI Notebooks instance:"
   ]
  },
  {
   "cell_type": "code",
   "execution_count": null,
   "metadata": {
    "vscode": {
     "languageId": "shellscript"
    }
   },
   "outputs": [],
   "source": [
    "gsutil cp gs://cloud-training/gsp925/*.ipynb ."
   ]
  },
  {
   "cell_type": "markdown",
   "metadata": {},
   "source": [
    "- Enter the following command in the terminal shell to install the Python client libraries required for Document AI and other required libraries:\n"
   ]
  },
  {
   "cell_type": "code",
   "execution_count": null,
   "metadata": {},
   "outputs": [],
   "source": [
    "python -m pip install --upgrade google-cloud-core google-cloud-documentai google-cloud-storage prettytable "
   ]
  },
  {
   "cell_type": "markdown",
   "metadata": {},
   "source": [
    "You should see output indicating that the libraries have been installed successfully.\n",
    "\n",
    "- Enter the following command in the terminal shell to import the sample health intake form:"
   ]
  },
  {
   "cell_type": "code",
   "execution_count": null,
   "metadata": {
    "vscode": {
     "languageId": "shellscript"
    }
   },
   "outputs": [],
   "source": [
    "gsutil cp gs://cloud-training/gsp925/health-intake-form.pdf form.pdf"
   ]
  },
  {
   "cell_type": "markdown",
   "metadata": {},
   "source": [
    "- In the notebook interface open the JupyterLab notebook called documentai-sync.ipynb."
   ]
  },
  {
   "cell_type": "markdown",
   "metadata": {},
   "source": [
    "### Task 3. Make a synchronous process document request"
   ]
  },
  {
   "cell_type": "markdown",
   "metadata": {},
   "source": [
    "#### Review the Python code for synchronous Document AI API calls"
   ]
  },
  {
   "cell_type": "markdown",
   "metadata": {},
   "source": [
    "Take a minute to review the Python code in the documentai-sync.ipynb notebook.\n",
    "\n",
    "The first code block imports the required libraries and initializes some variables."
   ]
  },
  {
   "cell_type": "code",
   "execution_count": null,
   "metadata": {},
   "outputs": [],
   "source": [
    "from google.cloud import documentai_v1beta3 as documentai\n",
    "from google.cloud import storage\n",
    "from prettytable import PrettyTable\n",
    "project_id = %system gcloud config get-value core/project\n",
    "project_id = project_id[0]\n",
    "location = 'us'           \n",
    "file_path = 'form.pdf'    "
   ]
  },
  {
   "cell_type": "markdown",
   "metadata": {},
   "source": [
    "The Set your Processor ID code cell sets the Processor ID that you have to manually set before you can process documents with the notebook."
   ]
  },
  {
   "cell_type": "code",
   "execution_count": null,
   "metadata": {},
   "outputs": [],
   "source": [
    "processor_id = 'PROCESSOR_ID' # TODO: Replace with a valid Processor ID   "
   ]
  },
  {
   "cell_type": "markdown",
   "metadata": {},
   "source": [
    "The Process Document Function code cell defines the process_document function that is used to make a synchronous call to a Document AI processor. The function creates a Document AI API client object.\n",
    "\n",
    "The processor name required by the API call is created using the project_id,locations, and processor_id parameters and the sample PDF document is read in and stored in a mime_type structure.\n",
    "\n",
    "The function creates a request object that contains the full processor name of the document and uses that object as the parameter for a synchronous call to the Document AI API client. If the request is successful the document object that is returned will include properties that contain the entities detected in the form."
   ]
  },
  {
   "cell_type": "code",
   "execution_count": null,
   "metadata": {},
   "outputs": [],
   "source": [
    "def process_document(\n",
    "            project_id=project_id, location=location,\n",
    "            processor_id=processor_id,  file_path=file_path \n",
    "    ):\n",
    "    # Instantiates a client\n",
    "    client = documentai.DocumentProcessorServiceClient()\n",
    "    # The full resource name of the processor, e.g.:\n",
    "    # projects/project-id/locations/location/processor/processor-id\n",
    "    # You must create new processors in the Cloud Console first\n",
    "    name = f\"projects/{project_id}/locations/{location}/processors/{processor_id}\"\n",
    "    with open(file_path, \"rb\") as image:\n",
    "        image_content = image.read()\n",
    "    # Read the file into memory\n",
    "    document = {\"content\": image_content, \"mime_type\": \"application/pdf\"}\n",
    "    # Configure the process request\n",
    "    request = {\"name\": name, \"document\": document}\n",
    "    # Use the Document AI client to process the sample form\n",
    "    result = client.process_document(request=request)\n",
    "    return result.document"
   ]
  },
  {
   "cell_type": "markdown",
   "metadata": {},
   "source": [
    "The Process Document code cell calls the process_document function, saves the response in the document variable, and prints the raw text that has been detected. All of the processors will report some data for the document.text property."
   ]
  },
  {
   "cell_type": "code",
   "execution_count": null,
   "metadata": {},
   "outputs": [],
   "source": [
    "document=process_document()\n",
    "# print all detected text. \n",
    "# All document processors will display the text content\n",
    "print(\"Document processing complete.\")\n",
    "print(\"Text: {}\".format(document.text))"
   ]
  },
  {
   "cell_type": "markdown",
   "metadata": {},
   "source": [
    "The Get Text Function code cell defines the get_text() function that retrieves the text for a named element using the text_anchor start_index and end_index properties of the named element's text_segments. This function is used to retrieve the form name and form value for form data if that data is returned by the processor."
   ]
  },
  {
   "cell_type": "code",
   "execution_count": null,
   "metadata": {},
   "outputs": [],
   "source": [
    "def get_text(doc_element: dict, document: dict):\n",
    "    \"\"\"\n",
    "    Document AI identifies form fields by their offsets\n",
    "    in document text. This function converts offsets\n",
    "    to text snippets.\n",
    "    \"\"\"\n",
    "    response = \"\"\n",
    "    # If a text segment spans several lines, it will\n",
    "    # be stored in different text segments.\n",
    "    for segment in doc_element.text_anchor.text_segments:\n",
    "        start_index = (\n",
    "            int(segment.start_index)\n",
    "            if segment in doc_element.text_anchor.text_segments\n",
    "            else 0\n",
    "        )\n",
    "        end_index = int(segment.end_index)\n",
    "        response += document.text[start_index:end_index]\n",
    "    return response"
   ]
  },
  {
   "cell_type": "markdown",
   "metadata": {},
   "source": [
    "The Display Form Data cell iterates over all pages that have been detected and for each form_field detected it uses the get_text() function to retrieve the field name and field value. Those values are then printed out, along with their corresponding confidence scores. Form data will be returned by processors that use the general form parser or the specialized parsers but will not be returned by processors that were created with the Document OCR parser."
   ]
  },
  {
   "cell_type": "code",
   "execution_count": null,
   "metadata": {},
   "outputs": [],
   "source": [
    "document_pages = document.pages\n",
    "    print(\"Form data detected:\\n\")\n",
    "    # For each page fetch each form field and display fieldname, value and confidence scores\n",
    "    for page in document_pages:\n",
    "        print(\"Page Number:{}\".format(page.page_number))\n",
    "        for form_field in page.form_fields:\n",
    "            fieldName=get_text(form_field.field_name,document)\n",
    "            nameConfidence = round(form_field.field_name.confidence,4)\n",
    "            fieldValue = get_text(form_field.field_value,document)\n",
    "            valueConfidence = round(form_field.field_value.confidence,4)\n",
    "            print(fieldName+fieldValue +\"  (Confidence Scores: (Name) \"+str(nameConfidence)+\", (Value) \"+str(valueConfidence)+\")\\n\")"
   ]
  },
  {
   "cell_type": "markdown",
   "metadata": {},
   "source": [
    "The Display Entity Data cell extracts entity data from the document object and displays the entity type, value, and confidence properties for each entity detected. Entity data is only returned by processors that use specialized Document AI parsers such as the Procurement Expense parser. The general form parser and the Document OCR parser will not return entity data."
   ]
  },
  {
   "cell_type": "code",
   "execution_count": null,
   "metadata": {},
   "outputs": [],
   "source": [
    "if 'entities' in dir(document):\n",
    "        entities = document.entities\n",
    "        # Grab each key/value pair and their confidence scores.\n",
    "        table = PrettyTable(['Type', 'Value', 'Confidence'])\n",
    "        for entity in entities:\n",
    "        entity_type = entity.type_\n",
    "        value = entity.mention_text\n",
    "        confience = round(entity.confidence,4)\n",
    "        table.add_row([entity_type, value, confience])\n",
    "        print(table)\n",
    "    else:\n",
    "        print(\"Document does not contain entity data.\")"
   ]
  },
  {
   "cell_type": "markdown",
   "metadata": {},
   "source": [
    "### Task 4. Run the synchronous Document AI Python code\n"
   ]
  },
  {
   "cell_type": "markdown",
   "metadata": {},
   "source": [
    "Execute the code to make synchronous calls to the Document AI API in the JupyterLab notebook.\n",
    "\n",
    "- In the second Set your Processor ID code cell replace the PROCESSOR_ID placeholder text with the Processor ID for the form-parser processor you created in an earlier step.\n",
    "\n",
    "- Select the first cell, click the Run menu and then click Run Selected Cell and All Below to run all the code in the notebook.\n",
    "\n",
    "If you have used the sample health intake form, you will data similar to the following for the output cell for the form data:"
   ]
  },
  {
   "cell_type": "markdown",
   "metadata": {},
   "source": [
    "Form data detected:\n",
    "Page Number:1\n",
    "Phone #: (906) 917-3486\n",
    "  (Confidence Scores: (Name) 1.0, (Value) 1.0)\n",
    "...\n",
    "Date:\n",
    "9/14/19\n",
    "  (Confidence Scores: (Name) 0.9999, (Value) 0.9999)\n",
    "...\n",
    "Name:\n",
    "Sally\n",
    "Walker\n",
    "  (Confidence Scores: (Name) 0.9973, (Value) 0.9973)\n",
    "  ..."
   ]
  },
  {
   "cell_type": "markdown",
   "metadata": {},
   "source": [
    "If you are able to create a specialised processor the final cell will display entity data, otherwise it will show an empty table.\n",
    "\n",
    "- In the JupyterLab menu click File and then click Save Notebook to save your progress."
   ]
  },
  {
   "cell_type": "markdown",
   "metadata": {},
   "source": [
    "### Task 5. Create a Document AI Document OCR processor"
   ]
  },
  {
   "cell_type": "markdown",
   "metadata": {},
   "source": [
    "In this task you will create a Document AI processor using the general Document OCR parser.\n",
    "\n",
    "- In the Cloud Console, on the Navigation menu, click Document AI > Overview.\n",
    "\n",
    "- Click Create Processor and then select Document OCR. This is a type of general processor.\n",
    "\n",
    "- Specify the processor name as ocr-processor and select the region US (United States) from the list.\n",
    "\n",
    "- Click Create to create your processor.\n",
    "\n",
    "- Make a note of the processor ID. You will use need to specify this in a later task."
   ]
  },
  {
   "cell_type": "markdown",
   "metadata": {},
   "source": [
    "### Task 6. Prepare your environment for asynchronous Document AI API calls\n"
   ]
  },
  {
   "cell_type": "markdown",
   "metadata": {},
   "source": [
    "In this task you upload the sample JupyterLab notebook to test asynchronous Document AI API calls and copy some sample forms for the lab to Cloud Storage for asynchronous processing.\n",
    "\n",
    "- Click the Terminal tab to re-open the terminal shell inside the Vertex AI Notebooks instance.\n",
    "\n",
    "- Create a Cloud Storage bucket for the input documents and copy the sample W2 forms into the bucket:"
   ]
  },
  {
   "cell_type": "code",
   "execution_count": null,
   "metadata": {
    "vscode": {
     "languageId": "shellscript"
    }
   },
   "outputs": [],
   "source": [
    "    export PROJECT_ID=\"$(gcloud config get-value core/project)\"\n",
    "    export BUCKET=\"${PROJECT_ID}\"_doc_ai_async\n",
    "    gsutil mb gs://${BUCKET}\n",
    "    gsutil -m cp gs://cloud-training/gsp925/async/*.* gs://${BUCKET}/input"
   ]
  },
  {
   "cell_type": "markdown",
   "metadata": {},
   "source": [
    "- In the notebook interface open the JupyterLab notebook called documentai-async.ipynb."
   ]
  },
  {
   "cell_type": "markdown",
   "metadata": {},
   "source": [
    "### Task 7. Make an asynchronous process document request\n"
   ]
  },
  {
   "cell_type": "markdown",
   "metadata": {},
   "source": [
    "#### Review the Python code for asynchronous Document AI API calls"
   ]
  },
  {
   "cell_type": "markdown",
   "metadata": {},
   "source": [
    "Take a minute to review the Python code in the documentai-async.ipynb notebook.\n",
    "\n",
    "The first code cell imports the required libraries."
   ]
  },
  {
   "cell_type": "code",
   "execution_count": null,
   "metadata": {},
   "outputs": [],
   "source": [
    "from google.cloud import documentai_v1beta3 as documentai\n",
    "from google.cloud import storage\n",
    "import re\n",
    "import os\n",
    "import pandas as pd\n",
    "import simplejson as json"
   ]
  },
  {
   "cell_type": "markdown",
   "metadata": {},
   "source": [
    "The Set your Processor ID code cell sets the Processor ID that you have to manually set before you can process documents with the notebook."
   ]
  },
  {
   "cell_type": "code",
   "execution_count": null,
   "metadata": {},
   "outputs": [],
   "source": [
    "processor_id = \"PROCESSOR_ID\"  # TODO: Replace with a valid Processor ID"
   ]
  },
  {
   "cell_type": "markdown",
   "metadata": {},
   "source": [
    "The Set your variables code cell defines the parameters that will be used to make the asynchronous call, including the location of the input and output Cloud Storage buckets that will be used for the source data and output files. You will update the placeholder values in this cell for the PROJECT_ID and the PROCESSOR_ID in the next section of the lab before you run the code. The other variables contain defaults for the processor location, input Cloud Storage Bucket, and output Cloud Storage bucket that you do not need to change."
   ]
  },
  {
   "cell_type": "code",
   "execution_count": null,
   "metadata": {},
   "outputs": [],
   "source": [
    "project_id = %system gcloud config get-value core/project\n",
    "project_id = project_id[0]\n",
    "location = 'us'           # Replace with 'eu' if processor does not use 'us' location\n",
    "gcs_input_bucket  = project_id+\"_doc_ai_async\"   # Bucket name only, no gs:// prefix\n",
    "gcs_input_prefix  = \"input/\"                     # Input bucket folder e.g. input/\n",
    "gcs_output_bucket = project_id+\"_doc_ai_async\"   # Bucket name only, no gs:// prefix\n",
    "gcs_output_prefix = \"output/\"                    # Input bucket folder e.g. output/\n",
    "timeout = 300"
   ]
  },
  {
   "cell_type": "markdown",
   "metadata": {},
   "source": [
    "The Define Google Cloud client objects code cell initializes the Document AI and Cloud Storage clients."
   ]
  },
  {
   "cell_type": "code",
   "execution_count": null,
   "metadata": {},
   "outputs": [],
   "source": [
    "client_options = {\"api_endpoint\": \"{}-documentai.googleapis.com\".format(location)}\n",
    "client = documentai.DocumentProcessorServiceClient(client_options=client_options)\n",
    "storage_client = storage.Client()"
   ]
  },
  {
   "cell_type": "markdown",
   "metadata": {},
   "source": [
    "The Create input configuration code cell creates the input configuration array parameter for the source data that will be passed to the asynchronous Document AI request as an input configuration. This array stores the Cloud Storage source location, and the mime type, for each of the files that are found in the input Cloud Storage location."
   ]
  },
  {
   "cell_type": "code",
   "execution_count": null,
   "metadata": {},
   "outputs": [],
   "source": [
    "blobs = storage_client.list_blobs(gcs_input_bucket, prefix=gcs_input_prefix)\n",
    "input_configs = []\n",
    "print(\"Input Files:\")\n",
    "for blob in blobs:\n",
    "    if \".pdf\" in blob.name:\n",
    "        source = \"gs://{bucket}/{name}\".format(bucket = gcs_input_bucket, name = blob.name)\n",
    "        print(source)\n",
    "        input_config = documentai.types.document_processor_service.BatchProcessRequest.BatchInputConfig(\n",
    "            gcs_source=source, mime_type=\"application/pdf\"\n",
    "        )\n",
    "        input_configs.append(input_config)"
   ]
  },
  {
   "cell_type": "markdown",
   "metadata": {},
   "source": [
    "The Create output configuration code cell creates the output parameter for the asynchronous request containing the output Cloud Storage bucket location and stores that as a Document AI batch output configuration."
   ]
  },
  {
   "cell_type": "code",
   "execution_count": null,
   "metadata": {},
   "outputs": [],
   "source": [
    "destination_uri = f\"gs://{gcs_output_bucket}/{gcs_output_prefix}\"\n",
    "output_config = documentai.types.document_processor_service.BatchProcessRequest.BatchOutputConfig(\n",
    "    gcs_destination=destination_uri\n",
    ")"
   ]
  },
  {
   "cell_type": "markdown",
   "metadata": {},
   "source": [
    "The Create the Document AI API request code cell builds the asynchronous Document AI batch process request object using the input and output configuration objects."
   ]
  },
  {
   "cell_type": "code",
   "execution_count": null,
   "metadata": {},
   "outputs": [],
   "source": [
    "name = f\"projects/{project_id}/locations/{location}/processors/{processor_id}\"\n",
    "request = documentai.types.document_processor_service.BatchProcessRequest(\n",
    "    name=name,\n",
    "    input_configs=input_configs,\n",
    "    output_config=output_config,\n",
    ")"
   ]
  },
  {
   "cell_type": "markdown",
   "metadata": {},
   "source": [
    "The Start the batch (asynchronous) API operation code cell makes an asynchronous document process request by passing the request object to the batch_process_documents() method. This is an asynchronous call so you use the result() method to force the notebook to wait until the background asynchronous job has completed."
   ]
  },
  {
   "cell_type": "code",
   "execution_count": null,
   "metadata": {},
   "outputs": [],
   "source": [
    "operation = client.batch_process_documents(request)\n",
    "# Wait for the operation to finish\n",
    "operation.result(timeout=timeout)\n",
    "print (\"Batch process  completed.\")"
   ]
  },
  {
   "cell_type": "markdown",
   "metadata": {},
   "source": [
    "The Fetch list of output files cell enumerates the objects in the output bucket location as defined in the destination_uri variable.\n",
    "\n",
    "The Display detected text from asynchronous output JSON files cell loads each output JSON file that is found as a Document AI document object and the text data detected by the Document OCR processor is printed out.\n",
    "\n",
    "The Display entity data cell will display any entity data that is found, however, entity data is only available for processors that were created using a specialized parser. Entity data will not be displayed with the general Document AI OCR parser used in this task.\n",
    "\n"
   ]
  },
  {
   "cell_type": "markdown",
   "metadata": {},
   "source": [
    "#### Run the asynchronous Document AI Python code\n"
   ]
  },
  {
   "cell_type": "markdown",
   "metadata": {},
   "source": [
    "Use the sample code provided for you in the Jupyterlab notebook to process documents asynchronously using a Document AI batch processing request.\n",
    "\n",
    "- In the second code cell replace the PROCESSOR_ID placeholder text with the Processor ID for the form-parser processor you created in an earlier step.\n",
    "\n",
    "- Select the first cell, click the Run menu and then click Run Selected Cell and All Below to run all the code in the notebook.\n",
    "\n",
    "- As the code cells execute, you can step through the notebook reviewing the code and the comments that explain how the asynchronous request object is created and used."
   ]
  },
  {
   "cell_type": "markdown",
   "metadata": {},
   "source": [
    "The notebook will take a minute or two to wait for the asynchronous batch process operation to complete at the Start the batch (asynchronous) API operation code cell. While the batch process API call itself is asynchronous the notebook uses the result method to force the notebook to wait until the asynchronous call has completed before enumerating and displaying the output data.\n",
    "\n",
    "If the asynchronous job takes longer than expected and times out you may have to run the remaining cells again to display the output. These are the cells after the Start the batch (asynchronous) API operation cell.\n",
    "\n",
    "Your output will contain text listing the Document AI data detected in each file. The Document OCR parser does not detect form or entity data so there will be no form or entity data produced. If you can create a specialised processor then you will also see entity data printed out by the final cell.\n",
    "\n",
    "- In the JupyterLab menu click File and then click Save Notebook to save your progress."
   ]
  },
  {
   "cell_type": "markdown",
   "metadata": {},
   "source": [
    "Document processing complete.\n",
    "Text: FakeDoc M.D.\n",
    "HEALTH INTAKE FORM\n",
    "Please fill out the questionnaire carefully. The information you provide will be used to complete\n",
    "your health profile and will be kept confidential.\n",
    "Date:\n",
    "Sally\n",
    "Walker\n",
    "Name:\n",
    "9/14/19\n",
    "..."
   ]
  },
  {
   "cell_type": "markdown",
   "metadata": {},
   "source": [
    "***"
   ]
  },
  {
   "cell_type": "markdown",
   "metadata": {},
   "source": [
    "**<center><font size = \"6\">Process Documents with Python Using the Document AI API<center>**\n",
    "***"
   ]
  },
  {
   "cell_type": "markdown",
   "metadata": {},
   "source": []
  }
 ],
 "metadata": {
  "kernelspec": {
   "display_name": "Python 3.9.9 64-bit",
   "language": "python",
   "name": "python3"
  },
  "language_info": {
   "name": "python",
   "version": "3.9.9"
  },
  "orig_nbformat": 4,
  "vscode": {
   "interpreter": {
    "hash": "aee8b7b246df8f9039afb4144a1f6fd8d2ca17a180786b69acc140d282b71a49"
   }
  }
 },
 "nbformat": 4,
 "nbformat_minor": 2
}
