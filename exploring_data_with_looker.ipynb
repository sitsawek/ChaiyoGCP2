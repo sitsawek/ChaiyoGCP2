{
 "cells": [
  {
   "cell_type": "markdown",
   "metadata": {},
   "source": [
    "***"
   ]
  },
  {
   "cell_type": "markdown",
   "metadata": {},
   "source": [
    "**<center><font size = \"6\">Exploring Data with Looker<center>**\n",
    "***\n",
    "<center><font size = \"2\">Prepared by: Sitsawek Sukorn<center>"
   ]
  },
  {
   "cell_type": "markdown",
   "metadata": {},
   "source": [
    "## Looker Data Explorer - Qwik Start"
   ]
  },
  {
   "cell_type": "markdown",
   "metadata": {},
   "source": [
    "### Task 1. Visualize your first Measure"
   ]
  },
  {
   "cell_type": "markdown",
   "metadata": {},
   "source": [
    "Looker Measures are an aggregation of one or more dimensions (or unique attributes of the data). Measures let you calculate your Key Performance Indicators (KPIs) and help you analyze your data using different attributes.\n",
    "\n",
    "In the Airports Explore, you will determine the average elevation across all airport facilities and show that number as a single value visualization.\n",
    "\n",
    "- In the Looker navigation menu, click Explore.\n",
    "\n",
    "- Under FAA, click Airports.\n",
    "\n",
    "The available dimensions and measures will be listed in the data panel for Airports.\n",
    "\n",
    "- Under Airports > Measures, click Average elevation.\n",
    "\n",
    "- Click Run.\n",
    "\n",
    "- Click the arrow next to Visualization to expand the window.\n",
    "\n",
    "Once the Visualization window has expanded, you can hover your cursor over the icons to identify the available options.\n",
    "\n",
    "- Click the Single value icon.\n",
    "\n",
    "This option creates a single value visualization that you can customize. You can also make the chart larger by collapsing the data window.\n",
    "\n",
    "- Click on the settings gear icon (settings gear icon) for Visualization.\n",
    "\n",
    "- Click Edit > Style.\n",
    "\n",
    "- Under Style, click on Value color, and select your choice of color.\n",
    "\n",
    "- Under Style, enable Show title, and provide a title in Title override box.\n",
    "\n",
    "- Click on the gear icon for Visualization to close the settings.\n",
    "\n",
    "- Click on the settings gear icon (settings gear icon) next to Run, and select Save > To an existing dashboard.\n",
    "\n",
    "- Enter a title for the visualization: Average elevation.\n",
    "\n",
    "- Click New Dashboard.\n",
    "\n",
    "- Enter a title for the new dashboard: Airports/Flights.\n",
    "\n",
    "- Click OK.\n",
    "\n",
    "- Click Save to Dashboard."
   ]
  },
  {
   "cell_type": "markdown",
   "metadata": {},
   "source": [
    "### Task 2. Visualize dimensions and measures\n",
    "Dimensions are unique attributes of the data that helps you describe the data. For example, in the Airports explore, the location of the airport, city, elevation levels, etc., are different dimensions. You can use both Dimensions and Measures in Looker to slice and dice your data to achieve data insights.\n",
    "\n",
    "Next, identify the top 5 Facility Types with the highest average elevation and display the results as a bar chart. You will show the total number of airport facilities by Facility Type in the same chart.\n",
    "\n",
    "- On the Looker navigation menu, click Explore.\n",
    "\n",
    "- Under FAA, click Airports.\n",
    "\n",
    "The available dimensions and measures will be listed in the data panel for Airports.\n",
    "\n",
    "- Under Airports > Dimensions, click Facility type.\n",
    "\n",
    "- Under Airports > Measures, click Average Elevation.\n",
    "\n",
    "- Under Airports > Measures, click Count.\n",
    "\n",
    "- On the Data tab, change Row limit to 5.\n",
    "\n",
    "- Click Run.\n",
    "\n",
    "- Click the arrow next to Visualization to expand the window.\n",
    "\n",
    "Once the Visualization window has expanded, you can hover your cursor over the icons to identify the available options.\n",
    "\n",
    "- Click the Bar icon.\n",
    "\n",
    "This option creates a horizontal bar visualization that you can customize. You can also make the chart larger by collapsing the data window.\n",
    "\n",
    "- Click on the settings gear icon (settings gear icon) for Visualization.\n",
    "\n",
    "- Click Values.\n",
    "\n",
    "- Under Values, enable Value labels.\n",
    "\n",
    "- Click Y.\n",
    "\n",
    "- Under Y, click on Airports and drag it under Top Axes.\n",
    "\n",
    "Average elevation will remain under Bottom Axes.\n",
    "\n",
    "- Under Configure axes > Top 1, enter an Axis name: Count\n",
    "\n",
    "- Click on the gear icon for Visualization to close the settings.\n",
    "\n",
    "- Click on settings gear icon (settings gear icon) next to Run, and select Save > To an existing dashboard.\n",
    "\n",
    "- Enter a title for the visualization: Average elevation by facility type.\n",
    "\n",
    "- Select the dashboard you previously created: Airports/Flights.\n",
    "\n",
    "- Click Save to Dashboard."
   ]
  },
  {
   "cell_type": "markdown",
   "metadata": {},
   "source": [
    "***"
   ]
  },
  {
   "cell_type": "markdown",
   "metadata": {},
   "source": [
    "**<center><font size = \"6\">Filtering and Sorting Data in Looker<center>**\n",
    "***"
   ]
  },
  {
   "cell_type": "markdown",
   "metadata": {},
   "source": [
    "### Task 1. Working with dimensions & filters\n"
   ]
  },
  {
   "cell_type": "markdown",
   "metadata": {},
   "source": [
    "In this section, you will find the number of flights that were cancelled each week in the year 2004 and display the resulting data points in a line chart.\n",
    "\n",
    "- In the Looker navigation menu, click Explore.\n",
    "\n",
    "- Under FAA, click Flights.\n",
    "\n",
    "- Under Flight Details > Measures, click Cancelled Count.\n",
    "\n",
    "- Under Flights > Dimensions > Depart Date, click Week.\n",
    "\n",
    "- Within the Depart Date dimension group, click on the Filter button next to the Date dimension.\n",
    "\n",
    "- In the filter window, set the Depart Date filter to: is in the year 2004.\n",
    "\n",
    "- Click Run.\n",
    "\n",
    "- Click the arrow next to Visualization to expand the window.\n",
    "\n",
    "Once the Visualization window has expanded, you can hover your cursor over the icons to identify the available options.\n",
    "\n",
    "- Change visualization type to Line.\n",
    "\n",
    "- Click on the settings gear icon for Visualization.\n",
    "\n",
    "- Click Edit > Series.\n",
    "\n",
    "- Under Colors > Collection, select your choice of theme/color.\n",
    "\n",
    "- Under Point Style, click on Outline.\n",
    "\n",
    "- Navigate to the Y menu of the visualization setting pane, scroll down to the bottom, and click on the Add Reference Line button. Ensure that the type is set to “Line” and that the value is set to “Average (Mean)”.\n",
    "\n",
    "- Click on the gear icon for Visualization to close the settings.\n",
    "\n",
    "- Click on the settings gear icon next to Run, and select Save > As a Look.\n",
    "\n",
    "- Title the Look Cancelled Flight Count by Week in 2004.\n",
    "\n",
    "- Click Save."
   ]
  },
  {
   "cell_type": "markdown",
   "metadata": {},
   "source": [
    "### Task 2. Working with filters"
   ]
  },
  {
   "cell_type": "markdown",
   "metadata": {},
   "source": [
    "In this section, you will create a table visualization that shows the Count of Long Flights and the Total Distance flown by Carrier, but only for Carriers with a Percentage of Long Flights <= 25%.\n",
    "\n",
    "- In the Looker navigation menu, click Explore.\n",
    "\n",
    "- Under FAA, click Flights.\n",
    "\n",
    "- Under Flights > Measures, click Count Long Flight.\n",
    "\n",
    "- Under Flights > Measures, click Total Distance.\n",
    "\n",
    "- Under Carriers > Dimensions, click Name.\n",
    "\n",
    "- Under Flights > Measures, click on the Filter button next to the Percentage Long Flights measure.\n",
    "\n",
    "- In the filter window, set the filter to: is less than or equal to .25.\n",
    "\n",
    "- Click Run.\n",
    "\n",
    "- Click the arrow next to Visualization to expand the window.\n",
    "\n",
    "Once the Visualization window has expanded, you can hover your cursor over the icons to identify the available options.\n",
    "\n",
    "- Change visualization type to Table.\n",
    "\n",
    "- Click on the settings gear icon for Visualization.\n",
    "\n",
    "- Click Edit > Plot.\n",
    "\n",
    "- Select “Gray” for the Table Theme.\n",
    "\n",
    "- Toggle Show Row Numbers off.\n",
    "\n",
    "- Click on the gear icon for Visualization to close the settings.\n",
    "\n",
    "- Click on the settings gear icon next to Run, and select Save > As a Look.\n",
    "\n",
    "- Title the Look Total Distance and Long Flight Count by Carrier.\n",
    "\n",
    "- Click Save."
   ]
  },
  {
   "cell_type": "markdown",
   "metadata": {},
   "source": [
    "### Task 3. Add Looks to a dashboard\n"
   ]
  },
  {
   "cell_type": "markdown",
   "metadata": {},
   "source": [
    "In this section, you will add your newly created Looks to a Dashboard and visualize them side-by-side.\n",
    "\n",
    "- In the Looker navigation menu, click Folders.\n",
    "\n",
    "- Select My folder.\n",
    "\n",
    "You should see the Looks you just created.\n",
    "\n",
    "- Click the Cancelled Flight Count by Week in 2004 Look.\n",
    "\n",
    "- Click on the settings gear icon next to Run, and select Save > To an existing dashboard.\n",
    "\n",
    "- Click New Dashboard.\n",
    "\n",
    "- Enter a title for the new dashboard: Flights Data.\n",
    "\n",
    "- Click Add Look to Dashboard.\n",
    "\n",
    "You will now repeat the same process for the second Look you created.\n",
    "\n",
    "- Navigate back to Folders > My folder.\n",
    "\n",
    "- Click the Total Distance and Long Flight Count by Carrier Look.\n",
    "\n",
    "- Click on the settings gear icon next to Run, and select Save > To an existing dashboard.\n",
    "\n",
    "- Select the dashboard you previously created: Flights Data.\n",
    "\n",
    "- Click Add Look to Dashboard.\n",
    "\n",
    "Now that you've added both Looks to your new dashboard, you can view it.\n",
    "\n",
    "- Navigate back to Folders > My folder.\n",
    "\n",
    "- Under Dashboards, select Flights Data."
   ]
  },
  {
   "cell_type": "markdown",
   "metadata": {},
   "source": [
    "***"
   ]
  },
  {
   "cell_type": "markdown",
   "metadata": {},
   "source": [
    "**<center><font size = \"6\">Merging Results from Different Explores in Looker<center>**\n",
    "***"
   ]
  },
  {
   "cell_type": "markdown",
   "metadata": {},
   "source": [
    "### Create a Primary Query\n"
   ]
  },
  {
   "cell_type": "markdown",
   "metadata": {},
   "source": [
    "To merge the results from multiple queries, you start with a beginning query, which is considered the primary query.\n",
    "\n",
    "- In the Looker navigation menu, click Explore. Under FAA, click Flights.\n",
    "\n",
    "- In the left pane, under All Fields, expand Flight Details.\n",
    "\n",
    "- Click Carrier and Flight Num.\n",
    "\n",
    "You can reorder selected fields in the right pane by dragging and dropping the field name.\n",
    "\n",
    "- Expand Aircraft Origin and click City.\n",
    "\n",
    "- In MEASURES, click Cancelled Count.\n",
    "\n",
    "- Expand Arrival Date, hover over Year, and click Filter by field.\n",
    "\n",
    "- In the Filters pane, set Flights Details Arrival Year to is in the year, and enter 2000.\n",
    "\n",
    "- Click Run to see the results of the primary query."
   ]
  },
  {
   "cell_type": "markdown",
   "metadata": {},
   "source": [
    "### Add the Next Source Query"
   ]
  },
  {
   "cell_type": "markdown",
   "metadata": {},
   "source": [
    "Once you've created your primary query, you can add another source query. Now that we have flight data, let's merge it with airport information for the flight airport of origin.\n",
    "\n",
    "- In the top right pane of the Explore for your primary query, click the gear icon.\n",
    "\n",
    "- Click Merge Results. This will open the Choose an Explore window.\n",
    "\n",
    "Looker opens the Explore in the Edit Query window, where you can build the new query to be merged into your primary query.\n",
    "\n",
    "To merge queries, Looker finds dimensions in the queries whose values can be matched. Be sure that your queries contain at least one common dimension whose values can be matched exactly. For example, if both queries have a Date dimension, but one query uses “2017-10-01” as a value and the other query uses “October 2017” as a value, Looker can’t use that dimension to merge the queries.\n",
    "\n",
    "- In the Choose an Explore window, click Airports.\n",
    "\n",
    "- In the All Fields pane, click City and Average Elevation."
   ]
  },
  {
   "cell_type": "markdown",
   "metadata": {},
   "source": [
    "When creating a source query for merged results, be sure to include at least one dimension that will exactly match a dimension in the primary query.\n"
   ]
  },
  {
   "cell_type": "markdown",
   "metadata": {},
   "source": [
    "- Click Run to see the results of the source query.\n",
    "\n",
    "The results show the City and Average Elevation for airports.\n",
    "\n",
    "- Click Save to merge the query into your primary query."
   ]
  },
  {
   "cell_type": "markdown",
   "metadata": {},
   "source": [
    "### Check the Merge Rules and Run the Merge"
   ]
  },
  {
   "cell_type": "markdown",
   "metadata": {},
   "source": [
    "Looker automatically finds the best dimensions to use for matching the queries and displays these matches in the Merge Rules section. Looker shows how each query will be merged with the primary query.\n",
    "\n",
    "- Review the dimensions that Looker used to match the queries. Your Primary search on Flights should be using Aircraft Origin City to merge by the Secondary search of Airports on Airports City. Change the dropdowns so that the correct dimensions are used in the merge rule."
   ]
  },
  {
   "cell_type": "markdown",
   "metadata": {},
   "source": [
    "- Click Run to view the results of your merged results.\n",
    "\n",
    "Click on Airports Average Elevation to sort the values in descending order.\n",
    "\n",
    "- Expand the Visualization pane and click on the different chart options to explore useful visualizations for your merged results."
   ]
  },
  {
   "cell_type": "markdown",
   "metadata": {},
   "source": [
    "### Edit the Merged Results\n"
   ]
  },
  {
   "cell_type": "markdown",
   "metadata": {},
   "source": [
    "Once you have your merged results, you still have the flexibility to edit the merged queries and the rules used to merge the queries.\n",
    "\n",
    "#### Edit the Primary Source Query\n",
    "\n",
    "Let's add information about the destination airports to the source query.\n",
    "\n",
    "- In the Source Queries pane, click the gear icon next to Flights and then click Edit.\n",
    "\n",
    "There should be a label Primary next to the gear icon.\n",
    "\n",
    "- In the left pane, click All Fields.\n",
    "\n",
    "- Expand Aircraft Destination and click City.\n",
    "\n",
    "- Click Run to view the results of your modified primary query.\n",
    "\n",
    "- Click Save to save the primary source query."
   ]
  },
  {
   "cell_type": "markdown",
   "metadata": {},
   "source": [
    "### Save Your Merged Results to a Dashboard"
   ]
  },
  {
   "cell_type": "markdown",
   "metadata": {},
   "source": [
    "- Expand the Visualization pane and select Table.\n",
    "\n",
    "- In the top right pane of the Explore for your Merged Results, click the gear icon.\n",
    "\n",
    "- Click Save to Dashboard.\n",
    "\n",
    "- For Title, type Flight Cancellations & Elevation.\n",
    "\n",
    "- Click New Dashboard.\n",
    "\n",
    "- For the dashboard name, type Airport Data and click OK.\n",
    "\n",
    "- Click Save to Dashboard.\n",
    "\n",
    "- In the green banner in the top pane, click the link to Airport Data to access your new dashboard.\n",
    "\n",
    "You can also get to your new dashboard by clicking Folders > Shared Folders and clicking your dashboard."
   ]
  },
  {
   "cell_type": "markdown",
   "metadata": {},
   "source": [
    "***"
   ]
  },
  {
   "cell_type": "markdown",
   "metadata": {},
   "source": [
    "**<center><font size = \"6\">Creating a Looker Modeled Query and Working with Quick Start<center>**\n",
    "***"
   ]
  },
  {
   "cell_type": "markdown",
   "metadata": {},
   "source": [
    "### Task 1. Create a modeled query in Explore\n"
   ]
  },
  {
   "cell_type": "markdown",
   "metadata": {},
   "source": [
    "In this task, you will use Looker Explore to create a modeled query with dimensions, measures, and filters to provide a basic-level business insight.\n",
    "\n",
    "- In the Looker navigation menu, click Explore.\n",
    "\n",
    "- Under E-Commerce Training, click Order Items.\n",
    "\n",
    "- Select the fields below:\n",
    "\n",
    "- Under Users > Dimensions, click State.\n",
    "\n",
    "- Under Products > Dimensions, click Department.\n",
    "\n",
    "- Under Users > Measures, click Count.\n",
    "\n",
    "- Under Order Items > Measures, click Order Count.\n",
    "\n",
    "- Under Users>Dimensions, find Country and click the filter icon (filter icon) next to it to filter on the dimension.\n",
    "\n",
    "- In the Filter pane, set the Users Country filter to is equal to USA.\n",
    "\n",
    "- In the Data pane, click on the column name Users Count to sort in descending order.\n",
    "\n",
    "- Click Run and review the results data."
   ]
  },
  {
   "cell_type": "markdown",
   "metadata": {},
   "source": [
    "### Task 2. Save the modeled query in LookML\n"
   ]
  },
  {
   "cell_type": "markdown",
   "metadata": {},
   "source": [
    "In this task, you will save the modeled query from Explore to LookML.\n",
    "\n",
    "- On the Explore page with modeled query, click on Settings (Settings gear icon) next to Run (top right of page), and select Get LookML.\n",
    "\n",
    "- Click the Aggregate Table tab and copy the LookML code.\n",
    "\n",
    "- Open a new Looker window in a new tab. On the bottom left of the Looker User Interface, click the toggle button to enter Development mode.\n",
    "\n",
    "- On the left side navigation menu of the Looker User Interface, click Develop.\n",
    "\n",
    "- Under Projects, click on qwiklabs-ecommerce.\n",
    "\n",
    "- In the training_ecommerce.model file, paste the copied code after explore order_items but before explore events, around row 43.\n",
    "\n",
    "- Remove the line for aggregate_table and the ending closing parenthesis. There will now only be two closing parenthesis at the end of the explore+ definition.\n",
    "\n",
    "- Then, remove the lines for the materialization parameter including datagroup_trigger.\n",
    "\n",
    "- Add a name in the query parameter, start_from_here.\n",
    "\n",
    "- Click Save Changes."
   ]
  },
  {
   "cell_type": "markdown",
   "metadata": {},
   "source": [
    "#### Send LookML changes from development branch to production"
   ]
  },
  {
   "cell_type": "markdown",
   "metadata": {},
   "source": [
    "- Click Commit Changes & Push.\n",
    "\n",
    "- In the Commit window, add a message to specify the changes you made, and click Commit.\n",
    "\n",
    "- Click Deploy to Production.\n",
    "\n",
    "- In the Data pane, click on the gear icon on column name Products Department and select pivot.\n",
    "\n",
    "- In the Data pane, click on the gear icon on column name Users Count and select Hide from Visualization.\n",
    "\n",
    "- Expand Visualization pane and choose Column chart.\n",
    "\n",
    "- Click on the gear icon (Gear icon) in the Visualization pane. Under Plot, choose Stacked as Series Positioning.\n",
    "\n",
    "- Click on gear icon (Gear icon) next to Run (top right of page), and select Save as a Look.\n",
    "\n",
    "- Enter a title for the Look report, Order Items Count per State. Chose the Shared folder to save the report.\n",
    "\n",
    "- Click Save.\n",
    "\n",
    "- Open a new Looker window in a new tab. Click Shared folders.\n",
    "\n",
    "- Click the Order Items Count per State Look report and review the data and visualization."
   ]
  },
  {
   "cell_type": "markdown",
   "metadata": {},
   "source": [
    "***"
   ]
  },
  {
   "cell_type": "markdown",
   "metadata": {},
   "source": [
    "**<center><font size = \"6\">Looker Functions and Operators<center>**\n",
    "***"
   ]
  },
  {
   "cell_type": "markdown",
   "metadata": {},
   "source": [
    "### Task 1. Working with pivots\n"
   ]
  },
  {
   "cell_type": "markdown",
   "metadata": {},
   "source": [
    "In this section, you will find the number of flights scheduled to depart in each week of the year 2003. You will then pivot the Distance Tiered dimension and display the result as a line chart.\n",
    "\n",
    "- In the Looker navigation menu, click Explore.\n",
    "\n",
    "- Under FAA, click Flights.\n",
    "\n",
    "- Under Flights > Measures, click Count.\n",
    "\n",
    "- Under Flights > Dimensions > Depart Date, click Week.\n",
    "\n",
    "- Within the Depart Date dimension group, click on the Filter button next to the Date dimension.\n",
    "\n",
    "- In the filter window, set the Depart Date filter to: is in the year 2003.\n",
    "\n",
    "- Click Run.\n",
    "\n",
    "- Under Flights > Dimensions, click on the Pivot data button for Distance Tiered.\n",
    "\n",
    "- Click Run.\n",
    "\n",
    "- Click the arrow next to Visualization to expand the window.\n",
    "\n",
    "- Once the Visualization window has expanded, hover your cursor over the icons to identify the available options.\n",
    "\n",
    "- Change visualization type to Line.\n",
    "\n",
    "- Click on the settings gear icon for Visualization.\n",
    "\n",
    "- Click Edit > Plot.\n",
    "\n",
    "- Select the Legend Align as Left.\n",
    "\n",
    "- Click on the gear icon for Visualization to close the settings.\n",
    "\n",
    "- Click on the settings gear icon next to Run, and select Save > As a Look.\n",
    "\n",
    "- Title the Look Flight Count by Departure Week and Distance Tier.\n",
    "\n",
    "- Click Save."
   ]
  },
  {
   "cell_type": "markdown",
   "metadata": {},
   "source": [
    "### Task 2. Reordering columns and removing fields\n"
   ]
  },
  {
   "cell_type": "markdown",
   "metadata": {},
   "source": [
    "Columns under a pivoted dimension can be reordered, but the order of pivoted dimensions can be changed only by changing the sort order, not by manual reordering.\n",
    "\n",
    "- In the Looker navigation menu, click Explore.\n",
    "\n",
    "- Under FAA, click Flights.\n",
    "\n",
    "- Under Flights > Measures, click Percent Cancelled.\n",
    "\n",
    "- Under Flights > Dimensions > Depart Date, click Month.\n",
    "\n",
    "- Within the Depart Date dimension group, click on the Filter button next to the Date dimension.\n",
    "\n",
    "- In the filter window, set the Depart Date filter to: is in the year 2000.\n",
    "\n",
    "- Under Aircraft Origin > Dimensions, click State.\n",
    "\n",
    "- Click Run.\n",
    "\n",
    "- Click the Percent Cancelled column header to reorder the percentage from high to low.\n",
    "\n",
    "- Hover over the Depart Month column, and click the gear icon that appears on the right side.\n",
    "\n",
    "- Click Remove.\n",
    "\n",
    "Note: You can also remove all fields in an Explore using the keyboard shortcuts Command-K (Mac) or Ctrl+K (Windows).\n",
    "\n",
    "- Once the column is removed from the Data section, click Run again.\n",
    "\n",
    "- Click on the settings gear icon next to Run, and select Save > As a Look.\n",
    "\n",
    "- Title the Look Percent of Flights Cancelled by State in 2000.\n",
    "\n",
    "- Click Save."
   ]
  },
  {
   "cell_type": "markdown",
   "metadata": {},
   "source": [
    "### Task 3. Writing table calculations\n"
   ]
  },
  {
   "cell_type": "markdown",
   "metadata": {},
   "source": [
    "#### Create a map visualization\n"
   ]
  },
  {
   "cell_type": "markdown",
   "metadata": {},
   "source": [
    "In this section, you will create a map that shows the % of Flights Cancelled by Aircraft Origin State for the year 2004.\n",
    "\n",
    "- In the Looker navigation menu, click Explore.\n",
    "\n",
    "- Under FAA, click Flights.\n",
    "\n",
    "- Under Flights Details > Measures, click Cancelled Count.\n",
    "\n",
    "- Under Flights > Measures, click Count.\n",
    "\n",
    "- Under Aircraft Origin > Dimensions, click State.\n",
    "\n",
    "- Under Flights, within the Depart Date dimension group, click on the Filter button next to the Date dimension.\n",
    "\n",
    "- In the filter window, set the Depart Date filter to: is in the year 2004.\n",
    "\n",
    "- Click Run."
   ]
  },
  {
   "cell_type": "markdown",
   "metadata": {},
   "source": [
    "#### Create a table calculation"
   ]
  },
  {
   "cell_type": "markdown",
   "metadata": {},
   "source": [
    "- Next to Custom Fields, click + Add. Select Table Calculation."
   ]
  },
  {
   "cell_type": "markdown",
   "metadata": {},
   "source": [
    "- If you already have some table calculations defined, click the Add Table Calculation button to create another. You are able to add as many table calculations as you need."
   ]
  },
  {
   "cell_type": "markdown",
   "metadata": {},
   "source": [
    "For each table calculation:\n",
    "\n",
    "- Rename your table calculation if desired.\n",
    "\n",
    "- Optionally, click Default Formatting to choose a predefined format or create a custom format for the results. If you create a custom format, use Excel-style formatting as described on the Adding custom formatting to numeric fields documentation page.\n",
    "\n",
    "- Start typing a Looker expression into the large text box to form your calculation. Looker expressions can be quite simple, or they can use as many fields, functions, and operators as your business logic requires. The Creating Looker expressions documentation page explains how to create Looker expressions and how the editor helps you.\n",
    "\n",
    "- When you are finished adding table calculations, click Save."
   ]
  },
  {
   "cell_type": "markdown",
   "metadata": {},
   "source": [
    "Note: Your table calculation fields appear next to your dimensions and measures in the table. If you want to reuse your table calculations in the future, be sure to save your Look or copy the table calculation formula into another document."
   ]
  },
  {
   "cell_type": "markdown",
   "metadata": {},
   "source": [
    "- In the Expression field, add the following Table Calculation:"
   ]
  },
  {
   "cell_type": "code",
   "execution_count": null,
   "metadata": {
    "vscode": {
     "languageId": "shellscript"
    }
   },
   "outputs": [],
   "source": [
    "${flights.cancelled_count}/${flights.count}"
   ]
  },
  {
   "cell_type": "markdown",
   "metadata": {},
   "source": [
    "- Click Default Formatting to change the format to Percent (0).\n",
    "\n",
    "- Rename the Table Calculation to \"Percent Cancelled\".\n",
    "\n",
    "- Click Save.\n",
    "\n",
    "- Hover over the Cancelled Count column, and click the gear icon that appears on the right side.\n",
    "\n",
    "- Click Hide from Visualization.\n",
    "\n",
    "- Repeat the same process to hide the Count column from the Visualization.\n",
    "\n",
    "- Click the arrow next to Visualization to expand the window.\n",
    "\n",
    "- Change visualization type to Map.\n",
    "\n",
    "- Click on the settings gear icon next to Run, and select Save > As a Look.\n",
    "\n",
    "- Title the Look Percent of Flights Cancelled by Aircraft Origin 2004\n",
    "\n",
    "- Click Save."
   ]
  },
  {
   "cell_type": "markdown",
   "metadata": {},
   "source": [
    "### Task 4. Using table calculations"
   ]
  },
  {
   "cell_type": "markdown",
   "metadata": {},
   "source": [
    "In this section, you will create a Bar Chart that shows the percent of Total Distance Flown by Carrier.\n",
    "\n",
    "- In the Looker navigation menu, click Explore.\n",
    "\n",
    "- Under FAA, click Flights.\n",
    "\n",
    "- Under Flights > Measures, click Total Distance.\n",
    "\n",
    "- Under Carriers > Dimensions, click Name.\n",
    "\n",
    "- In the Data bar, click on the Totals checkbox next to Row Limit.\n",
    "\n",
    "- Click Run.\n",
    "\n",
    "- Next to Custom Fields, click + Add. Select Table Calculation.\n",
    "\n",
    "- Add the following in Expression field:"
   ]
  },
  {
   "cell_type": "code",
   "execution_count": null,
   "metadata": {
    "vscode": {
     "languageId": "javascript"
    }
   },
   "outputs": [],
   "source": [
    "${flights.total_distance}/${flights.total_distance:total}"
   ]
  },
  {
   "cell_type": "markdown",
   "metadata": {},
   "source": [
    "- Click Default Formatting to change the format to Percent (0).\n",
    "\n",
    "- Click Save.\n",
    "\n",
    "- Hover over the Total Distance column, and click the gear icon that appears on the right side.\n",
    "\n",
    "- Click Hide from Visualization.\n",
    "\n",
    "- Click Run.\n",
    "\n",
    "- Click the arrow next to Visualization to expand the window.\n",
    "\n",
    "- Change visualization type to Bar.\n",
    "\n",
    "- Click on the settings gear icon next to Run, and select Save > As a Look.\n",
    "\n",
    "- Title the Look Percent of Total Distance Flown by Carrier\n",
    "\n",
    "- Click Save."
   ]
  },
  {
   "cell_type": "markdown",
   "metadata": {},
   "source": [
    "### Task 5. Functions and operators"
   ]
  },
  {
   "cell_type": "markdown",
   "metadata": {},
   "source": [
    "#### Use a function"
   ]
  },
  {
   "cell_type": "markdown",
   "metadata": {},
   "source": [
    "- In the Looker navigation menu, click Explore.\n",
    "\n",
    "- Under FAA, click Flights.\n",
    "\n",
    "- Under Flights > Measures, click Count.\n",
    "\n",
    "- Under Flights > Dimensions, click Distance Tiered.\n",
    "\n",
    "- Under Flights, within the Depart Date dimension group, click on the Pivot data button next to the Year dimension.\n",
    "\n",
    "- Click on the Filter button next to Date.\n",
    "\n",
    "- In the filter window, set the Depart Date filter to: is on or after 01/01/2000. You can leave the default absolute.\n",
    "\n",
    "- Click Run.\n",
    "\n",
    "- Next to Custom Fields, click + Add. Select Table Calculation.\n",
    "\n",
    "- Add the following Table Calculation, making use of the pivot_offset function:"
   ]
  },
  {
   "cell_type": "code",
   "execution_count": null,
   "metadata": {
    "vscode": {
     "languageId": "javascript"
    }
   },
   "outputs": [],
   "source": [
    "(${flights.count}-pivot_offset(${flights.count}, -1))/pivot_offset(${flights.count}, -1)"
   ]
  },
  {
   "cell_type": "markdown",
   "metadata": {},
   "source": [
    "- Click Default Formatting to change the format to Percent (0).\n",
    "\n",
    "- Click Save.\n",
    "\n",
    "- Hover over one of the Count columns, and click the gear icon that appears on the right side.\n",
    "\n",
    "- Click Hide from Visualization. It should hide all of the Count columns.\n",
    "\n",
    "- Click Run.\n",
    "\n",
    "- Click the arrow next to Visualization to expand the window.\n",
    "\n",
    "- Change visualization type to Table.\n",
    "\n",
    "- Click on the settings gear icon for Visualization.\n",
    "\n",
    "- Click Edit > Formatting.\n",
    "\n",
    "- Toggle the Enable Conditional Formatting to on. Accept the default options and click Add a Rule.\n",
    "\n",
    "- Click on the gear icon for Visualization to close the settings.\n",
    "\n",
    "- Click on the settings gear icon next to Run, and select Save > As a Look.\n",
    "\n",
    "- Title the Look YoY Percent Change in Flights flown by Distance, 2000-Present\n",
    "\n",
    "- Click Save."
   ]
  },
  {
   "cell_type": "markdown",
   "metadata": {},
   "source": [
    "***"
   ]
  },
  {
   "cell_type": "markdown",
   "metadata": {},
   "source": [
    "**<center><font size = \"6\">Exploring Data with Looker: Challenge Lab<center>**\n",
    "***"
   ]
  },
  {
   "cell_type": "markdown",
   "metadata": {},
   "source": [
    "Your manager wants the answer to the following questions:\n",
    "\n",
    "- Which states and cities have the most airports with heliports?\n",
    "\n",
    "- What is the facility type breakdown for the states with the most airports?\n",
    "\n",
    "- What are the airports and states with the highest percentage of flight cancellations with over 10,000 flights?\n",
    "\n",
    "- Where are the busiest, joint-use major airports that have control towers and what are their associated codes?\n",
    "\n",
    "- What are the origin and destination airports with the smallest average distance between them?"
   ]
  },
  {
   "cell_type": "markdown",
   "metadata": {},
   "source": [
    "### Follow lab instruction"
   ]
  },
  {
   "cell_type": "markdown",
   "metadata": {},
   "source": []
  }
 ],
 "metadata": {
  "kernelspec": {
   "display_name": "Python 3.9.9 64-bit",
   "language": "python",
   "name": "python3"
  },
  "language_info": {
   "name": "python",
   "version": "3.9.9"
  },
  "orig_nbformat": 4,
  "vscode": {
   "interpreter": {
    "hash": "aee8b7b246df8f9039afb4144a1f6fd8d2ca17a180786b69acc140d282b71a49"
   }
  }
 },
 "nbformat": 4,
 "nbformat_minor": 2
}
