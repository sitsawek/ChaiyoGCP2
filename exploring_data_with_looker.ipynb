{
 "cells": [
  {
   "cell_type": "markdown",
   "metadata": {},
   "source": [
    "***"
   ]
  },
  {
   "cell_type": "markdown",
   "metadata": {},
   "source": [
    "**<center><font size = \"6\">Exploring Data with Looker<center>**\n",
    "***\n",
    "<center><font size = \"2\">Prepared by: Sitsawek Sukorn<center>"
   ]
  },
  {
   "cell_type": "markdown",
   "metadata": {},
   "source": [
    "## Looker Data Explorer - Qwik Start"
   ]
  },
  {
   "cell_type": "markdown",
   "metadata": {},
   "source": [
    "### Task 1. Visualize your first Measure"
   ]
  },
  {
   "cell_type": "markdown",
   "metadata": {},
   "source": [
    "Looker Measures are an aggregation of one or more dimensions (or unique attributes of the data). Measures let you calculate your Key Performance Indicators (KPIs) and help you analyze your data using different attributes.\n",
    "\n",
    "In the Airports Explore, you will determine the average elevation across all airport facilities and show that number as a single value visualization.\n",
    "\n",
    "- In the Looker navigation menu, click Explore.\n",
    "\n",
    "- Under FAA, click Airports.\n",
    "\n",
    "The available dimensions and measures will be listed in the data panel for Airports.\n",
    "\n",
    "- Under Airports > Measures, click Average elevation.\n",
    "\n",
    "- Click Run.\n",
    "\n",
    "- Click the arrow next to Visualization to expand the window.\n",
    "\n",
    "Once the Visualization window has expanded, you can hover your cursor over the icons to identify the available options.\n",
    "\n",
    "- Click the Single value icon.\n",
    "\n",
    "This option creates a single value visualization that you can customize. You can also make the chart larger by collapsing the data window.\n",
    "\n",
    "- Click on the settings gear icon (settings gear icon) for Visualization.\n",
    "\n",
    "- Click Edit > Style.\n",
    "\n",
    "- Under Style, click on Value color, and select your choice of color.\n",
    "\n",
    "- Under Style, enable Show title, and provide a title in Title override box.\n",
    "\n",
    "- Click on the gear icon for Visualization to close the settings.\n",
    "\n",
    "- Click on the settings gear icon (settings gear icon) next to Run, and select Save > To an existing dashboard.\n",
    "\n",
    "- Enter a title for the visualization: Average elevation.\n",
    "\n",
    "- Click New Dashboard.\n",
    "\n",
    "- Enter a title for the new dashboard: Airports/Flights.\n",
    "\n",
    "- Click OK.\n",
    "\n",
    "- Click Save to Dashboard."
   ]
  },
  {
   "cell_type": "markdown",
   "metadata": {},
   "source": [
    "### Task 2. Visualize dimensions and measures\n",
    "Dimensions are unique attributes of the data that helps you describe the data. For example, in the Airports explore, the location of the airport, city, elevation levels, etc., are different dimensions. You can use both Dimensions and Measures in Looker to slice and dice your data to achieve data insights.\n",
    "\n",
    "Next, identify the top 5 Facility Types with the highest average elevation and display the results as a bar chart. You will show the total number of airport facilities by Facility Type in the same chart.\n",
    "\n",
    "- On the Looker navigation menu, click Explore.\n",
    "\n",
    "- Under FAA, click Airports.\n",
    "\n",
    "The available dimensions and measures will be listed in the data panel for Airports.\n",
    "\n",
    "- Under Airports > Dimensions, click Facility type.\n",
    "\n",
    "- Under Airports > Measures, click Average Elevation.\n",
    "\n",
    "- Under Airports > Measures, click Count.\n",
    "\n",
    "- On the Data tab, change Row limit to 5.\n",
    "\n",
    "- Click Run.\n",
    "\n",
    "- Click the arrow next to Visualization to expand the window.\n",
    "\n",
    "Once the Visualization window has expanded, you can hover your cursor over the icons to identify the available options.\n",
    "\n",
    "- Click the Bar icon.\n",
    "\n",
    "This option creates a horizontal bar visualization that you can customize. You can also make the chart larger by collapsing the data window.\n",
    "\n",
    "- Click on the settings gear icon (settings gear icon) for Visualization.\n",
    "\n",
    "- Click Values.\n",
    "\n",
    "- Under Values, enable Value labels.\n",
    "\n",
    "- Click Y.\n",
    "\n",
    "- Under Y, click on Airports and drag it under Top Axes.\n",
    "\n",
    "Average elevation will remain under Bottom Axes.\n",
    "\n",
    "- Under Configure axes > Top 1, enter an Axis name: Count\n",
    "\n",
    "- Click on the gear icon for Visualization to close the settings.\n",
    "\n",
    "- Click on settings gear icon (settings gear icon) next to Run, and select Save > To an existing dashboard.\n",
    "\n",
    "- Enter a title for the visualization: Average elevation by facility type.\n",
    "\n",
    "- Select the dashboard you previously created: Airports/Flights.\n",
    "\n",
    "- Click Save to Dashboard."
   ]
  },
  {
   "cell_type": "markdown",
   "metadata": {},
   "source": [
    "***"
   ]
  },
  {
   "cell_type": "markdown",
   "metadata": {},
   "source": [
    "**<center><font size = \"6\">Filtering and Sorting Data in Looker<center>**\n",
    "***"
   ]
  },
  {
   "cell_type": "markdown",
   "metadata": {},
   "source": [
    "### Task 1. Working with dimensions & filters\n"
   ]
  },
  {
   "cell_type": "markdown",
   "metadata": {},
   "source": [
    "In this section, you will find the number of flights that were cancelled each week in the year 2004 and display the resulting data points in a line chart.\n",
    "\n",
    "- In the Looker navigation menu, click Explore.\n",
    "\n",
    "- Under FAA, click Flights.\n",
    "\n",
    "- Under Flight Details > Measures, click Cancelled Count.\n",
    "\n",
    "- Under Flights > Dimensions > Depart Date, click Week.\n",
    "\n",
    "- Within the Depart Date dimension group, click on the Filter button next to the Date dimension.\n",
    "\n",
    "- In the filter window, set the Depart Date filter to: is in the year 2004.\n",
    "\n",
    "- Click Run.\n",
    "\n",
    "- Click the arrow next to Visualization to expand the window.\n",
    "\n",
    "Once the Visualization window has expanded, you can hover your cursor over the icons to identify the available options.\n",
    "\n",
    "- Change visualization type to Line.\n",
    "\n",
    "- Click on the settings gear icon for Visualization.\n",
    "\n",
    "- Click Edit > Series.\n",
    "\n",
    "- Under Colors > Collection, select your choice of theme/color.\n",
    "\n",
    "- Under Point Style, click on Outline.\n",
    "\n",
    "- Navigate to the Y menu of the visualization setting pane, scroll down to the bottom, and click on the Add Reference Line button. Ensure that the type is set to “Line” and that the value is set to “Average (Mean)”.\n",
    "\n",
    "- Click on the gear icon for Visualization to close the settings.\n",
    "\n",
    "- Click on the settings gear icon next to Run, and select Save > As a Look.\n",
    "\n",
    "- Title the Look Cancelled Flight Count by Week in 2004.\n",
    "\n",
    "- Click Save."
   ]
  },
  {
   "cell_type": "markdown",
   "metadata": {},
   "source": [
    "### Task 2. Working with filters"
   ]
  },
  {
   "cell_type": "markdown",
   "metadata": {},
   "source": [
    "In this section, you will create a table visualization that shows the Count of Long Flights and the Total Distance flown by Carrier, but only for Carriers with a Percentage of Long Flights <= 25%.\n",
    "\n",
    "- In the Looker navigation menu, click Explore.\n",
    "\n",
    "- Under FAA, click Flights.\n",
    "\n",
    "- Under Flights > Measures, click Count Long Flight.\n",
    "\n",
    "- Under Flights > Measures, click Total Distance.\n",
    "\n",
    "- Under Carriers > Dimensions, click Name.\n",
    "\n",
    "- Under Flights > Measures, click on the Filter button next to the Percentage Long Flights measure.\n",
    "\n",
    "- In the filter window, set the filter to: is less than or equal to .25.\n",
    "\n",
    "- Click Run.\n",
    "\n",
    "- Click the arrow next to Visualization to expand the window.\n",
    "\n",
    "Once the Visualization window has expanded, you can hover your cursor over the icons to identify the available options.\n",
    "\n",
    "- Change visualization type to Table.\n",
    "\n",
    "- Click on the settings gear icon for Visualization.\n",
    "\n",
    "- Click Edit > Plot.\n",
    "\n",
    "- Select “Gray” for the Table Theme.\n",
    "\n",
    "- Toggle Show Row Numbers off.\n",
    "\n",
    "- Click on the gear icon for Visualization to close the settings.\n",
    "\n",
    "- Click on the settings gear icon next to Run, and select Save > As a Look.\n",
    "\n",
    "- Title the Look Total Distance and Long Flight Count by Carrier.\n",
    "\n",
    "- Click Save."
   ]
  },
  {
   "cell_type": "markdown",
   "metadata": {},
   "source": [
    "### Task 3. Add Looks to a dashboard\n"
   ]
  },
  {
   "cell_type": "markdown",
   "metadata": {},
   "source": [
    "In this section, you will add your newly created Looks to a Dashboard and visualize them side-by-side.\n",
    "\n",
    "- In the Looker navigation menu, click Folders.\n",
    "\n",
    "- Select My folder.\n",
    "\n",
    "You should see the Looks you just created.\n",
    "\n",
    "- Click the Cancelled Flight Count by Week in 2004 Look.\n",
    "\n",
    "- Click on the settings gear icon next to Run, and select Save > To an existing dashboard.\n",
    "\n",
    "- Click New Dashboard.\n",
    "\n",
    "- Enter a title for the new dashboard: Flights Data.\n",
    "\n",
    "- Click Add Look to Dashboard.\n",
    "\n",
    "You will now repeat the same process for the second Look you created.\n",
    "\n",
    "- Navigate back to Folders > My folder.\n",
    "\n",
    "- Click the Total Distance and Long Flight Count by Carrier Look.\n",
    "\n",
    "- Click on the settings gear icon next to Run, and select Save > To an existing dashboard.\n",
    "\n",
    "- Select the dashboard you previously created: Flights Data.\n",
    "\n",
    "- Click Add Look to Dashboard.\n",
    "\n",
    "Now that you've added both Looks to your new dashboard, you can view it.\n",
    "\n",
    "- Navigate back to Folders > My folder.\n",
    "\n",
    "- Under Dashboards, select Flights Data."
   ]
  },
  {
   "cell_type": "markdown",
   "metadata": {},
   "source": [
    "***"
   ]
  },
  {
   "cell_type": "markdown",
   "metadata": {},
   "source": [
    "**<center><font size = \"6\">Merging Results from Different Explores in Looker<center>**\n",
    "***"
   ]
  },
  {
   "cell_type": "markdown",
   "metadata": {},
   "source": [
    "### Create a Primary Query\n"
   ]
  },
  {
   "cell_type": "markdown",
   "metadata": {},
   "source": [
    "To merge the results from multiple queries, you start with a beginning query, which is considered the primary query.\n",
    "\n",
    "- In the Looker navigation menu, click Explore. Under FAA, click Flights.\n",
    "\n",
    "- In the left pane, under All Fields, expand Flight Details.\n",
    "\n",
    "- Click Carrier and Flight Num.\n",
    "\n",
    "You can reorder selected fields in the right pane by dragging and dropping the field name.\n",
    "\n",
    "- Expand Aircraft Origin and click City.\n",
    "\n",
    "- In MEASURES, click Cancelled Count.\n",
    "\n",
    "- Expand Arrival Date, hover over Year, and click Filter by field.\n",
    "\n",
    "- In the Filters pane, set Flights Details Arrival Year to is in the year, and enter 2000.\n",
    "\n",
    "- Click Run to see the results of the primary query."
   ]
  },
  {
   "cell_type": "markdown",
   "metadata": {},
   "source": [
    "### Add the Next Source Query"
   ]
  },
  {
   "cell_type": "markdown",
   "metadata": {},
   "source": [
    "Once you've created your primary query, you can add another source query. Now that we have flight data, let's merge it with airport information for the flight airport of origin.\n",
    "\n",
    "- In the top right pane of the Explore for your primary query, click the gear icon.\n",
    "\n",
    "- Click Merge Results. This will open the Choose an Explore window.\n",
    "\n",
    "Looker opens the Explore in the Edit Query window, where you can build the new query to be merged into your primary query.\n",
    "\n",
    "To merge queries, Looker finds dimensions in the queries whose values can be matched. Be sure that your queries contain at least one common dimension whose values can be matched exactly. For example, if both queries have a Date dimension, but one query uses “2017-10-01” as a value and the other query uses “October 2017” as a value, Looker can’t use that dimension to merge the queries.\n",
    "\n",
    "- In the Choose an Explore window, click Airports.\n",
    "\n",
    "- In the All Fields pane, click City and Average Elevation."
   ]
  },
  {
   "cell_type": "markdown",
   "metadata": {},
   "source": [
    "When creating a source query for merged results, be sure to include at least one dimension that will exactly match a dimension in the primary query.\n"
   ]
  },
  {
   "cell_type": "markdown",
   "metadata": {},
   "source": [
    "- Click Run to see the results of the source query.\n",
    "\n",
    "The results show the City and Average Elevation for airports.\n",
    "\n",
    "- Click Save to merge the query into your primary query."
   ]
  },
  {
   "cell_type": "markdown",
   "metadata": {},
   "source": [
    "### Check the Merge Rules and Run the Merge"
   ]
  },
  {
   "cell_type": "markdown",
   "metadata": {},
   "source": [
    "Looker automatically finds the best dimensions to use for matching the queries and displays these matches in the Merge Rules section. Looker shows how each query will be merged with the primary query.\n",
    "\n",
    "- Review the dimensions that Looker used to match the queries. Your Primary search on Flights should be using Aircraft Origin City to merge by the Secondary search of Airports on Airports City. Change the dropdowns so that the correct dimensions are used in the merge rule."
   ]
  },
  {
   "cell_type": "markdown",
   "metadata": {},
   "source": [
    "- Click Run to view the results of your merged results.\n",
    "\n",
    "Click on Airports Average Elevation to sort the values in descending order.\n",
    "\n",
    "- Expand the Visualization pane and click on the different chart options to explore useful visualizations for your merged results."
   ]
  },
  {
   "cell_type": "markdown",
   "metadata": {},
   "source": [
    "### Edit the Merged Results\n"
   ]
  },
  {
   "cell_type": "markdown",
   "metadata": {},
   "source": [
    "Once you have your merged results, you still have the flexibility to edit the merged queries and the rules used to merge the queries.\n",
    "\n",
    "#### Edit the Primary Source Query\n",
    "\n",
    "Let's add information about the destination airports to the source query.\n",
    "\n",
    "- In the Source Queries pane, click the gear icon next to Flights and then click Edit.\n",
    "\n",
    "There should be a label Primary next to the gear icon.\n",
    "\n",
    "- In the left pane, click All Fields.\n",
    "\n",
    "- Expand Aircraft Destination and click City.\n",
    "\n",
    "- Click Run to view the results of your modified primary query.\n",
    "\n",
    "- Click Save to save the primary source query."
   ]
  },
  {
   "cell_type": "markdown",
   "metadata": {},
   "source": [
    "### Save Your Merged Results to a Dashboard"
   ]
  },
  {
   "cell_type": "markdown",
   "metadata": {},
   "source": [
    "- Expand the Visualization pane and select Table.\n",
    "\n",
    "- In the top right pane of the Explore for your Merged Results, click the gear icon.\n",
    "\n",
    "- Click Save to Dashboard.\n",
    "\n",
    "- For Title, type Flight Cancellations & Elevation.\n",
    "\n",
    "- Click New Dashboard.\n",
    "\n",
    "- For the dashboard name, type Airport Data and click OK.\n",
    "\n",
    "- Click Save to Dashboard.\n",
    "\n",
    "- In the green banner in the top pane, click the link to Airport Data to access your new dashboard.\n",
    "\n",
    "You can also get to your new dashboard by clicking Folders > Shared Folders and clicking your dashboard."
   ]
  },
  {
   "cell_type": "markdown",
   "metadata": {},
   "source": [
    "***"
   ]
  },
  {
   "cell_type": "markdown",
   "metadata": {},
   "source": [
    "**<center><font size = \"6\">Merging Results from Different Explores in Looker<center>**\n",
    "***"
   ]
  },
  {
   "cell_type": "markdown",
   "metadata": {},
   "source": []
  }
 ],
 "metadata": {
  "kernelspec": {
   "display_name": "Python 3.9.9 64-bit",
   "language": "python",
   "name": "python3"
  },
  "language_info": {
   "name": "python",
   "version": "3.9.9"
  },
  "orig_nbformat": 4,
  "vscode": {
   "interpreter": {
    "hash": "aee8b7b246df8f9039afb4144a1f6fd8d2ca17a180786b69acc140d282b71a49"
   }
  }
 },
 "nbformat": 4,
 "nbformat_minor": 2
}
