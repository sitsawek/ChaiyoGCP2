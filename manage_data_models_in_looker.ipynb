{
 "cells": [
  {
   "cell_type": "markdown",
   "metadata": {},
   "source": [
    "***"
   ]
  },
  {
   "cell_type": "markdown",
   "metadata": {},
   "source": [
    "**<center><font size = \"6\">Manage Data Models in Looker<center>**\n",
    "***\n",
    "<center><font size = \"2\">Prepared by: Sitsawek Sukorn<center>"
   ]
  },
  {
   "cell_type": "markdown",
   "metadata": {},
   "source": [
    "### Modularizing LookML Code with Extends"
   ]
  },
  {
   "cell_type": "markdown",
   "metadata": {},
   "source": [
    "### Extend a view to add columns from another view"
   ]
  },
  {
   "cell_type": "markdown",
   "metadata": {},
   "source": [
    "#### Create a new view"
   ]
  },
  {
   "cell_type": "markdown",
   "metadata": {},
   "source": [
    "- Click the toggle button to enter Development mode.\n",
    "\n",
    "- On the Develop tab, select the qwiklabs-ecommerce LookML project.\n",
    "\n",
    "- Click (+) next to File Browser, and select Create View.\n",
    "\n",
    "- Name the view location, drag it under the views folder, and add the following code to it:"
   ]
  },
  {
   "cell_type": "code",
   "execution_count": null,
   "metadata": {
    "vscode": {
     "languageId": "javascript"
    }
   },
   "outputs": [],
   "source": [
    "view: location {\n",
    "  extension: required\n",
    "  dimension: city {\n",
    "    type: string\n",
    "    sql: ${TABLE}.city ;;\n",
    "  }\n",
    "  dimension: state {\n",
    "    type: string\n",
    "    sql: ${TABLE}.state ;;\n",
    "    map_layer_name: us_states\n",
    "  }\n",
    "  dimension: zip {\n",
    "    type: zipcode\n",
    "    sql: ${TABLE}.zip ;;\n",
    "  }\n",
    "  dimension: country {\n",
    "    type: string\n",
    "    map_layer_name: countries\n",
    "    sql: ${TABLE}.country ;;\n",
    "  }\n",
    "  \n",
    "  dimension: latitude {\n",
    "    type: number\n",
    "    sql: ${TABLE}.latitude ;;\n",
    "  }\n",
    "  \n",
    "  dimension: longitude {\n",
    "    type: number\n",
    "    sql: ${TABLE}.longitude ;;\n",
    "  }\n",
    "}"
   ]
  },
  {
   "cell_type": "markdown",
   "metadata": {},
   "source": [
    "Notice line 2 (extension: required), which means that this view cannot be joined to other views, and thus will not be visible to users. To use this view, you must integrate it into another view using the extends parameter, which you do in the next section."
   ]
  },
  {
   "cell_type": "markdown",
   "metadata": {},
   "source": [
    "Also notice that, unlike with other views, you do not need to include the parameter sql_table_name in the view definition to identify which table to use for the data. Instead, this view will use the table specified in the view that will be extended in the next section.\n",
    "\n"
   ]
  },
  {
   "cell_type": "markdown",
   "metadata": {},
   "source": [
    "- Click Save Changes, and then click Validate LookML. No LookML errors were found, and your file should resemble the following:"
   ]
  },
  {
   "cell_type": "markdown",
   "metadata": {},
   "source": [
    "#### Add extends"
   ]
  },
  {
   "cell_type": "markdown",
   "metadata": {},
   "source": [
    "- Open the users.view file.\n",
    "\n",
    "- On a new line at the top of the file (line 1), add the following code, which indicates that the users view is being extended using the location view:"
   ]
  },
  {
   "cell_type": "code",
   "execution_count": null,
   "metadata": {
    "vscode": {
     "languageId": "javascript"
    }
   },
   "outputs": [],
   "source": [
    "include: location.view"
   ]
  },
  {
   "cell_type": "markdown",
   "metadata": {},
   "source": [
    "- On line 3 above sql_table_name, add the following code:"
   ]
  },
  {
   "cell_type": "code",
   "execution_count": null,
   "metadata": {
    "vscode": {
     "languageId": "javascript"
    }
   },
   "outputs": [],
   "source": [
    "extends: [location]"
   ]
  },
  {
   "cell_type": "markdown",
   "metadata": {},
   "source": [
    "Note: Because the extends are added, the sql_table_name parameter identifies which table to use as the data source for both the existing objects in the file and the objects that are added from geography via the extend."
   ]
  },
  {
   "cell_type": "markdown",
   "metadata": {},
   "source": [
    "- Remove the existing dimension definitions for: city, country, latitude, longitude, state, and zip (this is the existing order in the file). Instead of being explicitly defined in the users.view file, these dimensions are integrated via the extend from location.view.\n",
    "\n",
    "- Click Save Changes, and then click Validate LookML.\n",
    "\n",
    "- Open the event.view file.\n",
    "\n",
    "- On a new line at the top of the file (line 1), add the following code:"
   ]
  },
  {
   "cell_type": "code",
   "execution_count": null,
   "metadata": {
    "vscode": {
     "languageId": "javascript"
    }
   },
   "outputs": [],
   "source": [
    "include: location.view"
   ]
  },
  {
   "cell_type": "markdown",
   "metadata": {},
   "source": [
    "- On line 3 above sql_table_name, add the following code:"
   ]
  },
  {
   "cell_type": "code",
   "execution_count": null,
   "metadata": {
    "vscode": {
     "languageId": "javascript"
    }
   },
   "outputs": [],
   "source": [
    "extends: [location]"
   ]
  },
  {
   "cell_type": "markdown",
   "metadata": {},
   "source": [
    "- As you did with the users view, remove the existing dimension definitions for: city, country, latitude, longitude, state, and zip."
   ]
  },
  {
   "cell_type": "markdown",
   "metadata": {},
   "source": [
    "! must move location.view to view if not that errors. in this lab not mention that."
   ]
  },
  {
   "cell_type": "markdown",
   "metadata": {},
   "source": [
    "#### Test the extended view for Users and Events in the Order Items Explore"
   ]
  },
  {
   "cell_type": "markdown",
   "metadata": {},
   "source": [
    "- Navigate to the Explore page for Order Items.\n",
    "\n",
    "- From the Users view, select the City, Country, Latitude, Longitude, State, and Zip dimensions.\n",
    "\n",
    "- Click Run."
   ]
  },
  {
   "cell_type": "markdown",
   "metadata": {},
   "source": [
    "Even though you removed the definitions for these dimensions (city, country, latitude, longitude, state and zip) from the users.view file, you can see and use them because they were added to the users.view file using an extend from the location.view file!"
   ]
  },
  {
   "cell_type": "markdown",
   "metadata": {},
   "source": [
    "- Navigate to the Events Explore.\n",
    "\n",
    "- From the Events view, select the City, Country, Latitude, Longitude, State, and Zip dimensions."
   ]
  },
  {
   "cell_type": "markdown",
   "metadata": {},
   "source": [
    "Again, even though you removed the definitions for these dimensions from the events.view file, you can see and use them because they were added to the events.view file using an extend."
   ]
  },
  {
   "cell_type": "markdown",
   "metadata": {},
   "source": [
    "- Navigate back to the events.view file in the Looker IDE."
   ]
  },
  {
   "cell_type": "markdown",
   "metadata": {},
   "source": [
    "#### Commit changes and deploy to production\n"
   ]
  },
  {
   "cell_type": "markdown",
   "metadata": {},
   "source": [
    "- Click Validate LookML and then click Commit Changes & Push.\n",
    "\n",
    "- Add a commit message and click Commit.\n",
    "\n",
    "- Lastly, click Deploy to Production."
   ]
  },
  {
   "cell_type": "markdown",
   "metadata": {},
   "source": [
    "### Extend an Explore to add joins from another Explore\n"
   ]
  },
  {
   "cell_type": "markdown",
   "metadata": {},
   "source": [
    "- Navigate to the training_ecommerce.model file.\n",
    "\n",
    "- After the order_items Explore definition (around line 43), create a new base Explore called base_events, using the following code:"
   ]
  },
  {
   "cell_type": "code",
   "execution_count": null,
   "metadata": {
    "vscode": {
     "languageId": "javascript"
    }
   },
   "outputs": [],
   "source": [
    "explore: base_events {\n",
    "  extension: required\n",
    "  join: event_session_facts {\n",
    "    type: left_outer\n",
    "    sql_on: ${events.session_id} = ${event_session_facts.session_id} ;;\n",
    "    relationship: many_to_one\n",
    "  }\n",
    "  join: users {\n",
    "    type: left_outer\n",
    "    sql_on: ${events.user_id} = ${users.id} ;;\n",
    "    relationship: many_to_one\n",
    "  }\n",
    "}"
   ]
  },
  {
   "cell_type": "markdown",
   "metadata": {},
   "source": [
    "Notice again the line for extension: required, which means that this Explore is not visible to users. Your file should resemble the following:"
   ]
  },
  {
   "cell_type": "markdown",
   "metadata": {},
   "source": [
    "Next, you'll modify the existing definition for the events Explore to extend it with the views from base_events."
   ]
  },
  {
   "cell_type": "markdown",
   "metadata": {},
   "source": [
    "- From the events Explore, remove the existing joins for event_session_facts and users."
   ]
  },
  {
   "cell_type": "markdown",
   "metadata": {},
   "source": [
    "These joined views are integrated from the base_events Explore via code added in the next step. Notice that the join definition for event_session_funnel remains to customize this Explore for a particular set of users. Your file should resemble the following:"
   ]
  },
  {
   "cell_type": "code",
   "execution_count": null,
   "metadata": {
    "vscode": {
     "languageId": "javascript"
    }
   },
   "outputs": [],
   "source": [
    "explore: events {\n",
    "  join: event_session_facts {\n",
    "    type: left_outer\n",
    "    sql_on: ${events.session_id} = ${event_session_facts.session_id} ;;\n",
    "    relationship: many_to_one\n",
    "  }\n",
    "  join: event_session_funnel {\n",
    "    type: left_outer\n",
    "    sql_on: ${events.session_id} = ${event_session_funnel.session_id} ;;\n",
    "    relationship: many_to_one\n",
    "  }\n",
    "  join: users {\n",
    "    type: left_outer\n",
    "    sql_on: ${events.user_id} = ${users.id} ;;\n",
    "    relationship: many_to_one\n",
    "  }\n",
    "\n",
    "  to\n",
    "\n",
    "  explore: events {\n",
    "  join: event_session_funnel {\n",
    "    type: left_outer\n",
    "    sql_on: ${events.session_id} = ${event_session_funnel.session_id} ;;\n",
    "    relationship: many_to_one\n",
    "  }"
   ]
  },
  {
   "cell_type": "markdown",
   "metadata": {},
   "source": [
    "- Under the first line of the events Explore definition, add the following code:"
   ]
  },
  {
   "cell_type": "code",
   "execution_count": null,
   "metadata": {
    "vscode": {
     "languageId": "javascript"
    }
   },
   "outputs": [],
   "source": [
    "description: \"Start here for Event analysis\"\n",
    "  fields: [ALL_FIELDS*]\n",
    "from: events\n",
    "  view_name: events\n",
    "  extends: [base_events]\n",
    "\n",
    "#to\n",
    "\n",
    "explore: events {\n",
    "  description: \"Start here for Event analysis\"\n",
    "  fields: [ALL_FIELDS*]\n",
    "  from: events\n",
    "  view_name: events\n",
    "  extends: [base_events]\n",
    "  join: event_session_funnel {\n",
    "    type: left_outer\n",
    "    sql_on: ${events.session_id} = ${event_session_funnel.session_id} ;;\n",
    "    relationship: many_to_one\n",
    "  }"
   ]
  },
  {
   "cell_type": "markdown",
   "metadata": {},
   "source": [
    "Note: The new lines provide a description for the Explore info button, identify which fields from which view file to include (all fields), and specify which Explore is being used to extend the events Explore."
   ]
  },
  {
   "cell_type": "markdown",
   "metadata": {},
   "source": [
    "Your final definition for the events Explore should resemble the following:"
   ]
  },
  {
   "cell_type": "code",
   "execution_count": null,
   "metadata": {
    "vscode": {
     "languageId": "javascript"
    }
   },
   "outputs": [],
   "source": [
    "explore: events {\n",
    "  description: \"Start here for Event analysis\"\n",
    "  fields: [ALL_FIELDS*]\n",
    "  from: events\n",
    "  view_name: events\n",
    "  extends: [base_events]\n",
    "  join: event_session_funnel {\n",
    "    type: left_outer\n",
    "    sql_on: ${events.session_id} = ${event_session_funnel.session_id} ;;\n",
    "    relationship: many_to_one\n",
    "  }\n",
    "}"
   ]
  },
  {
   "cell_type": "markdown",
   "metadata": {},
   "source": [
    "Note: The from and view_name are both pointing to the events view, so why include both? The from makes sure that you are using the original view called events (not an alias name for the view and not an extended one), and the view_name is the view file name, which could be an alias, etc."
   ]
  },
  {
   "cell_type": "markdown",
   "metadata": {},
   "source": [
    "- Below the modified events Explore definition, to add a new Explore called conversions, use the following code:"
   ]
  },
  {
   "cell_type": "code",
   "execution_count": null,
   "metadata": {
    "vscode": {
     "languageId": "javascript"
    }
   },
   "outputs": [],
   "source": [
    "explore: conversions {\n",
    "  description: \"Start here for Conversion Analysis\"\n",
    "  fields: [ALL_FIELDS*, -order_items.total_revenue_from_completed_orders]\n",
    "  from: events\n",
    "  view_name: events\n",
    "  extends: [base_events]\n",
    "  join: order_items {\n",
    "    type: left_outer\n",
    "    sql_on: ${users.id} = ${order_items.user_id} ;;\n",
    "    relationship: many_to_many\n",
    "  }\n",
    "}"
   ]
  },
  {
   "cell_type": "markdown",
   "metadata": {},
   "source": [
    "Lines 2-6 here provide a description for the Explore info button, identify which fields from which view file to include (all fields except the total_revenue_from_completed_orders measure in the order items view), and specify which Explore is being used to extend this Explore (i.e., the same base_events Explore that was used to extend the events Explore)."
   ]
  },
  {
   "cell_type": "markdown",
   "metadata": {},
   "source": [
    "- Click Save Changes, and then click Validate LookML. No LookML errors were found, and your file should resemble the following:"
   ]
  },
  {
   "cell_type": "markdown",
   "metadata": {},
   "source": [
    "Now it's time to test your new Explores. Go to each Explore (Events and Conversions), and notice which views are included. Because the Explores share a core set of views but are customized with additional views, each one serves a different user audience."
   ]
  },
  {
   "cell_type": "markdown",
   "metadata": {},
   "source": [
    "- Navigate to the Events Explore, which contains the views joined in the base Explore (Events, Event Session Facts, Users) plus the Event Session Funnel view.\n",
    "\n",
    "- To review the description, hold the pointer over Information (info button) next to Events.\n",
    "\n",
    "- Navigate to the Conversions Explore, which contains the views joined in the base Explore (Events, Event Session Facts, Users) plus the Order Items view.\n",
    "\n",
    "- To review the description, hold the pointer over Information (info button) next to Conversions.\n",
    "\n",
    "- Review the measures in the Order Items view; total_revenue_from_completed_orders is not listed.\n",
    "\n",
    "- Return to the training_ecommerce.model file in the Looker IDE."
   ]
  },
  {
   "cell_type": "markdown",
   "metadata": {},
   "source": [
    "#### Commit changes and deploy to production\n",
    "\n",
    "- Click Validate LookML and then click Commit Changes & Push.\n",
    "\n",
    "- Add a commit message and click Commit.\n",
    "\n",
    "- Lastly, click Deploy to Production."
   ]
  },
  {
   "cell_type": "markdown",
   "metadata": {},
   "source": [
    "***"
   ]
  },
  {
   "cell_type": "markdown",
   "metadata": {},
   "source": []
  }
 ],
 "metadata": {
  "kernelspec": {
   "display_name": "Python 3.9.9 64-bit",
   "language": "python",
   "name": "python3"
  },
  "language_info": {
   "codemirror_mode": {
    "name": "ipython",
    "version": 3
   },
   "file_extension": ".py",
   "mimetype": "text/x-python",
   "name": "python",
   "nbconvert_exporter": "python",
   "pygments_lexer": "ipython3",
   "version": "3.9.9"
  },
  "orig_nbformat": 4,
  "vscode": {
   "interpreter": {
    "hash": "aee8b7b246df8f9039afb4144a1f6fd8d2ca17a180786b69acc140d282b71a49"
   }
  }
 },
 "nbformat": 4,
 "nbformat_minor": 2
}
