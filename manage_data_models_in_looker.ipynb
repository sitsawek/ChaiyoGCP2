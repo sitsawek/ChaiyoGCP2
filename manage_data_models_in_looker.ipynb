{
 "cells": [
  {
   "cell_type": "markdown",
   "metadata": {},
   "source": [
    "***"
   ]
  },
  {
   "cell_type": "markdown",
   "metadata": {},
   "source": [
    "**<center><font size = \"6\">Manage Data Models in Looker<center>**\n",
    "***\n",
    "<center><font size = \"2\">Prepared by: Sitsawek Sukorn<center>"
   ]
  },
  {
   "cell_type": "markdown",
   "metadata": {},
   "source": [
    "### Modularizing LookML Code with Extends"
   ]
  },
  {
   "cell_type": "markdown",
   "metadata": {},
   "source": [
    "### Extend a view to add columns from another view"
   ]
  },
  {
   "cell_type": "markdown",
   "metadata": {},
   "source": [
    "#### Create a new view"
   ]
  },
  {
   "cell_type": "markdown",
   "metadata": {},
   "source": [
    "- Click the toggle button to enter Development mode.\n",
    "\n",
    "- On the Develop tab, select the qwiklabs-ecommerce LookML project.\n",
    "\n",
    "- Click (+) next to File Browser, and select Create View.\n",
    "\n",
    "- Name the view location, drag it under the views folder, and add the following code to it:"
   ]
  },
  {
   "cell_type": "code",
   "execution_count": null,
   "metadata": {
    "vscode": {
     "languageId": "javascript"
    }
   },
   "outputs": [],
   "source": [
    "view: location {\n",
    "  extension: required\n",
    "  dimension: city {\n",
    "    type: string\n",
    "    sql: ${TABLE}.city ;;\n",
    "  }\n",
    "  dimension: state {\n",
    "    type: string\n",
    "    sql: ${TABLE}.state ;;\n",
    "    map_layer_name: us_states\n",
    "  }\n",
    "  dimension: zip {\n",
    "    type: zipcode\n",
    "    sql: ${TABLE}.zip ;;\n",
    "  }\n",
    "  dimension: country {\n",
    "    type: string\n",
    "    map_layer_name: countries\n",
    "    sql: ${TABLE}.country ;;\n",
    "  }\n",
    "  \n",
    "  dimension: latitude {\n",
    "    type: number\n",
    "    sql: ${TABLE}.latitude ;;\n",
    "  }\n",
    "  \n",
    "  dimension: longitude {\n",
    "    type: number\n",
    "    sql: ${TABLE}.longitude ;;\n",
    "  }\n",
    "}"
   ]
  },
  {
   "cell_type": "markdown",
   "metadata": {},
   "source": [
    "Notice line 2 (extension: required), which means that this view cannot be joined to other views, and thus will not be visible to users. To use this view, you must integrate it into another view using the extends parameter, which you do in the next section."
   ]
  },
  {
   "cell_type": "markdown",
   "metadata": {},
   "source": [
    "Also notice that, unlike with other views, you do not need to include the parameter sql_table_name in the view definition to identify which table to use for the data. Instead, this view will use the table specified in the view that will be extended in the next section.\n",
    "\n"
   ]
  },
  {
   "cell_type": "markdown",
   "metadata": {},
   "source": [
    "- Click Save Changes, and then click Validate LookML. No LookML errors were found, and your file should resemble the following:"
   ]
  },
  {
   "cell_type": "markdown",
   "metadata": {},
   "source": [
    "#### Add extends"
   ]
  },
  {
   "cell_type": "markdown",
   "metadata": {},
   "source": [
    "- Open the users.view file.\n",
    "\n",
    "- On a new line at the top of the file (line 1), add the following code, which indicates that the users view is being extended using the location view:"
   ]
  },
  {
   "cell_type": "code",
   "execution_count": null,
   "metadata": {
    "vscode": {
     "languageId": "javascript"
    }
   },
   "outputs": [],
   "source": [
    "include: location.view"
   ]
  },
  {
   "cell_type": "markdown",
   "metadata": {},
   "source": [
    "- On line 3 above sql_table_name, add the following code:"
   ]
  },
  {
   "cell_type": "code",
   "execution_count": null,
   "metadata": {
    "vscode": {
     "languageId": "javascript"
    }
   },
   "outputs": [],
   "source": [
    "extends: [location]"
   ]
  },
  {
   "cell_type": "markdown",
   "metadata": {},
   "source": [
    "Note: Because the extends are added, the sql_table_name parameter identifies which table to use as the data source for both the existing objects in the file and the objects that are added from geography via the extend."
   ]
  },
  {
   "cell_type": "markdown",
   "metadata": {},
   "source": [
    "- Remove the existing dimension definitions for: city, country, latitude, longitude, state, and zip (this is the existing order in the file). Instead of being explicitly defined in the users.view file, these dimensions are integrated via the extend from location.view.\n",
    "\n",
    "- Click Save Changes, and then click Validate LookML.\n",
    "\n",
    "- Open the event.view file.\n",
    "\n",
    "- On a new line at the top of the file (line 1), add the following code:"
   ]
  },
  {
   "cell_type": "code",
   "execution_count": null,
   "metadata": {
    "vscode": {
     "languageId": "javascript"
    }
   },
   "outputs": [],
   "source": [
    "include: location.view"
   ]
  },
  {
   "cell_type": "markdown",
   "metadata": {},
   "source": [
    "- On line 3 above sql_table_name, add the following code:"
   ]
  },
  {
   "cell_type": "code",
   "execution_count": null,
   "metadata": {
    "vscode": {
     "languageId": "javascript"
    }
   },
   "outputs": [],
   "source": [
    "extends: [location]"
   ]
  },
  {
   "cell_type": "markdown",
   "metadata": {},
   "source": [
    "- As you did with the users view, remove the existing dimension definitions for: city, country, latitude, longitude, state, and zip."
   ]
  },
  {
   "cell_type": "markdown",
   "metadata": {},
   "source": [
    "! must move location.view to view if not that errors. in this lab not mention that."
   ]
  },
  {
   "cell_type": "markdown",
   "metadata": {},
   "source": [
    "#### Test the extended view for Users and Events in the Order Items Explore"
   ]
  },
  {
   "cell_type": "markdown",
   "metadata": {},
   "source": [
    "- Navigate to the Explore page for Order Items.\n",
    "\n",
    "- From the Users view, select the City, Country, Latitude, Longitude, State, and Zip dimensions.\n",
    "\n",
    "- Click Run."
   ]
  },
  {
   "cell_type": "markdown",
   "metadata": {},
   "source": [
    "Even though you removed the definitions for these dimensions (city, country, latitude, longitude, state and zip) from the users.view file, you can see and use them because they were added to the users.view file using an extend from the location.view file!"
   ]
  },
  {
   "cell_type": "markdown",
   "metadata": {},
   "source": [
    "- Navigate to the Events Explore.\n",
    "\n",
    "- From the Events view, select the City, Country, Latitude, Longitude, State, and Zip dimensions."
   ]
  },
  {
   "cell_type": "markdown",
   "metadata": {},
   "source": [
    "Again, even though you removed the definitions for these dimensions from the events.view file, you can see and use them because they were added to the events.view file using an extend."
   ]
  },
  {
   "cell_type": "markdown",
   "metadata": {},
   "source": [
    "- Navigate back to the events.view file in the Looker IDE."
   ]
  },
  {
   "cell_type": "markdown",
   "metadata": {},
   "source": [
    "#### Commit changes and deploy to production\n"
   ]
  },
  {
   "cell_type": "markdown",
   "metadata": {},
   "source": [
    "- Click Validate LookML and then click Commit Changes & Push.\n",
    "\n",
    "- Add a commit message and click Commit.\n",
    "\n",
    "- Lastly, click Deploy to Production."
   ]
  },
  {
   "cell_type": "markdown",
   "metadata": {},
   "source": [
    "### Extend an Explore to add joins from another Explore\n"
   ]
  },
  {
   "cell_type": "markdown",
   "metadata": {},
   "source": [
    "- Navigate to the training_ecommerce.model file.\n",
    "\n",
    "- After the order_items Explore definition (around line 43), create a new base Explore called base_events, using the following code:"
   ]
  },
  {
   "cell_type": "code",
   "execution_count": null,
   "metadata": {
    "vscode": {
     "languageId": "javascript"
    }
   },
   "outputs": [],
   "source": [
    "explore: base_events {\n",
    "  extension: required\n",
    "  join: event_session_facts {\n",
    "    type: left_outer\n",
    "    sql_on: ${events.session_id} = ${event_session_facts.session_id} ;;\n",
    "    relationship: many_to_one\n",
    "  }\n",
    "  join: users {\n",
    "    type: left_outer\n",
    "    sql_on: ${events.user_id} = ${users.id} ;;\n",
    "    relationship: many_to_one\n",
    "  }\n",
    "}"
   ]
  },
  {
   "cell_type": "markdown",
   "metadata": {},
   "source": [
    "Notice again the line for extension: required, which means that this Explore is not visible to users. Your file should resemble the following:"
   ]
  },
  {
   "cell_type": "markdown",
   "metadata": {},
   "source": [
    "Next, you'll modify the existing definition for the events Explore to extend it with the views from base_events."
   ]
  },
  {
   "cell_type": "markdown",
   "metadata": {},
   "source": [
    "- From the events Explore, remove the existing joins for event_session_facts and users."
   ]
  },
  {
   "cell_type": "markdown",
   "metadata": {},
   "source": [
    "These joined views are integrated from the base_events Explore via code added in the next step. Notice that the join definition for event_session_funnel remains to customize this Explore for a particular set of users. Your file should resemble the following:"
   ]
  },
  {
   "cell_type": "code",
   "execution_count": null,
   "metadata": {
    "vscode": {
     "languageId": "javascript"
    }
   },
   "outputs": [],
   "source": [
    "explore: events {\n",
    "  join: event_session_facts {\n",
    "    type: left_outer\n",
    "    sql_on: ${events.session_id} = ${event_session_facts.session_id} ;;\n",
    "    relationship: many_to_one\n",
    "  }\n",
    "  join: event_session_funnel {\n",
    "    type: left_outer\n",
    "    sql_on: ${events.session_id} = ${event_session_funnel.session_id} ;;\n",
    "    relationship: many_to_one\n",
    "  }\n",
    "  join: users {\n",
    "    type: left_outer\n",
    "    sql_on: ${events.user_id} = ${users.id} ;;\n",
    "    relationship: many_to_one\n",
    "  }\n",
    "\n",
    "  to\n",
    "\n",
    "  explore: events {\n",
    "  join: event_session_funnel {\n",
    "    type: left_outer\n",
    "    sql_on: ${events.session_id} = ${event_session_funnel.session_id} ;;\n",
    "    relationship: many_to_one\n",
    "  }"
   ]
  },
  {
   "cell_type": "markdown",
   "metadata": {},
   "source": [
    "- Under the first line of the events Explore definition, add the following code:"
   ]
  },
  {
   "cell_type": "code",
   "execution_count": null,
   "metadata": {
    "vscode": {
     "languageId": "javascript"
    }
   },
   "outputs": [],
   "source": [
    "description: \"Start here for Event analysis\"\n",
    "  fields: [ALL_FIELDS*]\n",
    "from: events\n",
    "  view_name: events\n",
    "  extends: [base_events]\n",
    "\n",
    "#to\n",
    "\n",
    "explore: events {\n",
    "  description: \"Start here for Event analysis\"\n",
    "  fields: [ALL_FIELDS*]\n",
    "  from: events\n",
    "  view_name: events\n",
    "  extends: [base_events]\n",
    "  join: event_session_funnel {\n",
    "    type: left_outer\n",
    "    sql_on: ${events.session_id} = ${event_session_funnel.session_id} ;;\n",
    "    relationship: many_to_one\n",
    "  }"
   ]
  },
  {
   "cell_type": "markdown",
   "metadata": {},
   "source": [
    "Note: The new lines provide a description for the Explore info button, identify which fields from which view file to include (all fields), and specify which Explore is being used to extend the events Explore."
   ]
  },
  {
   "cell_type": "markdown",
   "metadata": {},
   "source": [
    "Your final definition for the events Explore should resemble the following:"
   ]
  },
  {
   "cell_type": "code",
   "execution_count": null,
   "metadata": {
    "vscode": {
     "languageId": "javascript"
    }
   },
   "outputs": [],
   "source": [
    "explore: events {\n",
    "  description: \"Start here for Event analysis\"\n",
    "  fields: [ALL_FIELDS*]\n",
    "  from: events\n",
    "  view_name: events\n",
    "  extends: [base_events]\n",
    "  join: event_session_funnel {\n",
    "    type: left_outer\n",
    "    sql_on: ${events.session_id} = ${event_session_funnel.session_id} ;;\n",
    "    relationship: many_to_one\n",
    "  }\n",
    "}"
   ]
  },
  {
   "cell_type": "markdown",
   "metadata": {},
   "source": [
    "Note: The from and view_name are both pointing to the events view, so why include both? The from makes sure that you are using the original view called events (not an alias name for the view and not an extended one), and the view_name is the view file name, which could be an alias, etc."
   ]
  },
  {
   "cell_type": "markdown",
   "metadata": {},
   "source": [
    "- Below the modified events Explore definition, to add a new Explore called conversions, use the following code:"
   ]
  },
  {
   "cell_type": "code",
   "execution_count": null,
   "metadata": {
    "vscode": {
     "languageId": "javascript"
    }
   },
   "outputs": [],
   "source": [
    "explore: conversions {\n",
    "  description: \"Start here for Conversion Analysis\"\n",
    "  fields: [ALL_FIELDS*, -order_items.total_revenue_from_completed_orders]\n",
    "  from: events\n",
    "  view_name: events\n",
    "  extends: [base_events]\n",
    "  join: order_items {\n",
    "    type: left_outer\n",
    "    sql_on: ${users.id} = ${order_items.user_id} ;;\n",
    "    relationship: many_to_many\n",
    "  }\n",
    "}"
   ]
  },
  {
   "cell_type": "markdown",
   "metadata": {},
   "source": [
    "Lines 2-6 here provide a description for the Explore info button, identify which fields from which view file to include (all fields except the total_revenue_from_completed_orders measure in the order items view), and specify which Explore is being used to extend this Explore (i.e., the same base_events Explore that was used to extend the events Explore)."
   ]
  },
  {
   "cell_type": "markdown",
   "metadata": {},
   "source": [
    "- Click Save Changes, and then click Validate LookML. No LookML errors were found, and your file should resemble the following:"
   ]
  },
  {
   "cell_type": "markdown",
   "metadata": {},
   "source": [
    "Now it's time to test your new Explores. Go to each Explore (Events and Conversions), and notice which views are included. Because the Explores share a core set of views but are customized with additional views, each one serves a different user audience."
   ]
  },
  {
   "cell_type": "markdown",
   "metadata": {},
   "source": [
    "- Navigate to the Events Explore, which contains the views joined in the base Explore (Events, Event Session Facts, Users) plus the Event Session Funnel view.\n",
    "\n",
    "- To review the description, hold the pointer over Information (info button) next to Events.\n",
    "\n",
    "- Navigate to the Conversions Explore, which contains the views joined in the base Explore (Events, Event Session Facts, Users) plus the Order Items view.\n",
    "\n",
    "- To review the description, hold the pointer over Information (info button) next to Conversions.\n",
    "\n",
    "- Review the measures in the Order Items view; total_revenue_from_completed_orders is not listed.\n",
    "\n",
    "- Return to the training_ecommerce.model file in the Looker IDE."
   ]
  },
  {
   "cell_type": "markdown",
   "metadata": {},
   "source": [
    "#### Commit changes and deploy to production\n",
    "\n",
    "- Click Validate LookML and then click Commit Changes & Push.\n",
    "\n",
    "- Add a commit message and click Commit.\n",
    "\n",
    "- Lastly, click Deploy to Production."
   ]
  },
  {
   "cell_type": "markdown",
   "metadata": {},
   "source": [
    "***"
   ]
  },
  {
   "cell_type": "markdown",
   "metadata": {},
   "source": [
    "**<center><font size = \"6\">Troubleshooting Data Models in Looker<center>**\n",
    "***"
   ]
  },
  {
   "cell_type": "markdown",
   "metadata": {},
   "source": [
    "### Use SQL Runner to explore available data and troubleshoot SQL queries"
   ]
  },
  {
   "cell_type": "markdown",
   "metadata": {},
   "source": [
    "#### Connect to a BigQuery dataset in SQL Runner"
   ]
  },
  {
   "cell_type": "markdown",
   "metadata": {},
   "source": [
    "- Click the toggle button to enter Development mode.\n",
    "\n",
    "- On the Develop tab, select SQL Runner.\n",
    "\n",
    "- Click Settings (settings-gear-icon.png), and then click Search public projects. The box for Project is now empty.\n",
    "\n",
    "- Type cloud-training-demos, and press ENTER.\n",
    "\n",
    "- For Dataset, select looker_ecomm. A list of the available tables in this BigQuery dataset is displayed.\n",
    "\n",
    "- Add the following query to the SQL Query window:"
   ]
  },
  {
   "cell_type": "code",
   "execution_count": null,
   "metadata": {
    "vscode": {
     "languageId": "sql"
    }
   },
   "outputs": [],
   "source": [
    "SELECT\n",
    "  orders.user_id as user_id\n",
    " \t,COUNT(*) as lifetime_orders\n",
    " \t,SUM(orders.order_price) as lifetime_sales\n",
    "FROM cloud-training-demos.looker_ecomm.orders\n",
    "GROUP BY user_id\n",
    "LIMIT 10"
   ]
  },
  {
   "cell_type": "markdown",
   "metadata": {},
   "source": [
    "Note: The provided SQL query contains incorrect information, which you troubleshoot in the next steps."
   ]
  },
  {
   "cell_type": "markdown",
   "metadata": {},
   "source": [
    "- Click Run. The following error message is displayed:"
   ]
  },
  {
   "cell_type": "markdown",
   "metadata": {},
   "source": [
    "Query execution failed: - Not found: Table cloud-training-demos:looker_ecomm.orders was not found in location US"
   ]
  },
  {
   "cell_type": "markdown",
   "metadata": {},
   "source": [
    "#### Identify the correct table names for SQL queries"
   ]
  },
  {
   "cell_type": "markdown",
   "metadata": {},
   "source": [
    "- In the list of table names under Tables, select the table that contains order information."
   ]
  },
  {
   "cell_type": "markdown",
   "metadata": {},
   "source": [
    "- Update the table name in the SQL query:"
   ]
  },
  {
   "cell_type": "code",
   "execution_count": null,
   "metadata": {
    "vscode": {
     "languageId": "sql"
    }
   },
   "outputs": [],
   "source": [
    "SELECT\n",
    "  order_items.user_id as user_id\n",
    " \t,COUNT(*) as lifetime_orders\n",
    " \t,SUM(order_items.order_price) as lifetime_sales\n",
    "FROM cloud-training-demos.looker_ecomm.order_items\n",
    "GROUP BY user_id\n",
    "LIMIT 10"
   ]
  },
  {
   "cell_type": "markdown",
   "metadata": {},
   "source": [
    "- Click Run. A new error message is displayed:"
   ]
  },
  {
   "cell_type": "markdown",
   "metadata": {},
   "source": [
    "Query execution failed: - Name order_price not found inside order_items at [5:19]"
   ]
  },
  {
   "cell_type": "markdown",
   "metadata": {},
   "source": [
    "- Under Tables, click order_items. A list of the table columns is displayed."
   ]
  },
  {
   "cell_type": "markdown",
   "metadata": {},
   "source": [
    "- Update the column name in the SQL query:"
   ]
  },
  {
   "cell_type": "code",
   "execution_count": null,
   "metadata": {
    "vscode": {
     "languageId": "sql"
    }
   },
   "outputs": [],
   "source": [
    "SELECT\n",
    "  order_items.user_id as user_id\n",
    " \t,COUNT(*) as lifetime_orders\n",
    " \t,SUM(order_items.sale_price) as lifetime_sales\n",
    "FROM cloud-training-demos.looker_ecomm.order_items\n",
    "GROUP BY user_id\n",
    "LIMIT 10"
   ]
  },
  {
   "cell_type": "markdown",
   "metadata": {},
   "source": [
    "- Click Run. The query results are returned successfully. You can now save this query as a SQL derived table."
   ]
  },
  {
   "cell_type": "markdown",
   "metadata": {},
   "source": [
    "#### Save the query as a SQL derived table"
   ]
  },
  {
   "cell_type": "markdown",
   "metadata": {},
   "source": [
    "- Click Settings (settings-gear-icon.png) next to Run, and then click Add to Project.\n",
    "\n",
    "- For Project, select qwiklabs-ecommerce.\n",
    "\n",
    "- For View Name, type user_order_lifetime.\n",
    "\n",
    "- Click Add.\n",
    "\n",
    "- In the File Browser, drag user_order_lifetime.view to to the views folder.\n",
    "\n",
    "- In the user_order_lifetime.view file, delete the code line for LIMIT 10 from the sql parameter."
   ]
  },
  {
   "cell_type": "markdown",
   "metadata": {},
   "source": [
    "Note: You are not defining a primary_key for the view at this time."
   ]
  },
  {
   "cell_type": "code",
   "execution_count": null,
   "metadata": {
    "vscode": {
     "languageId": "javascript"
    }
   },
   "outputs": [],
   "source": [
    "view: user_order_lifetime {\n",
    "  derived_table: {\n",
    "    sql: SELECT\n",
    "        order_items.user_id as user_id\n",
    "         ,COUNT(*) as lifetime_orders\n",
    "         ,SUM(order_items.sale_price) as lifetime_sales\n",
    "      FROM cloud-training-demos.looker_ecomm.order_items\n",
    "      GROUP BY user_id\n",
    "      LIMIT 10 # <-- delete here\n",
    "       ;;\n",
    "  }\n",
    "\n",
    "  measure: count {\n",
    "    type: count\n",
    "    drill_fields: [detail*]\n",
    "  }\n",
    "\n",
    "  dimension: user_id {\n",
    "    type: number\n",
    "    sql: ${TABLE}.user_id ;;\n",
    "  }\n",
    "\n",
    "  dimension: lifetime_orders {\n",
    "    type: number\n",
    "    sql: ${TABLE}.lifetime_orders ;;\n",
    "  }\n",
    "\n",
    "  dimension: lifetime_sales {\n",
    "    type: number\n",
    "    sql: ${TABLE}.lifetime_sales ;;\n",
    "  }\n",
    "\n",
    "  set: detail {\n",
    "    fields: [user_id, lifetime_orders, lifetime_sales]\n",
    "  }\n",
    "}\n"
   ]
  },
  {
   "cell_type": "markdown",
   "metadata": {},
   "source": [
    "- Click Save Changes, and then click Validate LookML. No LookML errors were found, and your file should resemble the following:"
   ]
  },
  {
   "cell_type": "markdown",
   "metadata": {},
   "source": [
    "- Navigate to the training_ecommerce.model file.\n",
    "\n",
    "- In the explore: events definition, on a new line before join: event_session_facts, use the following code to define a new join:"
   ]
  },
  {
   "cell_type": "code",
   "execution_count": null,
   "metadata": {
    "vscode": {
     "languageId": "javascript"
    }
   },
   "outputs": [],
   "source": [
    "join: user_order_lifetime {\n",
    "  type: left_outer\n",
    "  sql_on: ${events.user_id} = ${user_order_lifetime.user_id};;\n",
    "  relationship: many_to_one\n",
    "}"
   ]
  },
  {
   "cell_type": "code",
   "execution_count": null,
   "metadata": {
    "vscode": {
     "languageId": "javascript"
    }
   },
   "outputs": [],
   "source": [
    "# to this \n",
    "\n",
    "connection: \"bigquery_public_data_looker\"\n",
    "\n",
    "# include all the views\n",
    "include: \"/views/*.view\"\n",
    "include: \"/z_tests/*.lkml\"\n",
    "include: \"/**/*.dashboard\"\n",
    "\n",
    "datagroup: training_ecommerce_default_datagroup {\n",
    "  # sql_trigger: SELECT MAX(id) FROM etl_log;;\n",
    "  max_cache_age: \"1 hour\"\n",
    "}\n",
    "\n",
    "persist_with: training_ecommerce_default_datagroup\n",
    "\n",
    "label: \"E-Commerce Training\"\n",
    "\n",
    "explore: order_items {\n",
    "  join: users {\n",
    "    type: left_outer\n",
    "    sql_on: ${order_items.user_id} = ${users.id} ;;\n",
    "    relationship: many_to_one\n",
    "  }\n",
    "\n",
    "  join: inventory_items {\n",
    "    type: left_outer\n",
    "    sql_on: ${order_items.inventory_item_id} = ${inventory_items.id} ;;\n",
    "    relationship: many_to_one\n",
    "  }\n",
    "\n",
    "  join: products {\n",
    "    type: left_outer\n",
    "    sql_on: ${inventory_items.product_id} = ${products.id} ;;\n",
    "    relationship: many_to_one\n",
    "  }\n",
    "\n",
    "  join: distribution_centers {\n",
    "    type: left_outer\n",
    "    sql_on: ${products.distribution_center_id} = ${distribution_centers.id} ;;\n",
    "    relationship: many_to_one\n",
    "  }\n",
    "}\n",
    "\n",
    "explore: events {\n",
    "  join: user_order_lifetime {\n",
    "    type: left_outer\n",
    "    sql_on: ${events.user_id} = ${user_order_lifetime.user_id};;\n",
    "    relationship: many_to_one\n",
    "  }\n",
    "  join: event_session_facts {\n",
    "    type: left_outer\n",
    "    sql_on: ${events.session_id} = ${event_session_facts.session_id} ;;\n",
    "    relationship: many_to_one\n",
    "  }\n",
    "  join: event_session_funnel {\n",
    "    type: left_outer\n",
    "    sql_on: ${events.session_id} = ${event_session_funnel.session_id} ;;\n",
    "    relationship: many_to_one\n",
    "  }\n",
    "  join: users {\n",
    "    type: left_outer\n",
    "    sql_on: ${events.user_id} = ${users.id} ;;\n",
    "    relationship: many_to_one\n",
    "  }\n",
    "}\n"
   ]
  },
  {
   "cell_type": "markdown",
   "metadata": {},
   "source": [
    "#### Commit changes and deploy to production\n"
   ]
  },
  {
   "cell_type": "markdown",
   "metadata": {},
   "source": [
    "- Click Validate LookML and then click Commit Changes and Push.\n",
    "\n",
    "- Add a commit message and click Commit.\n",
    "\n",
    "- Lastly, click Deploy to Production."
   ]
  },
  {
   "cell_type": "markdown",
   "metadata": {},
   "source": [
    "### Use the LookML Validator to test syntax and validate relationships defined in the model"
   ]
  },
  {
   "cell_type": "markdown",
   "metadata": {},
   "source": [
    "#### Create a new dimension by referencing dimensions in another view"
   ]
  },
  {
   "cell_type": "markdown",
   "metadata": {},
   "source": [
    "- In the qwiklabs-ecommerce project, open users.view.\n",
    "\n",
    "- Find the last dimension, and add the following code (around line 88) to create a new dimension:"
   ]
  },
  {
   "cell_type": "code",
   "execution_count": null,
   "metadata": {
    "vscode": {
     "languageId": "javascript"
    }
   },
   "outputs": [],
   "source": [
    "dimension: average_sales  {\n",
    "  type: ${number}\n",
    "  sql: user_order_lifetime.lifetime_sales /\n",
    "    user_order_lifetime.lifetime_orders ;;\n",
    "  value_format_name: usd\n",
    "}"
   ]
  },
  {
   "cell_type": "markdown",
   "metadata": {},
   "source": [
    "Notice that the new dimension references dimensions from the newly created view called user_order_lifetime.\n",
    "\n",
    "Note: This LookML code contains incorrect syntax, which you troubleshoot in the next steps."
   ]
  },
  {
   "cell_type": "markdown",
   "metadata": {},
   "source": [
    "- Click Save Changes, and then click Validate LookML. Four different errors are displayed:\n",
    "\n",
    "- The first item identifies the location of the syntax error as “Invalid LookML syntax near line 89”.\n",
    "\n",
    "- The last item identifies the specific syntax error: “Expecting ‘keyword’, ‘}’, got ‘identifier’"
   ]
  },
  {
   "cell_type": "markdown",
   "metadata": {},
   "source": [
    "Because the view now contains invalid syntax, it is no longer considered a valid view; thus, additional errors are identified within the model file because the view cannot be found:"
   ]
  },
  {
   "cell_type": "markdown",
   "metadata": {},
   "source": [
    "- “Join name must match a view name” and “Could not find a field named users.id”\n"
   ]
  },
  {
   "cell_type": "markdown",
   "metadata": {},
   "source": [
    "After the syntax for the new dimension in the view file is corrected, these model file errors are also resolved because the view is again valid."
   ]
  },
  {
   "cell_type": "markdown",
   "metadata": {},
   "source": [
    "#### Identify and correct syntax errors in new dimensions"
   ]
  },
  {
   "cell_type": "markdown",
   "metadata": {},
   "source": [
    "You now troubleshoot the errors in the LookML code.\n",
    "\n",
    "- Review the other dimensions in the users.view file.\n",
    "\n",
    "- Review the documentation on defining numeric dimensions.\n",
    "https://cloud.google.com/looker/docs/reference/param-dimension-filter-parameter-types#number"
   ]
  },
  {
   "cell_type": "markdown",
   "metadata": {},
   "source": [
    "- Update the LookML code for the dimension:"
   ]
  },
  {
   "cell_type": "code",
   "execution_count": null,
   "metadata": {
    "vscode": {
     "languageId": "javascript"
    }
   },
   "outputs": [],
   "source": [
    "dimension: average_sales  {\n",
    "   type: number\n",
    "   sql: ${user_order_lifetime.lifetime_sales} /\n",
    "     ${user_order_lifetime.lifetime_orders} ;;\n",
    "   value_format_name: usd\n",
    "  }"
   ]
  },
  {
   "cell_type": "markdown",
   "metadata": {},
   "source": [
    "- Click Save Changes, and then click Validate LookML.\n",
    "\n",
    "Because the syntax was updated, the view is valid again, and the model errors have also been resolved. However, there are now two new errors:"
   ]
  },
  {
   "cell_type": "markdown",
   "metadata": {},
   "source": [
    "- Review the second error message for Inaccessible view in the Looker error catalog. There are a few possible options to investigate:\n",
    "\n",
    "- The view doesn’t exist.\n",
    "- The view is not joined correctly to the explore."
   ]
  },
  {
   "cell_type": "markdown",
   "metadata": {},
   "source": [
    "- Review the list of views in the File Browser. Notice that the view called user_order_lifetime actually exists in the File Browser.\n",
    "\n",
    "- Open and review training_ecommerce.model.\n",
    "\n",
    "Notice that the new view called user_order_lifetime is not joined to the base views of the Explores in the model file. Also notice that the users.view is joined to both the order_items and event Explores. For this reason, **the new view for user_order_lifetime must also be joined to both Explores in order for the new dimension to be defined successfully within users.view**."
   ]
  },
  {
   "cell_type": "markdown",
   "metadata": {},
   "source": [
    "- In the explore: order_items definition, on a new line before join: users, use the following code to define a new join:"
   ]
  },
  {
   "cell_type": "code",
   "execution_count": null,
   "metadata": {
    "vscode": {
     "languageId": "javascript"
    }
   },
   "outputs": [],
   "source": [
    "join: user_order_lifetime {\n",
    "  type: left_outer\n",
    "  sql: ${order_items.user_id} = ${user_order_lifetime.user_id};;\n",
    "  relationship: many_to_one\n",
    "}"
   ]
  },
  {
   "cell_type": "markdown",
   "metadata": {},
   "source": [
    "Note: One of these joins is incorrectly defined, which you troubleshoot in the next section."
   ]
  },
  {
   "cell_type": "markdown",
   "metadata": {},
   "source": [
    "- Click Save Changes, and then click Validate LookML."
   ]
  },
  {
   "cell_type": "markdown",
   "metadata": {},
   "source": [
    "#### Commit changes and deploy to production"
   ]
  },
  {
   "cell_type": "markdown",
   "metadata": {},
   "source": [
    "- Click Validate LookML and then click Commit Changes and Push.\n",
    "\n",
    "- Add a commit message and click Commit.\n",
    "\n",
    "- Lastly, click Deploy to Production."
   ]
  },
  {
   "cell_type": "markdown",
   "metadata": {},
   "source": [
    "### Use the Explore query window to diagnose missing objects and error messages"
   ]
  },
  {
   "cell_type": "markdown",
   "metadata": {},
   "source": [
    "#### Review a new view within the Explore"
   ]
  },
  {
   "cell_type": "markdown",
   "metadata": {},
   "source": [
    "- Open a new Looker window in a new tab.\n",
    "\n",
    "- Navigate to Explore > Order Items.\n",
    "\n",
    "- Expand the view for User Order Lifetime.\n",
    "\n",
    "Three dimensions are displayed, lifetime_orders, lifetime_sales, user_id, but no measures.\n",
    "\n",
    "Leave this browser tab open as you continue to the next steps."
   ]
  },
  {
   "cell_type": "markdown",
   "metadata": {},
   "source": [
    "#### Identify and correct missing parameters for aggregations within a view\n"
   ]
  },
  {
   "cell_type": "markdown",
   "metadata": {},
   "source": [
    "- Return to the browser tab for the Looker IDE, and navigate back to user_order_lifetime.view. One measure called count should be displayed in the Explore.\n",
    "\n",
    "- Review the documentation on requirements for symmetric aggregates. The first requirement is that all views involved in the join need to have a primary_key defined.\n",
    "\n",
    "- Review user_order_lifetime.view again. There is no primary_key defined."
   ]
  },
  {
   "cell_type": "markdown",
   "metadata": {},
   "source": [
    "- Within user_order_lifetime.view, update the user_id dimension to define it as the primary_key for the view:"
   ]
  },
  {
   "cell_type": "code",
   "execution_count": null,
   "metadata": {
    "vscode": {
     "languageId": "javascript"
    }
   },
   "outputs": [],
   "source": [
    "dimension: user_id {\n",
    "  primary_key: yes\n",
    "  type: number\n",
    "  sql: ${TABLE}.user_id ;;\n",
    "}"
   ]
  },
  {
   "cell_type": "markdown",
   "metadata": {},
   "source": [
    "- Click Save Changes, and then click Validate LookML.\n",
    "\n",
    "- Return to the browser tab for the Order Items Explore, and refresh the page.\n",
    "\n",
    "- Expand the view for User Order Lifetime. After you define a primary_key for the view, the Count measure is now displayed.\n",
    "\n",
    "In the next steps, you remain in the Order Items Explore to test the new dimension defined in users.view (Average Sales) that relies on the dimensions in user_order_lifetime.view."
   ]
  },
  {
   "cell_type": "markdown",
   "metadata": {},
   "source": [
    "#### Run Explore queries to test a new dimension"
   ]
  },
  {
   "cell_type": "markdown",
   "metadata": {},
   "source": [
    "- Under Users > Dimensions, click Average Sales, and then click Run.\n",
    "\n",
    "An error message is displayed along with the SQL query that the Explore sent to the underlying database. The error message identifies the problem at line 13: Query execution failed: - Syntax error: Expected end of input but got identifier \"order_items\" at [13:1].\n",
    "\n",
    "- In the Data pane, open the SQL tab to more easily review the failed query, and review line 13:"
   ]
  },
  {
   "cell_type": "markdown",
   "metadata": {},
   "source": [
    "order_items.user_id =user_order_lifetime.user_id"
   ]
  },
  {
   "cell_type": "markdown",
   "metadata": {},
   "source": [
    "- Leave this browser tab for the Order Items Explore open, and open a new Looker window in a new tab.\n",
    "\n",
    "- Navigate to Explore > Events.\n",
    "\n",
    "- Under Users > Dimensions, click Average Sales, and then click Run.\n",
    "\n",
    "- In the Data pane, open the SQL tab to see the successful query.\n",
    "\n",
    "- Review line 13 in this query."
   ]
  },
  {
   "cell_type": "markdown",
   "metadata": {},
   "source": [
    "Unlike the query in the Order Items Explore, the query syntax at line 13 specifies a join between events and user_order_lifetime:"
   ]
  },
  {
   "cell_type": "markdown",
   "metadata": {},
   "source": [
    "LEFT JOIN user_order_lifetime ON events.user_id =\n",
    "      user_order_lifetime.user_id"
   ]
  },
  {
   "cell_type": "markdown",
   "metadata": {},
   "source": [
    "#### Identify and correct invalid parameters in a model"
   ]
  },
  {
   "cell_type": "markdown",
   "metadata": {},
   "source": [
    "- Return to the browser tab for the Looker IDE, and open training_ecommerce.model.\n",
    "\n",
    "- Review the join for user_order_lifetime in both the order_items Explore and the events Explore.\n",
    "\n",
    "- Review the documentation on parameters.\n",
    "\n",
    "- In the explore: order_items definition, update the join for user_order_lifetime:"
   ]
  },
  {
   "cell_type": "code",
   "execution_count": null,
   "metadata": {
    "vscode": {
     "languageId": "javascript"
    }
   },
   "outputs": [],
   "source": [
    "join: user_order_lifetime {\n",
    "  type: left_outer\n",
    "  sql_on: ${order_items.user_id} = ${user_order_lifetime.user_id};;\n",
    "  relationship: many_to_one\n",
    "}"
   ]
  },
  {
   "cell_type": "markdown",
   "metadata": {},
   "source": [
    "- Click Save Changes, and then click Validate LookML. There are no LookML errors.\n",
    "\n",
    "- Return to the browser tab for the Order Items Explore, and refresh the page.\n",
    "\n",
    "Now that you have correctly defined the join for user_order_lifetime within the order_items explore, the query runs successfully."
   ]
  },
  {
   "cell_type": "markdown",
   "metadata": {},
   "source": [
    "#### Save an Explore query as a Look"
   ]
  },
  {
   "cell_type": "markdown",
   "metadata": {},
   "source": [
    "- Click once on the column for Average Sales to sort in descending order.\n",
    "\n",
    "- Expand the query by clicking on additional dimensions: ID, State, Country, and Age.\n",
    "\n",
    "- For Row Limit, enter: 10.\n",
    "\n",
    "- Click Run.\n",
    "\n",
    "- Expand the Visualization pane, and select the Table visualization.\n",
    "\n",
    "- Click Settings (settings-gear-icon.png).\n",
    "\n",
    "- Click Save > As a Look.\n",
    "\n",
    "- Name the Look Top 10 Users With Highest Average Sales.\n",
    "\n",
    "- Click Save & View Look. Your visualization should resemble the following:\n",
    "\n",
    "- Close the other tab for the Explore, and leave this browser tab open as you begin the next task."
   ]
  },
  {
   "cell_type": "markdown",
   "metadata": {},
   "source": [
    "### Use the Content Validator to test and update content after changes to LookML objects"
   ]
  },
  {
   "cell_type": "markdown",
   "metadata": {},
   "source": [
    "#### Modify the name of existing dimensions"
   ]
  },
  {
   "cell_type": "markdown",
   "metadata": {},
   "source": [
    "- Open users.view, find the dimension called average_sales, and modify the name of the dimension to be more specific for business users:"
   ]
  },
  {
   "cell_type": "code",
   "execution_count": null,
   "metadata": {
    "vscode": {
     "languageId": "javascript"
    }
   },
   "outputs": [],
   "source": [
    "dimension: average_order_price  {\n",
    "  type: number\n",
    "  sql: ${user_order_lifetime.lifetime_sales} / ${user_order_lifetime.lifetime_orders} ;;\n",
    "  value_format_name: usd\n",
    "}"
   ]
  },
  {
   "cell_type": "markdown",
   "metadata": {},
   "source": [
    "- Click Save Changes, and then click Validate LookML. There are no LookML errors.\n",
    "\n",
    "- Leave this browser tab open for the IDE, return to the browser tab for the Look, and refresh the page.\n",
    "\n",
    "Notice that there is now a warning: 'users.average_sales' no longer exists on Order Items, or you do not have access to it, and it will be ignored.\n",
    "\n",
    "- Open a new Looker window in a new tab.\n",
    "\n",
    "- Navigate to Develop > Content Validator.\n",
    "\n",
    "- Click Validate."
   ]
  },
  {
   "cell_type": "markdown",
   "metadata": {},
   "source": [
    "The Error tab is active, and there is an error for “Unknown field \"users.average_sales\" for the Look called Top 10 Users With Highest Average Sales, which you created in the previous task.\n",
    "\n",
    "- Click Find & Replace in All Content.\n",
    "\n",
    "- For Type, select Field.\n",
    "\n",
    "- For Field Name, type users.average_sales.\n",
    "\n",
    "- For Replacement Field Name, type users.average_order_price.\n",
    "\n",
    "- Click Replace Field Name.\n",
    "\n",
    "- Click OK.\n",
    "\n",
    "- Click Validate. The Error tab is now empty because the name of the dimension has been updated in all the content that referenced it (in this case, the Look named Top 10 Users With Highest Average Sales).\n",
    "\n",
    "- Return to the browser tab for the Look, and refresh the page. The Look has been updated and is rendering the visualization successfully, so you can now push your LookML changes to production.\n",
    "\n",
    "- Return to the browser tab for the IDE.\n",
    "\n",
    "- Click Validate LookML. There should be no LookML errors."
   ]
  },
  {
   "cell_type": "markdown",
   "metadata": {},
   "source": [
    "#### Commit changes and deploy to production"
   ]
  },
  {
   "cell_type": "markdown",
   "metadata": {},
   "source": [
    "- Click Validate LookML and then click Commit Changes and Push.\n",
    "\n",
    "- Add a commit message and click Commit.\n",
    "\n",
    "- Lastly, click Deploy to Production."
   ]
  },
  {
   "cell_type": "markdown",
   "metadata": {},
   "source": [
    "***"
   ]
  },
  {
   "cell_type": "markdown",
   "metadata": {},
   "source": [
    "**<center><font size = \"6\">Employing Best Practices for Improving the Usability of LookML Projects<center>**\n",
    "***"
   ]
  },
  {
   "cell_type": "markdown",
   "metadata": {},
   "source": [
    "### Create fields that leverage existing fields and descriptive naming conventions"
   ]
  },
  {
   "cell_type": "markdown",
   "metadata": {},
   "source": [
    "#### Create a yesno dimension from an existing dimension"
   ]
  },
  {
   "cell_type": "markdown",
   "metadata": {},
   "source": [
    "- Click the toggle button to enter Development mode.\n",
    "\n",
    "- From the Develop menu, select the qwiklabs_ecommerce project.\n",
    "\n",
    "- Open order_items.view.\n",
    "\n",
    "- Review the dimension named status."
   ]
  },
  {
   "cell_type": "markdown",
   "metadata": {},
   "source": [
    "In this case, ${TABLE}.status references the status column within the cloud-training-demos.looker_ecomm.order_items table. You can leverage this existing dimension to create a new yesno dimension that identifies whether an order has a canceled status."
   ]
  },
  {
   "cell_type": "markdown",
   "metadata": {},
   "source": [
    "Both order_is_canceled and is_order_canceled adhere to the best practice of descriptive names because they clearly identify the canceled object as an order. The choice between the two options is a naming convention decision that could be decided within your team."
   ]
  },
  {
   "cell_type": "markdown",
   "metadata": {},
   "source": [
    "- Under the status dimension, add the following code for a new yesno dimension:"
   ]
  },
  {
   "cell_type": "code",
   "execution_count": null,
   "metadata": {
    "vscode": {
     "languageId": "javascript"
    }
   },
   "outputs": [],
   "source": [
    "dimension: order_is_canceled {\n",
    "\ttype: yesno\n",
    "\tsql: ${status} = \"\" ;;\n",
    "}"
   ]
  },
  {
   "cell_type": "markdown",
   "metadata": {},
   "source": [
    "In this case, ${status} references the status dimension within the order_items view."
   ]
  },
  {
   "cell_type": "markdown",
   "metadata": {},
   "source": [
    "Running a query on the order_items table directly in SQL Runner allows you to see the raw data values in the status column."
   ]
  },
  {
   "cell_type": "markdown",
   "metadata": {},
   "source": [
    "- Leave the browser tab for the IDE open, and open a new Looker window in a new browser tab.\n",
    "\n",
    "- Navigate to Develop > SQL Runner.\n",
    "\n",
    "- Click Settings (settings-gear-icon.png), and then click Search public projects.\n",
    "\n",
    "- For Project, type cloud-training-demos, and then press ENTER.\n",
    "\n",
    "- For Dataset, select looker_ecomm. A list of the available tables in this BigQuery dataset is displayed.\n",
    "\n",
    "- To select the distinct values in the status column, add the following query to the SQL Query window, and then click Run:"
   ]
  },
  {
   "cell_type": "code",
   "execution_count": null,
   "metadata": {
    "vscode": {
     "languageId": "sql"
    }
   },
   "outputs": [],
   "source": [
    "SELECT distinct(status)\n",
    "FROM cloud-training-demos.looker_ecomm.order_items\n",
    "ORDER BY status"
   ]
  },
  {
   "cell_type": "markdown",
   "metadata": {},
   "source": [
    "Notice that the values include Cancelled, which uses the British English spelling with two letter Ls, instead of Canceled in the American English spelling.\n",
    "\n",
    "- Close the browser tab for SQL Runner, and return to the browser tab for the IDE.\n",
    "\n",
    "- Complete the LookML code for the new yesno dimension:"
   ]
  },
  {
   "cell_type": "code",
   "execution_count": null,
   "metadata": {
    "vscode": {
     "languageId": "javascript"
    }
   },
   "outputs": [],
   "source": [
    "dimension: order_is_canceled {\n",
    "\ttype: yesno\n",
    "\tsql: ${status} = \"Cancelled\" ;;\n",
    "}"
   ]
  },
  {
   "cell_type": "markdown",
   "metadata": {},
   "source": [
    "- Click Save Changes. Leave this browser tab open for the Looker IDE.\n",
    "\n",
    "- Open a new Looker window in a browser tab.\n",
    "\n",
    "- Navigate to Explore > Order Items.\n",
    "\n",
    "- In the Data pane, click on the SQL tab.\n",
    "\n",
    "- Under Order Items > Dimensions, select:\n",
    "\n",
    "- Order ID\n",
    "- Order Is Canceled (Yes/No)"
   ]
  },
  {
   "cell_type": "markdown",
   "metadata": {},
   "source": [
    "Before running the query, notice that the CASE statement returns the Yes or No result, depending on whether the value of order_item.status is equal to Cancelled:"
   ]
  },
  {
   "cell_type": "code",
   "execution_count": null,
   "metadata": {
    "vscode": {
     "languageId": "sql"
    }
   },
   "outputs": [],
   "source": [
    "CASE WHEN order_items.status = \"Cancelled\"  THEN 'Yes' ELSE 'No' END"
   ]
  },
  {
   "cell_type": "markdown",
   "metadata": {},
   "source": [
    "- Click Run.\n",
    "\n",
    "- Open the Results tab to see the results.\n",
    "\n",
    "- Close the browser tab for the Explore, and return to the browser tab for the IDE."
   ]
  },
  {
   "cell_type": "markdown",
   "metadata": {},
   "source": [
    "#### Create new measures based on an existing dimensions and measures\n"
   ]
  },
  {
   "cell_type": "markdown",
   "metadata": {},
   "source": [
    "- Open order_items.view.\n",
    "\n",
    "- Review the measure called total_revenue_from_completed_orders.\n",
    "\n",
    "- Following this measure, add the following code to create two new measures:"
   ]
  },
  {
   "cell_type": "code",
   "execution_count": null,
   "metadata": {
    "vscode": {
     "languageId": "javascript"
    }
   },
   "outputs": [],
   "source": [
    "measure: total_revenue_from_canceled_orders {\n",
    "\ttype: sum\n",
    "\tsql: ${sale_price} ;;\n",
    "\tfilters: [order_is_canceled: \"Yes\"]\n",
    "\tvalue_format_name: usd\n",
    "}\n",
    "measure: percent_revenue_canceled_orders {\n",
    "\ttype: number\n",
    "\tvalue_format_name: percent_2\n",
    "\tsql: 1.0*${total_revenue_from_canceled_orders}\n",
    "\t/NULLIF(${total_revenue}, 0) ;;\n",
    "}"
   ]
  },
  {
   "cell_type": "markdown",
   "metadata": {},
   "source": [
    "- Click Save Changes. Leave this browser tab open for the Looker IDE.\n",
    "\n",
    "- Open a new Looker window in a browser tab.\n",
    "\n",
    "- Navigate to Explore > Order Items.\n",
    "\n",
    "- In the Data pane, click on the SQL tab.\n",
    "\n",
    "- Under Order Items > Measures, select:\n",
    "\n",
    "- Total Revenue From Canceled Orders\n",
    "\n",
    "- Total Revenue\n",
    "\n",
    "- Percent Revenue Canceled Orders\n",
    "\n",
    "Before running the query, notice the CASE statement now used in conjunction with SUM to calculate the total of order_items.sale_price when the order_items.status is equal to Cancelled, and then divided by the total of all values in order_items.sale_price:"
   ]
  },
  {
   "cell_type": "code",
   "execution_count": null,
   "metadata": {
    "vscode": {
     "languageId": "sql"
    }
   },
   "outputs": [],
   "source": [
    "SUM(CASE WHEN order_items.status = \"Cancelled\"  THEN\n",
    "order_items.sale_price  ELSE NULL END), 0) / NULLIF(COALESCE(SUM(order_items.sale_price ), 0), 0)"
   ]
  },
  {
   "cell_type": "markdown",
   "metadata": {},
   "source": [
    "- Click Run.\n",
    "\n",
    "- Open the Results tab to see the results.\n",
    "\n",
    "- Close the browser tab for the Explore query, and return to the browser tab with the Looker IDE.\n",
    "\n",
    "- Click Project Health (project-health.png).\n",
    "\n",
    "- In the Project Health > LookML validation section, click Validate LookML. No LookML errors should be found."
   ]
  },
  {
   "cell_type": "markdown",
   "metadata": {},
   "source": [
    "#### Commit changes and deploy to production"
   ]
  },
  {
   "cell_type": "markdown",
   "metadata": {},
   "source": [
    "- Click Validate LookML and then click Commit Changes and Push.\n",
    "\n",
    "- Add a commit message and click Commit.\n",
    "\n",
    "- Lastly, click Deploy to Production."
   ]
  },
  {
   "cell_type": "markdown",
   "metadata": {},
   "source": [
    "### Provide context to fields and Explores with labels and descriptions"
   ]
  },
  {
   "cell_type": "markdown",
   "metadata": {},
   "source": [
    "#### Add labels and descriptions to dimensions"
   ]
  },
  {
   "cell_type": "markdown",
   "metadata": {},
   "source": [
    "- Open a new Looker window in a new browser tab.\n",
    "\n",
    "- Navigate to Explore > Order Items.\n",
    "\n",
    "- Expand Order Items, and hold the pointer over the dimension called Order Is Canceled (Yes/No) to see additional options.\n",
    "\n",
    "- Click Info (info icon) to see the details of this dimension.\n",
    "\n",
    "- Leave the browser tab for the Explore open, and return to the browser tab for the Looker IDE.\n",
    "\n",
    "- Open order_items.view.\n",
    "\n",
    "- Add a description for the order_is_canceled dimension you created earlier:"
   ]
  },
  {
   "cell_type": "code",
   "execution_count": null,
   "metadata": {
    "vscode": {
     "languageId": "javascript"
    }
   },
   "outputs": [],
   "source": [
    "dimension: order_is_canceled {\n",
    "    description: \"A value equal to Yes means that the order\n",
    "has a canceled status. A value equal to No means that the\n",
    "order does not have a canceled status.\"\n",
    "    type: yesno\n",
    "    sql: ${status} = \"Cancelled\" ;;\n",
    "  }"
   ]
  },
  {
   "cell_type": "markdown",
   "metadata": {},
   "source": [
    "- Click Save Changes, and then click Validate LookML.\n",
    "\n",
    "- Return to the browser tab for the Order Items Explore, and refresh the page.\n",
    "\n",
    "- Expand Order Items, and hold the pointer over the dimension called Order Is Canceled (Yes/No) to see additional options.\n",
    "\n",
    "- Click Info (info icon) to see the details of this dimension.\n",
    "\n",
    "- Leave the browser tab for the Explore open, and return to the browser tab for the Looker IDE.\n",
    "\n",
    "- Review the LookML code for order_is_canceled dimension again."
   ]
  },
  {
   "cell_type": "markdown",
   "metadata": {},
   "source": [
    "#### Add labels and descriptions to measures\n"
   ]
  },
  {
   "cell_type": "markdown",
   "metadata": {},
   "source": [
    "- In order_items.view, add descriptions and labels to the measures called total_revenue_from_canceled_orders and percent_revenue_canceled_orders:"
   ]
  },
  {
   "cell_type": "code",
   "execution_count": null,
   "metadata": {
    "vscode": {
     "languageId": "javascript"
    }
   },
   "outputs": [],
   "source": [
    "measure: total_revenue_from_canceled_orders {\n",
    "    label: \"Total Revenue Lost From Canceled Orders\"\n",
    "    description: \"Sum of sale price for orders with canceled status.\"\n",
    "    type: sum\n",
    "    sql: ${sale_price} ;;\n",
    "    filters: [order_is_canceled: \"Yes\"]\n",
    "    value_format_name: usd\n",
    "}\n",
    "measure: percent_revenue_canceled_orders {\n",
    "    label: \"% Revenue Lost From Canceled Orders\"\n",
    "    description: \"Total revenue lost from canceled orders as\n",
    "    a percentage of the total revenue from all orders.\"\n",
    "    type: number\n",
    "    value_format_name: percent_2\n",
    "    sql: 1.0*${total_revenue_from_canceled_orders}\n",
    "      /NULLIF(${total_revenue}, 0) ;;\n",
    "}"
   ]
  },
  {
   "cell_type": "markdown",
   "metadata": {},
   "source": [
    "- Click Save Changes, and then click Validate LookML.\n",
    "\n",
    "- Return to the browser tab for the Order Items Explore, and refresh the page.\n",
    "\n",
    "- Expand Order Items, and notice the revised labels for the two measures: % Revenue Lost From Canceled Orders and Total Revenue Lost From Canceled Orders.\n",
    "\n",
    "- Click Info (info icon) for each measure to see the details.\n",
    "\n",
    "- Under Order Items > Dimensions, select: Order Is Canceled (Yes/No).\n",
    "\n",
    "- Under Order Items > Measures, select:\n",
    "\n",
    "- Total Revenue Lost From Canceled Orders\n",
    "\n",
    "- Total Revenue\n",
    "\n",
    "- % of Revenue Lost from Canceled Orders\n",
    "\n",
    "- In the Data pane, hover over the column names to see the same description provided for the Info button for Order Is Canceled, Total Revenue Lost From Canceled Orders, and % of Revenue Lost from Canceled Orders.\n",
    "\n",
    "- Click Run."
   ]
  },
  {
   "cell_type": "markdown",
   "metadata": {},
   "source": [
    "#### Add a label and description to an Explore"
   ]
  },
  {
   "cell_type": "markdown",
   "metadata": {},
   "source": [
    "- Close the browser tab for the Explore, and return to the browser tab for the Looker IDE.\n",
    "\n",
    "- Open training_ecommerce.model.\n",
    "\n",
    "- Add a label and description to the existing Order Items Explore, before the join for users:"
   ]
  },
  {
   "cell_type": "code",
   "execution_count": null,
   "metadata": {
    "vscode": {
     "languageId": "javascript"
    }
   },
   "outputs": [],
   "source": [
    "explore: order_items {\n",
    "  label: \"Orders and Users\"\n",
    "  description: \"Use this Explore to review details for orders and users,\n",
    "  including information on inventory, products, and distribution centers.\"\n",
    "  join: users {\n",
    "    type: left_outer\n",
    "    sql_on: ${order_items.user_id} = ${users.id} ;;\n",
    "    relationship: many_to_one\n",
    "}"
   ]
  },
  {
   "cell_type": "markdown",
   "metadata": {},
   "source": [
    "- Click Save Changes, and then click Validate LookML.\n",
    "\n",
    "- Leave the browser tab for the IDE open, and open a new Looker window in a new browser tab.\n",
    "\n",
    "- Click Explore to see the menu list of Explores.\n",
    "\n",
    "- Hold the pointer over Info (info icon) to see the details of the Explore.\n",
    "\n",
    "- Close the browser tab for the Explore, and leave the browser tab for the IDE open."
   ]
  },
  {
   "cell_type": "markdown",
   "metadata": {},
   "source": [
    "### Limit fields to only those needed in a specific Explore"
   ]
  },
  {
   "cell_type": "markdown",
   "metadata": {},
   "source": [
    "#### Hide a field from all Explores in a LookML model"
   ]
  },
  {
   "cell_type": "markdown",
   "metadata": {},
   "source": [
    "- Open a new Looker window in a new browser tab.\n",
    "\n",
    "- Navigate to Explore > Events.\n",
    "\n",
    "- Expand Users.\n",
    "\n",
    "- Open another new Looker window in a new browser tab.\n",
    "\n",
    "- Navigate to Explore > Orders and Users.\n",
    "\n",
    "- Expand Users, and compare the two Explores.\n",
    "\n",
    "- Leave the browser tabs open for both Explores, and return to the Looker IDE.\n",
    "\n",
    "- Open users.view.\n",
    "\n",
    "- Add the hidden parameter to the latitude and longitude dimensions:"
   ]
  },
  {
   "cell_type": "code",
   "execution_count": null,
   "metadata": {
    "vscode": {
     "languageId": "javascript"
    }
   },
   "outputs": [],
   "source": [
    "dimension: latitude {\n",
    "  hidden: yes\n",
    "  type: number\n",
    "  sql: ${TABLE}.latitude ;;\n",
    "}\n",
    "dimension: longitude {\n",
    "  hidden:  yes\n",
    "  type: number\n",
    "  sql: ${TABLE}.longitude ;;\n",
    "}"
   ]
  },
  {
   "cell_type": "markdown",
   "metadata": {},
   "source": [
    "- Click Save Changes, and then click Validate LookML.\n",
    "\n",
    "- Return to the browser tab for the Orders and Users Explore, and refresh the page.\n",
    "\n",
    "- Expand Users, and review the available dimensions.\n",
    "\n",
    "- Return to the browser tab for the Events Explore, and refresh the page.\n",
    "\n",
    "- Expand Users, and review the available dimensions."
   ]
  },
  {
   "cell_type": "markdown",
   "metadata": {},
   "source": [
    "#### Selectively hide fields from specific Explores"
   ]
  },
  {
   "cell_type": "markdown",
   "metadata": {},
   "source": [
    "- Leave the browser tabs open for the Explore, and return to the browser tab for the IDE.\n",
    "\n",
    "- Open training_ecommerce.model.\n",
    "\n",
    "- Add the fields parameter to the existing Events Explore, before the join for event_session_facts:"
   ]
  },
  {
   "cell_type": "code",
   "execution_count": null,
   "metadata": {
    "vscode": {
     "languageId": "javascript"
    }
   },
   "outputs": [],
   "source": [
    "explore: events {\n",
    "  fields: [ALL_FIELDS*, -users.city, -users.email, -users.first_name,\n",
    "    -users.gender, -users.last_name, -users.state]\n",
    "  join: event_session_facts {\n",
    "    type: left_outer\n",
    "    sql_on: ${events.session_id} = ${event_session_facts.session_id} ;;\n",
    "    relationship: many_to_one\n",
    "  }"
   ]
  },
  {
   "cell_type": "markdown",
   "metadata": {},
   "source": [
    "- Click Save Changes, and then click Validate LookML.\n",
    "\n",
    "- Return to the browser tab for the Orders and Users Explore, and refresh the page.\n",
    "\n",
    "- Expand Users, and review the available dimensions.\n",
    "\n",
    "- Return to the browser tab for the Events Explore, and refresh the page.\n",
    "\n",
    "- Expand Users, and review the available dimensions.\n",
    "\n",
    "- Under Users > Dimensions, select Country.\n",
    "\n",
    "- Under Users > Measures, select Count.\n",
    "\n",
    "- Under Events > Dimensions, select Event Type.\n",
    "\n",
    "- Click Run.\n",
    "\n",
    "- Close both of the browser tabs open for the Explore, and leave the browser tab for the IDE open."
   ]
  },
  {
   "cell_type": "markdown",
   "metadata": {},
   "source": [
    "### Group similar fields or Explores into useful categories"
   ]
  },
  {
   "cell_type": "markdown",
   "metadata": {},
   "source": [
    "#### Group similar fields in a view"
   ]
  },
  {
   "cell_type": "markdown",
   "metadata": {},
   "source": [
    "- Open users.view and review the available dimensions.\n",
    "\n",
    "- Add the group_label parameter to the city, country, state, and zip dimensions:"
   ]
  },
  {
   "cell_type": "code",
   "execution_count": null,
   "metadata": {
    "vscode": {
     "languageId": "javascript"
    }
   },
   "outputs": [],
   "source": [
    "dimension: city {\n",
    "  group_label: \"Location\"\n",
    "  type: string\n",
    "  sql: ${TABLE}.city ;;\n",
    "}\n",
    "dimension: country {\n",
    "  group_label: \"Location\"\n",
    "  type: string\n",
    "  map_layer_name: countries\n",
    "  sql: ${TABLE}.country ;;\n",
    "}\n",
    "dimension: state {\n",
    "  group_label: \"Location\"\n",
    "  type: string\n",
    "  sql: ${TABLE}.state ;;\n",
    "  map_layer_name: us_states\n",
    "}\n",
    "dimension: zip {\n",
    "  group_label: \"Location\"\n",
    "  type: zipcode\n",
    "  sql: ${TABLE}.zip ;;\n",
    "  }"
   ]
  },
  {
   "cell_type": "markdown",
   "metadata": {},
   "source": [
    "- Click Save Changes, and then click Validate LookML.\n",
    "\n",
    "- Leave the browser tab open for the IDE, and open a new Looker window in a new browser tab.\n",
    "\n",
    "- Navigate to Explore > Orders and Users.\n",
    "\n",
    "- Expand Users and review the available dimensions.\n",
    "\n",
    "- Under Users > Dimension > Location, select:\n",
    "\n",
    "- City\n",
    "\n",
    "- Country\n",
    "\n",
    "- State\n",
    "\n",
    "- Zip\n",
    "\n",
    "- Click Run to see the results.\n",
    "\n",
    "- Close the browser tab for the Orders and Users Explore, and return to the browser tab for the IDE."
   ]
  },
  {
   "cell_type": "markdown",
   "metadata": {},
   "source": [
    "#### Create groups of Explores under different headings\n"
   ]
  },
  {
   "cell_type": "markdown",
   "metadata": {},
   "source": [
    "- Open training_ecommerce.model.\n",
    "\n",
    "- Before the label parameter, add a group_label called “E-commerce - Inventory Team” to the Orders and Users Explore:"
   ]
  },
  {
   "cell_type": "code",
   "execution_count": null,
   "metadata": {
    "vscode": {
     "languageId": "javascript"
    }
   },
   "outputs": [],
   "source": [
    "explore: order_items {\n",
    "  group_label: \"E-commerce - Inventory Team\"\n",
    "  label: \"Orders and Users\""
   ]
  },
  {
   "cell_type": "markdown",
   "metadata": {},
   "source": [
    "- Before the fields parameter, add a group_label called “E-commerce - Marketing Team” to the Events Explore:"
   ]
  },
  {
   "cell_type": "code",
   "execution_count": null,
   "metadata": {
    "vscode": {
     "languageId": "javascript"
    }
   },
   "outputs": [],
   "source": [
    "explore: events {\n",
    "  group_label: \"E-commerce - Marketing Team\"\n",
    "  fields: [ALL_FIELDS*, -users.city, -users.email, -users.first_name,\n",
    "    -users.gender, -users.last_name, -users.state]"
   ]
  },
  {
   "cell_type": "markdown",
   "metadata": {},
   "source": [
    "- Click Save Changes, and then click Validate LookML.\n",
    "\n",
    "- Open a new Looker window in a new browser tab.\n",
    "\n",
    "- Expand the Explore menu and review the options."
   ]
  },
  {
   "cell_type": "markdown",
   "metadata": {},
   "source": [
    "##### training_ecommerce.model"
   ]
  },
  {
   "cell_type": "code",
   "execution_count": null,
   "metadata": {
    "vscode": {
     "languageId": "javascript"
    }
   },
   "outputs": [],
   "source": [
    "connection: \"bigquery_public_data_looker\"\n",
    "\n",
    "# include all the views\n",
    "include: \"/views/*.view\"\n",
    "include: \"/z_tests/*.lkml\"\n",
    "include: \"/**/*.dashboard\"\n",
    "\n",
    "datagroup: training_ecommerce_default_datagroup {\n",
    "  # sql_trigger: SELECT MAX(id) FROM etl_log;;\n",
    "  max_cache_age: \"1 hour\"\n",
    "}\n",
    "\n",
    "persist_with: training_ecommerce_default_datagroup\n",
    "\n",
    "label: \"E-Commerce Training\"\n",
    "\n",
    "explore: order_items {\n",
    "  group_label: \"E-commerce - Inventory Team\"\n",
    "  label: \"Orders and Users\"\n",
    "  description: \"Use this Explore to review details for orders and users,\n",
    "  including information on inventory, products, and distribution centers.\"\n",
    "  join: users {\n",
    "    type: left_outer\n",
    "    sql_on: ${order_items.user_id} = ${users.id} ;;\n",
    "    relationship: many_to_one\n",
    "  }\n",
    "\n",
    "  join: inventory_items {\n",
    "    type: left_outer\n",
    "    sql_on: ${order_items.inventory_item_id} = ${inventory_items.id} ;;\n",
    "    relationship: many_to_one\n",
    "  }\n",
    "\n",
    "  join: products {\n",
    "    type: left_outer\n",
    "    sql_on: ${inventory_items.product_id} = ${products.id} ;;\n",
    "    relationship: many_to_one\n",
    "  }\n",
    "\n",
    "  join: distribution_centers {\n",
    "    type: left_outer\n",
    "    sql_on: ${products.distribution_center_id} = ${distribution_centers.id} ;;\n",
    "    relationship: many_to_one\n",
    "  }\n",
    "}\n",
    "\n",
    "explore: events {\n",
    "  group_label: \"E-commerce - Marketing Team\"\n",
    "  fields: [ALL_FIELDS*, -users.city, -users.email, -users.first_name,\n",
    "    -users.gender, -users.last_name, -users.state]\n",
    "  join: event_session_facts {\n",
    "    type: left_outer\n",
    "    sql_on: ${events.session_id} = ${event_session_facts.session_id} ;;\n",
    "    relationship: many_to_one\n",
    "  }\n",
    "  join: event_session_funnel {\n",
    "    type: left_outer\n",
    "    sql_on: ${events.session_id} = ${event_session_funnel.session_id} ;;\n",
    "    relationship: many_to_one\n",
    "  }\n",
    "  join: users {\n",
    "    type: left_outer\n",
    "    sql_on: ${events.user_id} = ${users.id} ;;\n",
    "    relationship: many_to_one\n",
    "  }\n",
    "}\n"
   ]
  },
  {
   "cell_type": "markdown",
   "metadata": {},
   "source": [
    "##### order_items.views"
   ]
  },
  {
   "cell_type": "code",
   "execution_count": null,
   "metadata": {
    "vscode": {
     "languageId": "javascript"
    }
   },
   "outputs": [],
   "source": [
    "view: order_items {\n",
    "  sql_table_name: `cloud-training-demos.looker_ecomm.order_items`\n",
    "    ;;\n",
    "  drill_fields: [order_item_id]\n",
    "\n",
    "  dimension: order_item_id {\n",
    "    primary_key: yes\n",
    "    type: number\n",
    "    sql: ${TABLE}.id ;;\n",
    "  }\n",
    "\n",
    "  dimension_group: created {\n",
    "    type: time\n",
    "    timeframes: [\n",
    "      raw,\n",
    "      time,\n",
    "      date,\n",
    "      week,\n",
    "      month,\n",
    "      quarter,\n",
    "      year\n",
    "    ]\n",
    "    sql: ${TABLE}.created_at ;;\n",
    "  }\n",
    "\n",
    "  dimension_group: delivered {\n",
    "    type: time\n",
    "    timeframes: [\n",
    "      raw,\n",
    "      date,\n",
    "      week,\n",
    "      month,\n",
    "      quarter,\n",
    "      year\n",
    "    ]\n",
    "    convert_tz: no\n",
    "    datatype: date\n",
    "    sql: ${TABLE}.delivered_at ;;\n",
    "  }\n",
    "\n",
    "  dimension: inventory_item_id {\n",
    "    type: number\n",
    "    # hidden: yes\n",
    "    sql: ${TABLE}.inventory_item_id ;;\n",
    "  }\n",
    "\n",
    "  dimension: order_id {\n",
    "    type: number\n",
    "    sql: ${TABLE}.order_id ;;\n",
    "  }\n",
    "\n",
    "  dimension_group: returned {\n",
    "    type: time\n",
    "    timeframes: [\n",
    "      raw,\n",
    "      time,\n",
    "      date,\n",
    "      week,\n",
    "      month,\n",
    "      quarter,\n",
    "      year\n",
    "    ]\n",
    "    sql: ${TABLE}.returned_at ;;\n",
    "  }\n",
    "\n",
    "  dimension: sale_price {\n",
    "    type: number\n",
    "    sql: ${TABLE}.sale_price ;;\n",
    "  }\n",
    "\n",
    "  dimension_group: shipped {\n",
    "    type: time\n",
    "    timeframes: [\n",
    "      raw,\n",
    "      date,\n",
    "      week,\n",
    "      month,\n",
    "      quarter,\n",
    "      year\n",
    "    ]\n",
    "    convert_tz: no\n",
    "    datatype: date\n",
    "    sql: ${TABLE}.shipped_at ;;\n",
    "  }\n",
    "\n",
    "  dimension: order_is_canceled {\n",
    "    description: \"A value equal to Yes means that the order\n",
    "    has a canceled status. A value equal to No means that the\n",
    "    order does not have a canceled status.\"\n",
    "    type: yesno\n",
    "    sql: ${TABLE}.status  = \"Cancelled\" ;;\n",
    "  }\n",
    "\n",
    "  dimension: user_id {\n",
    "    type: number\n",
    "    # hidden: yes\n",
    "    sql: ${TABLE}.user_id ;;\n",
    "  }\n",
    "\n",
    "\n",
    "  measure: average_sale_price {\n",
    "    type: average\n",
    "    sql: ${sale_price} ;;\n",
    "    drill_fields: [detail*]\n",
    "    value_format_name: usd_0\n",
    "  }\n",
    "\n",
    "  measure: order_item_count {\n",
    "    type: count\n",
    "    drill_fields: [detail*]\n",
    "  }\n",
    "\n",
    "  measure: order_count {\n",
    "    type: count_distinct\n",
    "    sql: ${order_id} ;;\n",
    "  }\n",
    "\n",
    "  measure: total_revenue {\n",
    "    type: sum\n",
    "    sql: ${sale_price} ;;\n",
    "    value_format_name: usd\n",
    "  }\n",
    "\n",
    "  measure: total_revenue_from_completed_orders {\n",
    "    type: sum\n",
    "    sql: ${order_items.sale_price} and ${TABLE}.status  = \"Complete\";;\n",
    "    # filters: [${TABLE}.status : \"Complete\"]\n",
    "    value_format_name: usd\n",
    "  }\n",
    "\n",
    "  measure: total_revenue_from_canceled_orders {\n",
    "    label: \"Total Revenue Lost From Canceled Orders\"\n",
    "    description: \"Sum of sale price for orders with canceled status.\"\n",
    "    type: sum\n",
    "    sql: ${sale_price} ;;\n",
    "    filters: [order_is_canceled: \"Yes\"]\n",
    "    value_format_name: usd\n",
    "  }\n",
    "  measure: percent_revenue_canceled_orders {\n",
    "    label: \"% Revenue Lost From Canceled Orders\"\n",
    "    description: \"Total revenue lost from canceled orders as\n",
    "    a percentage of the total revenue from all orders.\"\n",
    "    type: number\n",
    "    value_format_name: percent_2\n",
    "    sql: 1.0*${total_revenue_from_canceled_orders}\n",
    "      /NULLIF(${total_revenue}, 0) ;;\n",
    "  }\n",
    "\n",
    "\n",
    "  # ----- Sets of fields for drilling ------\n",
    "  set: detail {\n",
    "    fields: [\n",
    "      order_item_id,\n",
    "      users.last_name,\n",
    "      users.id,\n",
    "      users.first_name,\n",
    "      inventory_items.id,\n",
    "      inventory_items.product_name\n",
    "    ]\n",
    "  }\n",
    "}\n"
   ]
  },
  {
   "cell_type": "markdown",
   "metadata": {},
   "source": [
    "##### users.view"
   ]
  },
  {
   "cell_type": "code",
   "execution_count": null,
   "metadata": {
    "vscode": {
     "languageId": "javascript"
    }
   },
   "outputs": [],
   "source": [
    "view: users {\n",
    "  sql_table_name: `cloud-training-demos.looker_ecomm.users`\n",
    "    ;;\n",
    "  drill_fields: [id]\n",
    "\n",
    "  dimension: id {\n",
    "    primary_key: yes\n",
    "    type: number\n",
    "    sql: ${TABLE}.id ;;\n",
    "  }\n",
    "\n",
    "  dimension: age {\n",
    "    type: number\n",
    "    sql: ${TABLE}.age ;;\n",
    "  }\n",
    "\n",
    "  dimension: city {\n",
    "    group_label: \"Location\"\n",
    "    type: string\n",
    "    sql: ${TABLE}.city ;;\n",
    "  }\n",
    "\n",
    "  dimension: country {\n",
    "    group_label: \"Location\"\n",
    "    type: string\n",
    "    map_layer_name: countries\n",
    "    sql: ${TABLE}.country ;;\n",
    "  }\n",
    "\n",
    "  dimension_group: created {\n",
    "    type: time\n",
    "    timeframes: [\n",
    "      raw,\n",
    "      time,\n",
    "      date,\n",
    "      week,\n",
    "      month,\n",
    "      quarter,\n",
    "      year\n",
    "    ]\n",
    "    sql: ${TABLE}.created_at ;;\n",
    "  }\n",
    "\n",
    "  dimension: email {\n",
    "    type: string\n",
    "    sql: ${TABLE}.email ;;\n",
    "  }\n",
    "\n",
    "  dimension: first_name {\n",
    "    type: string\n",
    "    sql: ${TABLE}.first_name ;;\n",
    "  }\n",
    "\n",
    "  dimension: gender {\n",
    "    type: string\n",
    "    sql: ${TABLE}.gender ;;\n",
    "  }\n",
    "\n",
    "  dimension: last_name {\n",
    "    type: string\n",
    "    sql: ${TABLE}.last_name ;;\n",
    "  }\n",
    "\n",
    "  dimension: latitude {\n",
    "    hidden: yes\n",
    "    type: number\n",
    "    sql: ${TABLE}.latitude ;;\n",
    "  }\n",
    "  dimension: longitude {\n",
    "    hidden:  yes\n",
    "    type: number\n",
    "    sql: ${TABLE}.longitude ;;\n",
    "  }\n",
    "\n",
    "  dimension: state {\n",
    "    group_label: \"Location\"\n",
    "    type: string\n",
    "    sql: ${TABLE}.state ;;\n",
    "    map_layer_name: us_states\n",
    "  }\n",
    "\n",
    "  dimension: traffic_source {\n",
    "    type: string\n",
    "    sql: ${TABLE}.traffic_source ;;\n",
    "  }\n",
    "\n",
    "  dimension: zip {\n",
    "    group_label: \"Location\"\n",
    "    type: zipcode\n",
    "    sql: ${TABLE}.zip ;;\n",
    "  }\n",
    "\n",
    "\n",
    "\n",
    "\n",
    "  measure: count {\n",
    "    type: count\n",
    "    drill_fields: [id, last_name, first_name, events.count, order_items.count]\n",
    "  }\n",
    "}\n"
   ]
  },
  {
   "cell_type": "markdown",
   "metadata": {},
   "source": [
    "***"
   ]
  },
  {
   "cell_type": "markdown",
   "metadata": {},
   "source": [
    "**<center><font size = \"6\">Caching and Datagroups with LookML<center>**\n",
    "***"
   ]
  },
  {
   "cell_type": "markdown",
   "metadata": {},
   "source": [
    "### Apply a datagroup to an Explore"
   ]
  },
  {
   "cell_type": "markdown",
   "metadata": {},
   "source": [
    "#### Open the model"
   ]
  },
  {
   "cell_type": "markdown",
   "metadata": {},
   "source": [
    "- Click the toggle button to enter Development mode.\n",
    "\n",
    "- On the Develop tab, select the qwiklabs-ecommerce LookML project.\n",
    "\n",
    "- Open the training_ecommerce.model file."
   ]
  },
  {
   "cell_type": "markdown",
   "metadata": {},
   "source": [
    "Notice that this model file has a default datagroup with a max_cache_age of 1 hour. Whenever you create a new LookML project by having Looker generate the model from the database schema, Looker automatically creates a default datagroup with the name of the model, in this case training_ecommerce, followed by _default_datagroup."
   ]
  },
  {
   "cell_type": "markdown",
   "metadata": {},
   "source": [
    "#### Delete the default datagroup and replace it"
   ]
  },
  {
   "cell_type": "markdown",
   "metadata": {},
   "source": [
    "Because this default datagroup is currently defined at the model level, it is applied to all Explores defined in the model. You want to apply the datagroup to the Explore, so you must remove the default one and update it accordingly. To complete the definition of the new datagroup, you need to provide values for the two parameters: sql_trigger and max_cache_age.\n",
    "\n",
    "- Delete the default datagroup and the persist_with definition (Lines 8-13).\n",
    "\n",
    "- To create a new datagroup for a specific Explore such as Order Items, enter the following code:"
   ]
  },
  {
   "cell_type": "code",
   "execution_count": null,
   "metadata": {
    "vscode": {
     "languageId": "javascript"
    }
   },
   "outputs": [],
   "source": [
    "datagroup: order_items_datagroup {}"
   ]
  },
  {
   "cell_type": "markdown",
   "metadata": {},
   "source": [
    "- For the sql_trigger, to select the maximum ID for order_item_id, enter the following code:"
   ]
  },
  {
   "cell_type": "code",
   "execution_count": null,
   "metadata": {
    "vscode": {
     "languageId": "javascript"
    }
   },
   "outputs": [],
   "source": [
    "sql_trigger: SELECT MAX(order_item_id) from order_items ;;"
   ]
  },
  {
   "cell_type": "markdown",
   "metadata": {},
   "source": [
    "- Set the max_cache_age so that caching will continue to refresh every hour even if there is an issue with data updates. Enter the following code:"
   ]
  },
  {
   "cell_type": "code",
   "execution_count": null,
   "metadata": {
    "vscode": {
     "languageId": "javascript"
    }
   },
   "outputs": [],
   "source": [
    "max_cache_age: \"1 hour\""
   ]
  },
  {
   "cell_type": "markdown",
   "metadata": {},
   "source": [
    "#### Apply the datagroup"
   ]
  },
  {
   "cell_type": "markdown",
   "metadata": {},
   "source": [
    "Note that configuring a datagroup by itself doesn’t do anything; it is a two-step process. After defining the datagroup, you need to apply the datagroup to an object by using a parameter called persist_with.\n",
    "\n",
    "- To apply the datagroup to the definition for the Order Items Explore, directly under the explore: order_items line, enter the following code:"
   ]
  },
  {
   "cell_type": "code",
   "execution_count": null,
   "metadata": {
    "vscode": {
     "languageId": "javascript"
    }
   },
   "outputs": [],
   "source": [
    "persist_with: order_items_datagroup"
   ]
  },
  {
   "cell_type": "markdown",
   "metadata": {},
   "source": [
    "- Click Save Changes, and then click Validate LookML.\n",
    "\n",
    "- Navigate back to the training_ecommerce.model file."
   ]
  },
  {
   "cell_type": "markdown",
   "metadata": {},
   "source": [
    "#### Commit changes and deploy to production\n",
    "\n",
    "- Click Validate LookML and then click Commit Changes and Push.\n",
    "\n",
    "- commit-changes.png\n",
    "\n",
    "- Add a commit message and click Commit.\n",
    "\n",
    "- Lastly, click Deploy to Production."
   ]
  },
  {
   "cell_type": "code",
   "execution_count": null,
   "metadata": {
    "vscode": {
     "languageId": "javascript"
    }
   },
   "outputs": [],
   "source": [
    "connection: \"bigquery_public_data_looker\"\n",
    "\n",
    "# include all the views\n",
    "include: \"/views/*.view\"\n",
    "include: \"/z_tests/*.lkml\"\n",
    "include: \"/**/*.dashboard\"\n",
    "\n",
    "datagroup: order_items_datagroup {\n",
    "  sql_trigger: SELECT MAX(order_item_id) from order_items ;;\n",
    "  max_cache_age: \"1 hour\"\n",
    "}\n",
    "label: \"E-Commerce Training\"\n",
    "\n",
    "explore: order_items {\n",
    "  persist_with: order_items_datagroup\n",
    "  join: users {\n",
    "    type: left_outer\n",
    "    sql_on: ${order_items.user_id} = ${users.id} ;;\n",
    "    relationship: many_to_one\n",
    "  }\n",
    "\n",
    "  join: inventory_items {\n",
    "    type: left_outer\n",
    "    sql_on: ${order_items.inventory_item_id} = ${inventory_items.id} ;;\n",
    "    relationship: many_to_one\n",
    "  }\n",
    "\n",
    "  join: products {\n",
    "    type: left_outer\n",
    "    sql_on: ${inventory_items.product_id} = ${products.id} ;;\n",
    "    relationship: many_to_one\n",
    "  }\n",
    "\n",
    "  join: distribution_centers {\n",
    "    type: left_outer\n",
    "    sql_on: ${products.distribution_center_id} = ${distribution_centers.id} ;;\n",
    "    relationship: many_to_one\n",
    "  }\n",
    "}\n",
    "\n",
    "explore: events {\n",
    "  join: event_session_facts {\n",
    "    type: left_outer\n",
    "    sql_on: ${events.session_id} = ${event_session_facts.session_id} ;;\n",
    "    relationship: many_to_one\n",
    "  }\n",
    "  join: event_session_funnel {\n",
    "    type: left_outer\n",
    "    sql_on: ${events.session_id} = ${event_session_funnel.session_id} ;;\n",
    "    relationship: many_to_one\n",
    "  }\n",
    "  join: users {\n",
    "    type: left_outer\n",
    "    sql_on: ${events.user_id} = ${users.id} ;;\n",
    "    relationship: many_to_one\n",
    "  }\n",
    "}\n"
   ]
  },
  {
   "cell_type": "markdown",
   "metadata": {},
   "source": [
    "***"
   ]
  },
  {
   "cell_type": "markdown",
   "metadata": {},
   "source": [
    "**<center><font size = \"6\">Optimizing Performance of LookML Queries<center>**\n",
    "***"
   ]
  },
  {
   "cell_type": "markdown",
   "metadata": {},
   "source": [
    "### Create an incremental persistent derived table that will auto-update without rebuilding the entire table"
   ]
  },
  {
   "cell_type": "markdown",
   "metadata": {},
   "source": [
    "#### Use an Explore to create a native derived table"
   ]
  },
  {
   "cell_type": "markdown",
   "metadata": {},
   "source": [
    "- Click the toggle button to enter Development mode.\n",
    "\n",
    "- Navigate to Explore > Order Items.\n",
    "\n",
    "- Under Order Items > Dimensions, select the following:\n",
    "\n",
    "- Order ID\n",
    "\n",
    "- Sale Price\n",
    "\n",
    "- Created Date > Date\n",
    "\n",
    "- Created Date > Week\n",
    "\n",
    "- Created Date > Month\n",
    "\n",
    "- Under Users > Dimensions, select State.\n",
    "\n",
    "- Click Run.\n",
    "\n",
    "- Click Settings (Settings gear icon).\n",
    "\n",
    "- Select Get LookML.\n",
    "\n",
    "- On the tab for Derived Table, copy the LookML code to a text editor. You'll use this code to create a new view for the native derived table."
   ]
  },
  {
   "cell_type": "code",
   "execution_count": null,
   "metadata": {
    "vscode": {
     "languageId": "javascript"
    }
   },
   "outputs": [],
   "source": [
    "# If necessary, uncomment the line below to include explore_source.\n",
    "# include: \"training_ecommerce.model.lkml\"\n",
    "\n",
    "view: add_a_unique_name_1666920690 {\n",
    "  derived_table: {\n",
    "    explore_source: order_items {\n",
    "      column: order_id {}\n",
    "      column: sale_price {}\n",
    "      column: created_date {}\n",
    "      column: created_week {}\n",
    "      column: created_month {}\n",
    "      column: state { field: users.state }\n",
    "    }\n",
    "  }\n",
    "  dimension: order_id {\n",
    "    description: \"\"\n",
    "    type: number\n",
    "  }\n",
    "  dimension: sale_price {\n",
    "    description: \"\"\n",
    "    type: number\n",
    "  }\n",
    "  dimension: created_date {\n",
    "    description: \"\"\n",
    "    type: date\n",
    "  }\n",
    "  dimension: created_week {\n",
    "    description: \"\"\n",
    "    type: date_week\n",
    "  }\n",
    "  dimension: created_month {\n",
    "    description: \"\"\n",
    "    type: date_month\n",
    "  }\n",
    "  dimension: state {\n",
    "    description: \"\"\n",
    "  }\n",
    "}\n"
   ]
  },
  {
   "cell_type": "markdown",
   "metadata": {},
   "source": [
    "#### Create a view file for a derived table"
   ]
  },
  {
   "cell_type": "markdown",
   "metadata": {},
   "source": [
    "- Open a new Looker window in a new browser tab.\n",
    "\n",
    "- On the Develop menu, click qwiklabs_ecommerce.\n",
    "\n",
    "- Click the plus icon (+) next to File Browser, and select Create View.\n",
    "\n",
    "- Name the new file incremental_pdt, and click Create.\n",
    "\n",
    "- In the File Browser, click on incremental_pdt.view and drag it under the views folder.\n",
    "\n",
    "- Replace the default LookML code in incremental_pdt.view with the code that you copied previously for the native derived table.\n",
    "\n",
    "- Update line 4 with the correct view name (incremental_pdt).\n",
    "\n",
    "- Update the order_id dimension to define it as the primary_key for the view:"
   ]
  },
  {
   "cell_type": "code",
   "execution_count": null,
   "metadata": {
    "vscode": {
     "languageId": "javascript"
    }
   },
   "outputs": [],
   "source": [
    "dimension: order_id {\n",
    "    primary_key:  yes\n",
    "    type: number\n",
    "}"
   ]
  },
  {
   "cell_type": "markdown",
   "metadata": {},
   "source": [
    "This is because each record represents an order with unique order_id.\n",
    "\n",
    "- Find the last dimension, and add two new measures before the final closing curly bracket (}) in the file:"
   ]
  },
  {
   "cell_type": "code",
   "execution_count": null,
   "metadata": {
    "vscode": {
     "languageId": "javascript"
    }
   },
   "outputs": [],
   "source": [
    "measure: average_sale_price {\n",
    "    type: average\n",
    "    sql: ${sale_price} ;;\n",
    "    value_format_name: usd_0\n",
    "  }\n",
    "  measure: total_revenue {\n",
    "    type: sum\n",
    "    sql: ${sale_price} ;;\n",
    "    value_format_name: usd\n",
    "  }"
   ]
  },
  {
   "cell_type": "markdown",
   "metadata": {},
   "source": [
    "- Click Save Changes. You file should resemble the following:"
   ]
  },
  {
   "cell_type": "markdown",
   "metadata": {},
   "source": [
    "#### Add persistence and incremental updates to a derived table"
   ]
  },
  {
   "cell_type": "markdown",
   "metadata": {},
   "source": [
    "- Open training_ecommerce.model.\n",
    "\n",
    "- Find the default datagroup named training_ecommerce_default_datagroup, and add a new line (line 13).\n",
    "\n",
    "- Define a new datagroup to persist objects with daily refresh (max time of 24 hours):"
   ]
  },
  {
   "cell_type": "code",
   "execution_count": null,
   "metadata": {
    "vscode": {
     "languageId": "javascript"
    }
   },
   "outputs": [],
   "source": [
    "datagroup: daily_datagroup {\n",
    "  sql_trigger: SELECT FORMAT_TIMESTAMP('%F',\n",
    "CURRENT_TIMESTAMP(), 'America/Los_Angeles') ;;\n",
    "  max_cache_age: \"24 hours\"\n",
    "}"
   ]
  },
  {
   "cell_type": "markdown",
   "metadata": {},
   "source": [
    "The sql_trigger checks the current date and triggers a refresh when the date changes, and max_cache_age ensures that the table will rebuild after 24 hours, even if the sql_trigger fails to run successfully.\n",
    "\n",
    "- At the end of training_ecommerce.model (around line 67), define a new Explore that contains only the incremental_pdt view so that you can test it in subsequent steps:"
   ]
  },
  {
   "cell_type": "code",
   "execution_count": null,
   "metadata": {
    "vscode": {
     "languageId": "javascript"
    }
   },
   "outputs": [],
   "source": [
    "explore: incremental_pdt {}"
   ]
  },
  {
   "cell_type": "markdown",
   "metadata": {},
   "source": [
    "- Click Save Changes.\n",
    "\n",
    "- Open incremental_pdt.view, and add persistence by including the daily datagroup in the derived table definition at line 6:"
   ]
  },
  {
   "cell_type": "code",
   "execution_count": null,
   "metadata": {
    "vscode": {
     "languageId": "javascript"
    }
   },
   "outputs": [],
   "source": [
    "datagroup_trigger: daily_datagroup"
   ]
  },
  {
   "cell_type": "markdown",
   "metadata": {},
   "source": [
    "- Add incremental updates by including the following parameters in the derived table definition at lines 7 and 8:"
   ]
  },
  {
   "cell_type": "code",
   "execution_count": null,
   "metadata": {
    "vscode": {
     "languageId": "javascript"
    }
   },
   "outputs": [],
   "source": [
    "increment_key: \"created_date\"\n",
    "increment_offset: 3"
   ]
  },
  {
   "cell_type": "markdown",
   "metadata": {},
   "source": [
    "- Click Save Changes. Your file should resemble the following:\n",
    "\n",
    "The persistent derived table will now be persisted and will rebuild once a day, going back 3 days to capture any orders that may have arrived late.\n",
    "\n",
    "- Close the browser tab for the original Explore query, but leave the tab open for the Looker IDE."
   ]
  },
  {
   "cell_type": "markdown",
   "metadata": {},
   "source": [
    "#### Test Explore queries on a persistent incremental derived table\n",
    "\n",
    "- Open a new Looker window in a browser tab.\n",
    "\n",
    "- Navigate to Explore > Incremental Pdt.\n",
    "\n",
    "- In the Data pane, open the SQL tab.\n",
    "\n",
    "- Under Incremental Pdt > Dimensions, select Created Date.\n",
    "\n",
    "- Under Incremental Pdt > Measures, select Average Sale Price and Total Revenue.\n",
    "\n",
    "Before running the query, notice that there are two queries in the SQL window (which may take a few seconds to load). The first query generates the PDT named incremental_pdt, and the second query retrieves the results from the newly created PDT.\n",
    "\n",
    "- Click Run.\n",
    "\n",
    "- Open the Results tab to see the results.\n",
    "\n",
    "- Under Incremental Pdt > Dimensions:\n",
    "\n",
    "- Clear Created Date.\n",
    "\n",
    "- Select Created Month.\n",
    "\n",
    "- In the Data pane, open the SQL tab.\n",
    "\n",
    "Notice that the query will use the same PDT to retrieve the results, which makes sense because you requested a time frame that is already defined (and cached) in the PDT. However, notice that you cannot select and run a query on a different time frame that is not already included in the PDT, such as Quarter or Year.\n",
    "\n",
    "- Click Run.\n",
    "\n",
    "- Open the Results tab to see the results."
   ]
  },
  {
   "cell_type": "markdown",
   "metadata": {},
   "source": [
    "#### Challenge\n",
    "\n",
    "- Run a new query using only the State dimension and the Average Sale Price and Total Revenue measures. Answer the following question.\n",
    "\n",
    "- Close the browser tab for the Explore query, and return to the browser tab with the Looker IDE.\n",
    "\n",
    "- Click Validate LookML. There should be no LookML errors.\n",
    "\n",
    "#### Commit changes and deploy to production\n",
    "\n",
    "- Click Validate LookML and then click Commit Changes & Push.\n",
    "\n",
    "- Add a commit message and click Commit.\n",
    "\n",
    "- Lastly, click Deploy to Production.\n",
    "\n",
    "Remain in the browser tab for the Looker IDE as you begin the next task."
   ]
  },
  {
   "cell_type": "markdown",
   "metadata": {},
   "source": [
    "### Create an incremental aggregate table to summarize order data across multiple time periods"
   ]
  },
  {
   "cell_type": "markdown",
   "metadata": {},
   "source": [
    "#### Create an aggregate table within a refinement of an existing Explore"
   ]
  },
  {
   "cell_type": "markdown",
   "metadata": {},
   "source": [
    "- From the Looker IDE page, open training_ecommerce.model.\n",
    "\n",
    "- At the end of the file (around line 69), add the following code to create a refinement of the order_items Explore:"
   ]
  },
  {
   "cell_type": "code",
   "execution_count": null,
   "metadata": {
    "vscode": {
     "languageId": "javascript"
    }
   },
   "outputs": [],
   "source": [
    "explore: +order_items {\n",
    "    label: \"Order Items - Aggregate Sales\"\n",
    "}"
   ]
  },
  {
   "cell_type": "markdown",
   "metadata": {},
   "source": [
    "- Expand the LookML code for the refinement to include an aggregate table that summarizes order data by time frame or state:"
   ]
  },
  {
   "cell_type": "code",
   "execution_count": null,
   "metadata": {
    "vscode": {
     "languageId": "javascript"
    }
   },
   "outputs": [],
   "source": [
    "explore: +order_items {\n",
    "    label: \"Order Items - Aggregate Sales\"\n",
    "    aggregate_table: aggregate_sales {\n",
    "        query: {\n",
    "            dimensions: [order_items.created_date, users.state]\n",
    "            measures: [order_items.average_sale_price,\n",
    "order_items.total_revenue]\n",
    "        }\n",
    "        materialization: {\n",
    "            datagroup_trigger: daily_datagroup\n",
    "     \t increment_key: \"created_date\"\n",
    "      \tincrement_offset: 3\n",
    "        }\n",
    "    }\n",
    "}"
   ]
  },
  {
   "cell_type": "markdown",
   "metadata": {},
   "source": [
    "- Click Save Changes."
   ]
  },
  {
   "cell_type": "markdown",
   "metadata": {},
   "source": [
    "#### Test Explore queries on a persistent incremental aggregate table\n",
    "\n",
    "- Open a new Looker window in a browser tab.\n",
    "\n",
    "- Navigate to Explore > Order Items - Aggregate Sales.\n",
    "\n",
    "- In the Data pane, open the SQL tab.\n",
    "\n",
    "- Under Order Items > Dimensions, select Created Date > Date.\n",
    "\n",
    "- Under Order Items > Measures, select Average Sale Price and Total Revenue.\n",
    "\n",
    "- Click Run.\n",
    "\n",
    "- Open the Results tab to see the results.\n",
    "\n",
    "- Under Order Items > Dimensions > Created Date:\n",
    "\n",
    "- Clear Date.\n",
    "\n",
    "- Select Quarter.\n",
    "\n",
    "- In the Data pane, open the SQL tab.\n",
    "\n",
    "- Click Run.\n",
    "\n",
    "- Open the Results tab to see the results.\n",
    "\n",
    "#### Challenge\n",
    "\n",
    "- Run a new query using only the State dimension (under Users) and the Average Sale Price and Total Revenue measures. Answer the following question.\n",
    "\n",
    "- Run a new query using only the Country dimension (under Users) and the Average Sale Price and Total Revenue measures. Answer the following question.\n",
    "\n",
    "- Close the browser tab for the Explore query, and return to the browser tab with the Looker IDE.\n",
    "\n",
    "- Click Validate LookML. There should be no LookML errors."
   ]
  },
  {
   "cell_type": "markdown",
   "metadata": {},
   "source": [
    "#### Commit changes and deploy to production\n",
    "\n",
    "- Click Validate LookML and then click Commit Changes & Push.\n",
    "\n",
    "- Add a commit message and click Commit.\n",
    "\n",
    "- Lastly, click Deploy to Production."
   ]
  },
  {
   "cell_type": "markdown",
   "metadata": {},
   "source": [
    "### Join views in a performant manner to optimize Explore queries"
   ]
  },
  {
   "cell_type": "markdown",
   "metadata": {},
   "source": [
    "#### Identify the most appropriate field to use as the primary key of a view\n",
    "\n",
    "- Open the users.view file. Answer the following question.\n",
    "\n",
    "- Open the order_items.view file. Answer the following question.\n",
    "\n",
    "- Open a new Looker window in a new browser tab.\n",
    "\n",
    "- Navigate to Develop > SQL Runner.\n",
    "\n",
    "- Click Settings (Settings gear icon) next to Connection, and select Search public projects.\n",
    "\n",
    "- The box for Project will now be empty. Type cloud-training-demos, and press ENTER.\n",
    "\n",
    "- For Dataset, select looker_ecomm. A list of the available tables in this BigQuery dataset is displayed.\n",
    "\n",
    "- To check whether the user_id column would make an appropriate primary key, add the following query to the SQL Query window, and click Run:"
   ]
  },
  {
   "cell_type": "code",
   "execution_count": null,
   "metadata": {
    "vscode": {
     "languageId": "sql"
    }
   },
   "outputs": [],
   "source": [
    "SELECT count(*), count(distinct user_id)\n",
    "FROM cloud-training-demos.looker_ecomm.order_items"
   ]
  },
  {
   "cell_type": "markdown",
   "metadata": {},
   "source": [
    "- Repeat the query for the order_id, inventory_item_id, and id columns.\n",
    "\n",
    "- Close the browser tab for SQL Runner, and return to the browser tab with the Looker IDE."
   ]
  },
  {
   "cell_type": "markdown",
   "metadata": {},
   "source": [
    "#### Join the minimal amount of views to define new Explores"
   ]
  },
  {
   "cell_type": "markdown",
   "metadata": {},
   "source": [
    "- Open training_ecommerce.model.\n",
    "\n",
    "- Review the existing order_items Explore.\n",
    "\n",
    "- At the end of the file (around line 85) add the following code to define a new Explore with order_items as the base view and only the users view joined:"
   ]
  },
  {
   "cell_type": "code",
   "execution_count": null,
   "metadata": {
    "vscode": {
     "languageId": "javascript"
    }
   },
   "outputs": [],
   "source": [
    "explore: aggregated_orders {\n",
    "  from: order_items\n",
    "  label: \"Aggregated Sales\"\n",
    "  join: users {\n",
    "    type: left_outer\n",
    "    sql_on: ${aggregated_orders.user_id} = ${users.id} ;;\n",
    "    relationship: one_to_many\n",
    "  }\n",
    "  aggregate_table: aggregate_sales {\n",
    "        query: {\n",
    "            dimensions: [aggregated_orders.created_date,\n",
    "users.state]\n",
    "            measures: [aggregated_orders.average_sale_price,\n",
    "aggregated_orders.total_revenue]\n",
    "        }\n",
    "        materialization: {\n",
    "            datagroup_trigger: daily_datagroup\n",
    "     \t \tincrement_key: \"created_date\"\n",
    "     \t \tincrement_offset: 3\n",
    "        }\n",
    "    }\n",
    "  }"
   ]
  },
  {
   "cell_type": "markdown",
   "metadata": {},
   "source": [
    "- Click Save Changes. Your file should resemble the following:"
   ]
  },
  {
   "cell_type": "markdown",
   "metadata": {},
   "source": [
    "#### Define performant join relationships for efficient Explore queries"
   ]
  },
  {
   "cell_type": "markdown",
   "metadata": {},
   "source": [
    "- Open a new Looker window in a new browser tab.\n",
    "\n",
    "- Navigate to Explore > Aggregated Sales.\n",
    "\n",
    "- In the Data pane, open the SQL tab.\n",
    "\n",
    "- Under Aggregated Orders > Dimensions, select Created Date > Date.\n",
    "\n",
    "- Under Aggregated Orders > Measures, select:\n",
    "\n",
    "- Average Sale Price\n",
    "\n",
    "- Total Revenue\n",
    "\n",
    "Before running the query, notice that the aggregate table is not being used due to an issue with a join fanout:\n"
   ]
  },
  {
   "cell_type": "markdown",
   "metadata": {},
   "source": [
    "-- Did not use aggregated_orders::aggregate_sales; field aggregated_orders.average_sale_price was DISTINCT in the table due to a join fanout, but there was no fanout in the query"
   ]
  },
  {
   "cell_type": "markdown",
   "metadata": {},
   "source": [
    "An unintended fanout can occur when the relationship between two tables is not identified correctly for a join. In this case, the base view of the Explore is order_items, which can contain many orders for one user. However, the users view contains only one record for each user.\n",
    "\n",
    "Therefore, this join should actually be defined as many_to_one, or many orders to one user, instead of one order to many users. (Learn more about the problem of fanouts in the Looker Help Center.)"
   ]
  },
  {
   "cell_type": "markdown",
   "metadata": {},
   "source": [
    "- Click Run.\n",
    "\n",
    "- Open the Results tab. The results are returned, but Looker did not use the efficient aggregate table to retrieve the results.\n",
    "\n",
    "- Leave this browser tab for the Explore open, and return to the browser tab with the Looker IDE.\n",
    "\n",
    "- Update the relationship parameter to many_to_one (line 91) in the aggregated_orders explore:"
   ]
  },
  {
   "cell_type": "code",
   "execution_count": null,
   "metadata": {
    "vscode": {
     "languageId": "javascript"
    }
   },
   "outputs": [],
   "source": [
    "relationship: many_to_one"
   ]
  },
  {
   "cell_type": "markdown",
   "metadata": {},
   "source": [
    "- Click Save Changes. Your file should resemble the following:\n",
    "\n",
    "- Return to the browser tab for the Explore query, and refresh the page.\n",
    "\n",
    "- In the Data pane, open the SQL tab.\n",
    "\n",
    "- Open the Results tab to see the results.\n",
    "\n",
    "- Close the browser tab for the Explore query, and return to the browser tab with the Looker IDE.\n",
    "\n",
    "- Click Validate LookML. There should be no LookML errors."
   ]
  },
  {
   "cell_type": "markdown",
   "metadata": {},
   "source": [
    "#### Commit changes and deploy to production\n",
    "\n",
    "- Click Validate LookML and then click Commit Changes & Push.\n",
    "\n",
    "- Add a commit message and click Commit.\n",
    "\n",
    "- Lastly, click Deploy to Production."
   ]
  },
  {
   "cell_type": "markdown",
   "metadata": {},
   "source": [
    "#### Monitor the builds of persistent derived tables in a Looker instance\n"
   ]
  },
  {
   "cell_type": "markdown",
   "metadata": {},
   "source": [
    "#### Review the status of PDTs in production"
   ]
  },
  {
   "cell_type": "markdown",
   "metadata": {},
   "source": [
    "- Open a new Looker window in a new browser tab.\n",
    "\n",
    "- Navigate to Admin > Persistent Derived Tables. No PDTs are listed in the Development tab because all of your PDTs have been pushed to production.\n",
    "\n",
    "- Open the Production tab to see the PDTs you created in Tasks 1-3."
   ]
  },
  {
   "cell_type": "markdown",
   "metadata": {},
   "source": [
    "#### Modify and review PDTs in development"
   ]
  },
  {
   "cell_type": "markdown",
   "metadata": {},
   "source": [
    "- Return to the browser tab with the Looker IDE.\n",
    "\n",
    "- Open training_ecommerce.model.\n",
    "\n",
    "- Add a new dimension for users.country to the aggregated_orders Explore (around line 96):"
   ]
  },
  {
   "cell_type": "code",
   "execution_count": null,
   "metadata": {
    "vscode": {
     "languageId": "javascript"
    }
   },
   "outputs": [],
   "source": [
    "dimensions: [aggregated_orders.created_date, users.state, users.country]"
   ]
  },
  {
   "cell_type": "markdown",
   "metadata": {},
   "source": [
    "- Click Save Changes.\n",
    "\n",
    "- Return to the Persistent Derived Tables page, and refresh the page.\n",
    "\n",
    "- Open the Development tab.\n",
    "\n",
    "- Leave this Persistent Derived Tables page open, and open a new Looker window in a new browser tab.\n",
    "\n",
    "- Navigate to Explore > Aggregate Sales.\n",
    "\n",
    "- In the Data pane, open the SQL tab.\n",
    "\n",
    "- Under Users > Dimensions, select Country.\n",
    "\n",
    "- Under Aggregated Orders > Measures, select:\n",
    "\n",
    "- Average Sale Price\n",
    "\n",
    "- Total Revenue\n",
    "\n",
    "- Click Run.\n",
    "\n",
    "- Open the Results tab to see the results.\n",
    "\n",
    "- Close the browser tab for the Explore query, return to the browser tab with the Persistent Derived Tables page, and refresh the page.\n",
    "\n",
    "- Leave the browser tab for the Persistent Derived Tables page open, and return to the browser tab with the Looker IDE.\n",
    "\n",
    "- Click Validate LookML. There are no LookML errors."
   ]
  },
  {
   "cell_type": "markdown",
   "metadata": {},
   "source": [
    "#### Commit changes and deploy to production\n",
    "\n",
    "- Click Validate LookML and then click Commit Changes & Push.\n",
    "\n",
    "- Add a commit message and click Commit.\n",
    "\n",
    "- Lastly, click Deploy to Production."
   ]
  },
  {
   "cell_type": "markdown",
   "metadata": {},
   "source": [
    "##### incremental_pdt.views"
   ]
  },
  {
   "cell_type": "code",
   "execution_count": null,
   "metadata": {
    "vscode": {
     "languageId": "javascript"
    }
   },
   "outputs": [],
   "source": [
    "# If necessary, uncomment the line below to include explore_source.\n",
    "# include: \"training_ecommerce.model.lkml\"\n",
    "\n",
    "view: incremental_pdt {\n",
    "  derived_table: {\n",
    "    datagroup_trigger: daily_datagroup\n",
    "    increment_key: \"created_date\"\n",
    "    increment_offset: 3\n",
    "    explore_source: order_items {\n",
    "      column: order_id {}\n",
    "      column: sale_price {}\n",
    "      column: created_date {}\n",
    "      column: created_week {}\n",
    "      column: created_month {}\n",
    "      column: state { field: users.state }\n",
    "    }\n",
    "  }\n",
    "  dimension: order_id {\n",
    "    primary_key:  yes\n",
    "    type: number\n",
    "  }\n",
    "  dimension: sale_price {\n",
    "    description: \"\"\n",
    "    type: number\n",
    "  }\n",
    "  dimension: created_date {\n",
    "    description: \"\"\n",
    "    type: date\n",
    "  }\n",
    "  dimension: created_week {\n",
    "    description: \"\"\n",
    "    type: date_week\n",
    "  }\n",
    "  dimension: created_month {\n",
    "    description: \"\"\n",
    "    type: date_month\n",
    "  }\n",
    "  dimension: state {\n",
    "    description: \"\"\n",
    "  }\n",
    "  measure: average_sale_price {\n",
    "    type: average\n",
    "    sql: ${sale_price} ;;\n",
    "    value_format_name: usd_0\n",
    "  }\n",
    "  measure: total_revenue {\n",
    "    type: sum\n",
    "    sql: ${sale_price} ;;\n",
    "    value_format_name: usd\n",
    "  }\n",
    "}\n"
   ]
  },
  {
   "cell_type": "markdown",
   "metadata": {},
   "source": [
    "##### training_ecommerce.model"
   ]
  },
  {
   "cell_type": "code",
   "execution_count": null,
   "metadata": {
    "vscode": {
     "languageId": "javascript"
    }
   },
   "outputs": [],
   "source": [
    "connection: \"bigquery_public_data_looker\"\n",
    "\n",
    "# include all the views\n",
    "include: \"/views/*.view\"\n",
    "include: \"/z_tests/*.lkml\"\n",
    "include: \"/**/*.dashboard\"\n",
    "\n",
    "datagroup: training_ecommerce_default_datagroup {\n",
    "  # sql_trigger: SELECT MAX(id) FROM etl_log;;\n",
    "  max_cache_age: \"1 hour\"\n",
    "}\n",
    "\n",
    "datagroup: daily_datagroup {\n",
    "  sql_trigger: SELECT FORMAT_TIMESTAMP('%F',\n",
    "    CURRENT_TIMESTAMP(), 'America/Los_Angeles') ;;\n",
    "  max_cache_age: \"24 hours\"\n",
    "}\n",
    "persist_with: training_ecommerce_default_datagroup\n",
    "\n",
    "label: \"E-Commerce Training\"\n",
    "\n",
    "explore: order_items {\n",
    "  join: users {\n",
    "    type: left_outer\n",
    "    sql_on: ${order_items.user_id} = ${users.id} ;;\n",
    "    relationship: many_to_one\n",
    "  }\n",
    "\n",
    "  join: inventory_items {\n",
    "    type: left_outer\n",
    "    sql_on: ${order_items.inventory_item_id} = ${inventory_items.id} ;;\n",
    "    relationship: many_to_one\n",
    "  }\n",
    "\n",
    "  join: products {\n",
    "    type: left_outer\n",
    "    sql_on: ${inventory_items.product_id} = ${products.id} ;;\n",
    "    relationship: many_to_one\n",
    "  }\n",
    "\n",
    "  join: distribution_centers {\n",
    "    type: left_outer\n",
    "    sql_on: ${products.distribution_center_id} = ${distribution_centers.id} ;;\n",
    "    relationship: many_to_one\n",
    "  }\n",
    "}\n",
    "\n",
    "explore: events {\n",
    "  join: event_session_facts {\n",
    "    type: left_outer\n",
    "    sql_on: ${events.session_id} = ${event_session_facts.session_id} ;;\n",
    "    relationship: many_to_one\n",
    "  }\n",
    "  join: event_session_funnel {\n",
    "    type: left_outer\n",
    "    sql_on: ${events.session_id} = ${event_session_funnel.session_id} ;;\n",
    "    relationship: many_to_one\n",
    "  }\n",
    "  join: users {\n",
    "    type: left_outer\n",
    "    sql_on: ${events.user_id} = ${users.id} ;;\n",
    "    relationship: many_to_one\n",
    "  }\n",
    "}\n",
    "\n",
    "\n",
    "explore: incremental_pdt {}\n",
    "\n",
    "explore: +order_items {\n",
    "  label: \"Order Items - Aggregate Sales\"\n",
    "  aggregate_table: aggregate_sales {\n",
    "    query: {\n",
    "      dimensions: [order_items.created_date, users.state]\n",
    "      measures: [order_items.average_sale_price,\n",
    "        order_items.total_revenue]\n",
    "    }\n",
    "    materialization: {\n",
    "      datagroup_trigger: daily_datagroup\n",
    "      increment_key: \"created_date\"\n",
    "      increment_offset: 3\n",
    "    }\n",
    "  }\n",
    "}\n",
    "\n",
    "explore: aggregated_orders {\n",
    "  from: order_items\n",
    "  label: \"Aggregated Sales\"\n",
    "  join: users {\n",
    "    type: left_outer\n",
    "    sql_on: ${aggregated_orders.user_id} = ${users.id} ;;\n",
    "    relationship: many_to_one\n",
    "  }\n",
    "  aggregate_table: aggregate_sales {\n",
    "    query: {\n",
    "      dimensions: [aggregated_orders.created_date, users.state, users.country]\n",
    "      measures: [aggregated_orders.average_sale_price,\n",
    "        aggregated_orders.total_revenue]\n",
    "    }\n",
    "    materialization: {\n",
    "      datagroup_trigger: daily_datagroup\n",
    "      increment_key: \"created_date\"\n",
    "      increment_offset: 3\n",
    "    }\n",
    "  }\n",
    "}\n"
   ]
  },
  {
   "cell_type": "markdown",
   "metadata": {},
   "source": [
    "***"
   ]
  },
  {
   "cell_type": "markdown",
   "metadata": {},
   "source": []
  }
 ],
 "metadata": {
  "kernelspec": {
   "display_name": "Python 3.9.9 64-bit",
   "language": "python",
   "name": "python3"
  },
  "language_info": {
   "codemirror_mode": {
    "name": "ipython",
    "version": 3
   },
   "file_extension": ".py",
   "mimetype": "text/x-python",
   "name": "python",
   "nbconvert_exporter": "python",
   "pygments_lexer": "ipython3",
   "version": "3.9.9"
  },
  "orig_nbformat": 4,
  "vscode": {
   "interpreter": {
    "hash": "aee8b7b246df8f9039afb4144a1f6fd8d2ca17a180786b69acc140d282b71a49"
   }
  }
 },
 "nbformat": 4,
 "nbformat_minor": 2
}
